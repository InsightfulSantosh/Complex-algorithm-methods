{
  "nbformat": 4,
  "nbformat_minor": 0,
  "metadata": {
    "colab": {
      "provenance": [],
      "collapsed_sections": [
        "ff_Fd0rJ07iL",
        "zom6FlgqaZb0",
        "7Iu5Jc7c3Aew",
        "1-u2nZs55Mlg",
        "7Vn0TDbj5dyk",
        "5G6HUk1UkEln",
        "pfbajZXI5h__"
      ],
      "include_colab_link": true
    },
    "kernelspec": {
      "name": "python3",
      "display_name": "Python 3"
    },
    "language_info": {
      "name": "python"
    }
  },
  "cells": [
    {
      "cell_type": "markdown",
      "metadata": {
        "id": "view-in-github",
        "colab_type": "text"
      },
      "source": [
        "<a href=\"https://colab.research.google.com/github/InsightfulSantosh/Complex-algorithm-methods/blob/main/Introduction_to_NLP.ipynb\" target=\"_parent\"><img src=\"https://colab.research.google.com/assets/colab-badge.svg\" alt=\"Open In Colab\"/></a>"
      ]
    },
    {
      "cell_type": "markdown",
      "source": [
        "# **📝Session Flow📝**\n",
        "\n"
      ],
      "metadata": {
        "id": "ff_Fd0rJ07iL"
      }
    },
    {
      "cell_type": "markdown",
      "source": [
        "- **Learning Objective**\n",
        "    - Introduction\n",
        "    - Theme\n",
        "    - Primary Goals\n",
        "\n",
        "- **Learning Material**\n",
        "    - Introduction to NLP\n",
        "    - Basic Concepts of NLP\n",
        "    - Sentiment Analysis\n",
        "      - How it works?\n",
        "    - Problem Statement\n",
        "      - Implementation\n",
        "    - Tokenization\n",
        "      - Why tokenization?\n",
        "    - Lemmatization\n",
        "    - Stemming vs Lemmatization\n",
        "      - Why text normalization?\n",
        "    - Activity 1: Fill in the Blanks\n",
        "    - Vectorization\n",
        "      - Bag-of-Words Model\n",
        "      - CountVectorizer vs TF-IDF\n",
        "      - Why vectorization?\n",
        "    - Activity 2: True or False\n",
        "    - Applications\n",
        "\n",
        "- **Summary**\n",
        "    - What did we learn?\n",
        "    - Shortcomings & Challenges\n",
        "    - Best practices to follow\n",
        "\n",
        "* **Enhance Your Knowledge**\n",
        "  - Additional Reference Paper\n",
        "  - Mnemonic\n",
        "\n",
        "* **Try it Yourself**\n",
        "  - Take Home Assignment\n",
        "  - Social Engagement"
      ],
      "metadata": {
        "id": "lT25Glvc07NK"
      }
    },
    {
      "cell_type": "markdown",
      "source": [
        "# **👨🏻‍🎓 Learning Objective 👨🏻‍🎓**\n",
        "\n"
      ],
      "metadata": {
        "id": "zom6FlgqaZb0"
      }
    },
    {
      "cell_type": "markdown",
      "source": [
        "### **Introduction:**\n",
        "\n",
        "Welcome to the world of Natural Language Processing (NLP), where the power of language meets the capabilities of computers. In this introductory lesson, we will embark on a journey into the fascinating realm of NLP, a field at the intersection of linguistics, artificial intelligence, and data science.\n",
        "\n",
        "Language is one of the most complex and nuanced forms of human communication, and teaching computers to understand, interpret, and generate human language is at the heart of NLP. It's the technology that allows us to interact with voice assistants, translate languages effortlessly, analyze sentiments in social media, and extract insights from mountains of textual data.\n",
        "\n",
        "In this lesson, we will explore the fundamental concepts and applications of NLP, demystifying the processes that enable machines to make sense of the words and sentences we use every day. We will delve into topics like tokenization, stemming, lemmatization, vectorization, and the exciting applications that NLP powers across various industries.\n",
        "\n",
        "Whether you're a curious beginner or a seasoned data scientist, this introduction to NLP will equip you with the knowledge and understanding to embark on your own NLP adventures. Let's embark on this linguistic journey and discover the magic of NLP together!"
      ],
      "metadata": {
        "id": "oa3yrdh4jAS7"
      }
    },
    {
      "cell_type": "markdown",
      "source": [
        "### **Theme:**\n",
        "\n",
        "\"Unlocking the Language of Machines: Exploring Natural Language Processing\"\n",
        "\n",
        "In the modern age of information and technology, the ability to understand and work with human language has become a pivotal skill. Natural Language Processing (NLP) is the key that unlocks this language barrier, allowing us to bridge the gap between human communication and the capabilities of machines.\n",
        "\n",
        "This captivating lesson takes you on a journey into the realm of NLP, a dynamic field that lies at the intersection of linguistics, artificial intelligence, and data science. Imagine a world where computers can read, comprehend, and generate human language with astonishing accuracy and insight. NLP is the technology that makes this possible."
      ],
      "metadata": {
        "id": "5KSy5ApkjM0T"
      }
    },
    {
      "cell_type": "markdown",
      "source": [
        "### **Primary Goals:**\n",
        "\n",
        "1. **Understanding NLP Fundamentals**: Gain a solid grasp of the fundamental concepts and techniques in Natural Language Processing, including tokenization, stemming, lemmatization, and vectorization.\n",
        "\n",
        "2. **Practical Application**: Explore how NLP is applied in real-world scenarios across various industries, including text classification, sentiment analysis, language translation, and chatbot development.\n",
        "\n",
        "3. **Problem Solving**: Learn how to use NLP tools and techniques to solve common language-related challenges, such as extracting insights from textual data, automating tasks, and improving user experiences.\n",
        "\n",
        "4. **Hands-On Experience**: Engage in hands-on exercises and practical examples to reinforce your understanding of NLP concepts and develop the skills to implement NLP solutions.\n",
        "\n",
        "5. **Awareness of NLP's Impact**: Understand the transformative impact of NLP on industries like healthcare, finance, customer service, and information retrieval, and recognize its potential for innovation.\n",
        "\n",
        "6. **Linguistic Insight**: Gain insights into the nuances of human language and how machines can navigate these complexities, paving the way for more effective communication between humans and computers.\n",
        "\n",
        "7. **Preparation for Advanced NLP**: Lay a strong foundation for further exploration of advanced NLP topics, including deep learning-based models like Transformers and BERT.\n",
        "\n",
        "\n",
        "By achieving these goals, you will be well-prepared to navigate the exciting and ever-expanding landscape of Natural Language Processing, unlocking new opportunities for innovation and problem-solving in the digital age."
      ],
      "metadata": {
        "id": "0IgnAFctjg8r"
      }
    },
    {
      "cell_type": "markdown",
      "source": [
        "# **📖 Learning Material 📖**\n",
        "\n",
        "\n"
      ],
      "metadata": {
        "id": "vMRoGrUHY3L4"
      }
    },
    {
      "cell_type": "markdown",
      "source": [
        "## **Introduction to NLP:**"
      ],
      "metadata": {
        "id": "kUulvO_XBT_H"
      }
    },
    {
      "cell_type": "markdown",
      "source": [
        "Natural Language Processing, often abbreviated as NLP, is a field of computer science and artificial intelligence focused on enabling computers to understand, interpret, and interact with human languages. This might sound complex, but it's something many of us encounter in our everyday lives.\n",
        "\n",
        "Let's use an easy-to-understand example: Imagine you're using a voice-activated assistant like Siri or Alexa. You ask it, \"What's the weather like today?\" The assistant not only understands your words but also grasps the meaning behind them and responds with today's weather forecast.\n",
        "\n",
        "Here's what's happening behind the scenes in terms of NLP:\n",
        "\n",
        "1. **Understanding Spoken Language**: When you speak, the assistant converts your speech into text. This is often the first step in NLP, known as speech recognition.\n",
        "\n",
        "2. **Interpreting the Meaning**: Next, the assistant needs to understand what you're asking. Even though you asked about the weather, you didn't specify a location. The assistant, using NLP, infers that you are likely asking about the weather in your current location.\n",
        "\n",
        "3. **Processing the Request**: The assistant then processes this request. It uses NLP algorithms to analyze the text, understand the intent (you're asking for weather information), and identifies key pieces of information (like 'today', implying current weather).\n",
        "\n",
        "4. **Responding in Human Language**: Finally, the assistant finds the weather information and responds to you in a way that's natural for human conversation. This step, often called natural language generation, involves the computer generating human-like text as a response.\n",
        "\n",
        "In summary, NLP is what helps computers understand, interpret, and respond to human language in a way that is both meaningful and contextually relevant. It's a technology that bridges the gap between human communication and computer understanding."
      ],
      "metadata": {
        "id": "gRJ4tNsPFwac"
      }
    },
    {
      "cell_type": "markdown",
      "source": [
        "![NLP-tasks.jpg](data:image/jpeg;base64,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)"
      ],
      "metadata": {
        "id": "Xh_H0yiYfbpq"
      }
    },
    {
      "cell_type": "markdown",
      "source": [
        "### **Basic Concepts of NLP:**"
      ],
      "metadata": {
        "id": "MwuL29tVG5AU"
      }
    },
    {
      "cell_type": "markdown",
      "source": [
        "The basic concepts of Natural Language Processing (NLP) span a range of techniques and theories from both linguistics and computer science. Here are some fundamental concepts:\n",
        "\n",
        "1. **Tokenization**: This involves breaking down text into smaller units, such as words or phrases. It's a fundamental step for most NLP tasks.\n",
        "\n",
        "2. **Stemming and Lemmatization**: These techniques reduce words to their base or root form. Stemming chops off word endings (e.g., \"running\" to \"run\"), while lemmatization involves using vocabulary and grammatical analysis (e.g., \"better\" to \"good\").\n",
        "\n",
        "3. **Part-of-Speech Tagging**: This process involves identifying each word's part of speech (noun, verb, adjective, etc.). It's crucial for understanding sentence structure and meaning.\n",
        "\n",
        "4. **Syntax and Parsing**: Syntax refers to the arrangement of words to make sentences. Parsing involves analyzing a sentence's syntax to understand its structure and the relationships between words.\n",
        "\n",
        "5. **Semantics**: This is about understanding the meaning of words and sentences. It involves interpreting the meaning of individual words (lexical semantics) and the meaning of sentences (compositional semantics).\n",
        "\n",
        "6. **Named Entity Recognition (NER)**: This technique identifies and classifies named entities (like names of people, organizations, locations) in text, which is important for information extraction.\n",
        "\n",
        "7. **Sentiment Analysis**: This involves determining the sentiment expressed in a text, such as whether a piece of writing is positive, negative, or neutral.\n",
        "\n",
        "8. **Language Modeling**: Language models are used to predict the probability of a sequence of words. This is fundamental in many NLP applications like text generation and speech recognition.\n",
        "\n",
        "9. **Machine Translation**: This is the task of automatically converting text from one language to another. It's a complex task that involves understanding and generating text in multiple languages.\n",
        "\n",
        "10. **Word Embeddings and Vector Space Models**: These are techniques to represent words as vectors in a continuous vector space. Words with similar meanings have similar representations. Models like Word2Vec and GloVe are popular examples.\n",
        "\n",
        "11. **Deep Learning in NLP**: Recent advances in NLP heavily utilize deep learning, particularly neural networks like RNNs, LSTMs, and Transformers (e.g., BERT, GPT models), to capture complex language patterns and perform a variety of NLP tasks.\n",
        "\n",
        "Understanding these concepts requires a blend of linguistic knowledge and computational skills. Each concept plays a crucial role in how machines process, analyze, and generate human language, enabling applications like chatbots, voice assistants, and automated text analysis."
      ],
      "metadata": {
        "id": "bUd8neLGG7fW"
      }
    },
    {
      "cell_type": "markdown",
      "source": [
        "### **What is sentiment analysis?**\n",
        "\n",
        "Sentiment Analysis, also known as opinion mining, is a natural language processing (NLP) technique used to determine the sentiment or emotional tone expressed in a piece of text. It involves analyzing a text, such as a review, comment, or social media post, to understand the writer's subjective feelings, opinions, and attitudes toward a particular subject, product, service, or topic.\n",
        "\n",
        "Here's a breakdown of sentiment analysis:\n",
        "\n",
        "1. **Objective**: The primary goal of sentiment analysis is to categorize the text into one of several sentiment categories, typically:\n",
        "   - **Positive**: Indicates a favorable or positive sentiment.\n",
        "   - **Negative**: Indicates an unfavorable or negative sentiment.\n",
        "   - **Neutral**: Indicates a lack of sentiment or a neutral stance.\n",
        "   - **Mixed**: Indicates the presence of both positive and negative sentiments in the text.\n",
        "\n",
        "2. **Textual Analysis**: Sentiment analysis algorithms analyze the textual content of the input, looking for keywords, phrases, and linguistic cues that convey sentiment. It considers aspects like the choice of words, context, tone, and intensity of emotion.\n",
        "\n",
        "3. **Applications**:\n",
        "   - **Customer Feedback**: Sentiment analysis is commonly used in business to analyze customer reviews, feedback, and comments to gauge customer satisfaction and identify areas for improvement.\n",
        "   - **Social Media Monitoring**: It helps organizations track public sentiment on social media platforms to understand how their brand or products are perceived.\n",
        "   - **Market Research**: Businesses use sentiment analysis to analyze market trends and consumer opinions.\n",
        "   - **Political Analysis**: Sentiment analysis is used in politics to gauge public sentiment toward political figures, policies, or issues.\n",
        "   - **Product Reviews**: E-commerce websites often use sentiment analysis to categorize product reviews as positive or negative, helping customers make informed decisions.\n",
        "   \n",
        "4. **Techniques**:\n",
        "   - **Rule-Based**: These methods use predefined rules and dictionaries to assign sentiment scores to words or phrases. For example, positive words increase the sentiment score, while negative words decrease it.\n",
        "   - **Machine Learning**: Supervised machine learning models are trained on labeled data to predict sentiment. Common algorithms include logistic regression, Naive Bayes, support vector machines, and deep learning models like LSTM and Transformer-based models.\n",
        "\n",
        "5. **Challenges**:\n",
        "   - **Context Understanding**: Understanding the context in which words are used can be challenging. For example, \"not bad\" is a positive phrase, even though it contains the word \"not.\"\n",
        "   - **Sarcasm and Irony**: Identifying sarcasm and irony in text can be difficult for sentiment analysis algorithms.\n",
        "   - **Domain Specificity**: Sentiment analysis models may not perform well on text from specific domains or industries without domain-specific training data.\n",
        "\n",
        "6. **Sentiment Intensity**: Some sentiment analysis models go beyond binary classification and assign intensity scores, indicating the strength of sentiment, such as \"very positive\" or \"slightly negative.\"\n",
        "\n",
        "In summary, sentiment analysis is a valuable NLP technique that allows organizations and individuals to gain insights into the emotional content of text data, helping them make data-driven decisions and understand public sentiment."
      ],
      "metadata": {
        "id": "OFWO27Y5IiOg"
      }
    },
    {
      "cell_type": "markdown",
      "source": [
        "![sentimentanalysishotelgeneric-2048x803-1.jpg](data:image/jpeg;base64,/9j/4AAQSkZJRgABAQEBLAEsAAD/2wBDAAYEBAUEBAYFBQUGBgYHCQ4JCQgICRINDQoOFRIWFhUSFBQXGiEcFxgfGRQUHScdHyIjJSUlFhwpLCgkKyEkJST/2wBDAQYGBgkICREJCREkGBQYJCQkJCQkJCQkJCQkJCQkJCQkJCQkJCQkJCQkJCQkJCQkJCQkJCQkJCQkJCQkJCQkJCT/wgARCAMjCAADAREAAhEBAxEB/8QAHAABAAIDAQEBAAAAAAAAAAAAAAMEAgUGAQcI/8QAGwEBAQEAAwEBAAAAAAAAAAAAAAECAwQFBgf/2gAMAwEAAhADEAAAAfqAAAAAAAAAAAAAAAAAAAAAAAAAAAAAAAAAAAAAAAAAAAAAAAAAAAAAAAAAAAAAAAAAAAAAAAAAAAAAAAAAAAAAAAAAAAAAAAAAAAAAAAAAAAAAAAAAAAAAAAAAAAAAAAAAAAAAAAAAAAAAAAAAAAAAAAAAAAAAAAAAAAAAAAAAAAAAAAAAAAAAAAAAAAAAAAAAAAAAAAAAAAAAAAAAAAAAAAAAAAAAAAAAAAAAAAAAAAAAAAAAAAAAAAAAAAAAAAAAAAAAAAAAAAAAAAAAAAAAAAAAAAAAAAAAAAAAAAAAAAAAAAAAAAAAAAAAAAAAAAAAAAAAAAAAAAAAAAAAAAAAAAAAAAAAAAAAAAAAAAAAAAAAAAAAAAAAAAAAAAAAAAAAAAAAAAAAAAAAAAAAAAAAAAAAAAAAAAAAAAAAAAAAAAAAAAAAAAAAAAAAAAAAAAAAAAAAAAAAAAAAAAAAAAAAAAAAAAAAAAAAAAAAAAAAAAAAAAAAAAAAAAAAAAAAAAAAAAAAAAAAAAAAAAAAAAAAAAAAAAAAAAAAAAAAAAAAAAAAAAAAAAAAAAAAAAAAAAAAAAAAAAAAAAAAAAAAAAAAAAAAAAAAAAAAAAAAAAAAAAAAAAAAAAAAAAAAAAAAAAAAAAAAAAAAAAAAAAAAAAAAAAAAAAAAAAAAAAAAAAAAAAAAAAAAAAAAAAAAAAAAAAAAAAAAAAAAAAAAAAAAAAAAAAAAAAAAAAAAAAAAAAAAAAAAAAAAAAAAAAAAAAAAAAAAAAAAAAAAAAAAAAAAAAAAAAAAAAAAAAAAAAAAAAAAAAAAAAAAAAAAAAAAAAAAAAAAAAAAAAAAAAAAAAAAAAAAAAAAAAAAAAAAAAAAAAAAAAAAAAAAAAAAAAAAAAAAAAAAAAAAAAAAAAAAAAAAAAAAAAAAAAAAAAAAAAAAAAAAAAAAAAAAAAAAAAAAAAAAAAAAAAAAAAAAAAAAAAAAAAAAAAAAAAAAAAAAAAAAAAAAAAAAAAAAAAAAAAAAAAAAAAAAAAAAAAAAAAAAAAAAAAAAAAAAAAAAAAAAAAAAAAAAAAAAAAAAAAAAAAAAAAAAAAAAAAAAAAAAAAAAAAAAAAAAAAAAAAAAAAAAAAAAAAAAAAAAAAAAAAAAAAAAAAAAAAAAAAAAAAAAAAAAAAAAAAAAAAAAAAAAAAAAAAAAAAAAAAAAAAAAAAAAAAAAAAAAAAAAAAAAAAAAAAAAAAAAAAAAAAAAAAAAAAAAAAAAAAAAAAAAAAAAAAAAAAAAAAAAAAAAAAAAAAAAAAAAAAAAAAAAAAAAAAAAAAAAAAAAAAAAAAAAAAAAAAAAAAAAAAAAAAAAAAAAAAAAAAAAAAAAAAAAAAAAAAAAAAAAAAAAAAAAAAAAAAAAAAAAAAAAAAAAAAAAAAAAAAAAAMDA8PAAAAAAAAAAAAAAAAAAAAAAAAAAAAAAAAAAAAAAAAAAAAAAAAAAAAAAAAAAAAAAAAAAAAAAAAAAAAAAAAAAAAAAAAAAAAAAAAAAAAAAAAAenpmZgAAAAAAAAAAAAAAAAAGJCRgAAAAAAAAAAAAAAAAAAAAAAAAAAAAAAAAAAAAAAAAAAAAAAAAAAAAAAAAAAAAAAAAAAAAAAAAAAAAAAAAAAAAAAAAAAAAAAAAAAAAAAAAAAAAkJjIAAAAAAAAAAAAAAAHhARgAAAAAAAAAAAAAAAAAAAAAAAAAAAAAAAAAAAAAAAAAAAAAAAAAAAAAAAAAAAAAAAAAAAAAAAAAAAAAAAAAAAAAAAAAAAAAAAAAAAAAAAAAAAAAAkJz0AAAAAAAAAAAAAAxKx4AAAAAAAAAAAAAAAAAAAAAAAAAAAAAAAAAAAAAAAAAAAAAAAAAAAAAAAAAAAAAAAAAAAAAAAAAAAAAAAAAAAAAAAAAAAAAAAAAAAAAAAAAAAAAAAD0smQAAAAAAAAAAAABiVQAAAAAAAAAAAAAAAAAAAAAAAAAAAAAAAAAAAAAAAAAAAAAAAAAAAAAAAAAAAAAAAAAAAAAAAAAAAAAAAAAAAAAAAAAAAAAAAAAAAAAAAAAAAAAAAAAWjIAAAAAAAAAAAA8Kp4AAAAAAAAAAAAAAAAAAAAAAAAAAAAAAAAAAAAAAAAAAAAAAAAAAAAAAAAAAAAAAAAAAAAAAAAAAAAAAAAAAAAAAAAAAAAAAAAAAAAAAAAAAAAAAAAAD0tHoAAAAAAAAAAAKxgAAAAAAAAAAAAAAAAAAAAAAAAAAAAAAAAAAAAAeGpK5MbcxNMAWS6a03B6aY2xpQAXCmWSY8L4KZGXTSgE5sTVG5PTTG3NIADcEoABqy0WgaQ2xKawukxiaY3R6VSIvnhpzZkxrjMtmoIi0bQ1BEbM8NYDZFwAAAAAAAAAAAAAAAAAAAAAAAAAAAAAAAAAAGZZAAAAAAAAAAAIyuAAAAAAAAAAAAAAAAAAAAAAAAAAAAAAAAAAAAACoUDcmvMyyaY3YPSA0JszaHOnQmJQPDYHpoTeFApHQA0RObI0ZvQekRz5sjanOnQmJRIzZGR6ADA54sm7BzRYN4aY2RYNeao3BdKJAbUFI15tDTm/NeeGyNSXzw1huzQG6MjTm8AAAAAAAAAAAAAAAAAAAAAAAAAAAAAAAAAAALBIAAAAAAAAAACqYgAAAAAAAAAAAAAAAAAAAAAAAAAAAAAAAAAAAAAwNGSFwumBoS8DalY1ZCbs0p0QNceGyBz5vjXGrN+ZnPGwNkaAvA2hCagjNwac6E9KBGbMAAGtPCkbwkOdJS4VjZFg0BsSibwokBtQDSlU3ZZK5piwXS4QGrN2a0olsvE4AAAAAAAAAAAAAAAAAAAAAAAAAAAAAAAAAABkWgAAAAAAAAADEqgAAAAAAAAAAAAAAAAAAAAAAAAAAAAAAAAAAAAAEJ6eGuBsjSG2BaKxri8aoxOjBrjw2QOfN8a4qk5mVSc2RojbgskJqzYGoPDoj0oEZswAAc8DE2BsznTemhMzcA0RMQHQlYgNqAVzVm8BXJSE1pbLJqzdFYsFQ1RviQAAAAAAAAAAAAAAAAAAAAAAAAAAAAAAAAAAAtGQAAAAAAAAAIiAAAAAAAAAAAAAAAAAAAAAAAAAAAAAAAAAAAAAAApmtNmVTw2JpDagzPDXG6NOUjpQa48NkQmjNyVTI14NkQGyNEbYGRkas3ZqCgdKelAjNmAAVTXG7MDQnQHPHRFA05vzXlsumvIyYpl8FsgNWbsGrIS+UC2emuN2aM2BIao3xmAAAAAAAAAAAAAAAAAAAAAAAAAAAAAAAAAAATkoAAAAAAAAAK5GAAAAAAAAAAAAAAAAAAAAAAAAAAAAAAAAAAAAAACmViQvnhrgCYslcumJrjZgrAslUqkxIZEJiWiEtGtAJS2VS8YmuNkelcxLQABUMywCgWyibIGuLpRNiemBRLRSB6bMjKpeB4USEnLxrjAumZQMS6WAAAAAAAAAAAAAAAAAAAAAAAAAAAAAAAAAAAASFgAAAAAAAAAFUxAAAAAAAAAAAAAAAAAAAAAAAAAAAAAAAAAAAAAAAAAAAAAAAAAAAAAAAAAAAAAAAAAAAAAAAAAAAAAAAAAAAAAAAAAAAAAAAAAAAAAAAAAAAAAAAAAAAABkWgAAAAAAAAAVTEAAAAAAAAAAAAAAAAAAAAAAAAAAAAAAAAAAAAAAAAAAAAAAAAAAAAAAAAAAAAAAAAAAAAAAAAAAAAAAAAAAAAAAAAAAAAAAAAAAAAAAAAAAAAAAAAAAAAGRaAAAAAAAAABVMQAAAAAAAAAAAAAAAAAAAAAAAAAAAAAAAAAAAAAAAAAAAAAAAAAAAAAAAAAAAAAAAAAAAAAAAAAAAAAAAAAAAAAAAAAAAAAAAAAAAAAAAAAAAAAAAAAAAAZFoAAAAAAAAAFUxAAAAAAAAAAAAAAAAAAAAAAAAAAAAAAAAAAAAAAAAAAAAAAAAAAAAAAAAAAAAAAAAAAAAAAAAAAAAAAAAAAAAAAAAAAAAAAAAAAAAAAAAAAAAAAAAAAAABkWgAAAAAAAAAVTEAAAAAAAAAAAAAAAAAAAAAAAAAAAAAAAAAAAAAAAAAAAAAAAAAAAAAAAAAAAAAAAAAAAAAAAAAAAAAAAAAAAAAAAAAAAAAAAAAAAAAAAAAAAAAAAAAAAAGRaAAAAAAAAABVMQAAAAAAAAAAAAAAAAAAAAAAAAAAAAAAAAAAAAAAAAAAAAAAAAAAAAAAAAAAAAAAAAAAAAAAAAAAAAAAAAAAAAAAAAAAAAAAAAAAAAAAAAAAAAAAAAAAAAZFoAAAAAAAAAFUxAAAAAAAAAAAAAAAAAAAAAAAAAAAAAAAAAAAAAAAAAAAAAAAAAAAAAAAAAAAAAAAAAAAAAAAAAAAAAAAAAAAAAAAAAAAAAAAAAAAAAAAAAAAAAAAAAAAABkWgAAAAAAAAAVTEAAAAAAAAAAAAAAAAAAAAAAAAAAAAAAAAAAAAAAAAAAAAAAAAAAAAAAAAAAAAAAAAAAAAAAAAAAAAAAAAAAAAAAAAAAAAAAAAAAAAAAAAAAAAAAAAAAAAGRaAAAAAAAAABVMQAAAAAAAAAAAAAAAAAAAAAAAAAAAAAAAAAAAAAAAAAAAAAAAAAAAAAAAAAAAAAAAAAAAAAAAAAAAAAAAAAAAAAAAAAAAAAAAAAAAAAAAAAAAAAAAAAAAAZFoAAAAAAAAAFUxAAAAAAAMqktyoAAAAAAAAAAAAAAAAAAAAAAAAAAAAeGMR5ngAAAABnlLl7HoAAAAAAAAAAAAAAAAAAAAAAAAAAAB4YVFt5QAAAAAyWVr1QAAAAAAAAAAAAAAAAAAAAAAAAAAAAMGY2fAAADItAAAAAAAAAAqmIAAAAAAM6m3QAAAAAAAAAAAAAAAAAAAAAAAAAAAAAAIMTGAAAAJcJsAAAAAAAAAAAAAAAAAAAAAAAAAAAAAAB4V+VjQAAAAkamaAAAAAAAAAAAAAAAAAAAAAAAAAAAAAAHhXY8QAAZFoAAAAAAAAAFUxAAAAAAPSxyUAAAAAAAAAAAAAAAAAAAAAAAAAAAAAAAeRXxAAAB7FriAAAAAAAAAAAAAAAAAAAAAAAAAAAAAAADCq/KAAAA9LLkAAAAAAAAAAAAAAAAAAAAAAAAAAAAAAAGKV2AABkWgAAAAAAAAAVTEAAAAAAzqbdAAAAAAAAAAAAAAAAAAAAAAAAAAAAAAAAgxMYAAAlwmwAAAAAAAAAAAAAAAAAAAAAAAAAAAAAAAAq8rygAABI1M0AAAAAAAAAAAAAAAAAAAAAAAAAAAAAAABWcfgABkWgAAAAAAAAAVTEAAAAAAk0l1QAAAAAAAAAAAAAAAAAAAAAAAAAAAAAAAIcTCAAAJuNLkAAAAAAAAAAAAAAAAAAAAAAAAAAAAAAABW5GOgAAAlalaAAAAAAAAAAAAAAAAAAAAAAAAAAAAAAAArsYoABkWgAAAAAAAAAVTEAAAAAAk0l1QAAAAAAAAAAAAAAAAAAAAAAAAAAAAAAAIcTCAAAJuNLkAAAAAAAAAAAAAAAAAAAAAAAAAAAAAAABW5GOgAAAlalaAAAAAAAAAAAAAAAAAAAAAAAAAAAAAAAArsYoABkWgAAAAAAAAAVTEAAAAAAk0l1QAAAAAAAAAAAAAAAAAAAAAAAAAAAAAAAIcTCAAAJuNLkAAAAAAAAAAAAAAAAAAAAAAAAAAAAAAABW5GOgAAAlalaAAAAAAAAAAAAAAAHi+oAAAAAAAAAAAAAAAK7GKAAZFoAAAAAAAAAFUxAAAAAAJNJdUAAAAAAAAAAAADGzne753Pd3ztb2OtFrNjG9t1u30nQ9PddXugAAAAAAAAAAAAACHEwgAACbjS5AAAAAAAAAAAAADDg3R8Tt1vN54utyCXscdn0+C77XUk7GAAAAAAAAAAAAAAK3Ix0AAAErUrQAAAAAAAAAAAAAGp4u/y3U9zTcHo1cc+dzsuXp9D2fI6fteLLeMAAAAAAAAAAAAAV2MUAAyLQAAAAAAAAAKpiAAAAAASaS6oAAAAAAAAAAAA13P1uA9n5/X83XAAA3vU7/eeP70+OQAAAAAAAAAAAAAQ4mEAAATcaXIAAAAAAAAAAAACj4nb13znexxQABlpsfouje93pgAAAAAAAAAAAACtyMdAAABK1K0AAAAAAAAAAAABHN8J0PqOX6ntgAAW98H0L0vkt1zeaAAAAAAAAAAAABXYxQADItAAAAAAAAAAqmIAAAAABJpLqgAAAAAAAAAAAa3n63zf3fmodYAAAA2PD2fpPg/SzZ2AAAAAAAAAAAABDiYQAABNxpcgAAAAAAAAAAABr/n+7rvnu6AAAANh7/T2P0XRAAAAAAAAAAAAArcjHQAAAStStAAAAAAAAAAAADFr5r5f2Wk4PSAAAAzs+ken8dvOfywAAAAAAAAAAABXYxQADItAAAAAAAAAAqmIAAAAABJpLqgAAAAAAAAAADCz5j9B8vQ5euIsckm8eoBhnYz1gdH0fS73x/fAAAAAAAAAAAAAhxMIAAAm40uQAAAAAAAAAAAFfz+bT/H+p5CqnLm3w6AFTmza4tex6bf6/wAyz6XAAAAAAAAAAAAAK3Ix0AAAErUrQAAAAAAAAAAAA4ro/Scb0vohjc43MmeQARa4Zc8wsa4vq3r/AAlnXCAAAAAAAAAAABXYxQADItAAAAAAAAAAqmIAAAAABJpLqgAAAAAAAAAADmO/5fDev4Q1/V7nHfP/AEex7nS7D3vnRhnfDfN/UeS9z9J8vJvj9X6f8/8AUbDh7AAAAAAAAAAAAAhxMIAAAm40uQAAAAAAAAAAAGm+N9Sv0OYfMvquhxPudT6p8n6PX+L2Rynr9f5P9f5vY+L2vqXyfoCfu8W6+08oAAAAAAAAAAAAVuRjoAAAJWpWgAAAAAAAAAAAK+eb5J4/30c14cb6/wABBvr9l5P3tjj7Q5v0Pk9P2/B6bzvsNt1faHYd35/t+98yAAAAAAAAAAABXYxQADItAAAAAAAAAAqmIAAAAABJpLqgAAAAAAAAAAD5v7vzWn7PTGt6nd4/wPor/a6nZ/QfNiPO+F+Z+q8O6+l+Wl3xjr/N9jsfL9kAAAAAAAAAAAAQ4mEAAATcaXIAAAAAAAAAAAR9fej+G9fwHyz63z+O9rq/UPlPQ7Tw+0OP9rrfLPrfO6zx+z9X+Q9EDefb+TL2uMAAAAAAAAAAACtyMdAAABK1K0AAAAAAAAAAABy/V9zgPO+qHicV7H59Frh7LyfvbPH2xzPo/IajteJ0vn/W7jqe6Lm+v9b9j4IgAAAAAAAAAAArsYoABkWgAAAAAAAAAVTEAAAAAAk0l1QAAAAAAAAAAB8k+k+Ri1gCtxc83JxZ3IEOOQs2+IDd9TvfRfE+jAAAAAAAAAAAAEOJhAAAE3GlyAAAAAAAAAAAFXyuxqPk/SAx01vZ49p1OQAazt8ew63JnkBtvqvOt+v1gAAAAAAAAAAAK3Ix0AAAErUrQAAAAAAAAAAAHB+f9TynU90CPXHheOfHYA8sr76tnj7YA+vez+f2dcIAAAAAAAAAAArsYoABkWgAAAAAAAAAVTEAAAAAAk0l1QAAAAAAAAAAMbPkX0vyHiAAAAAAbbr9v6V4P0wAAAAAAAAAAAAhxMIAAAm40uQAAAAAAAAAAAp+N2tV8v6AAAAAAA2n03Qu+31AAAAAAAAAAAAK3Ix0AAAErUrQAAAAAAAAAAAHzzzvrub6vsAADG49a9lAAH1j2Pg7++qAAAAAAAAAAAK7GKAAZFoAAAAAAAAAFUxAAAAAAJNJdUAAAAAAAAAAAfJvpPkoNcYp8HZuc/WAAGGdw45LPLwDe9Tv/Q/E+iAAAAAAAAAAAAEOJhAAAE3GlyAAAAAAAAAAAFXy+xqPkvSAAAAAAG2+r86363WAAAAAAAAAAAArcjHQAAAStStAAAAAAAAAAAAcJ0PqOT6fvADS9z5/V9jx5M8uNxJOTf8AR+ns8fbA9Pr/ALX59PeIAAAAAAAAAAAV2MUAAyLQAAAAAAAAAKpiAAAAAASaS6oAAAAAAAAAAA+de585pO10Ryvie/0XreNY5eEADT9D0sM3d+j5g7Ly/a67zfXAAAAAAAAAAAAEOJhAAAE3GlyAAAAAAAAAAAGHDrRfC+x5A4z3OrruzgAAXuvvtvC7Q9N59z5EnYwAAAAAAAAAAABW5GOgAAAlalaAAAAAAAAAAAA5vrez888360DnO/8AKT47O76f0PqitydXmvQ+R6Xz/rrPH2hsOTq/V/X+DAAAAAAAAAAAArsYoABkWgAAAAAAAAAVTEAAAAAAk0l1QAAAAAAAAAABz3d87gPZ+fFDrdvQ+Z6vWe54HqAQ45eS8L6Dr/e+dk1jJfqXz31Vzi5gAAAAAAAAAAABDiYQAABNxpcgAAAAAAAAAAANR8j6dXzOccj7PW1/YwAAL3BvsPF7Is+hw7j7HywAAAAAAAAAAABW5GOgAAAlalaAAAAAAAAAAAAinJ8k8f76DPJV5Onou7850/nfXgAVuTqaHu/NdP532A7bvfN9j3fnQAAAAAAAAAAAK7GKAAZFoAAAAAAAAAFUxAAAAAAJNJdUAAAAAAAAAAAeHzX3vmdV2OoNR0fR0nm+ntu958/Lx0+v2Nb1O503seJd7HWHV+d63a+V7YAAAAAAAAAAAAEOJhAAAE3GlyAAAAAAAAAAAAh6fLpfjPV8yAAAAHtbn7Lyp+9xAAAAAAAAAAAACtyMdAAABK1K0AAAAAAAAAAAAOT6nvcJ5/1FLm8/xL3D6IAA0fc+d3nT+iu76/1X1/hZbxgAAAAAAAAAAAV2MUAAyLQAAAAAAAAAKpiAAAAAASaS6oAAAAAAAAAAAFPk4fm3vfNVOThEed63qd2Lj5LPNwbHt9P1Buer3fonifR5ygAAAAAAAAAAAAQ4mEAAATcaXIAAAAAAAAAAAAU/G7Wr+Y9DyAAAB6bP6boXfb6gAAAAAAAAAAAAFbkY6AAACVqVoAAAAAAAAAAAAeL8/wDO+s5nq+yAAABPrj+mep8XtOXogAAAAAAAAAAACuxigAGRaAAAAAAAAABVMQAAAAACTSXVAAAAAAAAAAAAFXk4uD9jwNL2ukAAPV6jz/U7TyvbzlAAAAAAAAAAAAAEOJhAAAE3GlyAAAAAAAAAAAAAq+X2NZ8z6EfBoAAZ82dp9N59r1euAAAAAAAAAAAAAK3Ix0AAAErUrQAAAAAAAAAAAAHi8b0vouO6X0OE0AANrzdH6D6Pyex5OmAAAAAAAAAAAABXYxQADItAAAAAAAAAAqmIAAAAABJpLqgAAAAAAAAAAAADT9np893vO1vP1otZsY5Nt1u30fR9G/w9gAAAAAAAAAAAAAAQ4mEAAATcaXIAAAAAAAAAAAAAeYtPyOzW83sRdbkEvZ47PpcFv1+rluAAAAAAAAAAAAAAVuRjoAAAJWpWgAAAAAAAAAAAAAKeOxzPV9rTcPo1cdjO42XJ0+h7Pk77seV6gAAAAAAAAAAAAArsYoABkWgAAAAAAAAAVTEAAAAAAk0l1QAAAAAAAAAAAAAAAAAAAAAAAAAAAAAAAIcTCAAAJuNLkAAAAAAAAAAAAAAAAAAAAAAAAAAAAAAABW5GOgAAAlalaAAAAAAAAAAAAAAAAAAAAAAAAAAAAAAAArsYoABkWgAAAAAAAAAVTEAAAAAAk0l1QAAAAAAAAAAAAAAAAAAAAAAAAAAAAAAAIcTCAAAJuNLkAAAAAAAAAAAAAAAAAAAAAAAAAAAAAAABW5GOgAAAlalaAAAAAAAAAAAAAAAAAAAAAAAAAAAAAAAArsYoABkWgAAAAAAAAAVTEAAAAAAk0l1QAAAAAAAAAAAAAAAAAAAAAAAAAAAAAAAIcTCAAAJuNLkAAAAAAAAAAAAAAAAAAAAAAAAAAAAAAABW5GOgAAAlalaAAAAAAAAAAAAAAAAAAAAAAAAAAAAAAAArsYoABkWgAAAAAAAAAVTEAAAAAAk0l1QAAAAAAAAAANDHFyd7brjl5PouryeVQ3lYHMxfLBsKvnOxfrnI+hVboAAAAAAAAAACHEwgAACbjS5AAAAAAAAAAADhtNnFw4vTpstfWzjA5nTYRKUT6LlzVTkgN5AAAAAAAAAAAArcjHQAAAStStAAAAAAAAAAAcMm7XM41nereOQT6W1ziW15hmudMvpRNkRnMJ0y9OoAAAAAAAAAAFdjFAAMi0AAAAAAAAACqYgAAAAAEmkuqAAAAAAAAAABwWXKybGuajvraKcXH0y3UG8rh8z6Dq/Nsz6Nq8jJq42VUo+xbuYAAAAAAAAAABDiYQAABNxpcgAAAAAAAAAAPD8y8rq47rL5jt9i43y3bqY3mXB7fR8Pme0h9Tw+ZaSHUR4d3kAAAAAAAAAAAK3Ix0AAAErUrQAAAAAAAAAAH52Y3Z27Xytj6+38uZ+rtbxfkLFheuXlE6NYziWb53bXydn7C10KgAAAAAAAAAAV2MUAAyLQAAAAAAAAAKpiAAAAAASaS6oAAAAAAAAAAHBZczJ9S1fi+Z11SrfPl+Z3ur0NcZJ9Ht+TZn2jd/PnHPpuro09PqGrOAAAAAAAAAAAQ4mEAAATcaXIAAAAAAAAAADw+Icjn6+tYfOtPrWHybbax9Dy4DT6dh8j5Hp9Ww+I8jw+l4aOvpeF0AAAAAAAAAAArcjHQAAAStStAAAAAAAAAAAfFGNOfTWvmLP1tr5YzvV6ZfmbI+wtckm7WuaVNOn1Fv5Kx9Zb6AAAAAAAAAAAArsYoABkWgAAAAAAAAAVTEAAAAAAk0l1QAAAAAAAAAANTEhsq08c9Ha6cXltasF01huq56OmrmY39amNLHYaWQAAAAAAAAAACHEwgAACbjS5AAAAAAAAAAADmanLkcxpu4xNVXa5c7W8jnqvlMtlYmNFXVZbAAAAAAAAAAAArcjHQAAAStStAAAAAAAAAAAcyl5ZDmU2hsV5dOgWQqJsVqFowJCmbQ5BN4u+AAAAAAAAAAAK7GKAAZFoAAAAAAAAAFUxAAAAAAJNJdUAAAAAAAAAAAAAAAAAAAAAAAAAAAAAAACHEwgAACbjS5AAAAAAAAAAAAAAAAAAAAAAAAAAAAAAAAVuRjoAAAJWpWgAAAAAAAAAAAAAAAAAAAAAAAAAAAAAAAK7GKAAZFoAAAAAAAAAFUxAAAAAAJNJdUAAAAAAAAAAAAAAAAAAAAAAAAAAAAAAACHEwgAACbjS5AAAAAAAAAAAAAAAAAAAAAAAAAAAAAAAAVuRjoAAAJWpWgAAAAAAAAAAAAAAAAAAAAAAAAAAAAAAAK7GKAAZFoAAAAAAAAAFUxAAAAAAJNJdUAAAAAAAAAAAAAAAAAAAAAAAAAAAAAAACHEwgAACbjS5AAAAAAAAAAAAAAAAAAAAAAAAAAAAAAAAVuRjoAAAJWpWgAAAAAAAAAAAAAAAAAAAAAAAAAAAAAAAK7GKAAZFoAAAAAAAAAFUxAAAAAAJNJdUAAAAAAAAAAAAAAAAAAAAAAAAAAAAAAACHEwgAACbjS5AAAAAAAAAAAAAAAAAAAAAAAAAAAAAAAAVuRjoAAAJWpWgAAAAAAAAAAAAAAAAAAAAAAAAAAAAAAAK7GKAAZFoAAAAAAAAAFUxAAAAAAJNJdUAADVQB4bagAK5YAAABrY2VACM5yOnoAAAADlYmN7U4ANVG1oaqNrWqja0AAABDiYQAABNxpcgAAAAANJVyJC2AQkhkamttAAGprbQBSJT0nAAABrTZA1NbaK5YAAAAAAABW5GOgAAAlalaAAAAgNGm4XImMwAa0jNsak2wAAAANabIAAERoE2CjaAAAAAAAAAAArsYoABkWgAAAAAAAAAVTEAAAAAAk0l1QAAKMYnLR1tc1F6tJHXVzkVk7G3WHhriYqxcqYEJsjlo6WpDSGRYKcdbpUjnzIlOqrnIkOXiQ6+uajd1WKpWjbVKcjHX1rilG/re0AABDiYQAABNxpcgAAAAANaTnMabGBp6vxYOij5tp00a6tjGurYxzVddHK10scvXa5aKtqashq1FCu1y56tdWyjI1FZEpXN9GqrscgAAAAABW5GOgAAAlalaAAAAjNUc2lNOqXSG6MTUmzNaZEpfNOdyvHJ0C8ez0K0C4enhrDamgNwbBdweHEJ2C/OGeya5lnsWoSsmtL5QL5qyA6Jd6AAAACuxigAGRaAAAAAAAAABVMQAAAAACTSXVAAAHhwGUpsKzNJGwNSm1Xp6hONgb6ozcnLxfqvG6rg5PoVvhic5E5PXV1xWWuN3Q6uvmmZvLZTw2ZzMbGt0cvExqE3tumjoaqHOyd9btqAAAhxMIAAAm40uQAAAAAA0NauoCQoGzLUdPHzvTbxra2Ma+thGjrfxy+nX5c9XbZaqpjlq8OijS13OXN0MSQ0Fb2BDW3jidPqGAAAAAAArcjHQAAAStStAAAAAckloiNQbA6RedTIgKRsCMqnerySQnOJ27WRq02i0E1RszTp1LWgTpV25ySdUvLpWOeT6Q1q02y8YmwKBeJADq1AAAAFdjFAAMi0AAAAAAAAACqYgAAAAAEmkuqAAAAAAAAAAAAAAAAAAAAAAAAAAAAAAABDiYQAABNxpcgAAAAAAAAAAAAAAAAAAAABrTWV0sAAAAAAAAAVuRjoAAAJWpWgAAAAAAAAAAAAAAAAAAAAAAAAAAAAAAAK7GKAAZFoAAAAAAAAAFUxAAAAAAJNJdUAAAAAAAAAAAAAACjFqpAAAAAAAAAAAAAAAAQ4mEAAATcaXIAAAAAAAAAADXGxNeXzQ1v41hswc/XQQBrjYg1xmYGmrqoAAAAAAAAAAFbkY6AAACVqVoAAAAAAAAAaAuGzNcbEAAAGgN+AAAaA34AAABrjYgAAAAAArsYoABkWgAAAAAAAAAVTEAAAAAAk0l1QAAAAAAAAAAAABw+WR4W6zMjSx6fQNAAAAAAAAAAAAAAIcTCAAAJuNLkAAAAAAAAABoa5erB2uXM1tjkK3seHNafUMOI0iNhGvqU3kfO9OujexsYiLIAAAAAAAAAAK3Ix0AAAErUrQAAAAA4tNem+Xi06xbR0a8AlotmnSyu4NIdqupOXZurKYFc79eUQao2ZqzZmJoE3a65NyumTol0RKWjXHeLMAAAAAAV2MUAAyLQAAAAAAAAAKpiAAAAAASaS6oAAAAAAAAAAAAA4HLYVdJyIrGBsjI29AAAAAAAAAAAAACHEwgAACbjS5AAAAAAAAAActVapY6GKFYkQPDS12+Wir0xNfV6LZoq6SKBtougAAAAAAAAAAFbkY6AAACVqVoAAAAAcWmBvF5hOtXSJ2C8Sl8lBCbZeHZ+lNcslY2AKhgdgvHpKWQcynRrgVDoV5NN0aY2JgXQUDbLuDMAAAAAFdjFAAMi0AAAAAAAAACqYgAAAAAEmkuqAAAAAAAAAAAAAKUXaAAAAAAAAAAAAAAAAAEOJhAAAE3GlyAAAAAAAAAAAAAAAAAAAAAAAAAAAAAAAArcjHQAAAStStAAAAAAAAAAACmYF8AAAAAFIugAAAAAAAAAAAArsYoABkWgAAAAAAAAAVTEAAAAAAk0l1QNDF8xIS4W6jPTw1sa08Opqsc/HQVOfPsusq/XpQiubuq8aQ6CsiQ5OOlrIxJzkI6uoyQjJDm46OtdFgu1VixWRTi7VGLVQxTL1ek5xuW/rZ0BDiYQAABNxpcgAAAAAAAAAAAAAAAAAAAAAAAAAAAAAAAK3Ix0AAAErUrQAAAAAA5FNytg9IzA2ZGAVyyVzUJXOgW0aEslFOjWmXCMrEhMQmR4SEZIDM+ds/RWgAAAAAAK7GKAAZFoAAAAAAAAAFUxAAAAAAJNJdUDTRx8lU3y6BPqGryUaaTd2+HpjHY6cDlZOfTqLdbF+oYwLBAXq5OToVu1qo73ThssSqWDvdOCymIyUiJDQSfQdXSGsi+VjY10J8uzOq1ddHTVx8m9thjA7nQAAQ4mEAAATcaXIAAAAAAAAAAAAAAAAAAAAAAAAAAAAAAACtyMdAAABK1K0AAAAAAOKTSpvFiMTbnRr85ZpG2WQ9OhXl0tlY71eHTeLybOyXnU+nNcwmrSysxATkRXTNbpmdgvh6AAAAAAAV2MUAAyLQAAAAAAAAAKpiAAAAAASaS6oA5iPDdmhOrqhGnNoREAN/XKxbKhvCqADwrFs1BuiI5yO805qPSQnNzXJxfKxZKxYMwZg8OIk6q3cnKRva+e5n0LV1xtAD029AAQ4mEAAATcaXIAAAAAAAAAAAAAAAAAAAAAAAAAAAAAAACtyMdAAABK1K0AAAAAANKZEpzqdIupTp15pBt15lN4u0OWTZLkbk55LC+GZp065dQeAwKSbBREZnPp1awG3AAAAAAABXYxQADItAAAAAAAAAAqmIAAAAABJpLqgAAAAAAAAAAAAAREh6AAAAAAAAViyAYkROAAAAAQ4mEAAATcaXIAAAAAAAAAAAAAAAAAAAAAAAAAAAAAAACtyMdAAABK1K0AAAAAAAAAAAAAAAAAAAAAAICcAAAAAAAAFdjFAAMi0AAAAAAAAACsYAAAAAAEmkuqAAAAAAAAAAAAAAAAAAAAAAAAAAAAAAABBiYwAABNhLgAAAAAAAAAAAAAAAAAAAAAAAAAAAAAAABW5WNAAACVqVoAAAAAAAAAAAAAAAAAAAAAAAAAAAAAAACuxigAGZZAAAAAAAAABCQgAAAAAHpY5KAAAAAAAAAAAAAAAAAAAAAAAAAAAAAAAPIr4gAAAzyscYAAAAAAAAAAAAAAAAAAAAAAAAAAAAAAAeFXmAAAAZLYbAAAAAAAAAAAAAAAAAAAAAAAAAAAAAAAHhWcYAAmJgAAAAAAAAAYFYAAAAAAEurJoAAAAAAAAAAAAAAAAAAAAAAAAAAAAAABDiYQAAABPxpMgAAAAAAAAAAAAAAAAAAAAAAAAAAAAAAK/Iw0AAAAEzcigAAAAAAAAAAAAAAAAAAAAAAAAAAAAAAQMYIAALJmAAAAAAAAAAVDwAAAAAAEmklvtAAAAAAAAAAAAAAAAAAAAAAAAAAAAAeRFmYQAAAABNhJh6AAAAAAAAAAAAAAAAAAAAAAAAAAAAAY1DthoAAAAAJWpGvQAAAAAAAAAAAAAAAAAAAAAAAAAAAADEiYwQAAelsAAAAAAAAAAEJCAAAAAAAD0AAAAAAAAAAAAAAAAAAAAAAAAAAAAA8AAAAAAAPYAAAAAAAAAAAAAAAAAAAAAAAAAAAAA8oAAAAAAAegAAAAAAAAAAAAAAAAAAAAAAAAAAAAHgAAAJiYAAAAAAAAAAAqHgAAAAAAAAAAAAAAAAAAAAAAAAAAAAAAAAAAAAAAAAAAAAAAAAAAAAAAAAAAAAAAAAAAAAAAAAAAAAAAAAAAAAAAAAAAAAAAAAAAAAAAAAAAAAAAAAAAPS2AAAAAAAAAAACMrgAAAAAAAAAAAAAAAAAAAAAAAAAAAAAAAAAAAAAAAAAAAAAAAAAAAAAAAAAAAAAAAAAAAAAAAAAAAAAAAAAAAAAAAAAAAAAAAAAAAAAAAAAAAAAAAAAAsmYAAAAAAAAAAABCQgAAAAAAAAAAAAAAAAAAAAAAAAAAAAAAAAAAAAAAAAAAAAAAAAAAAAAAAAAAAAAAAAAAAAAAAAAAAAAAAAAAAAAAAAAAAAAAAAAAAAAAAAAAAAAAAAAmJgAAAAAAAAAAAACEhAAAAAAAAAAAAAAAAAAAAAAAAAAAAAAAAAAAAAAAAAAAAAAAAAAAAAAAAAAAAAAAAAAAAAAAAAAAAAAAAAAAAAAAAAAAAAAAAAAAAAAAAAAAAAAAABMTAAAAAAAAAAAAAAEZAeAAAAAAAAAAAAAAAAAAAAAAAAAAAAAAAAAAAAAAAAAAAAAAAAAAAAAAAAAAAAAAAAAAAAAAAAAAAAAAAAAAAAAAAAAAAAAAAAAAAAAAAAAAAAAAA9JyQAAAAAAAAAAAAAAA8ISIAAAAAAAAAAAAAAAAAAAAAAAAAAAAAAAAAAAAAAAAAAAAAAAAAAAAAAAAAAAAAAAAAAAAAAAAAAAAAAAAAAAAAAAAAAAAAAAAAAAAAAAAAAAAAEpMegAAAAAAAAAAAAAAAAERgYmIAAAAAAAAAAAAAAAAAAAAAAAAAAAAAAAAAAAAAAAAAAAAAAAAAAAAAAAAAAAAAAAAAAAAAAAAAAAAAAAAAAAAAAAAAAAAAAAAAAAAAAAAAMjIzJQAAAAAAAAAAAAAAAAAAAAAAAAAAAAAAAAAAAAAAAAAAAAAAAAAAAAAAAAAAAAAAAAAAAAAAAAAAAAAAAAAAAAAAAAAAAAAAAAAAAAAAAAAAAAAAAAAAAAAAAAAAAAAAAAAAAAAAAAAAAAAAAAAAAAAAAAAAAAAAAAAAAAAAAAAAAAAAAAAAAAAAAAAAAAAAAAAAAAAAAAAAAAAAAAAAAAAAAAAAAAAAAAAAAAAAAAAAAAAAAAAAAAAAAAAAAAAAAAAAAAAAAAAAAAAAAAAAAAAAAAAAAAAAAAAAAAAAAAAAAAAAAAAAAAAAAAAAAAAAAAAAAAAAAAAAAAAAAAAAAAAAAAAAAAAAAAAAAAAAAAAAAAAAAAAAAAAAAAAAAAAAAAAAAAAAAAAAAAAAAAAAAAAAAAAAAAAAAAAAAAAAAAAAAAAAAAAAAAAAAAAAAAAAAAAAAAAAAAAAAAAAAAAAAAAAAAAAAAAAAAAAAAAAAAAAAAAAAAAAAAAAAAAAAAAAAAAAAAAAAAAAAAAAAAAAAAAAAAAAAAAAAAAAAAAAAAAAAAAAAAAAAAAAAAAAAAAAAAAAAAAAAAAAAAAAAAAAAAAAAAAAAAAAAAAAAAAAAAAAAAAAAAAAAAAAAAAAAAAAAAAAAAAAAAAAAAAAAAAAAAAAAAAAAAAAAAAAAAAAAAAAAAAAAAAAAAAAAAAAAAAAAAAAAAAAAAAAAAAAAAAAAAAAAAAAAAAAAAAAAAAAAAAAAAAAAAAAAAAAAAAAAAAAAAAAAAAAAAAAAAAAAAAAAAAAAAAAAAAAAAAAAAAAAAAAAAAAAAAAAAAAAAAAAAAAAAAAAAAAAAAAAAAAAAAAAAAAAAAAAAAAAAAAAAAAAAAAAAAAAAAAAAAAAAAAAAAAAAAAAAAAAAAAAAAAAAAAAAAAAAAAAAAAAAAAAAAAAAAAAAAAAAAAAAAAAAAAAAAAAAAAAAAAAAAAAAAAAAAAAAAAAAAAAAAAAAAAAAAAAAAAAAAAAAAAAAAAAAAAAAAAAAAAAAAAAAAAAAAAAAAAAAAAAAAAAAAAAAAAAAAAAAAAAAAAAAAAAAAAAAAAAAAAAAAAAAAAAAAAAAAAAAAAAAAAAAAAAAAAAAAAAAAAAAAAAAAAAAAAAAAAAAAAAAAAAAAAAAAAAAAAAAAAAAAAAAAAAAAAAAAAAAAAAAAAAAAAAAAAAAAAAAAAAAAAAAAAAAAAAAAAAAAAAAAAAAAAAAAAAAAAAAAAAAAAAAAAAAAAAAAAAAAAAAAAAAAAAAAAAAAAAAAAAAAAAAAAAAAAAAAAAAAAAAAAAAAAAAAAAAAAAAAAAAAAAAAAAAAAAAAAAAAAAAAAAAAAAAAAAAAAAAAAAAAAAAAAAAAAAAAAAAAAAAAAAAAAAAAAAAAAAAAAAAAAAAAAAAD0AAAAAAAAAAAAAAAAAAAAAAAAAAAAAAAAAAAAAAAAAAAAAAAAAAAAAAAAAAAAAAAAAAAAAAAAAAAAAAAAAAAAAAAAAAAAAAAAAAAAAAAAAAAAAAAAAAAAAAAAAAAAAAAH/8QAMxAAAAYBAgUDAwQDAAMBAQAAAAECAwQFERIxBhMgMEAQFGAVFjMhMjVwNDZQIiMksCX/2gAIAQEAAQUC/wDzFNZDmDmGNZjWY1mNZjWY1mNZjWY1mNZjWY1mNZjWY1mNZjWY1mNZjWY1mNZjWY1mNZjWY1mNZjWY1mNZjWY1mNZjWY1mNZjWY1mNZjWY1mNZjWY1mNZjWY1mNZjWY1mNZjWY1mNZjWY1mNZjWY1mNZjWY1mNZjWY1mNZjWY1mNZjWY1mNZjWY1mNZjWY1mNZjWY1mNZjWY1mNZjWY1mNZjWY1mNZjWY1mNZjWY1mNZjWY1mNZjWY1mNZjWY1mNZjWY1mNZjWY1mNZjWY1mNZjWY1mNZjWY1mNZjWY1mNZjWY1mNZjWY1mNZjWY1mNZjWY1mNZjWY1mNZjWY1mNZjWY1mNZjWY1mNZjWY1mNZjWY1mNZjWY1mNZjWY1mNZjWY1mNZjWY1mNZjWY1mNZjWY1mNZjWY1mNZjWY1mNZjWY1mNZjWY1mNZjWY1mNZjWY1mNZjWY1mNZjWY1mNZjWY1mNZjWY1mNZjWY1mNZjWY1mNZjWY1mOYOYNZf8Y1EQNZ/wBtkswSiP8A4JngGvP9vkvAI8+casAzz/cJHgErPmKVj+5Uqz5RngGef7lI8Ajz5KjyfwvYOSzMc10IlKSEqJRLPCPcuj3Lo9y6GHlrceUaW0Sl6t/Q5DmtR4T7l0e5dHuXR7l0POrSj3LoYeWtyS4psRnjc9ZLptpjOqcNX6J9y6Pcuj3LoZfWtx0zS2mUvUR5ILkOEs/2+5dHuXR7l0e5dDZ6kdL8hSVx3OYj09y5ltZOJEh5aHGlGpsKPSkpTmd/SQs0IjOqc9VvPIU05zECRINJx1OLC1EhK5S1DmuhqUeQ6+4lz3LojrNaHnyaBvuKBPupDL/N+DpPB+Os8F8Mk/hipSpYksZEUlJJ38cf9XdKRpSNJEJH4RFd9D/INKRLIiTEIjLSkYIPflSRYmhlehz0kL1OQ/3L/Yx+XSkaUjSRB/8AEIruPRz8o0pEsiJEMiMaU9S1aE/qs4q9Lnoe7DvLUJf5WPwiWvCcHiKvU2Jf4oe/pJa1pYd5a3neWhtBurItJTNoiUmQfYPUxq5b5Fy436u4wH/1dbSlKFoJZJacQ58HQeS8ZR5P4YtOtK2ltGmUtITLSYIyMnfxtr5aveGPeH6SPwx0EtSkm2pl3mJP8npM/bD/AG+j35U/tm+jC9bbitCBD/cv9iFaFe8Me8P0f/EwklrWg21sO8xLn5fSZ+OF1zF/pEQHE8txCtaAX5H2uWqK7kS/ysfhDyuY4pn/AOeMvS4Jf4oe/rJa0KMzUGGuWkPNc1JpW0aZayCJSFej/wCKL+YSI5qNLjjQTMCHkOfCEng/FUeC+GuOpbCHEuEplCg9G0FEX/5u/jZSSnPbND2zfpI/DE/LIa1pac5a91+kz9sP9vo9+VP7ZoJGpiIvCpiwSMR4f7l/saSSnPbND2zXo/8Aii/lkNcxLazbWo8r9Jn44XW6vmOEpwiVqMQ1+ifyOIJxJ5bW6vmKY/C+vQ2WRrdH6kG160S/xQ9/V8stRiy76LfQ2aTJaVMNqDzHKEReUv8A4ov5gUltRmklBUVCgpJtLQepHwdJ5LxHPh0lGtDL3KMpLYekkpMRH/k7+NlRIc902PdNhD6FnI/DE/KJLWky39Jn7Yf7QtxLYcPU428hYmiKWWv1accVzXH06I8P9y/2NKJLnumx7psJfQs3/wAUX8olNYP1mfjhdUhehuKjU4Fp1pQrlOBP5BJa1EGPwy15XFRpbEtGUw1iX+KM4lse6bHuW/R78UX83pLbDEjlj3LQff5giI0pfeRpYWSHELJwnEG0tuWnBymyCjN5xBaU/B2/FXv8OcjIWPZmEwyIERESi1J9mPZj2YajctbiNaGo/KUFJJRez/X0ea5pMtcog8zzR7MNRuWt5nmhlrlJdjcxTcXQt1vmIZY5RmWS9mPZj2Ybjcta060NRuWsGWovZ+rzXNSyzyup5k3TZa5SfRyLrWhOlJRMK9FxMqbToQcTUrb0UWpKIpoU83zU+zHswUPBhadSWo3LX6riJMezMIipT6Li61ezDLfKStCXCOGChhtlLfwlG/iK/d/dSf3eIrf+6k7+Ie/91Fv4h7/3UW/iHv8A3UW/iHv/AHUW/iHv/dRb+Ie/91Fv4h7/AN1Fv4h798iyNIwQwQwQwQwQwQwQwQwQwQwQwQwQwQwQwQwQwQwQwQwQwQwQwQwQwQwQwQwQwQwQwQwQwQwQwQwQwQwQwQwQwQwQwQwQwQwQwQwQwQwQwQwQwQwQwQwQwQwQ0gyx3CTkaCGCGCGCGCGCGCGCGCGCGCGCGCGCGCGCGCGCGCGCGCGCGCGCGCGCGCGCGCGCGCGCGCGCGCGCGCGCGCGCGCGCGCGCGCGCGCGCGCGCGCGCGCGCGCGCGCGCGCGkgaAZY7pJyNJDBDBDBDBDBDBDBDBDBDBDBDBDBDBDBDBDBDBDBDBDBDBDBDBDBDBDBDBDBDBDBDBDBDBDBDBDBDBDBDBDBDBDBDBDBDBDBDBDBDBDBDBDBDBDBDBDBDBDBDQMY7Bb+Ie/eSWfgBljtJT/AN8yyDLHbSn/AL+4MsdZb+Ie/wAOMs9kiyfwBRZLsl+vwEyyXUW/iHv3UfAj360fAj37CPgR79Jb+Ie/dR8CVv1o+BK37CPgSt+kt/EPfuo+BK360fAlb9hHwJW/SW/iHv3UfAlb9aPgSt+wj4ErfpLfxD37qPMUoklIu2Ww7cSnAqS8scxYRMkNhm7kIEa1jyPPVv1o81S0oCpQN5ZjUY1GCeWQTKCVpX5yt+wjzpVnHih++fWFz5Tg5qzCZDyA1by2hHv21htxDqfMVv0lv4h791HlzJzcNEqa9LV1wrV2MGXkSG/MVv1o8x2RgGZn1keA1Iz5qt+wjzFrS2mfcre7EeU7FXAs25peWrfpLfxD37qPKnTEw2nXVvudmFNXDcadS+35at+tHlvvdth7zFb9hHlqUSE2ViqYvspUaFVliUxvylb9Jb+Ie/dR5KlEhM2UqW/6KdQgEZH0KWlAStK/Wnm8l3y1b9aPKec0J9M4CZcdauhcuO2ojIy9GHNafKVv2EeXeTfU1EkJWlfSTrZn6MPKjux30yGfJVv0lv4h791Hk3kjQz6TXzYZM8nBkKad9Fq0IddU8tt1TSm18xv0gSPcxfKVv1o8p5etfpxHYOKkDh2euUx6cQz1w4244dsHGpXoyvQvylb9hHlSHiYZcWbixsH3lPrSo0Gw5zWvSwfM3BXvm6j0oJOFeSrfpLfxD37qPJtXebN9J7JvMCEybr3o4jmIcbU0pCFOKaRy2/Sgd/Xylb9aPJcPSj14khLaljhqEthn04khLkxhw7CW9M9Wj1I8lW/YR5V+9ojeh/qTzRsrIjUcdvlM+lgyaXRXMmhHpDd5EryVb9Jb+Ie/dR5LqtbvquMys0pSgvVbSHQhltrop1aZ3lK360eTJ/H6qSlaUVcJC+hdZCcWhCW0+sb8fkq37CPK4gVmR6rbS4SGW2+gyIyKMyR9EdWtjyFb9Jb+Ie/dR5Cv2nv3av8Az/KVv1o8mV+zvRf2+SrfsI8q+/zerUkZz1wf8PyFb9Jb+Ie/dR5LydD3o5Laac6lrJtLMhEgvSmRqneUrfrR5Mgv/X3oxf8Ar8lW/YR5XEKMPdD9iSRmTJH098wcSS2G5zzRsyEPl0MJ0M+QrfpLfxD37qPJt2eVN9LNGl+O5zWemzc0s1aMNelCz+nlK360eSstSfWdxGmLI+7FD7sUPuxQ+7FD7sUPuxQhcSpkyPVtOlHkq37CPKvWeZE9Z0o1KiwCItvV6Oh4nG3ITrDxPt+kBnny/JVv0lv4h791Hk3Ubmx/SZH9w1Cle2WRkZerrqWUqNc6Q2gm0AiNRxGPbR/KVv1o8p9GlfpN4dalv/aiB9qIH2ogfaiB9qIH2ogQ+G2or/owjWvylb9hHlOtk6280ph0SXOUzXs8x3pkMk81XuaHvSgi4LyVb9Jb+Ie/dR5JlkrGGcR/0lwSeCHn4akWqDH1JgOWoJL81caMmMn0pYWpXlq360eU6jmJ27jTfLT5St+wjy7uDzEiWyp9qIwbDXUUJZShEjKlvtNpZb8lW/SW/iHv3UeVKjIltSYzkVz0W2lwlVrCh9KbCK9hAIiIvSvr1TFpSSE+WrfrR5b7OrtsM6fMVv2EeZa1Zx1dlllb7kCCmE15St+kt/EPfuo8uRGblNzKt6L1kWThUylhCEtp8xW/WjzHWCWFINB9SUms2mCR5qt+wjzDLJT6TIWhTauqHXPzDhwWoSPLVv0lv4h791HmyKqNIDtE8kKq5aR9PlBFTLWGaExHgsRvPVv1o80yIwqMkwcZZDkrHJWCjLMJjEQIiT5yt+wjzn4jMkn+HyC6aYgfTpZBNXMUGqCQoR6WMwCLHmq36S38Q9+6j4ErfrR8CVv2EfAlb9Jb+Ie/dR8CVv1o+BK37CPgSt+kt/EPfuo+BK360fAlb9hHwJW/SW/iHv3UeRcWn0mMnjb9a6yYs2La+j1Qa41Sa48hqWza8TsV71dxWU2TdXH0hH1svo33sgQeLETZdrxIVZMt7k6pmrsE2cOVxMTFjc3pVC/vZAiSPdRvHVv1o8mDxS1LnXd19HSdkRVX3sgUt4m4EbiYpFndXP0dH1xP0b72QIHFaJ0y34m+mS4vGbDi0qJabq7TTlTW6bdi3s/pUWns/q0XyFb9hHkHxQ2izuLT6TGg2Xva772QKfiFNtItbyNVEXG3/ky5zmrq8TUCntU20eRxghh/72QJN2Uepr7g7CvqOJE2km5uE1DTNxzKj72QKa7TceQrfpLfxD37qPI4y/jYzkD7b4K1czT9V4g4iqYqavgt9RtTNVdd1dnVWL3Gv4OHmm36Hi2KxFkVFfETD4s/mbuJ7ul4RnEyzw2yc+641/PAtapLSEJbT46t+tHkr1E/dWZWdcv/AFOomw4SqRyJJi1v+z8bfg4eZbfoeLYrEWZU18RMTir+b4qRFblUza2qu4zb8RcKPnEtOMf4rg7+L8hW/YR5FuRnbS7T39BRf63Vyo0SRQyIMxGDuL6VGp4DMaQ1JZtM3HEXCMg49hf18RNZwjDjyhxWhLVLwb/GkX0fiPit45VpZRyi8O1E6HDOlciSInjq36S38Q9+6jyOMv42l4bZs4cGAxXMP6qe/v8AiCHIruDIqkR5VvSTQ2SPq/Gv4OGf4XjX/Kqv4ziz+ZQWWZiHKydwhE5MDjX89fK4faisPIks+OrfrR5PDzKJFvZQV10xf+p0TlY2qomVz6OZ9M4i4pto1iXD7Rs0/Gv+dV/x3FP83xDGOutEWLTlZXrnnLU7KhWnFyiXUcOXcKvgxJbM5jx1b9hHkMpJXFl5WnWTaP8A1ulXBbl1E2qWqQS6W94lt4llEo5BReG61c8pKXZMC2vzJVJwSOLv4jg3+N4zi6XeH212V3ffw9E5WNnUzK99vx1b9Jb+Ie/dR5FlWs2jFfAarY4sKmLZpa4QgIWhtDSHuEYDq66hhVqrOpYtUQobcCNZ0ka1WwymOzYcPRbGSRaSsOHollIjsIisWdLGtVfZ9eI0dEWP46t+tHkwaCLXy7OljWoOvaOv+zq8VlLGqlWVHDszj8JV7Dmws6KNauMNJjsz+HothKsaqPZst0UdqvrKlipRZ0Ua1ck07EqD9nV4gQmq+N46t+wjyEUEVFjZVce1ai17USF9n14rqCJWPz6yLZI+zYOVU8Y66sqmKpqzoYto65AbdgVdOxUixr2rKPW1rNWxYV7NlHq6aPUiVGRMj/Z9eKymjVR+OrfpLfxD37qPgSt+tHwJW/YR8CVv0lv4h791HwJW/Wj4ErfsI+BK36S38Q9+6j4ErfrR8CVv2EfAlb9Jb+Ie/dR8CVv1o+BK37CPgSt+kt/EPfuo7E+wTAKFYJmrmWkOAcO1hz1dJvtE92HJ7Tc3oWtLaIdw7NX2/ra3XpNwbcplanWuhmel6f6Vs9NiwK2emxY7Kt+tHek2iI0uDLKdERKZXI9XXW2G0qJSRCsEzXemHYJmP+s2UUKLHe9ww8+1HR2Jc9qEr0mT0w3wp9pDvgK37CO087yWY103JdXKZRIkSGorSVEtPRKntQ3Jk9MN4TJ6Yj3ahz2p3W44lpv7iqxFsos4q2cVjF8ZW/SW/iHv3UdiVDbmEzFbhjhxhMlsjjJkyJM+RbT5ztXXOWE6uOaT6mIc+U1Zz0yF8RxkvoZupzlfBr0TdU2xkO2FVYPuS1SLGZZ2UyTXN2M11qW/McRdWE6Sc2G3LYS3YT7FNRPOxhW38XRtTyivTJs6fXTpPvHZFhKtWScS1OJ82YE6UiynSZy7avmS0WAnpm82mnuT4lC1PUww3Mcu5Ur6fXm7dpiuWWqmqysniXLnWE6mJ9N1PTO5tNPXYQ6Rmzch1FgqfH4X/jUWE2yVTWCrGJ1q360d52A09JiRkQ48L/ZYk1162hzXXrRMydYTr4llQ1bU9KRAanuzKie9JUmXYWsipsHpCyl2FpJqZ70hcaxTAlJffh1x2FmcR62Q1UWKLddTW/x/FP8AFQmp6Dg2rh18O6cco37N6FTyH7esabWTiLyZIhsrk2VXJt5jsRy3sHYgcftIEviInFSkSrCBYXKXlXKnJUGvq12ExPeVv2EdpaCcQxVsMLuJKYl7d3bMqskTirqh126ixp1iaKeuRYmG5FnPm2Mt6K9xFzTkrlWNVIu/8+4sVwWynzIMsWE6SdnH50eM3YWM5mNZHKp6pVnLRHnPfWIE16XYU8xyWTMqyt1WE9yrrnbCfXldWDsNMBuYj0MsldMtpnctDaKZu0+lwbMpNWmwspMaullPhW8pyFXVyLEx7uws5NVPefc93Ps5VVPefdS/Zzp0OTcWTdNPVYQu0rfpLfxD37qOzuIrj3Dy4TxzuIGGllxHxDBcmwo51LznELS1KiJjuXlkpcK5iSimM2D7cePWoL6vYQ0RraoKAtde0tN1YxCnQqJmTIkSmlnxDYJegW0Se3ZJix4lcmuQwmLaJNdbUpUis1rpbOuS7OtYbS0344gaUp+AmOu8U0v7l5S/uULQyzY8NNm3E4caW1CrWlpuLeGqfXKt3VwFwlxeHKxJorkuOUlhTrOTbGhhiw4abNuFU2X0yLRRHmGOHSWy0xFi1qqxEcovWrfrR35tumA9TJdkWDri6m5pVKfs7Z6DKN6NLk8N1domQQhziq5dKw+qRFfXQvUzLzkqM+uhfpmXnJaKdcuUk3riojfT2GbKv93TzLY5FXXpNEHiGM5JrK+1ROVZQZH1SdXvnZ3sJ2VDnWTltEYa5DHEDS3UcQNLdRetLcduokhTs6a9Ln3DS1zrdpa7C6JyPPaskPxFcp6d3lb9hHcmNLVxBxC2t2osoLk2lk2zsyDYQ1s8ORCMotO0tE+5aW5Lv9SH5T6756+S4ly/hrltQvpT8kW78E10jD666I1Dgt8psqekQpuqvmnmV00M4UChaWhMCUuiK4jrtqpg6l1Vo/HZaokKTOiTzlSBctLcmq/bw80tqop4i3KCKiFEZhobRGv0KdqIpGUWO8uhkU7LzsyO8uik1DLz02paWixomltq4caW1D7St+kt/EPfuo+BK360f82bFdlIj0xpk+GrfsI+BK36S38Q9+6j/gTXnY8ZtRqb/wCArfrR5Hvm/fCdNbr2NxWznJcgQpD8j1tJ7sN31kTmo0j0sZCokGC8qRDsH1xYMKzkPzvGVv2EeLVznJjkOQ++YenNsSux75z611185yVL7LU5t6X3lb9Jb+Ie/dR5s9pUy9Y51VbWDapl7aNnX0VlPchU0Sl5K7ielVnTTCTaearfrR41wqKUeplIRby4vvOJIzHtmeKf1qoNcUM4NamfOoH3lJonnHUw+VIeHErfNcdZcprC4eeclyGnKKRfNc+x5ZVEFMpl+K5JXM4Yqv4xaEuoTHaQvxlb9hHdhS1Q5NPZvNwK4jbpHpcWI5xEt5DVOiISRBjuXp8NI5R0brjq66Gdm5dMe4tn69bVY/aLc4bYQbTFwqKUeplIRbzmlTb6v5sG4f5trcQovs+JBXuuLua91xdy3FOztaN15LseIdnYU777cul/kZE9mZY8OzFPHZKrjfgS5Urh+mKI8u5VD5dHKL6m8wqwvqlTsayRCKbfNN8pvuq36S38Q9+6jzZ65LfEcaJMl2S4bp3lzGcmVs2t97VxX7clT4MpufBdmuqaVO+oeYrfrR41vCkOyY7E6Rbz4sxqziLfWzcwV2ECA9YrVVwnosmrhPRZNRDehpsGbOzZZRymbaE9LetYT0p+2gPvOnFn2sm4hyHlslJnRoqLetalR3JldCTPYqYRyFRfHVv2Ed26qH5sq1pXZUq2gKnV0uPaTo852Y0VXAkJsQ1Fsah2kiSY4qYbsRVPDehlbw5LkiE7KcbYg6r8W0KQ7JjsTpFucN3677N767LhTI1jCjznbcPxZ0OzqYstE2BDeYsYEN5ixhvTmbKpgPsuwokqJaLhzq+dCXJcbixbKsRWRpUCnkRJ9o/ZQpX1CDHmuWzUN5F2xDdRdPRp8O0lLsPYI1aO4rfpLfxD37qPN9mycv8A4it+tHwJW/YR5MqK3MZiQY8FvuMQ2Y7nlK36S38Q9+6jouZztdElTWocT3raoFVKcmwES47jg5iCXrTr5iNcI5POpn3Xn6qQ67Yh2SwwKiSuRMeksRwlRKKM4uzfY9z792Q0wGn2nycOT9RetCYtELS4kpcdTnEL7ses5iUJW4hshImKZv2n2nycdQylp5p9IjT9FuhxDqXpDUckOIdS7IajkhxDqYb7q7xLiFiuOQbSp0VKtw7LjsqStLidgibGdWCnRTUtxDSWZLEgPnJ9+7IZYDT7T5Ce7LTYVinF1/qrfrR8CVv2Ed+1uzq502ZyK6E8cmJ7yPzJ8n2cOHOalshDiHCS4haULS4lEuO44pRIJqXHfVCt0SV3clcdxqSw/wCkmzKNZTX/AP8AnVM9pyCClxzcC3ENJRMjOBqSw+FrS2lmQzIDr7TBNSGXwtxDSWn2pBJcQoycQaxGkT1I76t+kt/EPfuo6LiP7qsJ/wCrR1yDiVF0a6+gkQ3FRW8m3eF7aU8+v69V/wD1WtJ/m0P+RTfygqIjFm7w+0hiXFUcuXw8zIjtUMCLJbgf7DaMtyL447dfxDI/2eZHalcS3WK2lchKXAvzWdDfRlSKuZITbOCdGalcSOx26y9tVqfva1h9u3EaFHl31c2UG+iR2rO3gIKDfRY7dncQEFAv7CY/Etq2NHixOGf8KirYkyDQvrTR0tdFlVvC/wDDy32o0ayNs4XELq/Y3tZDhwLaTGjx0f8Aqu5/+w2bLci/9u3X8RdSt+tHwJW/YR356EucRTVKqIz8hcbhf6HC+j+4XJ4TqIEVuKGpH0kRX11dTZJXW8O2lPDi1Vs8qRwxBgRY6KeBFlPcRNpcXYw2K6wFiw1J4hmx2o1SmriL4blTHkcLrhKcrovMONxQRKhXVZDZflxGa+5tElNurCM1V2Fy0h+4ejNV99drU9cQmH0XB/8AwcRURe4f8FW/SW/iHv3UdNVRorH5lGiXZTYjc6MzXWjPpOiJnRE0iCqK6EmviQa/2b8StXDnMVq41kHah9qTV1rkE3Kh9qTDafaZrIH09tiv5Ni/X86xfr+dYuV/MtLCsckSShLegtVlmwVlBKxh+4brovDkFKXRPrJD82HUrRLsKs5T0KPOaWHaqYmdXVfslSal73ddWezXKqnfd11Z7NxusJM6tr1VxVlf9OZq6/6dHrK/6dFc+nR08OMrYqJkVE2K7SWD8a0biHAmIQ+LOt9+hFVMcmP1/OsXq/nWL1fzrFUWQdj0q360fAlb9hHfer+bZ2la3aREQUfT/ok3knBZ9jX106GoWFKifNm0qJlhNhtz4x0sx9FhXlNgIToQqolsyZtecw59f71Ysqxct5MSQuAmv01Tdcj6a1V2cdIs4H1Fmwr/AHyplf7qVZVnvjYqX1S5Vf7idKr/AHE6xq/erhR57bnEEiLLYgRChQ66LIio8BW/SW/iK37qPOcabdGMeF7ZjV6qSSybYaa7it+tHwJW/YR/zyZaSvwlb9Kd/EX+7uo+BK360fAj37CPgR79KP3eI53i/Q/hKTwfwA/0Lsp/Q/gB/p1t+KvbvJP4Ao+0lWfgCjz20n8AUeetG3in+nfJX/dyDV3CX/3TMiBqz3SV/wB3OAas9Zfr46y8HIyYyYyYyYyYyYyYyYyYyYyYyYyYyYyYyYyYyYyYyYyYyYyYyYyYyYyYyYyYyYyYyYyYyYyYyYyYyYyYyYyYyYyYyYyYyYyYyYyYyYyYyYyYyYyYyYyYz4GTGTGTGTGTGTGTGTGTGTGTGTGTGTGTGTGTGTGTGTGTGTGTGTGTGTGTGTGTGTGTGTGTGTGTGTGTGTGTGTGTGTGTGTGTGTGTGTGTGTGTGTGTGTGTGTGTGTGfByYyYyYyYyYyYyYyYyYyYyYyYyYyYyYyYyYyYyYyYyYyYyYyYyYyYyYyYyYyYyYyYyYyYyYyYyYyYyYyYyYyYyYyYyYyYyYyYyYyYyYyYyYyYyYyYyYyYz2UF5Blj+5yLPkqTn+50px5S0/3KhPmKR/caUecpGRt/b+4SjH/AADLINH9ukgEWP8Ah4yNA0GNJ/2rpMaDGgYx/wDoJ//EADsRAAEDAgMGBAUCBQIHAAAAAAEAAgMEEQUQEiAhMUBBYBMwUHAUIjJRYUJSFSMzkbFxgTRDU4ChwND/2gAIAQMBAT8B/wDgV9lZWVlZWVlZWVlZWVlZWVlZWVlZWVlZWVlZWVlZWVlZWVlZWVlZWVlZWVlZWVlZWVlZWVlZWVlZWVlZWVlp9wgOwCPb8dgn2/b2Efb5vYR9vm9hH2+b2EexSQN5U2JMbuZvT8Qmd1sjM88Stbvum1EjeDlHiUrfq3qGvjk3cD2IxjncEyk/chCwdFpC0hGFh6J1J+1Pjc3j6O3nqbDpp94G5Q4HE3+obplFAzgwLw2fZOgjdxaFLhVM/wDTZVGBvbviN1JG6M6Xi3OnsSoqWwjep6l8x+byKaufFuO8KORsg1N7Bhpr73IADcNsi/FTU1t7fRm84xjnnS3iqHCGx/PNvPkVFNHO3TIFXYc+mN+LecPYdTUCFt+qkkLzqd5VNUOhdcKN4e3U31+ng/U7y6iD9TfRW821pcbBYdh4p23P1eU5ocNLliVAad12/SebPYTnBouVUTmZ+rNsT3cAiLcdhrHO+kJzHN+oZ4fUaHaDwPr0Eet2xrb99kvaOuxUR6HbvRG83gtH/wA93+2b3tYLuNlHNHJ9BvstqYnHSHDOeFszCxynhdC8xu6c0ewsTm0t0DrnRQiWSx4IC24KtpxIwu6jNjdTg1RRNjbpapI2yN0uUjNDi3Oll8WMO9dgZpbnUyG+nKmkLhY51MmkWGVNIQ7TnMzU30RvNQRGWQMHVMYGNDRkTYXVZVvqJC53BRyOjdqYd6o6jx4WyZ43WOMngt4DLBax0zCx/EZ45T7hMOaPYVc/VMc6GYRyb+uVZMI4z9znG7S4OUbw9upqe8MGpylfreXZ4VJxZ65G3U4DYqWEO1ZUrCBc51TC4XGVMwl19iVulxHobeawOLVKX/bMi4sqqmdBIWOTWlx0tVDAYIGxnPG6VzJvF6HLA6V0bDI7rnVxeLC5nNHsJ5u4nYZUSNFmlOcXG7thkr2fSU+V7/qOxh7rTD1ylHz7IiYOmyYmHogLbFUPn9DbzWBN/lOd+diWFkos8XUVJDFvjbbYc0OFim0FO06gwbNQ3TK5v55k9gnh59D/AF2+uUn1efV/UPQ281gf/D/77ZkYOJQcDw263+u//XmT2FI3S8jOOlke3W3bYwvOkKaB8Rs7PDm3m9cpj8/n1R+f0NvNYC/+W5uwTbiqzHGt+WDf+VqrKvhc/wCEMFqj0/8AKdhtZDvA/soMXqITpk3/AOqpK2OpbdmzM7VI53MnsLEI9Mx/OeGvvFp+ynj8OQt2sNj1SavssTfd4b9s8Kj4v9cY7S4HYkqdJsAvjPwvjPwvjPwvjPwvjPwvjPwmVWo2I2JHanE+ht5rBJtM+j77GL4iXu8CPgsOwcAeJP8A2QAG4Z1VFFUCzwp4JsPmuFRVTamPWM66XwoHO5o9hYjDrj1DpnRz+E+54KspvGbqbxRBG47EUTpHaWpoZSxKR5e4uOQF9wVPF4UYb67Tv1NzfTBxuvg/yvg/yvg/yvg/yvg/yvg/ymUwab51D9LfRG81FIY3h46KGUSsD29cq+fwYHPCwWl8WXxHdP8AO1XUwqISxYJOY5/DPXPHKm5EI5o9hEXVXT+C/wDGdJWmL5X8E+GGpGpPwt/6Sv4bMo8L/eUXQ0rVU1Lpjv4Z4dTXPiu9eik0Ougb+ZNJrd6I3m8GrdB8F/A8MsTpX1EOhnFYZRupotLuO23CZG1fij6b3yqqltPGXuUkhkcXu4nmj2HPC2VulymhdE7S7Nj3MN2lNxGUcd6/ij/sn18zuqJJ3nOkpDMbngmtDRYevwT6flPl1E+r5W+it5zDMSEo8OT6v8+VLK2Jut/BV1a6pffpzZ7EmhbK3S5VFE+LeN427XVNhxd80ia0NFh2DFOWbjwTXh3Dbc8N3lS1BduHD0ZvOA24Khxn9E/9014cLt26vEIqcb+P2VXWyVLru5w9jTUMUm/gn4W8fSUaKYfpXwk37U2gmPRR4Uf1lRU0cX0jsQEjgm1ThxQqmFeMz7rxmfdGqYE6qJ4IuJ4+jt56CqlhN4yocd/6rf7JmL0zutkMQp/3hOxKmH61LjkLfoF1UYvPLubuCJvx50+3zewj7fN7CPt83sI+3zeYuictSBRK1ZEoFalqV1dAolXWpA8wfb5vMFX3IcEEF1W7I8U1FNRTV1RXRBDmD7fN5jqihwQQXBEocMympyanIIoIcwfb5vMWVstKsrLSrKytkBsAZaVbmD7fN7CPt83sI+3zewj7fN7CPt83y789fmT7fN8uyPFE5b9k5FHbGY2DsHIK+ZzGQy3oeWfb5vmdUcrrpkEUVxRRzKGYRQQXBHIoZnIIcMzlwQXBBBBDyz7fN7CPt83lR6afb5vnDMoZcUEMjlfdkUF1z67IyCGQy6IIoLqguvnn2+b5pCIRzGYQQRy65HPrsjYHNH2+b2Efb5vnk+bdHO+Q9APt83z+uXRWXRDY6IhHhkEc+uVty6ZlEZHIrqjl1Q5I+3zeQOVtiytlbO3kW2bK2dsjyZ9vm9hH2+b2Efb4f9gIPYBPuCHeu3RPuJdXV1dXV1dXV1dXV1dXV1dXV1dXV1dXV1dXV1dXV1dXV1dXV1dXV1dXV1dXV1dXV1dXV1dXV1dXV1f/ANMW/8QANhEAAQMBBgUCBAYCAgMAAAAAAQACEQMEEDAxQGAFEiAhQRNQFSJRUhQjMkJhoTNxQ4FwwND/2gAIAQIBAT8B/wDgDUKFChQoUKFChQoUKFChQoUKFChQoUKFChQoUKFChQoUKFChQoUKFChQoUKFChQoUKFChQoUKMUlcylSpUqVKlSpUqVKlSpUqVKlSpUqVKlSpUqVKlSpUqVKlSpUqVKlSpUqVKlSpUqVKlSpUqVzKd7gbAIwnHYAM/8AjY4J2CDvUbCOA7YQ3o3YRwHbCGW9G7COA7YQy3o3YRwHbCGW9G6wCewVOwvd+rsmWKm1CkwZBcoRosOYT7DTOXZVbI9n8684DtbXtNOiJeVW42cqQVTiFofm5Gq85lCq8ZFU+IWhmTlR42cqoVC1U6wlh1wy9nfXaxOtbjkjVefKkoPcPKbaHhMtYP6kCDlsZuro0HVT2VKg2mO2BXsjancZp7Cww7WnAdrLdxUM+Sjmnvc88zj1teWmWqw8W5vkrZ/XWjL2UmO5VW0k9m4DHlmSpVw//exW6qhQNV0JjAwQMKvQFUQnsLDynWHAdq+KcQj8mn/3h8L4h/w1P+tYMvZCYVatzn+MIGFQrc4757EbqQJMBUKQpti91RrcygZy6HODc014dkb7bQ5m84zGsOA7VcRtfoU+2Z6HWeq0SWnpbZ6rhLWlERfwy1+vTh2Y1Yy9ktVX9gvAnJFpGfTyO+l7XFpkJjuYSNht1NgpS7n+l9srGnTkImc1Y65Y8Dwb3u5WlyqVHVHczlTqOYeZqpv52h19op+m8jVnAdquI2j1qx+gv4NZGin6xzN3GbI2k8PZkb+D2RtaoXPyF3GLI11P1hmL7BaPRrA+NWMvY3u5RKJkzfTphghEA9iqjeV0X2amI5rrTTDTIvsj/wBuw26myM5aQvttI1Kfa6yUS+oL3t5mlqewsPK5MYXGAqbORobfxBmTtWcB2ptVT06Ln9HBrS11L0vIu43aW1Him3xfwW0tpVCx3m7jFpayj6fk9Fiq+pRa7VDL2O1uhsdDHhwkImFVdzOm+zPBby3Wp4JgX03crgdht1LBDQOh1Cm4yQmtDRA6H0mv/UEykxn6R0W0TS1ZwHanjDos8dDXFpkJ1utDhyl56W26u0coeU5xcZd0cGdNCP51Qy9jtZ+YDoa4tyTqjnZnolGq8+elhlo2E3UDPHtf+I6s4DtTxr/CP94/BP8AE7/eqGXsdr/X1wcCl+gbCbqWGWg3vtNNjuQ9b3Bo5iqNdtUS2+3GKWrOA7U8XbNnP8Y/B2xQn66oZex2sdwemnZZ7uX5dNfiWL1qbk6zsdkqlMsz6WiBGwm6mxP5qd/EGRU5lQqc7A7q4hUiny/VcOZDC6/iD8m6s4DtTaKfqU3MREX2Xgxq0xUc6JXwAff/AEvgA+/+l8AH3/0vgA+/+l8AH3/0vgA+/wDpWngppUy9rpjostL06TWaoZex2pstnos9GBzFVrT4b0MqOZkmubVaqlPkMX0m8zwNht1Nhq8r+U+b7VQ9VkeVZLR6R5XZIGe46KlRtMczk4utNVMYGN5RcTHdVqnqPLtWcB2q4pZ/SrSMjfZeMPosFMiYXx932L4+77F8fd9i+Pu+xfH3fYvj7vsVp4y+qwsDYm/hln9WsPoNWMvY3CRCc3lMXUm8zgFaX8rYHVSfyOlWlstm+yM/dsNuqs1b1G/zfarH6nzNzTK1WzmEziTf3BfEKSqcS+wINq2lys9nbSHa+3V4HpjWHAdqrdZfxFPl8pzS0wcMAkwFYLL+Hpx51Yy9ktVKfmF1B4Y6Sq9TndI6/wAQPT5bqbC8wmiBA2G3VUqppu5gqVVtQSL3Ma7s4J3D6RyXw1n1TLDSb4QEZX2m0ikIGaJJMnWHAdq+JcP9X8ynmiIwuGcO9P8ANqZ6wZey16HL8wywmtLjAVKkGDYjdXTqupmWqja21O3nAr20DsxEkmTrTgO1lt4a2v8AM3s5VrPUomHjro0H1jysCsXDG0fmf3drRl7NVsvliIjPrp0XPVOkGDtsVutp2uoxM4g0/qCFrpHyvxFL7kbZSHlP4h9oVSu+p+o684Dta+m14hwVbg1N3emYVTg9duXdGwWgfsQsFoP7EzhFodn2VHgtNveoZTKbWCGCNcMvZ302uzTrJ9pRszwvRf8ARCg/6Jtkd5TLM1ux27COA7YQy3o3YRwHbCGW9G7COA7YQy3o3UFc10rmulSiVKlSpRN0olTqTgO1PKgJULlRELlQEqO8LlXKg1ctwEoiEBKIjUjLejdQV4QuIQvcgigiiggnao4DtUAvKKKOSajmmolNyTUUOwTk1O1Iy3o3UFAXkoKbnII3G8Jy7ak4DtSckF5RlFeE0I5pqKbkgoRuaiNSMt6N1kXQoUXRdF0XQo1JwHamUDClcyJlArmuBi6UCpRMoGFK5tSMt6N2EcB2whlvRuwjgO2EMt6N2EcB2whlvRuwjgO2EMt6N9gnElTpTgOxowY6o0UaMZb0bhDr83HDCKGGEL+/QLghcLhgHAdoPHQM0biiLiskQougKEIRTboUd1HddrhcEAuyFwyuOOMt6NwsrvKNx6xeF56h0m7yvN4QuKleLxcLghhHAdjwiswigvKIvKzRWaKlZG4HuoRQRCClBRFwQQQuCCChf7xxlvRuwjgO9unSDLejdhHAdrD0jrFwUacZb0b7FCKGuOA7TBHJeLmqVKKN7Vmgs0Fnd5R1Iy3o3W+bz7EcB2mC8XhFFFFCLgggskLu2rGW9G7COA7YQy3o3oOEOgYZ9lOA7YQy3o3oN5vN4QQuCFwQ6PK8o3FG/wA4oQQQQvKPT56zgO2EMt6N6YUdMdUXRiDDjAF0YxwHbCGW9G7COA7YQy3oNhHAdsIb0GyjsEb2B2AThEbAaN7z78TiFvvsIN33KlSpUqVKlSpUqVKlSpUqVKlSpUqVKlSpUqVKlSpUqVKlSpUqVKlSpUqVKlSpUqVKlToYUKFChQoUKFChQoUKFChQoUKFChQoUKFChQoUKFChQoUKFChQoUKFChQoUKFChQoUKFCj/wBNg//EAEgQAAIBAwICBgUICQIEBgMAAAECAwAEERIxEyEFECIyQVEUIGFxgSNCUFJgcnOSMDM0YnCRobHBFYIkQEOQU4SgorDRdICD/9oACAEBAAY/Av8A4xXb+Ku3/pb+xyFd5q7XMVkUTXervV3qwTRIrtHI68Z8aJrvV3q71d6kIO9d6sE0uk0Q2/WMbmjqNGu9XervUATyokV2jkVkdRGfHq71d6u9XepSfWwp2rnv171kdWFNAnqJrfl15WjqPXgms9WlPjWpjyrJrlyrvNWH/n1EA13qy1Y3Nd7+Vd4/GsHkf4WGufVqQc6IYEU3uoVsK2FbCm6tB+HV8erYUMCmyK2FbU1DlS0D1n2cqaj7qWthWwrYU3VoPw6m9/VsKGB402RWw9YmvbWPP1PYer4UvVp86z4Vjy6vjTdeRuK9hrPidqxWBS0T49WUXlQDDmKY462oaawRWQp5H+FhU1/mvOufKsim91aq7orujqaip8qx4ivb418etabrb30KXqFE9TUfdQbyruiu6OpqwfKsV7RTe/rHvpvXC0W+FGg3UPfXsNaD8K+FL1GtPiOde/q+NN6mRsaHjXtPVjxrxFc+dc+XU3XrWvEV2l/lXI/ws7VZWua1qU1p8DTe6gDXdru9TV8KyNxWa+PWtN1t76FLRPkaK+dBaZvM01H3UAa7td3qbq5bis0T7ese+m9cmsDVWWzRTqHvrBr2is+ylo1yrduoGvjTeo1DrwayNq7v8qyDkUV8qbrxXMZrlyrHiKB/hXy8K9lb1pWtVN7qBNb1vWAaavh1ahsaHWtN1dqiRQUHnS0wr3Gs+dYpqPuoE1vW9YBpuvWNvUHvpvWPtrPl1EV7uoe/q1DcdS1p8qz59QbyopXxo6q3rfqb3eoHrSdq3rA2ok+NMnjWTWRX9q7fI1vmvaaA8v4WZ2Nd6u0c1gUR513679d+tWrNFazqz1YNd7rAzijzz1DnjFd+tWrNDnjFYzmtWcUG1ZrTnFE5zRFd+u/XfoNqor51q1Z6sGu914zijzzn1h2sVjfr1ZxQBOazq68g4oL5Vkv1kUG11jOK79d+u91FfOtWrPqcjiu8KyefUW1b136xnNYYVyaubVy3/wDhutq2ratq2ratq2ratq2ratq2ratq2ratq2ratq2ratq2ratq2ratq2ratq2ratq2ratq2ratq2ratq2ratq2ratq2ratq2ratv8A1SuWIArEQ4h/pXJgg/drtSufjXfb+ddmZ/5129MgrGeG3k32E5muyK71bmtzXertCuR+wuGbU31Vr5JVjH8zXanf+dd9v512ZXHxr9ZqH71YnTR7RtWpGDD2faHLc28Frtnl4KNv0AV+3H5eVB42yD9gcLvXP1+VYf8An9gi7nCjxopBlE8/E/oNUTY9nnWnuyfV+z+o82PdFF3OSf0Woc1O60JEOQfp/Svx/R6W+H2ALMcAVpXlENh5/ogynBHjWluUq7+37Olm5AUZDt4D2deGdR8a5ep2mA99dlgfd18Fj2H/AKH6e9p6+daVnjLeQb1dLzxq3kWrI59ftH0/6Kh+/wBeSQK7LA+71cB1z7+tZE3FLKuzfZxYRu+/u68rueVZNBc9luWOst5CtTGtSnFK/mOtH8dj9gPRUYhE73tPU0Up1NH4+zrVIjh5fHyHULZmzHJsPI9Y+nnlPzRmi7bk56yTt4CsqcGlfz6+EDyHUVbdetrc+PaX7OP5L2evs7jn1L5LzPWy+YoqwwRQVRkmlTyHXJF/u+nCfUNyB8nJ4+R6nnkGOJsPZ1pLGMmLcezqWfHycfj7fUB+nVj+ufUKmsDelU79fE+a3UXb53XHJ5H7OO3mfUy0ak1hQAPU7ag12EA9RfaCPsBpYBgfA1rW2jz7vV1tbRlvdWlFCgeA+wMa+S+phlBrsoB6mDWRGvqxt5qPs0f08X04Pf8Apz7/AKdH3B6+4/QQ/cH2bdfJj18Njz9cs2wrKHbrB+qCf4ERP5rj1dMXP2185q2H86yAfgaw/a99ZU/D1UXyUD7NsfB+116vrClb2eto8Wpm+seuSX/aPpwj1GhSHXp5E5xX7KPzV+yj81fso/NX7KPzV+yj81fso/NSxSQ6NZwCDn1APp0OPmH1OEm3j7a1y7+XqdofGsg+41qHx64k9uT9nOIO9H/brwO8OYrQ/dP9KyNvU1Oa9/8AQUEGw6gBuaSPy3+nff1tMsrRltxjNftTflr9qb8tftTflr9qb8tftTflr9qb8tLM0rSaeYGMdfu+nmjbZhimjbdT1M3jWs7L6xXx8K0fW62uGG/ZX7OYNEfMPNevWnJ/71p/oa7aEe6vnfyr5NP51nmfb4CuXNvE9fpDjkO79PY/S+36f9IQdpe97urSu9Ybc+vrGNOc9QjX4nypY15BeX2dMb/A+VaJB7j59eGUGuWV91d9q7ur31gcuvJ5RDc+dBVGAPp/UN/0ept/sCZoh8kdx9X9EI4xljWN3PeP2f0SDP8Aisjtx+Y9fAoPcdlfq+JoKowB4fYHI5GuY9fkKyeZ+wWDRktvyVpYEHyPr9kaU+sawg5+Lef2izp0N5rXybq3v5V+pJ91fqH/AJV+qx7zXy0vwWvk05+Z3+wnOuXKvOu6a7pryrtHNcvsLiVA3trMMvwav1Yb3Gv2eT+VfqG+NfKMif1rLDiN+9WB/wB14TcLiZbTjOK7Vny9j1xYD7CDuKCMDJKfmCvlbQhfNWzSzQtqRtjRgSMzSL3ueAKS3a1Ks5wCGzUbcHiazjfFf6lwTj6mfbiv2Nvz1Fb+isvEOM6q9H9H4nIHOrFRS8DiLJ+9jFLcKunJwV8qNlHbcQ6gmdXjUamAyaxnvYr9jb89RTgaeIobH0z6K8PCycBtXjUR4PE4mfHFf6hw+XD16M1+xt+epcQmPh48c16F6MR2ymrVUbcHicQkb4r/AFLgnH1M+3FfsbfnqO29FZOIcZ1UbcW3EIAOdWKC3Fu0QPzgc0GU5B5g1H8nxGk8M4ppAnDKnBXOa4/D4na04zijPw+HhtOM5+mjZyQ6VD6OJqoT8PiZbTjOK9N4enkTpz5V+xt+emhEBjwurOrNASZeQ7Itc7Ps/fpJMEahnBqMcLis/hnGKMoTQVbBXOaki9EY6GK51V+xt+eo+kOCW4mOxmpbpYMGPPY1b8qMHA4R05Hazmkcx8RnOAM4pukWg0gZOjVvX7G356lxCY+Hjxz9mY/xP8VIk3C9IydI+dmrr6uB/OtMm0k2D7qeSKFI2iwQVGKuIDspDCneeLiYlL6W2YUpjhSK5GwK4NW33jUMcqB0Ocg++oBBEkYKc9IxVrMLeLi8MHVp57UfuLTqB2lUOPhV3G55IOL/APdG5fnozIffVt901BBL0aHk5KXwOdBEAVRyAH0y7LnKtnI8OdWTn9apZXHt5V/5cVIbu19IDYx7K9ItLZYAxwRjypfxm/zVr95qhjlRXQ55H31CsESRgx5wox41bTLbxCXhg6tPPaj91ahS3RFfR29NWySd4JS2qnsqRH/91LaP88EfEUv4gpvxT/j6ausf+I1RxSH5aGQA+0YPOv8AbJ/mi91b8dNONNSTWtotuVOk8q0yE4klx8KUXEMEabDK0JYHDxnYivRlPZB4f8t6ltH+eP6irqcW8QlxnVp571c8eFJMacahmgiKFUOoAFSfiH+1AbKsv/tNR2yc9AC/E1LAuyRYqT0u09I1Yx7K9ItLZYA5wQB5fZmP8T/FC4kmde0RgVwYFwPE+Jou6nCS6/etNBbSa3lx4bCprhhgSHC/Cnhu8HQSO0v9jSCx1aOKOH51bfeNQfH+9W/3D/erX8Jf7UfuLSg/Vq5gU43T/aaacjnM39BVt901Bx0XjqBqOg70k0ZyjjIP0zNFIMo6ODT27+Gx8xX/AJcVL/qSgjA0ZGaaHo/AVOZUDFGSUHSkxJ91QJbPrCZJOKtlbkcZqD8P/NW34S/2o/dWkuUHZkxIM+denDuaNVNeWkTSSA5J053pLm5jMcuviEYxSMNjIp/pRiuJCr6ye7mhPA2pD9MlSMgzN/mmjH6pu0h9lf7H/wA0T0gAYtPiM86a36PwpPaICkVrK9yTWPatQC3kywbJUjblXHPzA5/rTXdnE0kg3OnO9JcXMZjk18RhjFXJGxUf3q6/2/5r/wDoKk/F/wAVDdD5w0GhPL2tHyjVdfcqX/UVB20ZBNND0fjTHzK4x9mRDMWAB1dmuBCWK5z2uoCdOY2YbitTNLIPImhGihVHIAUWVpkz5GuJGpaT6z0izFxoORppLeLOhfOkeZpAUGOyaSFM6UGkZr0iVpQ2Mdk0B5Vx5TIr4x2TSQx9xBgUjTmQaOQ0mu9P+akgjzpQYGfpk3MTSFznc0hm1Bk2K16DluFo0e3Fd6f81O0Bcl99RrXMpWT6670HbiS48GPLqSSZpAVGOyaSJe6g0ivSZWlDcu6aWKbV2TkFd6ksRJNwnOd+dOkGo6zklqSSYurKMdk1HZSNJw48YOedd6f81Lbw50jz+mfTw0nE1asZ5UI589k5BXcV6Ghbh4I578670/5q40JkLY09o1puI9WNj4iv1s+PLIr/AE9daw+w86aOHUdRyS1LLMZFZRjsmvQmL8PTpz40/BZzr31GuBMWC5z2aMMJYgnV2q4E2dOc8qfglyX3LU8EmdLjBxXen/NTmAude+o/+hJiLIzcWQR8quEVGXgPoOfGgLiYKx+buaK28uphzIxg+sINa8QjOnxx+hjszq4kg1Dly9VnY4VRk0hjsJvR2OBKT/j9I6WljLcJG2lnBwM0bW3tZLmVRl9JwFpXeMxsRzU+Hq3FoEIMIBLeeeszKhQBiuD1GZUKAMVwfoD0YxsTwjLn3VHcqpUP4Gnt1fMqDLL5eoZJXCINyaDDmD1XCBCvAfR7/WuYghX0d9BPn6klwylhGM4FRzYxrUNitcrqi+Z/QwrLq+WbQuB120RQsbh9A9nUkTOod+6vn9CPKRnQparWMROPSULj2YpLdnxLJzVfOmmmbSi7mgw2PP1YY5NWZm0rgVbRFCxnfQPZ1W0RQsZ30D2fo5OFq+TbQcjHrtI5wqjJNfta/wAjT+jyiTRvQuFQoCSMH7ER8TPybiQY8xU8iZ+VYyNUvSMwDzSueZ8BWgcMT6c4+dipLK2njhWNA+Smc0rSFZbg4QeALVFNcXdtcxuwV0Qc191f8PMkLfXYZ5UllcXEVysqllkQYxUQtpEjk9H3YZ8aAuHWSTxKjAoyxAatQXJ2HtriTX0VzER81Mc6NjayxQcNdUksn9hU1lcvHK8Y1LImzCrq2t7iOBIMbpnOatJCysusJOcf1qztrcjVM3a5fNq2tRp4bxsTy51H0fZaBKy62dvmin9MuEm8iFxinuLe6t7aMEiNH3b30szAK/dYDzq6/Cb+1WrNcRej6B2NHP8AnUtpYukKQd+Vhnn5VL0fe6TMg1q67OKuLS2uI4EhUHmmc5pRKwaTHaI8a/4edIGzzZxnlXoVxPFch01pIlLY2syQgxcTUUzUnR96UkYJxEkUYyOrMPSEFumOSuu9FpQOIjlG07Gna3uIki4zZVkya6R9Emji5rnWuc8qaebttGvPHia9PMkGMa/R9Ph76a/h34esA1Dcz3UbxOurhiPFTW9jJHBFb8mkZc5NdIC5ZWl0pkrsaJh6Qgt0x2Vdd61ygCRGKNjblTm1uYokEjYVkzk03FUJNExRwPOm/FepZLa6t7WFG0oH5l64kgAkRij42z/z3pDZ1cMx/A1HBHnSgwM1f/hpV7bNjhwhdPLzq9t3xw4dOnlVzDBdw2vBbSEZclvbUwkIZ9IyR55qMz3ETxaBhVTB6ukfRLiOFeOc6lySantroKLi3OG07N7anFlLHbwQto1MuS5qe2ulUXFucNp2YedTrZSx28ELaNbLkuantboKLi3PMrsw866TwOJM8+I4xuxpri+ZWkVdRCjb2V6f6VagY1+j+z31/qGnOUBC+2pZ57iHQyZaLRsPfVt+Ev8Aaj+ItH0q4ikXTyCpjBq7kuccW2Zgcf0qa8lxxosg8vHwqK4lUPcyYAX940Lu4lhnjH6yNVxp91K67MMiofRiqvLKI8sM4q39LmiuIZn4fJNJU1ZCPT8rMEbI8KhgtlDXFw2ldWw9tWiT3UUyTyaCBHjFdGiFgsnFOknwqC3vJY547jIVlXSQa6PFu6pJh8MwyKmmuGSeVAWGlcVFcm/geNubRKm3s+gmQ7MMVbsurNuhRasZmV2ARuSDJqaFYLlS2ObR4G9LcEasIuB5mvTpJIXUDU0GnYe+mvrfGdAZc0k1zdRyRuudATGKu44LmKFIH0jMec1YRgqeLJpflXRvBKiTi9kttUPpksdxBM2jUq6Shror8eokhCmaZtKath7at0uLqC6inbR2BgoepLCCeO2BTXxHGdXsFE3cyyMuTqUY5U13DdW0Cc9ELbsPbRvVUBwjHHtFQ3ct3Fwn5mMR/wCauLKbGnSHi5eFXi8vR4SEXl4+NXXE0/JzMgwPCpJLSaO2t0bSpK6i9CSTTJPyXyBao7ie7triMsA8aDmvuq3SFkjM76eK+yUxubpLhT3Sq46sGujAI0GZufKm0Iq8vAVxbW5iVFLERsm/xoXsg04Ulh7qN8l1axDvLAdyKiuAMaxtU1xFjWg5ZpJbm6jkjZc6AmMVOllLHBDA2jWy5LGp7S7Ci4gPMrsw86nSykjghgbRrZcljU9pdhRcQbldmHnV5Fb3MUKW7aQCmc1KUnt4WhbQRozqNCWQASAlWx5/T0tvNbyy2rNqjkjGcUbpIZli4GnLpjnmrmTQ2gwqA2OVLwk1vE4fR9akj/0iVZCcEGLu1asYpJrVG+VRKtZLK0khiVW1kx6edQXxhkkh4ZjOgZxXFVJEHk4wazNC8yE4Kquqlfo6G4itdJ4ocYXPsqS6ubJrq2mUc1GShp5LSyeDHLUyac10i5RgraMHG/Kpbc/OHL3013eRsjRIIUB/qas5AjaBE2WxyFJ0isLzRNHw5Am61IqRTIMYy6YzTW/SPRryOrHTKqag4pTbwGBG56CMGrlVBJMZwBVsrAgiMZBq5leGWS3ucNqjGdJqTpJ4nii0cOMPufbV9IUYIyJhscj1WkkkUk1opPERKilsrSSGERENmPTzpZNDaPR8asct6EmhtHo+NWOW/Vdt0pZzT62+SYLqGmpvk2jUzMVDDHKpBIjIeMx5iuknZGCsUwSN+VTQJ3iOXvr0QWVz6WU4enRy9+ae1xqkER286tlYEERryNXTSQSyW1w2sPGM4NX10IpUjkC6S64q7PSlnNOXf5Nwmoaal+TaMGZioYY5U9vLa3Rl4jEAR71NLcLoluJDIV+rU9nLFIjo5OSORBqSDpDo55e0Skqpq1Cg1tbm3RjnSRg/8/w5Le4ZcZ1ouRV30g8TxRy4VA+5qe5eCWSC4UdqNc4Iq/uuFKkcmnTrXGakVrK6F0uQjpHzJ99cGUFrkx7eNRW3o9wjqmG1JgDHVfie3uTxJiy6Y85q6v54zEbgjSh3AFXME9vM8UkhkjeNc/CrvpCaMxccgIjb4FXMM9vM8MkhkjeNc/CrrpGaMxcfARG3wK6QlGuG4SbVDJU0E0bQ3GNDZHjSw3nREvpCjBxHnVRtrdOHyBRf8VJaPZ3S3LJpxw+Wat1YYIjXI+FOsS6nUhsDxrhiC4QhckumBTQwofR73SZCPm43o2kaH0W6dJHPgMb0vo4zJC4kVfPFehW9pcLNLgPrXASo4vqKFq00IzYuFJwKtNCM2LhScCuj9CM2m4BOBtVte2qcSS3bOj6wro3XZy24E3/U8a6MKozBZcnA2roxlRiFkOSBtVlfCJ5I4tQfQMkZqW4FvPpT5rJzb3VBJ0VbXMEuv5TsaU0+36EsZAjFFRstjkKnRFLMcch76EKfrQqsB7RTWcdlcC6kXQQV5L8aa1QF3WMLy8ahB5HQP7V0kWRlDS8iRvXRpRGYLPk4G1WE4jkdIpdTaFzireCC3mSFJBJJJIuNqsblYnkWCXU4QZOKtrmOHjcFtTRfWWo1i6LlSTO7RY09XAvLOaXlydY8/wBauIZuKsblhFxO8Fr0fpHouRpkPfVNQepBbwGJWiYiPHParZXUqwXmDUHSFqheWHslR4g0iv8ArH7b+81eiRGXVcMRkbipLO5t52UOTHJGuQwpXhjbUCJBG4wT7KSM9ETLKTgjhbUsdzbSTRN9VNWKnNsk8diV5LL9b2VcQm3kj4Jxqb53V0aURmCzZOBtR91BHRlbLciKa2kUxs+sdoUIL/oqQzpy1LHqD1GIYuEmMhPKrhEUsxA5D31CDvoFXMU8EzwyycSN41z8KuukZo2i42FRG3wKuo5oJnhlfiI8a5+FXXSMsTRCbCojb4rpNmRgGkGCRvV9rRl1XDEZG9SiRGQ8ZjzH8K1EV1JbsDnK+NJc3V3JdSR9zVyC/wAKGkgh40g2TzpWZdLEcx5fYH0LtcTRxPZjq40urTkDl1XsbhcQSaFx1S8e2MGl8Lz7w8+uzSML8tLobPl6kED6tU5wuOuadMakXIzUMz41OgY4qaeMAsi6hmoYHRAr2wmOPP6Vu1kC4hl0LjyqXj2xh0PhefeHn1QWzatc2dPw/Q+hYXh8HX7c/oL2JwumB9K4/RTWq6tcONXlz+yqWrTzRxcHViNsc81FZmeSa3uFOniHJUiorRp5ki4OrEbY55qZYppcrs5btb0ksf61lVQT5mo5pLy6klHNsvyPwoWc1xJb26Jqcx7sfKmtYLiWe2ZNS8TOVP04BdXLwLn5jYJoW9rczTW8kZOJc9k1wzLLF/w+cxtg70sWt3x85zk0fxFrWLi4lyMYkfIrpItPPHpn/wCm+KubaaQyG3l0BjuRV7rdnK3DAZO1MvSN5dQXuvbXpHw6uj01MuqfGV3FWfCuZ5Ip34bpI2atejoJDFx8l3XfAq2kiuJpIJX4ciSNn410ZHrdNTNzQ4IqeTiyzaQX+UbNG4l6SuhekagFzpX2VJNJ32hOatfwl/tRRxlWGCKDrGAwXQD7PL6N6ThnkZhF8qmo/Nq9N0zcSMcUaj4EcqVrudgXQs0hbmM1DL0ffXMj8QBlckhhUGkyrBr+WaLvAU72l3JOp8HfOnqmu57qeNNZWNI2xir9CxfTORqO5q/1uzabggZO1XUs11dApOyrpkwAK6Oi1umdfaQ4NTww3E7SEalZn55pJUY8eTEXt1VGhJYqoBJ8aAurl4Fz8xsE16Pa3M01vJGTiXPZNJatPMkXA14jbHPNSWBnklhMXEXWclals+PJFb26gsIzgsTTR8WSUej5BkOSOfV0ijOxVdGkZ25V0ijOxVdGkZ25VfpLc3KrEw0hHxV5ZTStL6O+FZt8Vf8AFurlRFJhQj4xVz0dcSGUwYKOdyK6U/Gq4S8u5oYYToRIs8/bVzbmV5o4m+Tkfcipj/qNys/7jEhDXGXtXOhsHzNRM97dC8HN45Hxk+6kF3dSQDPIRtgtUtrBcSzW3D1rxN1NTW73E6RpEGAjfFXXR7zPNGih0L7ir8GaaLSE/VtjPKlTUzaRjLbn7KI1rEsr+j91jjlmlvr5EhES4jjBzUd3gcIQ6M58amgiGXbb+dC1J0uFXB8iKjins4sDk0ok8PdS9IWQR306HjblqFN6TaJAuOWHyalWRI/RNPYbxz9N2t3bIkrQZ+Tc71FeXFqsCJGU7+aTpCzjWb5PhshbFBrmNYpPqg5p4YyA/IrmtN3apEoXvB85NXzyAATS6l5+FXzyAATS6l5+FXXEAzJMzrz8KNtJ0dAhP/V4mdNIhOoqoGfOrJogCIptbc/CrJ4gCIZdbc/CoLu0K+kQHkG2YeVQNeQpbwQNr0htRY1bXNqFaW3bOhjjVU0d7brBrGkBWzyoWq2kNyickk145e2pIG0pJJHj2A1wzEguYl0oM8mqM3Sqs2O0F+jo5bcgBxw5vu5qI2+FhZRHN90GntoiFPLT5cqitmsIogjqdQkHhSG1t1n+sC2KmvpoI7YOunhIc/HqlW0hS5t5G1gFtJWrmS5RUaaXXpBzirwygDizF15+FXXFAHEmZ15+FWt5aKryQE9hjjINFruBYWzyAbNNAjBrWJ/SMD5rHw6ra8tkSVoM/JucZqK8uLVYESMp380t3gcLg6M58c16ZgcLg6M58c0b+xVJOIumSJjjNG+ubdYF4XDxrz1S3lnEk6TgB0LYwau7u6iWLj6cKGztV9O4GiZgV51fTuBomYFeddJeiWyTji88tgip7y708ef5q7KKum0K1vcHXrzzBqe4s4o7iKc6mjY4INE3UCQNnkqtnlU1vHZxXCOxIk14PPzpYtCm4UHC55b1AZbKK24ThjLryagv7aNJ+GukxscU17cW6wKYtGA+anuyBwniCg58auLogcJ4woOamu7SFLhJ1AKlsYIpWt4o/SuWVJ5Chr72OePsmLvT8qF0Zz4fwRMMwJU+RxWi3j0A8z7f0sska4aY6n57/Yj0iNVbDANnyprmTOgDPKvTE7nD1ioriYKrPzwK4aTxs/1Q3PqCal1HwzzrRqGrfFaNQ1b4zzq5480Ui6+wE3Ue2r8SOW0TlVz4Cukkd2ZY5AFB8OocWaOPP1mxXSGqQuiS4TnyAocWaOPP1mxWpSCD4ip5Zuknt1SUokaMBtU4eaJocDQg7y++vlZUT7xxWYpEkH7pzUYWaIQaOcZ7xNJZvoVGj162NakYMPMVwhPEX+rq50zxOUbUvMe+l1uBnbJ3rLsFHtPVFG82iDgFiCcDNZikSQfunNapHVF8ya1RSK481OerpBLi4Cxpp0h2wBWpGDL5g1mWVIx+8cVqRgynxFZlkSMfvHFakYMvmDV9EzkxoqaV8qIR1YjfB2p/SZopW1nBj8q0m5hB8tY6tMs8SHyZsVqRgw8x1aEuImbyDdWgXMJby1itUjKq+ZNfIzRyY+q2ag0TRLDg60Peb3V8rKifeOKzFIkg/dOeq4WORxGLQuoH1qt2lJLlAST9poImj1QuuXPiKlu4dL6U1L5GoZmwC6BjiuFx4uJ9XVzqW4C6uGucVE2uPW6g6A23VlGVh7DWpWBXzBrUjBh5iuGk8TP9UNzrUxAHma0xTxufJWzVwspji4UhQZberHRKUVpwH57ivkpo5MfVbPVBaMFCSIWLsdquJYZAcRthlPsq2ElyhmKDILc+rhCeLifV1c+rU7Ko8yaOi4ibG+GHKjwpo5MfVbNanYKB4mswypJj6pzWZZEQfvHFfJSpJ905rU7BVHiTWYpEkH7pzRVWUldwDtRQMNQ3Geqy1Sydu6ZX+79O3EXjoyK6Lstww1y+5avujT+sjk4ae1WNLFFyOFjyKRbXoaWGZMFZdQzS6uTY51Y3/hHJof3GhfZ+QjlFt/Sr69+aDwU+G9dKfj10l/8AkmulfxB1Xl1dxiZ+MUAb5orpKOMaUWXAFXk83Rr3p4hQHIwg8qnjlheGPiZiVjnAq4kmgjdxcNzIrpH7qf2qwjlQOhRuRq2FsojSeNtSrtVr+C1RRzRrIvo+x99Si1UReA0+GTSx2/Q8qTDBWbUM586UyjD9jV761J+shxIvwrouFOYkPGf3Dqt45kDrwCcH31Z+irw1uAVdF2pIGtmuo4o9QiB3PnXFjsHtLd0w65GM9XSPHiWTTpxq91XNnBygaMSaPqmr6S7UScBuGiNsBVxZw8oGjEmj6pq+e7UScAhERthU9nBygeLiaPqmukOCCofQry78MY3pFtzqQ9rX9b21P+O9TGeBHYyuNRHOnOdRiLhfhXpVxGs80uWZn51H95v71JLN+rUc6W4g6Ja1CsGSbkKgjDFBPIqOw8qiMECIwlUavGlW4hM/EbCxAZ1GrJksDY68qRkYcV0d916sY5UDoUbkat1tlEaTxtqUbfamzRxlTE4Iq76OkJNvKha3Y+H7tLJHybgqM+VZ4Y4nC18Xxzjemkk5twSM+dW06QRrLwx2gOe3V0tb7aflY/8AdV/ZyH5VMaf99Q28Z0k6Y2PlnenkhjEcsK6lkG+a4r950Qn+YpJIoI0cpuBV+08CSMLhsFhXR0bqCpuACK6PmtY1iLS8NtPiOqzjmRXQxNyNXUcMaxpw25D3UJuAgl4OvWN80LgMeIYlGqljh6GlWXAKz6hnPnUXFGJNI1e+oQdjOtWBjgRQ8wRgPnCujntoxFxCyMF8as7KX9RpMhX6xqwntEERkk4bquzCujI5VDodeQasTbIIhMGV1XY1b2xt2uYlTXwgcajUc0XRz2kLKVkGRitW0d4n/uFXt/8A+LJpX7o+wE0ok16+7y7oqK916dGNSY72Ke3l7rUqf6mDEvnH2sdUlu3LWN/KjYGTJPPiY+d50luDqxu3maupNerjvrxjap50n+RmOox4+dUt1HP8nNzePHj1SXHR936Pxeboy5Ump3ln40k7amIXFSXHR93wOLzdGXUCaxcz8Z897TipE169chfbzq4vNeeMANONsVb3mvHBBGnG+at7zXjggjTjfNRX3E/VoU04qK7trjgTxjTnTkEU1tey8cvuwGKEUfSY4K7Zjy2Ka3ZtOfneVRpf3KasY1Hlqq4vF1cIkpBq+rnqS8trkQyImjmma9MvLj0icDC8sBajuYJzb3MfIPjORTNd3azDHJVTGOqe6tLxYuNjUGjzUk0kpnuJe9Iaa7sbn0eVxhwVyGqSeaYz3EvecjFNeWNz6PK4w4K5DVJcTTGe4l7zkYq6uXYOtwApTFSRibXATlFI7lPHr16pC+3nTRa9epy+cedGEvxMsWzjzqU2vS8sMZyeAnn7KhWQEE5bB99SW791xivRJOkUaAY/6XPlRS9bTFyGryNQW1v0nNesZBpTwUe2o9MpilibUj42NQXN3eJJwDyCx4q3u9eOCCNON81b3mvHBUjTjfNW95rxwVI043zSXIuSIQuDD5/aiC94mOEpXTjejA/I7q3kaWyl7aaNB9teif6kfRNsaO1jyzRsgMRaNFRo1+JLePkE4fP+fVBcl9PD7y474qG7L40d5Md7G1Pby91v6Utvc9ImS2HzQmC3vNNZq3DBwAcbYpV8hippbK94KTHUylM86tSZcGCQPt3qtm16eBJxNt+qG5t5+BPFs2MjFS29zciWSQEa9OMV6BxP+nw9WKWxlOtNGgmhDF0mOCNtUeWA6kj16NEgfbyq2bXp4Mgk23q1n16fR2LYxvUcscphniOUkFJdX916Q8XcULgCrW6144GezjfNWt1rxwM9nG+ajnimMFxF3XFFrq8WZcY0rHivRoZNd4sg0Km4aorcfMX+tSC4uTcFmyCfAfZj5RFfH1hmuX/Ja+DHq89PqYYAj218nEifdGP4HFxGgY+OOf8A3Puf2K5/Yvn9nM/xpz/2Gc/xlz/znL+MfP8A/SDl/F3n9D7fxV2/+QW//8QALRAAAgEDAwIFBAMBAQEAAAAAAAERITFhQVFxEEAgMIGh8GCRsdFQwfFw4bD/2gAIAQEAAT8h/wDmJtpXY05HsGBHEcRxHEcRxHEcRxHEcRxHEcRxHEcRxHEcRxHEcRxHEcRxHEcRxHEcRxHEcRxHEcRxHEcRxHEcRxHEcRxHEcRxHEcRxHEcRxHEcRxHEcRxHEcRxHEcRxHEcRxHEcRxHEcRxHEcRxHEcRxHEcRxHEcRxHEcRxHEcRxHEcRxHEcRxHEcRxHEcRxHEcRxHEcRxHEcRxHEcRxHEcRxHEcRxHEcRxHEcRxHEcRxHEcRxHEcRxHEcRxHEcRxHEcRxHEcRxHEcRxHEcRxHEcRxHEcRxHEcRxHEcRxHEcRxHEcRxHEcRxHEcRxHEcRxHEcRxHEcRxHEcRxHEcRxHEcRxHEcRxHEcRxHEcRxEtkLcE3AmnZ/wAMjVqEz/1mYEr1/gkQksdZRf8AX3XVQhJXfKXIxpf/AGFjShS57yDkbbcv/sabTlEHPdISWMaX/wBlY0oQkrueOX0Y2kbbhIdNcjUmqD7/ANQhulMcqulJ8iPkR8iF2cuBj8NCCZGgmkTVU+iD2aLDk10j5EfIj5EfIiF00rQ+RC9OUbC6gmSSkpVdUI8ME3JC2HbCukfIj5EfIiau2CiM0hVHuCgQpkp9EGpULDQz1g+RHyI+RHyIbdDXiZYyuoNmalw+rS2ewk+tjpQUUbDlpbXRLmyUkC3ctAmkTVn0m5DkdVkRp0dthrtcCFLfVdJGVVxO4WlxqfRDLTwRVCEqroojU9j5ETclzAogpdBtcsBgBdBD7/Q/HPuKJq/o12oNYQw0uFRMgockkIql1J7gIk2pP8o/yhNSkenUa/0X/m5of5RGYq6IjIddT/KG6jRxgSELcWYkTjYs9ZsVZ9cWoHtj3oRNTU1P8o/yhNSleh7PpOno+j3EVj/KISFghJEdrn+UJRReFDXREPtVaWVBanrf5L3mLn4B7XpEre7gpY1OJKkvT0tD8XrQ7+5F62mKiAyNVsWlEJDuLSWPCk1f2Gk1DQtNNtFoROCoVKLJi8CpKaToxJQklwM5W5GBRF9xnSYjMdSL/RFE1X1JKbAZLIcKyFKbS5KerMiE09Ue4ECimD/eE9/3dRYYbDu1GCp9Av8Azfr7494vB3sCz19JFqqMx+qFXLPbHvRHikf7x/vCcqT2ZpmbDk91Zl7zHuIrLqFnp8cCutWU3q9A5ZaOULQarpWG14iFPVD8A9r0nSqrI4k+4g07U9LQ/F8FDv6mQ5twoi55uiNElUyTw3dFppShyfPT2Za4fSAMvVDCE8DHb2RvFs7/AE9Mi/o6BqrgcrCoWM5QlrDSumOTToHuAp+Uz4GfE+o/IKdf3DFLbVDalVn1e+PeLwd7As9ZEtzmHJFj5ZMOgke2PehT0ps+BnwMsezLfDKrhZEpfVCllnIVl1Cz0+P7QIkwi2Q18ZZQZyunxcjT6WBIlmEdruPak21dEVJlK26XUrKZm9VLQ/F8CJS0kVKVpfWQ7ngSqzF9RPegppDQc4c6D2Za4Y3CkUVbl0sKoVyNePgrdkRntT9EQL7VqJfRz5Ul1jH0lrobV65Q5S1u2PbPZKEe4FstGX9jL+xJ83x0H5HSn+5hnvuvvj3i6RsokXYzZOFRsWesU4s3AuSTGpqhCErpB7Y96LSyZl/Yy/sLr0vB7Mt8PpRmq+BXQrLqFnp8VJXoRUlq+iGuqHJb1QyZUnxc9Kf72V09qQSW/MqC9fSJb0MqM5RaDWaJMv7Ce0k1cdatcPq5wKlmQYZ/EpT+IqK2lrXUbRWkqs9NhWfCgkrKsOKtWWGEUtwUUZtkiWRUojDqPohqNdq/0faQ9Iekv2HUtwVBCRCRXGIQT/wT/wAE/wDBBWGkFSInUxsi3RjVKYoS/HrpwMjlzHSL7IT/AMEV6CD+qhJXDkpatehIFDSCa9Qa0SixmxQT/wAE/wDBP/A+oI0grBED2oR0WxEpl9Pb1grRyf1U8VtBaQIdKTct9ZpK2kDp0KkjE6bm3VLoZ6QVYncOZeOXQSSJKy6Jc2agUyzBlZJP/BP/AAMQ9L26VMiEEV6COrSah1Qzl2J/nD6Vv7dH0TKbE/8ABlZJVAF/vQ2aPoi3p3P6Jftd7/tdrtbvP/a7Pa3+f+12+e1v8/8Aa7fPa3+f+12+e1v8/wDa7fPa3+f+12+e1v8AP/a7fPa3+f8Atdvntb/PYNCVZMSMCMCMCMCMCMCMCMCMCMCMCMCMCMCMCMCMCMCMCMCMCMCMCMCMCMCMCMCMCMCMCMCMCMCMCMCMCMCMCMCMCMCMCMCMCMCMCMCMCMCMCMCMCMCMCMCMCMQ10GXeY7BCRkxDEMQxDEMQxDEMQxDEMQxDEMQxDEMQxDEMQxDEMQxDEMQxDEMQxDEMQxDEMQxDEMQxDEMQxDEMQxDEMQxDEMQxDEMQxDEMQxDAJ0GXeawJWTEjEjEjEjEjEjEjEjEjEjEjEjEjEjEjEjEjEjEjEjEjEjEjEjEjEjEjEjEjEjEjEjEjEjEjEjEjEjEjEjEjEjEjEjEjEjEjEjEjEjEjEjEjEjEjEjEjEjENNBtd5Fvntb/Pn3Tt/PtSTPKmq/59CQybHlyVf8+0khkzx2+e1v8APnJS4FT6AgeTSPosElH0RFvntb/PnJX6CWG8hbv6CSGXkpVv6CSG8Vvntb/Pnavortf0Ff8AJsf0Fd8Vvntb/Pnavortf0Ff8mx/QV3xW+e1v8+dq+iu1/QV/wAmx/QV3xW+e1v8+dq7xnUV23A9bu/YO3hSHvTOQfsFgZh0uQoZGvN+E/w/a+9WTEOt67L23oNt/uCTb7ha29R27lCy9jvr/k2PvpP1KP8A8JRboYOanCh+B3TPUNJ4JxsvTJI4Tj84S37q097d8Vvntb/Pnau7kzJYuydR8Q8hy095fgLie2/he194rX7thjLNvxseWhmwn3q/5Nj7xfFSW2g9bsX8sDc1fjn13aOSJihd2147y74rfPa3+fO1d1R5RbrHh9d5SG1+qkRynK/hO193FLuXl2ncu8v+TY+7RASlt6D2xt/sPyn4npSaFJKFGzfu7vit89rf587V3L+octkimna6mUh2YQyya3XgQShygVSjynq6+in8Idr7q14OrRG2SS1Zj+wb8OGyBMQmJHZrrQ3k7u/5Nj7t82V2XsuqqEbtnuxp8DcVZKg2Lqf1D55wWFSeMd1d8Vvntb/Pnau5lnqcHVxoPg9hjmNt6skcbpdS3dnMfJzfsK7zL3FKNJ9E2nKuiSXb6q/g+191M7Ki6uajKC1qibTlUY/bDh7turQrjUbouNtpbbb1Y4ZKTPa6yLR0fd3/ACbH3VhlnIb5M4+jcG3oPKfsEL7iNUb+JXnq/MK/l9GVTqbrrK2n3GvdXfFb57W/z52rub70Xp/71oxL4LctcfyTmk6yLrLoFgwpoDH0utXujST8P+v4Ptfc4SXgbBaFKaCiOjvLxTrw16sAvNovL/OjeuquWheDhbur/k2PuoDdavC+Lqkieomu1nuhYS21kh9pFXnq6Ip1Nn0RpGhY6tkrM8a91d8Vvntb/Pnau4bhSMYar9/BkUEGMVJeBd93R7Qa8Eb/AMj+D7X3LRzfgerskSmQI750eHXSjeoTLQkQl4HmGz7q/wCTY+62xl+7/wDPBBE5Q/l3ul4GJCaejInD48Of17dzd8Vvntb/AD52ruPYFzzvev8AD/g+1/QSdf8AJsfdfIbvxtV1eoksafj1/wAF3N3xW+e1v8+dq7l7vSe/VEZT4t42VQqWx1aepNdfkSU/v+D7X3Mz4c+fBPd91f8AJsfdbCM+x/8AvgbSUuiHDQn32JFIsUQqpp5H3EitgK6vL3Su114EpcHx+F3N3xW+e1v8+dq7mkFBJ/fVqdPuISr1q58SVyq+w97g9OsT6vH9n9fwfa+5yqi3Wu/5d4+F/R8L+j4X9Hwv6Phf0fC/ogG9SrwYKXdX/JsfdRCrP6On68DEymjLUICZaq28iSSEoXWD19EuhB/sAuUnZNn1obK+0Ve6u+K3z2t/nztXcwa5qf26zIIxkqdXISmJtZrwNsRL3KfWxILLrHRZcshIXqqep6/wfa+6m3pV1f0GVQN7nyP7Pkf2fI/s+R/Z8j+z5H9jrI9iT1gdqn3d/wAmx91c8DCz4gdI/wBELkQ5M1PXxOVk2zGPe1EZ6s+OCX3V3xW+e1v8+dq7lDkSnRoQhO+Y26zsOpsJ8TS9MVVP1DjuCohs7mfuUEdqPV6tx7vV7/wna+6ldWg02ad15aTbhXKTqq+7v+TY+7fVyIRa7ukxVBzXUpKmlx45fJ6/jpr712G4kGFBd1d8Vvntb/Pnau6SRnUbce4n2E6wROUPJ9UPjodzJsyBCRaLquLbn6CF9EoSWn8J2vu/ctblvKsDBbd5f8mx920modUxgN1EfFPKZh0hH8VO7/53d3xW+e1v8+dq7t0htHrwHjW9qtyvGxSG27JD+VeX5mwgPTJNP4Xtfef6IkUi8cMmP8Ee9v8Ak2PvEOQmndMnQd2/9DAm7oh+NIe6W/8A0qDPcv3i74rfPa3+fO1d64dQwew0bX7VC984mSuDfllSG2mhLZ/sV0fXfw7tfepYRNZK47FqjgxpJNK9JcmV5gWQiS76/wCTY++xcmpeo03Cx/2W5HdY74FnR6EQcLzIcJ5Wtn2EIkJJaLvbvit89rf587V9Fdr+gr/k2P6Cu+K3z2t/nztX0V2v6Cv+TY/oK74rfPa3+fO1fRXa/oK/5Nj+grvit89rf587V3C/wbA/0f8At5+CRSE9WcjdAUptlu3oKqY3qS9IFmV5QaLsEjtO5T86EXIl+06FqBVX4Ok/xv6EFZ1fHsTq8M3ehMO5D1MTsV0skTJDyi4mMt6Eu5qKEeh/jf0IeKSDSf4DtfcMUmZT0k9lhDBpk2ojGSoih/Uk/wA7+hgm+laZ/Qm1ngc1iMCm7UhaggR5n+4f539CxMajinBckE63oNIFFHXKF5F4Fmhct50WyWpU/vNi4pbvJMpP6EoHkYSP33N/ybH3Dd7l9B2mIENqdwD/AEKqi6q1a+h/jf0Nq75KlUtskCRzdRu9hX4av8EKqr1ilE/tLeiLUq/slA2/mGYcbH+N/QrSFGjE5Hr4xVKZXgd1pTtBpYd4xZNRr9RRUgnF4P8AG/o5hJWmf13F3xW+e1v8+dq7j2H8hN62jsWRZ1ft6mVL23OC7fZF6v4BTDT3HON4gmZ/Ain7oU5Qg4riskNXPl9kURE3KdY16ppWORBVQ6Vap6ArUcsp+pIYkVwl/wCBGsG5R0/PsfL7oiIRk+W4gyMBCS/gO19w7MvtD3gMaXoiVep8bAkWoitJ+8fXXqIm/R0G+Q2RUUJXKdZIgYhG5FB6FSrVJUCsgaKwp0tqK9aVlO6HZCoVpFW/I4yKTn/0+D2Z85t3K/5Nj7hSo25qFdGTr0joYto9kZJw6VqUE5JU2r6F55NhdPshpOuWdt83KGgLCgqbFEa0VTfkY5E1PnpJaRhpVCsinZ84XExjihJVElb+SDvmI/hlvtiXy2LWj/EYqFSqk9c3JkGIib9HcXfFb57W/wA+dq7j2H8hy3bK1pkXqvllW7stKIyOaejGMIh1KtNZGOEM2q1e42kVd9NgZcPVHok+X2R8vPwGQAUoSmia9Bz5X61T8QbT0+x+ZPl90OCTUizZhxolfwHa+4dmJaqNiSfRp5+1M+NgnM9Q1Vmw0KphhPI0XSiGpuv2Y2Y5LkqxSovBseLy2z4eR8Zs6ZTcdApUbr5uSjVV1s0rfeg205KjV/6MKVHKibrT7jX5SHiQ77IqaiFsPENtJtRbuL/k2PuEOktp6qAnh/8AinoLBU8l0ky4tvUhpitDSajc+1zM/wBMZwdvKaBXs++hmxXFREIymaibrT7jwpZJ+gsJ8nk9w/Ah/qOVVf39jVUGZVF7we5/kju2uRJt6DoEpB4Tz3F3xW+e1v8APnau4hBVNociyoWk0uX0mx33HrCclHbpeyFGjgoSROFUtJa90aJeTpa42Fp1jHSuOKeWG8urkjZIRKn2KTh6iEUMiZIShegtLZIJ5QjRJOPQWO0nMNMiOgX9D/OfopKPrI/gO19ysZCQppT6D+pxNpONiSNUyH+M/QhRKVVYS0IolhlnccBOlLexISSJJQlZETL+JUmdiUeDJeEUcSjSEqehE6UzQg8OnJWHFMDqIhpLIsMrUpX2GcFAaKhS4P8AGfoag7203l1fcX/JsfcXUNMlT9BYi1GgENrUG5Pyf5z9DQ9XoWofoICzWNOBiTNs+BYlJ+cpu8jBVTRLZUQlqUr7E+5lrWrPoJlpeidvTIxxIm0OUTgqm0uRyhwK3hpolsTyU3QcclcKn+c/Q1RKlVW7i74rfPa3+fO1fRXa/oK/5Nj+grvit89rf587V9Fdr+gr/k2P6Cu+K3z2t/nztX0V2v6Cv+TY/oK74rfPa3+fO1fRXa/oK/5Nj+grvit89rf587V5EWtDa3qO4rXam6KoXEk/YQpCrJZC9fE0io2dW7yamOw2Fn08M7YGbJFDmR0o3w8ylxiu4ibi/wDdSJGWTmBNS328L0godIOsrAKTbXpKwCk217LtfnIL3hYiJU9heP5VxVgStRQLHbwV1ktwkMRSEprVdKg8bbv38TB4hh3+CS4HcYpJDiEqSs+4lhSX8ivBulXPWUaATjn0nRvI6xvHY3/JsflKdCMEruFI0GsLaplf7CVKDgWK4hjfOg4GVpHuvDvS9VckpAQnHPpK0EJxz8tW9/1ctvHNi7bJHyL+h8RCYpqPuS4AhLo47e74rfPa3+fO1eQoQQH8w5VvGhFjfXMWi2HhrkiR/iVPbTZD93sRLa8CpBSFLrC5dG03DIKRdKZlo4JxaW+JaFYPaqeg9LdDVdRBUF0r0GtCA/kA4myGIP0pbeNyhTjVwDpd1RnRtqV4ns5Qty96TuKdSnCx5XHuOlaq0u1kWpqJOHWVpJ3odkht0oaEzEsYxQILQqzbaEUU5RxwdyXhDlwCz6RJQm4F6HWKQlGqjStdOCVXRK3gSRp6iS6TcQo1tstin3XMLVF/zoSqmpJLL0bIHuaQ0YVum1SRlV+r9UEUUparD2ZITmlFKpUb4BTjtpCwug8UKU4KSgQrbZbGXX109SKhesE1ZeiGfbC6GqGhvykaFAiULVzZEBPBpNV2Ha/OUaDD01CQpOLj4TZDo5iqqoqO+tNVVVRcAj769oKdmOQnBIz/AOkhRRXou1+T/wCMCb5WWDsgyFKiTf0EJmsuFkLSKQTf0ElyK8FkJPU2/D2HOhRpYBgWnEVOOqYFBYJm1afcoSuN1tuPjNhOlR0fuMhvhN9wbvTuhONhATi1C4vVCJSrlCdgbUJVUj3ajepUdhls2FEpFilzOYLFMpVF6NhptvE6sK9S+xBjZGicpoWhRfeKY566UFNijZWK1FFBDMBJpyvPn3/JsflXmY/DGrtIbunuTo35JM6CcVQaRRdkkUtviSSKPetHh3IqvEFlVa/Y9uLbs7VIF6oKI1LnfTTYRE4vAodLkI9Xkhb0PicFdJexvsTooGhja2nTVoZEnUoVXsYuOCQ7mUTQ3aSPCJNKm9qDnBdKOBMWJ0oN6uSRFKVTzD62kVG449Wdpa8EhahhSX9CtAnEl6trBPCARKtyFHlEx3t0Q5CadGnqKtEKJa2L4BpiUl0XSG6dZFLqC0d0fYgNFpk0d3eS6Er2OzKKkOGVdIeXdd2dqikyYgXf0F8TK8FkKu7G8v0GxTWoVkPy4UhB0UVvP4Ef0uyHl3fFb57W/wA+dq8lpI07MeUjeNo0LHOriOki4AdKSQIKFtCuiCTzBDbt7DdxXPba0pqJzxMEocEy6TPedhUdTaXq6B90rtt2th1och7SDLXQA3Sw0Uomahei+xU9E6MDL7ldtof3FdiphuPyDOBKiorqQFiBNa8CHlkurYkS0HoBM5eljyvQXJbQltwLXsoQ04G180zeqmhNlKuivWAiUA7QaPpBD8rbnRtK41xKOQWLLbhokfukw0T0ZwpWuMtiu/brWxRjugSUTilShoUxYBwSU6exyNlaixcRwC6srNLMtVpCIDTRDTg5nau5NCIpbOcKGTFIONslsL9vZVrYoVcWWiTpUxZCE7IYfDwXlIeo5fpzkbZDkMrvWlr07DtfnorZimz2E7UXoQtYI7V8jSQ0JZW854ImM0IkLOF0NqkJa5pzHMEZPGPaTfo16OLkXkS/SxykiRUMudWTTj8BrMiQCUudWSVTrIazEH0Q2pv90T3RQ5JrZrDNQvvV1qnIlPQd6Q1UT1mZnknYZQXGXTgM/Ke9BiRRuUPaSXy1SpL+SIK+KtXD1hDj/D0Q7TwUamssUgcqQ4UCJvPKFWoibzyhVqO9DUNDdiFDZpxLeBLru04VUsh3YbZEtLjOT0wlhXGD9SgCXgqosqXialFs623ELeff8mx+YikGjQO7EG8guW6BD8N1SYKFHHD81G8CF4qWW0qYFMNC2noFbjuISVsTRBMkN2T2qlGShFCMJwRSTFAboGLVkKqyJUbjViJMR1WrnpGtKTqE7JqQ8Fd5UVJXEJPoTRyWT9FRtqRuRVIoQ1UbdZpZa37Na6e73mW+CSk1RM3IjH9lry4AuyFPVMtD7zsT+VTUaO+wsrWI1doelxVBh2uPSa4JkSUqyvnGlCXndlORPA1LcMrb6MZCYzg+QUOdYaI5WS5boFINIlp6UHmSak6hCVtImsxjd+vOoiLISI9Wh2J6ISw7Glooobod0CSicUr5d3xW+e1v8+dq+iu1/wAbSLKafBpim1OgpWsLtL/k2P6Cu+K3z2t/nztX8A6TFgcXEWqHLMtv4ntfcadq0akdH1bUFZcsTgnuJ5KUaZ6X4FNLqHICXBmMPAkRnY1FG/VErPqskwOEEtD1B0WUG6jBHKb+u3v+TY+1R4MxdG4rULHuXSKwa2KihWfJT3oNWNSPIXqIxKxnylUQmZr7Hn3fFb57W/z52rvbn2dnIM/KHqGDIHd3ZyD+VabJ1LqMqmu5CLkshK8+2Al7RA51pKyJJ3xIO6l/w3a+2Yb803YdKsf1Y1idpE0QL7tBCBfenliwrT+UYdDZXBIRxJRXerGKvcWJL2APQ0XBWfyHaOabBURaskqMiHr7wh0bfnKaSEv1622QW9QT0iVmQJVZNorcDa7kis0glEC2osGKqn9dIFjXjFmiP5cKq7ev+TY/NdWG8VKYXsMbLrHXe78lKRgpy0hQSJYqve6gbz+YVxrSbv2nYdBEAxfqteRrdvdEYsltT0NkL9mTkD2FN11SgaaMZ+gzNU0T9BCvDtPVh+tGPDkFLaLjBfmm7DpVi26xrE7SXiuLMINFV4TESL6oZAMRzbARonpXOuaMRXOuaMQu26/RSiEglWZ9xPzbyicGrZRZ39j2L8MpnOkmrs0hFFDQaZ0c8D6LJaW1SigQH0rWRKT5GMTku4UroUlkNh6BVYm8pKmohqo89aRZoM6CtKnpJKZhPrwgeASpyN+dd8Vvntb/AD52rvUCLVW5LPcfNBP8u7bE9kzXKnoJ1JpI3GhjF/rhSQ3KYkiHuW4YX035Ce41layOfoNKJEgdfxP8L2vtm1JlESvVPcg6akrueDV8x2JmUxnktzHJaVJHh0SU5FuL6r8WxQHF5SKA4vKRHuguUtYYyBQ6XLrUezWS2xXFjRSwgIUBlhAQuNWTVxYvYU7eg/8ArpBHeohsMkuSqywQQcUGIIZHScsr8Sag+NgVGNBHZE+4v+TY/Nui08TEx9yFZigaHPGqm5Mewx4JjOCEI9zX62gRgelSc3RTo5b2Wt6V0FLty3YL4EIlLC0pCpS1iSBtSJuYFGfyxsri2kqfd0fYiUQr1T3IKmpK7ngfoS73LlhxPUcuWGDlFkFmmUlUFR5mek6aI1GqY4RaDYQLVGKpTCFqjFUphDCY6cs0GWz1LJSsh76InFQciMybTHfR+QTIEycuWQnT1ZWbZpSRWVRXpaKCZObrdqn6kB8NR5mdDXIByEaGr+OkqNCZKCmROS12b0MkhJQQsnzbvit89rf587V3rYDUqb2fxva/oK/5Nj7lmAk2mNTKHJRiSZbZb81j6VJOXd3fFb57W/z52rwLcMRvDk4bcc2gkmTNNtEi6pvQpTQbFJoH9nRsFSpV4uCNGlqE6xvBgfhN4GIm+zLISr0hvSQxmAlFrbo9RxYkSF2lFxUWMIhBIR6lkyUyn9Qa6nuNAf1GBEmjdofyH5MXaYfYqM195FgQQ0vFrMQJjP1ZRjqJfYRL/Tw4Yrk4qikVHdExLpvCQGnVkf41SGVQXhIxpcJ0pQFUSFWBRf1pSYivCzTIUbfGymKr4s0yFF/WlJk62QdJqsDVwMJJLJirwFseTR2MpBNImnKeqMODLCgxbMlMbSNtwkY5v2xuFLNDgQkHFVXjJEruCKAgl91GBAmjdoZfcf1xdp/DpZvDApX5Lxd5G2vM7X9BX/JsfnroMFJvxKJgVCdQTQjCxNo9GlP2DVwzFdxIos1Um2iWulR1RMyOYfBCY7dSUNio0L+wbUXdkJDAp6tBh1/W0yq1qT6OCgsuB604uSIfbpCSxrRoJkw5NQ0I+fhzfSXlZFfZ0iDeyRbdZkoD1HFyRD7DJeU2EhM0a6OAgMqzT+QpbVK8cPsON/kJIfVxdpFBy0w+QwDVKal6DsMt5yLVNHij7C74rfPa3+fO1eCIlLNyKq/AqYiE+lD5aH4WVrIL2kZs1N0GlqP3KnqlvuM4WRIbMgWkqONagvmp/di60m7H7D5vPSnxWel0tWUuySEnUaWiqSwXCIaEyXcSszdBNlFTmq9FpZWK5TE1UKZmtYPnsksonHKmQ6NChSRqBW1UvOHkmoLi2kpGlegt7vYalDK2Rb7yumzz4pTEVVAs0awRy62SZqm43ubYZDZwujst/SUpGpAIpRsLUqKpVVj0NfE1SeKC/LVYmtY9CjAUTpLFBiIBQrJYJJIylLd6mfBYLP2qC5JIpbbWIo+3KScumD5TcMDhl5rYWShbZfVKtS36UENciawiqU7kZ4pwKW3NoGyPgtieVmuUyMlqnZrWOkLze1/QV/ybH56HLsLNQz70YMgZ20rJuhT7jT+5PVEt21htjifYf1D3rFXStbkO9ij1aNGFO8Fb1kbhfU8gs0tfFu9ZPzGOYIXoTjtqgpbtINIZwctmtiIa8WE7ddGlUmuU7iMQfHCmRBU4VRGpmSUUxqrCbEBiqb7Veo7J1GvSFRI8o2t1UW1W+EzciheWEsbDw23nUJUwn9hcINLZwNyzBynRFPEeEC2G2px9xVzsV63TL0cL0LtZ50+X5JOtP+j0hbdhd8Vvntb/AD52rwNSodiZYpSivMD/AF41GwTi47q6ejRAbeohbJpPR+8IFuaMeslveqkTs03FE12egPjiSmmn7d0/chOVzfGjT6S8DchhbCnyCIUyfzfkKLYg0ezhDG0EvXvojYe1VRbnwScGfBJwY+hMpTNZ9SXkMko0aEr5C9JwsFp6IaNkjdtNpFMk5JEzM64ejgUTu4Ks2sT0on6IrUkms5U/CFtogQbDQ4CoIVbfo3HYkqDS7ixTZLRFJUqI2sbjYcLTGyWiG4iFEfWNxsEFRCWyWiHaBxako9R6658lpOqJnv1RGwkPbYjYRGo3ocBnRtlThRKN1CwJNmh6LUo1dZFOEBLRsrJ6/VOg0YOGUasSeJ2l6BLZR1zK5PldxM+Sxgz5LGDKbG8o2/zbzu1/QV/ybH57fuJ0nUcJWoZKxAV8RZEntoRjDA6irpQIzBQEyiifQ2DQWkHKX3If2OgmkKocN1dtGh/Y1KCSsgUSWqCDJ29CusxSEm4t8dyJ/lL2vwaX7CqnTpUotOnNo0QqB6JGosa+V+iiYEYpLAicinajF2CRWrUjK+dU7D1E8U6HJ8FX+BEEeSYw1qjfUCvvyakfWUouakfWUouaTXaabNaoo94KV7yLUUGs0OdkaHIm99T+41LFZ6XY3fFb57W752rvkqSapQQEiJIklouy/FanwNrquklDdtk7w9o7X9BX/Jsf8ffDkqy9ezu+Kz2tzzrn9BXfI1/QVb+Tq+gr/diVT85/oEbhSOv0TDVPKb6BGhPjSrfapPHz5aP6AlovKiQ7/QE6Fby5VDv9AWSt40jn2txJNdgk07fzjRXZNRebE07fzl0Y+iy85Jp2/nGlzHWW8aSSLfw8luzIzIzIzIzIzIzIzIzIzIzIzIzIzIzIzIzIzIzIzIzIzIzIzIzIzIzIzIzIzIzIzIzIzIzIzIzIzIzIzIzIzIzIzIzIzIzIzIzIzIzIzIzIzIzIzIzIyW77DMzMzMzMzMzMzMzMzMzMzMzMzMzMzMzMzMzMzMzMzMzMzMzMzMzMzMzMzMzMzMzMzMzMzMzMzMzMzMzMzMzMzMzMzMzMzMzMzMzMzMzMzMzMzMzMzMzMyW77HIzMzMzMzMzMzMzMzMzMzMzMzMzMzMzMzMzMzMzMzMzMzMzMzMzMzMzMzMzMzMzMzMzMzMzMzMzMzMzMzMzMzMzMzMzMzMzMzMzMzMzMzMzMzMzMzMzMyW7/AICNSoJEf9nkQJQo7iJKv/2eJLu+60X/AGXVd5rf9ja32d8ipUY02h/9fSbQhFTq/wCARcNW4ai//W0psNewRZ/BtLkNXZwNWRo1EPb/AKnD2EzUJ2BKruRJYv8A6Cf/2gAMAwEAAgADAAAAELbbbbbbbbbbbbbbbbbbbbbbbbbbbbbbbbbbbbbbbbbbbbbbbbbbbbbbbbbbbbbbbbbbbbbbbbbbbbbbbbbbbbbbbbbbbbbbbbbbbbbbbbbbbbbbbbbbbbbbbbbbbbbbbbbbbbbbbbbbbbbbbbbbbbbbbbbbbbbbbbbbbbbbbbbbbbbbbbbbbbbbbbbbbbbbbbbbbbbbbbbbbbbbbbbbbbbbbbbbbbbbbbbbbbbbbbbbbbbbbbbbbbbbbbbbbbbbbbbbbbbbbbbbbbbbbbbbbbbbbbbbbbbbbbbbbbbbbbbbbbbbbbbbbbbbbbbbbbbbbbbbbbbbbbbbbbbbbbbbbbbbbbbbbbbbbbbbbbbbbbbbbbbbbbbbbbbbbbbbbbbbbbbbbbbbbbbbbbbbbbbbbbbbbbbbbbbbbbbbbbbbbbbbbbbbbbbbbbbbbbbbbbbbbbbbbbbbbbbbbbbbbbbbbbbbbbbbbbbbbbbbbbbbbbbbbbbbbbbbbbbbbbbbbbbbbbbbbbbbbbbbbbbbbbbbbbbbbbbbbbbbbbbbbbbbbbbbbbbbbbbbbbbbbbbbbbbbbbbbbbbbbbbbbbbbbbbbbbbbbbbbbbbbbbbbbbbbbbbbbbbbbbbbbbbbbbbbbbbbbbbbbbbbbbbbbbbbbbbbbbbbbbbbbbbbbbbbbbbbbbbbbbbbbbbbbbbbbbbbbbbbbbbbbbbbbbbbbbbbbbbbbbbbbbbbbbbbbbbbbbbbbbbbbbbbbbbbbbbbbbbbbbbbbbbbbbbbbbbbbbbbbbbbbbbbbbbbbbbbbbbbbbbbbbbbbbbbbbbbbbbbbbbbbbbbbbbbbbbbbbbbbbbbbbbbbbbbbbbbbbbbbbbbbbbbbbbbbbbbbbbbbbbbbbbbbbbbbbbbbbbbbbbbbbbbbbbbbbbbbbbbbbbbbbbbbbbbbbbbbbbbbbbbbbbbbbbbbbbbbbbbbbbbbbbbbbbbbbbbbbbbbbbbbbbbbbbbbbbbbbbbbbbbbbbbbbbbbbbbbbbbbbbbbbbbbbbbbbbbbbbbbbbbbbbbbbbbbbbbbbbbbbbbbbbbbbbbbbbbbbbbbbbbbbbbbbbbbbbbbbbbbbbbbbbbbbbbbbbbbbbbbbbbbbbbbbbbbbbbbbbbbbbbbbbbbbbbbbbbbbbbbbbbbbbbbbbbbbbbbbbbbbbbbbbbbbbbbbbbbbbbbbbbbbbbbbbbbbbbbbbbbbbbbbbbbbbbbbbbbbbbbbbbbbbbbbbbbbbbbbbbbbbbbbbbbbbbbbbbbbbbbbbbbbbbbbbbbbbbbbbbbbbbbbbbbbbbbbbbbbbbbbbbbbbbbbbbbbbbbbbbbbbbbbbbbbbbbbbbbbbbbbbbbbbbbbbbbbbbbbbbbbbbbbbbbbbbbbbbbbbbbbbbbbbbbbbbbbaTRJJJJJJJJJJJJJJJJJJJJJJJJJJJJJJJJJJJJJJJJJJJJJJJJJJJJJJJJJJJJJJJJJJJJJJJJJJJJJJJJJJJJJJJJJJJJJJJJJJJJJJJJIKTbbbbbbbbbbbbbbbbbaZAAAAAAAAAAAAAAAAAAAAAAAAAAAAAAAAAAAAAAAAAAAAAAAAAAAAAAAAAAAAAAAAAAAAAAAAAAAAAAAAAAAAAAAAAAAAAAAAAAAAAAAAAAAAJDbbbbbbbbbbbbbbbbYAAAAAAAAAAAAAAAAAAAAAAAAAAAAAAAAAAAAAAAAAAAAAAAAAAAAAAAAAAAAAAAAAAAAAAAAAAAAAAAAAAAAAAAAAAAAAAAAAAAAAAAAAAAAAABLbbbbbbbbbbbbbbTAAAAAAAAAAAAAAAAAAAAAAAAAAAAAAAAAAAAAAAAAAAAAAAAAAAAAAAAAAAAAAAAAAAAAAAAAAAAAAAAAAAAAAAAAAAAAAAAAAAAAAAAAAAAAAAAIbbbbbbbbbbbbbaYAAAAAAAAAAAAAAAAAAAAAAAAAAAAAAAAAAAAAAAAAAAAAAAAAAAAAAAAAAAAAAAAAAAAAAAAAAAAAAAAAAAAAAAAAAAAAAAAAAAAAAAAAAAAAAAABDbbbbbbbbbbbbaAAAAAAAAAAAAAAAAAAAAAAAAAAAAAAAAAAAAAAAAAAAAAAAAAAAAAAAAAAAAAAAAAAAAAAAAAAAAAAAAAAAAAAAAAAAAAAAAAAAAAAAAAAAAAAAAAABbbbbbbbbbbbbYAAAAAAAAAAAAAAAAAAAAAAAAAAAAAAAAAAAAABABJIIAAJJJAIABJJBAIJJIAABAAAABAABJAAABJBIIAAAAAAAAAAAAAAAAAAAAAAAAAAAAAAAAAABLbbbbbbbbbbbQAAAAAAAAAAAAAAAAAAAAAAAAAAAAAAAAAAAAAIIAAAJIBAAIIABBIABAIIIIAAJAAIAAIJAIJIBAABJIAAAAAAAAAAAAAAAAAAAAAAAAAAAAAAAAAAALbbbbbbbbbbbAAAAAAAAAAAAAAAAAAAAAAAAAAAAAAAAAAAAAABBIIIIIABIAAIABABBBJAAAABAAAAABAJAAABJAAABIAAAAAAAAAAAAAAAAAAAAAAAAAAAAAAAAAAAJbbbbbbbbbbaAAAAAAAAAAAAAAAAAAAAAAAAAAAAAAAAAAAAAAABAIIJBABIAAIBBABABBAAAABIIBBAAIJABAABAAIBJAAAAAAAAAAAAAAAAAAAAAAAAAAAAAAAAAAABbbbbbbbbbbSAAAAAAAAAAAAAAAAAAAAAAAAAAAAAAAAAAAAAAABAAAJAABIJAIIBABABBAAAAJAJAJBIAJBBABJABABAAAAAAAAAAAAAAAAAAAAAAAAAAAAAAAAAAAAAbbbbbbbbbbQAAAAAAAAAAAAAAAAAAAAAAAAAAAAAAAAAAAAAABBJAAIAABAIBAIJAAIBBAAAABAAIABAJAABABAAIAJIAAAAAAAAAAAAAAAAAAAAAAAAAAAAAAAAAAABLbbbbbbbbbYAAAAAAAAAAAAAAAAAAAAAAAAAAAAAAAAAAAAAAAAAAAAAAAAAAAAAAAAAAAAAAAAAAAAAAAAAAAAAAAAAAAAAAAAAAAAAAAAAAAAAAAAAAAAAAAAAAAABLbbbbbbbbbQAAAAAAAAAAAAAAAAAAAAAAAAAAAAAAAAAAAAAAAAAAAAAAAAAAAAAAAAAAAAAAAAAAAAAAAAAAAAAAAAAAAAAAAAAAAAAAAAAAAAAAAAAAAAAAAAAAAAALbbbbbbbbbQAAAAAAAAAAAAAAAAAAAAAAAAAAAAAAAAAAAAAAAAAAAAAAAAAAAAAAAAAAAAAAAAAAAAAAAAAAAAAAAAAAAAAAAAAAAAAAAAAAAAAAAAAAAAAAAAAAAAALbbbbbbbbbQAAAAAAAAAAAAAAAAAAAAAAAAAAAAAAAAAAAAAAAAAAAAAAAAAAAAAAAAAAAAAAAAAAAAAAAAAAAAAAAAAAAAAAAAAAAAAAAAAAAAAAAAAAAAAAAAAAAAALbbbbbbbbbQAAAAAAAAAAAAAAAAAAAAAAAAAAAAAAAAAAAAAAAAAAAAAAAAAAAAAAAAAAAAAAAAAAAAAAAAAAAAAAAAAAAAAAAAAAAAAAAAAAAAAAAAAAAAAAAAAAAAALbbbbbbbbbQAAAAAAAAAAAAAAAAAAAAAAAAAAAAAAAAAAAAAAAAAAAAAAAAAAAAAAAAAAAAAAAAAAAAAAAAAAAAAAAAAAAAAAAAAAAAAAAAAAAAAAAAAAAAAAAAAAAAALbbbbbbbbbQAAAAAAAAAAAAAAAAAAAAAAAAAAAAAAAAAAAAAAAAAAAAAAAAAAAAAAAAAAAAAAAAAAAAAAAAAAAAAAAAAAAAAAAAAAAAAAAAAAAAAAAAAAAAAAAAAAAAALbbbbbbbbbQAAAAAAAAAAAAAAAAAAAAAAAAAAAAAAAAAAAAAAAAAAAAAAAAAAAAAAAAAAAAAAAAAAAAAAAAAAAAAAAAAAAAAAAAAAAAAAAAAAAAAAAAAAAAAAAAAAAAALbbbbbbbbbQAAAAAAAAAAAAAAAAAAAAAAAAAAAAAAAAAAAAAAAAAAAAAAAAAAAAAAAAAAAAAAAAAAAAAAAAAAAAAAAAAAAAAAAAAAAAAAAAAAAAAAAAAAAAAAAAAAAAALbbbbbbbbbQAAAAAAACkkkkkkkkkkkkkkkkkkkkkkkkkkkkktkAAAAAEIAAAAAAAAAAAAAAAAAAAAAAAAAAAAJkAAAAABFttttttttttttttttttttttttttttsuQAAALbbbbbbbbbQAAAAAABzbbbbbbbbbbbbbbbbbbbbbbbbbbbbbbQQAAAApJJJJJJJJJJJJJJJJJJJJJJJJJJJJJJMAAAAAE22222222222222222222222222222224AAALbbbbbbbbbQAAAAAAEbbbbbbbbbbbbbbbbbbbbbbbbbbbbbbbagAAAIJJJJJJJJJJJJJJJJJJJJJJJJJJJJJJJJgAAABW22222222222222222222222222222222AAALbbbbbbbbbQAAAAAAPbbbbbbbbbbbbbbbbbbbbbbbbbbbbbbbbQAAAJJJJJJJJJJJJJJJJJJJJJJJJJJJJJJJJJMAAABm22222222222222222222222222222223QAALbbbbbbbbbQAAAAAALbbbbbbbbbbbbbbbbbbbbbbbbbbbbbbbbSAAANJJJJJJJJJJJJJJJJJJJJJJJJJJJJJJJJMAAAB222222222222222222222222222222223AAALbbbbbbbbbQAAAAAALbbbbbbbbbbbbbbbbbbbbbbbbbbbbbbbbSAAANJJJJJJJJJJJJJJJJJJJJJJJJJJJJJJJJMAAAB222222222222222222222222222222223AAALbbbbbbbbbQAAAAAALbbbbbbbbbbbbbbbRbbbbbbbbbbbbbbbbSAAANJJJJJJJJJJJJJJJJJJJJJJJJJJJJJJJJMAAAB222222222222222282222222222222223AAALbbbbbbbbbQAAAAAALbbbbbbbbbbbbbRvJThbbbbbbbbbbbbbbSAAANJJJJJJJJJJJJJIMZGJJJJJJJJJJJJJJJMAAAB222222222222223b3gc22222222222223AAALbbbbbbbbbQAAAAAALbbbbbbbbbbbbaX/wD/APBttttttttttttttIAAA0kkkkkkkkkkkkkh/wD/ANKSSSSSSSSSSSSSTAAAAdttttttttttttt4/wD/AP8AFtttttttttttttwAAC2222222220AAAAAAC22222222222223/8A/wD/AH22222222222220gAADSSSSSSSSSSSSSb//AP8A/wDSSSSSSSSSSSSSTAAAAdttttttttttttsb/wD/AP8AgNttttttttttttwAAC2222222220AAAAAAC222222222222wfo//AC/VtttttttttttttIAAA0kkkkkkkkkkkkJ5f/8A72ZJJJJJJJJJJJJMAAAB2222222222222/8Ayf8AS/3bbbbbbbbbbbbcAAAttttttttttAAAAAAAttttttttttttv/Sv6KXStttttttttttttIAAA0kkkkkkkkkkkkP4Q/Wn7kkkkkkkkkkkkkwAAAHbbbbbbbbbbbba3xt/pn8bbbbbbbbbbbbcAAAttttttttttAAAAAAAttttttttttttp/pv5RP4tttttttttttttIAAA0kkkkkkkkkkklf8m/gn/kkkkkkkkkkkkkwAAAHbbbbbbbbbbbbY/wDU/wAyf5NtttttttttttwAAC2222222220AAAAAAC222222222220b/wAv/s//ALbbbbbbbbbbbbSAAANJJJJJJJJJJJI/+L/+Z/3JJJJJJJJJJJJMAAAB2222222222222/8Ay/8ADf8A+222222222223AAALbbbbbbbbbQAAAAAALbbbbbbbbbbbRv/AP8A/wD/APm2222222222220gAADSSSSSSSSSSSSL/8A/wD/AP8A/UkkkkkkkkkkkkwAAAHbbbbbbbbbbbbc/wD+3f8A/wDrbbbbbbbbbbbcAAAttttttttttAAAAAAAttttttttttttA/P/AP8Aqf22222222222220gAADSSSSSSSSSSSSb/8A/wD/AP8A/wBJJJJJJJJJJJJMAAAB2222222222223f8AofMv/sttttttttttttwAAC2222222220AAAAAAC222222222222j9H//AI/6tttttttttttttIAAA0kkkkkkkkkkkhP4AAAn7kkkkkkkkkkkkkwAAAHbbbbbbbbbbbbZ/wD/AP8Amn6bbbbbbbbbbbbcAAAttttttttttAAAAAAAttttttttttttr/lP/kPItttttttttttttIAAA0kkkkkkkkkkkkH9222n6kkkkkkkkkkkkkwAAAHbbbbbbbbbbbbaH+//AOv+m222222222223AAALbbbbbbbbbQAAAAAALbbbbbbbbbbbal+Exr/ANW2222222222220gAADSSSSSSSSSSSSQT//AP8A/wBeSSSSSSSSSSSSTAAAAdtttttttttttts9L/8A/wD0m222222222223AAALbbbbbbbbbQAAAAAALbbbbbbbbbbbbfP7FT/AOW2222222222220gAADSSSSSSSSSSSSSI//AP8A+1JJJJJJJJJJJJJMAAAB22222222222228v/AP8A/wCG2222222222223AAALbbbbbbbbbQAAAAAALbbbbbbbbbbbbaD/wD/AMUttttttttttttttIAAA0kkkkkkkkkkkkkw/wD/AOmSSSSSSSSSSSSSTAAAAdtttttttttttttuX/8A/IbbbbbbbbbbbbbcAAAttttttttttAAAAAAAttttttttttttttGtkVtttttttttttttttIAAA0kkkkkkkkkkkkkg4kAskkkkkkkkkkkkkkwAAAHbbbbbbbbbbbbbbfdFabbbbbbbbbbbbbbcAAAttttttttttAAAAAAAtttttttttttttttttttttttttttttttttIAAA0kkkkkkkkkkkkkkkkkkkkkkkkkkkkkkkkwAAAHbbbbbbbbbbbbbbbbbbbbbbbbbbbbbbbbcAAAttttttttttAAAAAAAtttttttttttttttttttttttttttttttttIAAA0kkkkkkkkkkkkkkkkkkkkkkkkkkkkkkkkwAAAHbbbbbbbbbbbbbbbbbbbbbbbbbbbbbbbbcAAAttttttttttAAAAAAAtttttttttttttttttttttttttttttttttIAAA0kkkkkkkkkkkkkkkkkkkkkkkkkkkkkkkkwAAAHbbbbbbbbbbbbbbbbbbbbbbbbbbbbbbbbcAAAttttttttttAAAAAAAttttttttttttF0pWEiw2E9tttttttttttIAAA0kkkkkkkkkkkAUmGUwwUgkkkkkkkkkkkkwAAAHbbbbbbbbbbbe2bbfTb+ffbbbbbbbbbbbcAAAttttttttttAAAAAAAttttttttttttTN1OAYMPPNtttttttttttIAAA0kkkkkkkkkkkmEkAU0ASkkkkkkkkkkkkkwAAAHbbbbbbbbbbbYKrn7yWVLHbbbbbbbbbbbcAAAttttttttttAAAAAAAttttttttttttXRKSEqNyNNtttttttttttIAAA0kkkkkkkkkkkkE0ymQEkQ0kkkkkkkkkkkwAAAHbbbbbbbbbbbdiji0neyumbbbbbbbbbbbcAAAttttttttttAAAAAAAttttttttttttSqR0yBllCFtttttttttttIAAA0kkkkkkkkkkkGiAkiimGgUkkkkkkkkkkkwAAAHbbbbbbbbbbbbW3yya2yzSbbbbbbbbbbbcAAAttttttttttAAAAAAAtttttttttttttttttttttttttttttttttIAAA0kkkkkkkkkkkkkkkkkkkkkkkkkkkkkkkkwAAAHbbbbbbbbbbbbbbbbbbbbbbbbbbbbbbbbcAAAttttttttttAAAAAAAtttttttttttttttttttttttttttttttttIAAA0kkkkkkkkkkkkkkkkkkkkkkkkkkkkkkkkwAAAHbbbbbbbbbbbbbbbbbbbbbbbbbbbbbbbbcAAAttttttttttAAAAAAAtttttttttttttttttttttttttttttttttIAAA0kkkkkkkkkkkkkkkkkkkkkkkkkkkkkkkkwAAAHbbbbbbbbbbbbbbbbbbbbbbbbbbbbbbbbcAAAttttttttttAAAAAAAtttttttttttttttttttttttttttttttttIAAA0kkkkkkkkkkkkkkkkkkkkkkkkkkkkkkkkwAAAHbbbbbbbbbbbbbbbbbbbbbbbbbbbbbbbbcAAAttttttttttAAAAAAAttttSSttstttt1ttltttttgttqpRVttttIAAA0kkkkkki0kkkkkkkiSEkkk0kmkkkkkkkkwAAAHbbbbfb/bb2ebbbbbTbbfeTbbbbbbbbbbcAAAttttttttttAAAAAAAttttSyQWzwEGkE2yEGKkFA2SACkEC1tttIAAA0kkkkkkygAQiQkSCCymmE00gkkkkkkkkkwAAAHbbbbfS7za62aeTbb66+b3a+TXTyzbbbbcAAAttttttttttAAAAAAAttttt2gSqWmESiRSS0qklIEWm2MEhVtttIAAA0kkkkkkgAimmWy2USSmWSSyyQgkkkkkkkwAAAHbbbbbfb3fey2b222efST/AGt/812222223AAALbbbbbbbbbQAAAAAALbbbbbbbbbbbbbbbbbbbbbbbbbbbbbbbbSAAANJJJJJJJJJJJJJJJJJJJJJJtJJJJJJJJJMAAAB222222222222222222222222222222223AAALbbbbbbbbbQAAAAAALbbbbbbbbbbbbbbbUbbbbbbbbbbbbbbbbSAAANJJJJJJJJJJJNFJNIJIpFspJJJJJJJJJJMAAAB22222222220mm22202220222202222223AAALbbbbbbbbbQAAAAAALbbbbbbbbbbbbbblpAlbbbbbbbbbbbbbbSAAANJJJJJJJJJJJglFtJIhIgJpJJJJJJJJJJMAAAB22222212G+t/vuvkk/8ANd9f9pJdttttttwAAC2222222220AAAAAAC22222222222222oDQDa22222222222220gAADSSSSSSSSSSRTYCSACIKQZSSSSSSSSSSSTAAAAdtttttvJbJp9/dvdttNvtpZp99JttttttwAAC2222222220AAAAAAC222222222222226222222222222222220gAADSSSSSSSSSSSSSSSSSSSSSSSSSSSSSSSSTAAAAdtttttttttttv5tttttttttttttttttttwAAC2222222220AAAAAAC21LZWmqCgA7UoFQ0w22W22XKq1HHKm5W0gAADSSSSSSSSSSSSSSSSSSSSSSSSSSSSSSSSTAAAAdtttttttp/Zt/8Affazfb7fbfb7bbbbbbbcAAAttttttttttAAAAAAAtt1qNhECqVCiSQKGqw12S2emyG8wMWpNtIAAA0kkkkkkkkkkkkkkkkkkkkkkkkkkkkkkkkwAAAHbbbbbbbTWzfyWyWeX0b+226XfbbbbbbbcAAAttttttttttAAAAAAAttIilUykogSSSiiyoE1CAkWS1my+CS1ttIAAA0kkkkkkkkkkkkkkkkkkkkkkkkkkkkkkkkwAAAHbbbbbbbyy3fa272fWz62X2SSzbbbbbbbcAAAttttttttttAAAAAAAtttttttttttttttNttttttttptpNtttttIAAA0kkkkkkkkkkkkkkkkkkkkkkkkkkkkkkkkwAAAHbbbbbbbbbbbbbbbbbbbbbbb7bbbbbbbbcAAAttttttttttgAAAAAANttttttttttttttttttttttttttttttttoAAAEkkkkkkkkkkkkkkkkkkkkkkkkkkkkkkkkAAAADbbbbbbbbbbbbbbbbbbbbbbbbbbbbbbbbYAAEttttttttttIAAAAAA1tttttttttttttttttttttttttttttttugAAAUkkkkkkkkkkkkkkkkkkkkkkkkkkkkkkkiAAAAEbbbbbbbbbbbbbbbbbbbbbbbbbbbbbbbbQAABttttttttttIAAAAAAGtttttttttttttttttttttttttttttttvAAAAEkkkkkkkkkkkkkkkkkkkkkkkkkkkkkkkEAAAAAzbbbbbbbbbbbbbbbbbbbbbbbbbbbbbbboAABttttttttttoAAAAAAAutttttttttttttttttttttttttttttq4AAAAEGkkkkkkkkkkkkkkkkkkkkkkkkkkkkkkgAAAAAH7bbbbbbbbbbbbbbbbbbbbbbbbbbbbbxAAAFttttttttttpAAAAAAAAW2222222222222222222222222222QAAAAAAEkkkkkkkkkkkkkkkkkkkkkkkkkkkkkQAAAAAAAFttttttttttttttttttttttttttttpAAAAtttttttttttpAAAAAAAAAAAAAAAAAAAAAAAAAAAAAAAAAAAAAAAAAAAAAAAAAAAAAAAAAAAAAAAAAAAAAAAAAAAAAAAAAAAAAAAAAAAAAAAAAAAAAAAAAAAAAAAAAAAANtttttttttttoAAAAAAAAAAAAAAAAAAAAAAAAAAAAAAAAAAAAAAAAAAAAAAAAAAAAAAAAAAAAAAAAAAAAAAAAAAAAAAAAAAAAAAAAAAAAAAAAAAAAAAAAAAAAAAAAAABtttttttttttttAAAAAAAAAAAAAAAAAAAAAAAAAAAAAAAAAAAAAAAAAAAAAAAAAAAAAAAAAAAAAAAAAAAAAAAAAAAAAAAAAAAAAAAAAAAAAAAAAAAAAAAAAAAAAAAAAAttttttttttttttIAAAAAAAAAAAAAAAAAAAAAAAAAAAAAAAAAAAAAAAAAAAAAAAAAAAAAAAAAAAAAAAAAAAAAAAAAAAAAAAAAAAAAAAAAAAAAAAAAAAAAAAAAAAAAAAABttttttttttttttpAAAAAAAAAAAAAAAAAAAAAAAAAAAAAAAAAAAAAAAAAAAAAAAAAAAAAAAAAAAAAAAAAAAAAAAAAAAAAAAAAAAAAAAAAAAAAAAAAAAAAAAAAAAAAAAAttttttttttttttttsgAAAAAAAAAAAAAAAAAAAAAAAAAAAAAAAAAAAAAAAAAAAAAAAAAAAAAAAAAAAAAAAAAAAAAAAAAAAAAAAAAAAAAAAAAAAAAAAAAAAAAAAAAAAAEltttttttttttttttttNggAAAAAAAAAAAAAAAAAAAAAAAAAAAAAAAAAAAAAAAAAAAAAAAAAAAAAAAAAAAAAAAAAAAAAAAAAAAAAAAAAAAAAAAAAAAAAAAAAAAAAAAAEEptttttttttttttttttttttttttttttttttttttttttttttttttttttttttttttttttttttttttttttttttttttttttttttttttttttttttttttttttttttttttttttttttttttttttttttttttttttttttttttttttttttttttttttttttttttttttttttttttttttttttttttttttttttttttttttttttttttttttttttttttttttttttttttttttttttttttttttttttttttttttttttttttttttttttttttttttttttttttttttttttttttttttttttttttttttttttttttttttttttttttttttttttttttttttttttttttttttttttttttttttttttttttttttttttttttttttttttttttttttttttttttttttttttttttttttttttttttttttttttttttttttttttttttttttttttttttttttttttttttttttttttttttttttttttttttttttttttttttttttttttttttttttttttttttttttttttttttttttttttttttttttttttttttttttttttttttttttttttttttttttttttttttttttttttttttttttttttttttttttttttttttttttttttttttttttttttttttttttttttttttttttttttttttttttttttttttttttttttttttttttttttttttttttttttttttttttttttttttttttttttttttttttttttttttttttttttttttttttttttttttttttttttttttttttttttttttttttttttttttttttttttttttttttttttttttttttttttttttttttttttttttttttttttttttttttttttttttttttttttttttttttttttttttttttttttttttttttttttttttttttttttttttttttttttttttttttttttttttttttttttttttttttttttttttttttttttttttttttttttttttttttttttttttttttttttttttttttttttttttttttttttttttttttttttttttttttttttttttttttttttttttttttttttttttttttttttttttttttttttttttttttttttttttttttttttttttttttttttttttttttttttttttttttttttttttttttttttttttttttttttttttttttttttttttttttttttttttttttttttttttttttttttttttttttttttttttttttttttttttttttttttttttttttttttttttttttttttttttttttttttttttttttttttttttJJJJJJJJJJJJJJJJJJJJJJJJJJJJJJJJJJJJJJJJJJJJJJJJJJJJJJJJJJJJJJJJJJJJJJJJJJJJJJJJJJJJJJJJJJJJJJJJJJJJJJJJJJJJJJJJJJJJJJJJJJJJJJJJ/8QALxEAAwABAgMGBQUBAQEAAAAAAAERMRAhQEFQIDBRYGFxcIGRodGxweHw8bCgkP/aAAgBAwEBPxD/AJilKUpSlKUpSlKUpSlKUpSlKUpSlKUpSlKUpSlKUpSlKUpSlKUpSlKUpSlKUpSlKUpSlKUpSlKUpSlKUpSlKUpSlKUpSlKUpSlKUpSlKUpSlKUpSlKUpSlKUpSlKUpSlKUpSlKUpSlKUpSlKUpSlKUpSlKUpSlKUpSlKUpSlKUpSlKUpSlKUpS/+iB//P8AfxrX/IlhCdahPLCZiUgggggggggggggggggggggggggggggggggggggggggggggggggggggggggggfgGms9MS8gPyrbd9fapDzW/KiVzyClXSl5CflNPISR9JXkJ/BVn0leQn8FWfSV5CfnROg59JXGLaRGzlfRGNh6GbX82eo+pkr6myQn0ZvZ+g/zx76K1iiMt9DHhJwkNuUZ8Ky31GMXyKnxeJ7L5eJvTH+i/P3P26X9RKwv0RsznyR4qem38CZxvB7P8foNrDLk+Nz6SuLv975IrG28OXcNF++r2FltT419EZ4fwFsIu2hImx6D8PIRZTWwhOvYeS/LEpsu3ugevNezJzuc/D34zPpK4q/7thDOyt91yUPKE51T4x9Dtte3d7EvfyAQF1vBD9bL8PRd0/oqeUZXYPT0f7cXn0lcSwO2Q4tjl7aoK9r0QxokfYYRj9hzGL313/wD2H/PGPoWUwhKapjiTssI0E7jXdMH18mT9P3P9lrEZPVwwj7Gn2G0lWUrPwq1QXs/7TOQ39fFZ9JXEwc2XtqkYW7EJCIlTYt/bV6jm4JSB4RUxzXk5onN0XTOH7ri30Kf4vfV6eFo45FqxeR6XDD1trn15lWaCs4kotEMbkOS9C5JC5IhYMtb+62ere6Svq8/YTa3Qwqx38U/xqtr91s/blxWfSVxPp1bfT+dbPatgnd0LpvYiWrVnJpicypjKyJHqC7ruO9+LfRZPDB6NXO1SeRol8q8gyLry/d/xdVObmIzxh+K8RfRW8Izgpb+731YFWPfweNFPxzPZc/nqhlzT+vL78Vn0lcQ3C882+xXFIviv17D2uRnZ9iS8U1xb6DS/BdhpNRjSpOy0rQQkXYlXiuup+I/Qv57EZ09UOYW8Zv2GRdT5M3qnt2fRhl9+Jz6SuIzDz339Hs+LfQcvt3/2nXUV7v0Xb2RK+aMgvbja8X68Tn0lcTY+TerejZf3btoqa2LSc6yX4Jvi30GSrx7+keC66p4N36r+OwhK2w5aq8WPl4ldg9Nv2ISVovcbp9vF+HTG2srY/r+Sk91lPK7Dc3PXht/fic+kriaTlu1W7mb9R7Lk/ty7TWvhPuxaXk/XWCf7L9+LfQfSETu+qW2Qr/RX+iv9Ff6K/wBFf6FJkvkGRSbC/db/AJ7Dk3Zs2ub8PZfcTF1vHIvf19BbCLXI1yayvmID/Z8mvB/uhJ23hrweqeZyL3ey4rPpK4nxy/Rz1j5GzFqxvuv7getEa7CEms33yz6sypvRjLIxHgOffnxb6FtrytX9XKR/gj/BH+CP8Ef4I/wLruzWvMvbrzIC1MFSXR+cSL3eyFPXVv8AdsfTPabJb5Xo+Qx4tvzWP3WqmfG7/ZfvxWfSVxKEjHtSyx+PlrzS+9fwTLf1Wf77ij22vXYVOX1GW/LX5JhbenNlXsTC1dI2WPfx4x9Cd4TmISru20lWb8sLHXyK36B+Hz/XSqdjT35jnGnXO2isS+Y8ZNPlBLxfgOorK+Kz6SuKa/lejH5H861AT9BfI9y/A+Sv3Fs2ewwpXriouX4+iEBcS4x9D9I/oJ3dd16A8gE2nUIT4mH/AFnun1kQs+y4X958Xn0lcXGP8D5o9Rfv20zRDpbK8Ob/AAIC4lxr6JzwC+v21dYcpfIQxq25BL5P5fkVnJp8122ZPfCz8/AoGJYXJf3x4zPpK43AK8Ub0p/Yz/0Q9T9DwP7tDG/0/wAnjl48+PfRXtaM2xaZjYT+Qa+QxG5tywc1r5FURXpy+g9KU9fwf5Fe/wA5P+RnH1jLp8q/0NiY30X9+QkbPaz9fxBjVq+Nz6SvIT+CrPpK8hP4Ks+kryE/gqz6SuIZdKXSlGylKUbEUbLxL81s4QE6roqIWqBQeg9lFSpUgYXRTiM+kriGchaMWrEPRjEIfFPzWyHWgZLIyeDIaTInTdA28EUETMTAwHrg1AyWSGquIz6SuIYlq2I20Yh6PVDNuJfmwSPQi7jLCHuFNbDQK5RunWYaMDATmbmYEcxly4jPpK4yaQms0mk0hOJfmtNo6EooQJENHkgiQUDRk2hAaolBqiENUgSLiM+kryE/gqz6SvIT+CrPpK8hP4Ks+kryE/gqz6Su7vC3vKXhX5dMQvIbnabg3NG53ad7iRNPAnVeHz6Su6Xb56Pu1ou8XbWi0QtF3D8vEGiFEWKmxUb2qFeZW2NyHKVp7mSGhWnvo27BY3K3uJ1Up7ie8E6xqVvA3EVrcaCvPXJaVNhUqVvcTqo0QrzK29huTK29huTK29hNhqu7z6Su6xq9H3S7a7L05nPVC1py1Wi0Qu6fl88DEaqHSg1gLBkzJHIN8hyMS7inhoy5ibCi2aOWxgeJCRHMJ4MSoU8BlzMtsCd0yWmImAosoRgITGVExlTJnMY93n0leQn8FWfSV5Cfmg1E3pd53N3ncJ291d53+fSV0KD49+YCctG2dFjcqWHpjlolkc5zCVE3Q1sMERzG3iHvAtnB7uCU0LLFlkrZ4BKtjOxmTG69xxzxE2xBHMbeDVg2OErd/n0lcbz6K/MBjexR7CVQab2g7yEdukawI1kSCQR5QrzEsNEeUJNuk3pMhpp1CTtejTTqEdrEt2JbsTdcE5sSaZGnUK8xJrYSaQ02NO1CTtZN6Jb0aadQ7Nu+z6SvIT82GqJJY71KcXn0ldh90u/fY59BfmJBje1FgqG4qJ3s1aVCDYLo4cG9httKtai6UpdL2E3twGfSV2Hq9XqhC1WiEc9OenMejHrz71CEIWrGPu35iMPbYbgiFoRTSyoTiaHtAhLQSSETpyjUamjQaiIDYm2BGIjYajUNzg1GoZIaiQyglvgwOZ8Fn0ldmE7M7U0neLSdud0tJ3z8xJvRKibQrFJtBJrno6dHTo1SsNjVU0q7DVGro1d0RyMm0JtCvHRqjVGqx0LdWNV0aro6EnzHT2EooJNZ4HPpK8hP4BJwefSV5CfwVZcW++XwVePyC3Fe2uiJ+QG/KttvIFu2ui3r18r+IJ3rjRFeOfwmoooooooooooooooooooooooooooooooooooooooooooooooooooooooooor7lf8An6nRZ8WZ/wBBT//EAC4RAAIBAwIFAgYDAQEBAAAAAAERACExURBBIDBAYGFQcXCRscHR4YGh8PHA0P/aAAgBAgEBPxD/AOANAjAMSJEiRIkSJEiRIkSJEiRIkSJEiRIkSJEiRIkSJEiRIkSJEiRIkSJEiRIkSJEiRIkSJEiRIR2hBHMCISMbMbMbMbMbMbMbMbMbMbMbMbMbMbMbMbMbMbMbMbMbMbMbMbMbMbMbMbMbMbMbMbMbMbMbMbMbMbMbMbMbMbMbMbMbMbMbMbMbMbMbMbMbMbMbMbMbMbMfMB7wAbdlL01lfXyHEcpNB6+CRURDvUBwdgAxySQfYKj3rf2FdyD27CJjkj4Wr+Rf2XD4Wr+Rf2XD4Wr+Rf2XD4DiEhmVw0/uXIP3lpR/E8YlvflN9lKuAnjr7+Rf1tDP6/KGH5k/iXRHtT6SrFP8mVAo/ky4J96/WC3PkfiVM/G/y9Hh11KJZxLRUvhTzSwFN3fvKECg1kx3CWLNzF4a535Aw0fq94eiR62/kX9YVNbcdh7ZMKWidzxi5kRuIAxT2bD749Gh1gxZSbSDkFmcFq3b4oLC5gKNAcplX2MIQ1HWX8i/qykS+77D78soILTd9j9vRYdWAGYZQs5RCYvAKsdujiuGBY3399SyED7wAMmOAMzA94CYj7a0I/B1l/Iv6q99ofc/xCSSzoASUIk8Mo8LBAyAYQkRXQFVEqJtHzg+iQ6v7hqQkDlrLhIAyWo3tQI97twyK31a7iTQQhMqxndhagMbBw4JAMiMAE3D0IdIlbbe3V38i/qjFA7A/j8nUeG7HgfuEA0MA0m08j86gYezkm0AACEPwq95HnUx81UPsfx6JDqgFPaHMVzoAyoIheDUUj7WM+50EbB1SSfv2494V1yiKwhUMNgFBU6vjcKHoERAcbJniQa0h+3V38i/qc8AH57Ql11GzN+mRfQorrfudv41KSgqPkfnQ6E+PxueBn3VfcU9Dh1SDPUFFwTgAGYE465wGgVtdvSBPAA4FpkxMUOCxRlghwPDhdXfyL+pbZED7/bgADojcSiU9+FXQe8LjMnc8DzAvsfQ4dU7wOAszUoDuAECxAiJcLB47aWoLc7/AD9+rv5F/U/130PP/wBHgehw6qx7cYNYQgi/H/RHbbzwBqMlrxlZUBCQttWgyR1d/Iv6luG4H7ffn19uJ+3ocOq/inAA6CG2PiK8h9YR7/1BTE/ODXT7Qsg4VPh22QjcU1MPIfSAGY/viFm/QIYhufpq4j9+rv5F/U+XAYQiDrv4gBOnzn+v7T/X9p/r+0/1/af6/tP9f2m/GCEqfPUBlCZsA/vf0OHVU1twC3PaEJ28wkmp1OM4dA/yIYp9vwMEfVrSFlRCnvv6MAAIxwHJEJRm/wDQghYGgAJWENkPp1d/Iv6o5Bbo999Q0QsLVJ4Hz/U8D5/qeB8/1PA+f6ngfP8AU8D5/qB7WCW6alOI3D9v79Eh1QTFvDFPbR+RZeP04igga+2qQT9h24BILECMmy+odv8AVGTTwbf72hIrD2rCnf5QCXzY+GvnYRLqJudag1N+sv5F/VALsVHv+4QjRHLGgMmBCd9T+P49Eh1aG8L6bIIHaBxkrLpaBIwIrA7dC3/WMf8ArUagRKyw9jBlf1KlV7wAIENbgCh0Rk9ZfyL+rXVTcZ/cISN+SASUJQh8Rj9/T0WHWGL/AIuUgFYp779vnGgpqYfjjJADMe1znaHRGT1t/Iv6x975sff8ykd9D7Hjq1H/AF4r+0D2/Po0OsIdDPxUISCvGQoKZitdnuJSWx5lyB/elfEmae0Hb50xxjbr7+Rf1qniPMr4PFx+ZYoDwfypfi+ssxS2QHk/hxQQWLD8xfgePR4dcBQwd/mTanCHfC4JuAlSNTAFQfAhfyL+y4fC1fyL+y4fC1fyL+y4fAMS0AuFNALhWB4iWPSHMKGIgLENaiNIL6i/kX9SUD01ynv0xQPWT3woHGBwntwYMKML0KHVvV8Dj4n20tgWjcwC0mhgIOiyCoAUvgMQ5UdAIx1N/Iv6naIJ0gTaOCjo74agiRWEa0GVZdLiAw5fL/QoegjQQwdvLYwQBQ0MAoMIG83pos0i0v0NDBpoB6lfyL+pNQTD04oBuZeCC8NxbLtA2FLlESMQIQl8OTSEKh9Bh6GIYIe3RDgC0IBi6LAAhaAKFoIQOhAwBQtFgC6i/kX9STIULZLnHhboUQkdC2QlwGAoQWjtwl0LZAQLjwll+gw6tarlr4CL+Rf2XD4Wr+Rf2XD4Wr+Rf2XD4Wr+Rf2XDvMSoC4SBAQee6riDczwh2cQNVqC9AXyr+RfzgwcIRURT4AHqU4inAAyoQjAHyQHqG0XVQ7zEOAKVV0JLQhKEZEMBLUMCEhA4TVCA1RjJKhJEJjqoSWhA94yYTEsjKMkoQGqMZJWhgJaMJLQgJaOhcJxpVlQlCZR0cDjJKEuMLhMRlSAuWRkwmORfyL+cDRQllw2QigMIoDEAK6SbaEEHACoiAFYAFREArACohYCIEoSooKlKiEul0JG0NQUNqACkAKg0EG8QIpAbjKmIgVLTECGJccQJQiCi6iHeoQKl6AYgWNATpDQuAuGC9IRVmJtBcwhiNcwwaFwFwAChEENpZLGCpcF9QvTgN66bILmAxLFFZBaWMuJm9dAKgTCIC8HIv5F/PDSgAQWJQAIBG8BAaIroQwFDFAIRcIVABCLhCoAIUAm5C7gxDGBC3LoaMRCCeIATho1gYyYS5vm+HeGLGAIGssMKhlQIlBU26hD4Wr+Rf6aCoaEOth8Cx9Cv5F/UKj0AdNAQGhAFtQb4AGHqDKhCMBlQgA/QIfAgalSxUNSoaCEoQQVVCquuv5F/TM6QLjAVBLl0LQoBB3EG0NLCmm6AoYARJgKQ0DLoqoCkSWXHR+gQ+BAuyAElmKrgMQhhQEwgtiAneVfW38i/piCIMJAQQEJGFbQkXAG0JgQmBCBUIKuGEnCThAUMYCkIWMKBpC1YCi4UTCnT0GHwILf0W/kX9lw7vEhCVWOjgLEfCHCvAanRwqmPQV3gvo5vCarRyzgJrHwA1Oj0egNToIxoxqxoxo4bxx6ElwW4L+Rf2XDu8FI2hGgpQIRSg0ym7gqSZcZulx0B1M3QV20AILmG4iRpDBDigUipaWQKQlrQhxY0hvAK6AMmChUAZLgoVAGawUKhKJgClkAEQqQAQ5bCVDa0sgACEjebw3ENxEuNfyL+y4ejHsoEhYuEOI50IcsUAQgCgCMVXp4QBTwg8wBQCrhFXFVxVcI3EVEYjmEMRq8DfQirEA3MIdYAd9EWxAFCKsQBQ1MQBRVgCgCgCgClNjLIQ41oUqw+8IcRdYRVxVcVXFXiv5F/ZcPg4XCuZfyL+y4fC3dyNvYQ0HJHdZI9gkrkix2CDK722uwHU5S69gJr3uM4C/XCQI23Mwwgj1wEbQA5r7tZjRo0aNGjRo0aNGjRo0aNGjRo0aNGjRo0aNGjRo0aNGjRo0aNGjRo0aNGjRo0aNGjRo0Z6BMRMRMRMRMRMRMRMRMRMRMRMRMRMRMRMRMRMRMRMRMRMRMRMRMRMRMRMRMRMRMRMRMRMRMRMRMRMRMRMRMRMRMRMRMRMRMRMRMRMRMRMRMRMRMRMRMRMRP/Gwf/8QALRABAAIBAgUCBQUBAQEAAAAAAQARITFRQWGRofFAcRAwgcHwIFBgsdFw4bD/2gAIAQEAAT8Q/wDmJi2B7zRF9hB/0Y8CXL6Jy+icvonL6Jy+icvonL6Jy+icvonL6Jy+icvonL6Jy+icvonL6Jy+icvonL6Jy+icvonL6Jy+icvonL6Jy+icvonL6Jy+icvonL6Jy+icvonL6Jy+icvonL6Jy+icvonL6Jy+icvonL6Jy+icvonL6Jy+icvonL6Jy+icvonL6Jy+icvonL6Jy+icvonL6Jy+icvonL6Jy+icvonL6Jy+icvonL6Jy+icvonL6Jy+icvonL6Jy+icvonL6Jy+icvonL6Jy+icvonL6Jy+icvonL6Jy+icvonL6Jy+icvonL6Jy+icvonL6Jy+icvonL6Jy+icvonL6Jy+icvonL6Jy+icvonL6Jy+icvonL6Jy+icvonL6Jy+icvonL6Jy+icvonL6Jy+icvonL6Jy+icvonL6Jy+icvonL6Jy+icvonL6Jy+icvonL6Jy+icvonL6Jy+icvonL6Jy+icvonL6Jy+icvonL6Jy+icvonL6Jy+icvonL6Jy+icvonL6Jy+icvonL6Jy+icvonL6Jy+icvonL6Jy+icvonL6Jy+icvonL6Jy+icvonL6Jy+icvonL6Jy+icvonL6Jy+icvonL6Jy+icvonL6Jy+icvonL6Jy+icvonL6Jy+icvonL6Jy+icvonL6Jy+icvonL6Jy+icvonL6Jy+icvonL6Jy+icvonL6Jy+icvohxWg8T6M1RfcQWwfb9lxK27EwODlrFK1V5/9ZErFHlMDg56zEjTs/sNgKJjvvH/r+O+8JYCz12ZZWhLUX9v+w3o/9mJYGp6wN5aEdJa/9jNJSQNoanqnfkiPUf8AsoNMkN+D1OEOR/DDLAtXgQKwMXLX+TYbcWoVHvWUJQKdjFPpYedTkOn/ACch0/5OQ6f8gq1FShwlKBFNXxj+VlChjeOWAsTifAYmqpXS4jFJR51OQ6f8nIdP+TkOn/JyHT/kNpbujeCch0/5DJqmqERCvtgdKjA9BKDHxEFqlXQQuxFMDjFepKe9TkOn/JyHT/k5Dp/yHIsWUOEdXLDUFRboDEOAKxOJ8BzjAU0uOG4N+tTkOn/JyHT/AJOQ6f8AJyHT/kaqzq8/1E2AGBtlBToir2fg6Q+ogsVnHewN23wrxptUczIaZarj8NcFKEJuRo02jlWFjy+A+7kurxmA5E0wN/gFQNkw7Q19rWuTeUTGjafgHKZqB+kDsRgULSmZ1l2jkZwwW9ZqZc3SHolxQpPeCII2PGCqK4UnIdP+RfV3aqxiChCs4A3Zi/JFQUqchf8AcuiCujQbn8Hxi7nqMQ/hpvqJ7XKypZpFgAoANpQZb0XU3h/glKtdZ+O2hmg3hLNGeLzxeXBm4Cdqf2fDuxv9fDuUUNEsTSeLxtTXoHCN1GKpfCeLwcBaBDUIYAOglPGcgHSdx9kuVq30H44s32zXvOw/3Pxm0JQHIS+E8Xni8uCDiAfiPNQJ4O3w/AbwWR2ni8fV+IDgzAhtKXvPF4AAANA/TojM+8AY3H+2V7UfVw+DozuX9xxG6R25wQCNjkSfme8/I5/C2mW/Y/8AYkhWBzErWtujh8Ow/wBM7T7vjrmG8dCMA+A7c4oQcQ+8OWW1vgcWVTHQQw9SPuV/sqlILzSUAJskFgm0cKZAsoMpwnFz3BcOUaCXwhVM2FRRviv0Jmkg015rgxBMNZOZAUmkwF/5DJ/B8weB6e2eBg/huhw1e3OZy0vR/wDkqxLgc9Y0L99SGtGyWM/HbRB13wuuJ5pABrNaoZJ2p/ZAJ4ls4zLS7ATskJpDGOe87lBp8O4/1Py23x7xOx/1O4+yUgNYeMu9svrENFz1HCNqW8VnYf7n4zaIIJXTxnmkLvvJUbi/gNR7M9sayyEWw4nBIJ3NI785+A3nbfD8vkzuPu/XbbL+kafnKfWsNuMvaMny1JvKTyeMdGEEliBPrHtPGe3KcPFaeJtPzPefkc/guFDXyIIQaJz1P3l8Kzffh8Ow/wBM7T7v0cczeOhFlwh7G0MwGo9uXwzOItby/BNNJ+srDezhiAi/p6wRBGx4k7jPw23wa2j33mTA+6njowdAcxXZmJ6e/hCieDh9NuBVH8Oy8M6q2kchUtZUuc94FPaZTx6oOTEwlCGyT8dtM+BWXXCfkf8AsBRMjm/34dqf2TX/AA0nD14rg2l+Do3iKc1k9rhp8O4/1Py23x7xOx/1O4+yUM1H0QuXIwPqH/n9SoVr/wCX3lAM+wB/3+p2H+5+M2mIUyXrifkf+z8j/wBgAA0PgP47aFVY75G0uQw1uHEmquh7LO2+H5fJncfd+pQLdCIPaLTyNIaH9LAjuTCqXEtU0/8AeOjOyRxnsrdvFyvXoYZVANkn5HOUm0f1mGsWl2NJ5xiDRqCymEDr1HGdh/pnafd+ioZqrkkqOaBe9fF6aQcWmGA2WS1UXMRjaDVqMa0GNuA8J3GfhtoDLQLlwu0uhcoBthcIU80s6RIqoJ2GKhqa9/4RuBVPpfdOf4cbYrA4nGNH45ZLcp2W4daMRVjlAuRybrPx20SZLrQvhPK55XBLiKCidqf2TX/DT4cclgfhmds/uGnw7j/U/LbfA5uL1RcfS741ElHBUaE7j7IYdrXQiH7rmeIIq0Dy0JphM/Wdh/ufjNoj6XlC+E8rnlcTo0hR8B/HbfDj0cTi3+s76dt8Py+TO4+79WXK79r2lKVn1cPhpjMezLrhpeWjAUGxLGdk+Dg4cD8MfD8jnLzYLfd/5MfU/Rw+FMMv0H/3+5Spr/7zsP8ATHtwSqF3nlcua1Rn8O6T8Nt8WlkGPhszKq6xNY4h9r3DUAy1KFUpFHY4zgBGltfeI2FFhfCLnWqsqV3QcwOEFAGEFjF7wsj7xwbiA4bSk26f4Qt2OfS2V2P4ejtbV0v0lvLOagQKcCkNGagOE4nBba5yn595yn595yn5946BoTQ1+sq3HrC6zGVjJTD4UGnSRyBobrz+KCHKuruK2bRvCvgxQXLxXc5T8+8Rg0E0NfrHJBm3XcZM6hVcIKjYAZW7wyIOzBmIRkRwvSKodEwqZkq621k5T8+85T8+85T8+8cpz8G8e8pLQLq6iEjQTQ1+vwC4Okii41dg/wDuBQG3wYI6hV8I5KMWyq/UqUHjJneCDSAr4kF67kzKKh0KslIbTX33v8Q+uvWrvEyWKwq4MpfyNwyqCg5fDXDSgkld1xm2sQDgFqucp+fecp+feVHtDXn8K+yFquoiBoJoa/X4ogEKR0YocuyyZuF7oLGtBK6IAFBQSgzQM67zlPz7xEeRWqpWQODxPZjG2Da6aMiANsmHW/8AP4TVXc9Kr93/ALWq930vcv8Atfdnpe9f9r7V6XvX/a+1el71/wBr7V6XvX/a+1el71/2vtXpe9f9r7V6XvX/AGvtXpe9egz5g3ZqVqAf5TxU8VPFTxU8VPFTxU8VPFTxU8VPFTxU8VPFTxU8VPFTxU8VPFTxU8VPFTxU8VPFTxU8VPFTxU8VPFTxU8VPFTxU8VPFTxU8VPFTxU8VPFTxU8VPFTxU8VPFTxU8VPFTxU8VPFRThjtSMQofX5mX+ozWrXOV/wCE8JPCTwk8JPCTwk8JPCTwk8JPCTwk8JPCTwk8JPCTwk8JPCTwk8JPCTwk8JPCTwk8JPCTwk8JPCTwk8JPCTwk8JPCTwk8JPCTwk8JPCTwk8JPCTwk8JPCTwk8JPCTwk8JPCTwkV4fpEZaOzEaFfNzehuzXLXOUf5TwU8FPBTwU8FPBTwU8FPBTwU8FPBTwU8FPBTwU8FPBTwU8FPBTwU8FPBTwU8FPBTwU8FPBTwU8FPBTwU8FPBTwU8FPBTwU8FPBTwU8FPBTwU8FPBTwU8FPBTwU8FPBTwU8FPBRbhjNdOzGKFfI7V6XvXz/wAQuBWD9+A0lkXlOj8rR+OBv+/0Asi2tOD8vS2OBv8Av9YLItTpwf19q9L3r5zGOMAAND+AXJx4fJouqABRofwC/wBzJ8qtgAKND+AXBxMn6+1el7186xux/Aql9fkZvofwLlI/J9oY/gVS5/q7V6XvXzvsfwLU9vkd9/C33n8InavS96+d9j+Bant8jvv4W+8/hE7V6XvXzvsfsFm5+xant8jvv4W+8/YVDVP2edq9L3r532PWCtOxgHNYUqYzrffV+hABxoET6tsVVl/FmDrAdz/SPDV8LJ0cRkMa/wBmY7RZLAuAXloe0GyzJ67U9vkd962hrYcX6RVgD8cRbBNsP6mQV7qaAvZRDLNsv7g0CHsvSXo93EfT9nfeeuxrPKHnw+qKcHAf2Y7RgkPFnpQjVvbrfeFEptvvL4pcPf66940G4/sjU7zThOYfsc7V6XvXzvserxRfP+q7HOKWi2qvo8Xm/I02Fssub7MGMWpqtk4PrdT2+R33rEVTQeH2bxy1aq/rCsDRGGxDROB9/wBmfeestc6WgTLEQcF9neIlFXKvH9ZBPebJbcSHKXtmOd8TlqfsU7V6XvXzvseqdZhsfWeRxjjztXDkbHL5TUgBnG9yTgwrN8bcnZPWant8jvvVuqR0H+j5ajaDhOHL9lfeercIp6gGqzY56rflRw+UdWytKOJGzhqsG1+5w/YZ2r0vevnfY9SalF2gBbFNFr3C0Pfi/E6s8EMEveiWP6Od9BHeUpLVGnT4gNNruOC+zp09Zqe3yO+9Vf34XJziqqtr8C6NalATKbqux9h/TkVldvFhgytFicn4DTZM48LmOD+yPvPVuNEUxq6/dfp8am3wQd5f4zWmnT9ABQA1XhOEfqC/HT3k4DiuSYjc2WnFcVzHH7BO1el71877HqXoN8bpwPq/18W4+qZq9CLBa1LVjnAVOBcCfX4ibaE3ouIqZgvA2Izs+DgbO5BBoodrNPgCREsTgzOkeynrh+vq9T2+R33qrmN9u+LrCE1Q1bgJje4CRBsRpI7gb27aheKIl+3xusNSgCxsthfvHLgtS1ZaOwt0ijsGkT2+KMtN9B/ZH3nqqNcc3cD6tETe0rirfwPRQtlZcUsxwI91bEl/AYA2YfiEJio1cXnkQUbGk4kUXXp6ppftXxbB+gug0HuU/R/YJ2r0vevnfY9SlSyHJpn+3xZDVd1FUh1iKQImEeEpqrRwU2Hu/ElVFjtZEKKpHjzOUdEVAgCN2Luhn4oYQDzPVjU9vkd96nd1K95r8aCGisES2sBPr8HIeVrKbHNce3P4nGzO0RaHGkfS5pEIetlDCBu5t9uf6LebWj7mP2N956pqStjc7/t+IdBBGN7LO1wkiFVoFqzjPL3m3+/irEBY0Aqnp8HCuo2tOP1v4mqh9dtdiwRLMj6+dq9L3r532PUAi0C44Vrf1T+ixsaqi+9awWIaUj9BwrdG5PrCHM6uZ+v6GJaGO77er1Pb5HfeptzZPv8Ab9Br6ooHMYGM2lLbcHBAAoKD46xk5ODLboYYTjqPByD9F5uT9jfeeqe2yq80/wAfooi2hdUUPHMdf0Y0bIWMpRLY5V+gabI6jaz7o9fO1el71877HqLtet66TiN35xWr1dant8jvvU9g/p+f+JyP2N956ooro0frFaW2SQqzOTf6whavsvXztXpe9fO+x6hBEdGGxT0FHxrNndWLaW8P1lL5UCXzBVAm3xaqsQ6erNT2+R33qbscL7Pv8/NOO/b9jfeeqWk1Rzs/QRIAWroQMbw6H2OMHlM9j/RDLBsN9pw085T2bgM11Co/X/Z9Ii34b/oQAWrRL7KUPoD187V6XvXzvsepYejhzcdw9fiSxAI/QftGqFI5RhOv6jLgccmXvUFKsHMD/V+LYGaPbP8Ab1bU9vkd96nn9B7xFI4TD8XpN6ErqBTppc8jnyOfI58jnyOfI5a+RRQ8AlGFxfxC2ibihfvx/Y33nqltQz6zv+g68Xsh7TWkw6fceUMGDABQfFMTHgvqR5FDZ6HZ+5PE4E+L5QjqTsfsE7V6XvXzvsepW4wujKvsw9fjQg1nd4n1gjUApnTuv7hN1tFifoLzpjitg4sGDCtkXFh60Ec+fwdqQTVVoIW6z0cXK6vq9T2+R33qqxKxvfj8aqLI8RGSrniEeIR4hHiEeIR4hAUluNHRct1rXxVKflB+yPvPVGhft0lS5Az57Psmfgiih9SwTCOovi9Omv6gaMOSNI9KEpcDk+58akDqDhf9lH0f2Cdq9L3r532PUlMOo0R4RexXg/8AQ/z4sqp4OPd2ecUGzkrXM/0gA48UH7QdhXY/9y02Q+n0P9luAunCHLh0nNGQzyGx8QdVkB7/ALD+/b1mp7fI771R4QOXzhlolI8PlggVNAcYQOtR57fsj7z1ZLHJslp7j+vb4ViAkVFLx3jxGm5YcAv9YAtqR3Xh8BmQWFgdV+awKYvJH3/YJ2r0vevnfY9VVGvAOREVyjIfVD8eR97oyFnhad7gblTbwhhEcbDppDWGQFB8dotLt/Zz4Q9ajqAes1Pb5Hferpo4Hsf9iKRETUfkgrQWsrmZ1Pxn9lfeerRAApHRI2JKC1v4zw+UotaBw5rwOcLY2o6tjk/YZ2r0vevnfY9WIXVPCbrhAejJmHte+n61htQLV9oWOCBr7B39oBC6Wget1Pb5Hfess6Nzh7pZsuDwfZ/XfI+x7yur7Hs/Zn3nrAgtQLE2YgsLalH1/Ziz1pAPo/rRnZiUTlu9pjo+Pm+xy/Yp2r0vevnfY9YglJYxkvOdc89DOGBdn3DvFkAOP9SwpF/NkSDC7E73OLF1h6v8gJDTOY+rp9PX6nt8jvvWs3rgLiqt2ckQxL2P7mpfQLmhfUKmgV+GkWEOxggk64B+zvvPXXL1VRXtDJFBnUsHR/kZahxS/o0xirXK39RgObr+1jK4hBdEx3maBnAvI463A4tQFAfsc7V6XvXzvsfwLU9vkd9/C33n8InavS96+d9j+Bant8jvv4W+8/hE7V6XvXzvsfwLU9vkd9/C33n8InavS96+d9j1DOSEnEqXdMImktlvB9asK4sOGzH9JhlQbdjaVoeGrylKfiAe9hfUn94SMCcEcJMIbqO6KK7gMbwH0yyNwg0VH4Jw0ob0b1lUNTQFvkfrp8DJIUBEtHNUvSOWyBHs1bT3hUYmNAAcrsvpFxNMvdVXReKdOMpJ6JiBAtota8I2qOSygrKvX4GQilWtqur4+o1Pb5HfeoVC7SssvpTQilXWM61F2ogafzLuCKfCs6QdDnrXwso8y2r6MFV/aCupSDT1hzcY3hEGlDejesbopVBd8r9dPhZVQEsF2bql6TP4DUNLqrf3CeQpOZoGva4FuqNqLEdqj+0YaGtNPFCNJy+RYS1GHPDhK9TwxIV3TFlddZkK7o/Yj7z1DQPCEBotAuuOI9minFaXdPlKauOrsxWBrycfhZpVmUAUKBUNBfMPeHA78o4jlstxPrWEML9JBp5lxcATOkizTqvZje2LywEbowjtwnCb18tatN18LOcaQCz60bqto46cyIqmhd1pCzFORYXSmab+kdWAuIFqadMH1meT9jOMFW3w4fCyZZ8lX0YKr+3rp2r0vevnfY9TdbiMMhYucB2q5UpjX6B9auWC/wCvIoptpSrrRapUGxvPEhoT94iKdECX1BkKXVIib5JqXuFpWjYXjXl8C1SDI9Nyx5hCpc1BVtqYjyUXi8F3lzPwOzNGTmZoKHvR9ZibhrxB/SVcKVyXg9U/BWHP7+Cgu8utwuJ6YRQBwPUant8jvvUdszEdlRdMLcMpmUVyTUFFdhnqcJp/lhLyMyYLb7rNNogBR+LFuDrj3n5Lf4DeCuL6zFjzCMPUJoC0ONEw7U4vF4Ltt6wA0sQR9pboSfYTMwwvnSTg1OaOQfYQjDRDgLfRL0RohsW8Tt+yVYZ956jCHYFtCq/QFhZ9QtCc7Z5nOa/4Zi6ehSVFMMA9YG8CpYNXBy5S1Qqhy9w20oXiRAIvQKcXdyzVI6K1IWGiVKmKcIj1HZGmVQ+DOPx0lNNaRfZgu23rMun4oc6vS6OkERooIoAaEAAIkjxirLOB0NLt2Y5C8hrUXsmEAGC8Uyfq2/WBykNsO4s02l8hScSF6HXHv66dq9L3r532PU3aqOB6IyL32jgsqeYnF7QKgsA1q27Ie5KOiEKQWAziqInQ0FZljldPoxDLIrbSKFQa3Jrmm3R1fGtdeGv6CzrH53ZPwOzDmLBoiLIkol54HWGNBq0zpPg1r5s3QcrYUtysEthY0acnqNT2+R33qO2Y1YJ8UDrMgweYXR+mvMZp/lhGcdRVWwcOK1lFoSNe5wzaMrvJ9nTBxwsojgikAFBXDGjnQpA3sk7j8Np+c2i9zFkUvHXNNQ5GF01i3zBFYt0d5lOcW70X8yOAcIVIwuKUe8J0pNXEbCcGOyAa1SOHOp+wvvPUFyU6xCRlpiqNFPcsdHjKHmveED402kxlpFjRDhSlYcyMiqGl04eaHvHXVAcjNla7LFXDOeKUn1aPrMVNH7vdm7nMyLHjLY8AjhAdEpoiozvZa3wXV6fEF770YN7aymEAeron5jZFXT9Y3g4fdKUDA69zhm0fXTtXpe9fO+x6glPxdATiOKWUPJZXUyB8HJCqqmxxHJsl/GAw8mhT6wyL6EXACPwWu6W2rHvKGyIU7rQA9wXG1yJLAN2N6TGj1S2K0DivCKOpWCm27UWhNqtABbviZf0xOhhT3lxNA3sFTGxBo6FFZrF8iH1QVbQarxXVlCY4yiFu1t8B6rJzVobu/qNT2+R33qEsTeV55vJ24A8N5VkyKVxWNl56wFiCk4iruqvG3wXvqjxqJSqDeU+ZRkaFhKcyO+Csamlgv2cQ2wgAoDaYapsGzIVm1iltcdoALd6Jf02qTThT3lafgKapLRwmuOBBKzew2KLAFFlSujg6oUBQYLeselXJDum1or1mA3SRXaAcO3wXi0tkqi2gb/sL7z1C1t6esjjKsuLmE11EVSCjh4nIhQVX6i2oA4uHwn4noyCC0Azglpkb/wBOf04meycF3lklouZ69g65aQsaRygoMBg+8pcAgL1LtbsfrZ12rpwq8OES1NugyqqG6LgdQjZWUTjEU/F2AOAYoJa3CNo5FHdNOMomQmgtQUFGY4yrkEu8KO3wnueJQqWqqDd9dO1el71877H8C1Pb5Hffwt95/CJ2r0vevnfY/gWp7fI77+FvvP4RO1el71877H8C1Pb5Hffwt95/CJ2r0vevnfY/gWp7fI77+FvvP4RO1el71877HyCcIFBm0r4YiGAtEK9DhjjCQRSJN6lrmzIvqSFXQMWn6lVlfiGmm3P5I328VNl3wOX4/pJE0+gLXoQSxdEhTe0b/MVPMOwaB4EIuhQRYPEpMc4dzZZTiTCn6TQ/BcoAcK+C0LtAfxgpWGje9ItC7QH8YKVho3vT5Wp7fI7751tFq4a2Wbf7RsAXxAWVY4QeVuV0LLVZs0f0CQXDHdZfdgaz6chYn0+DCtz7RdgNDH6iJQDRBbA0MfoZwxIBEKF94hsFTaSpfGrio4Dzw0F7sEAjY5PkB0i2ZHWdhk+LgsBQgFW+unw09pJqXRxo9U+8+VpcODGQc8Si5XYgJTVdm8TNGlYFQ1WKdWGTYSKWQMAuqQf5JcQsen6RsWTpMdXAySsfsoWMt9dPhW72ULGW+unyzwBaK2s21P1itRAUNa45HwVUB2DOLrQa0wdbMoXWs3r1s7V6XvXzvsfIaMl1BaNDZpnMqFqGNMWUNMd4OwYBOov92nAJWeI4VtWs5Rr34LqWZd2GdW+ccjgAv6Td4EG2Kwc/vG5TIWevChemssgdIDU0mg9pf+CN1aZGYZsODS8VZqioe531t1Qah9yOcHaIVUqzS9eUBWAK1RRAtIv/AJkQx4lAMhoCmnOGnto89yrvcHY0KgIOws6iDuNxr7ZtfB5TSwJLoFagwYlza6/7QnEk48t4fGg+wFoMPCoBzwvurFfsf+wGocLL0+xw/WNEGn7iP5zCB4stRq2swbKtWKxWMZ6MJkLlyhewL/e0DMKNXGm3dZgkbH3KcByg8YUyobAULussFuImiqGk4PbeVfIKZGjL7SmeYWjSaA29nX4XcbBEc2NF2Iyf24D+giQBHv5xYLmpVbRRvXrU8AlVnrFn8PQrBwK+gygl1VarhxcaI3wAoZmirpE+kACYxk4OVS5bNCluqMAUn05woGipNQWjhZvcAwtCRM2tF2I1iB4W+giTR9eRzK5AVNK6Rntj/sBZoGX6I/8Al3Ou9k5faI0BRap+giPyNT2+R33zrN9dJZrWmute7FaBsCjdqs5+EhcaoAG2zxzHyhwAZ7PHMTwcCRxWMuXkoMOvMg4F3LTxUuc27dGu/wAF5LajFBeCn1ggcropQcLr+oJMrtZBwD7mvC5YRYRZHS605kWGflMg4B9z6W+8tDLA6XtzIZ5Rpp9IstgrUdY2N5ui92DSGZ1rtbdV4js1F1Vg3kqfaCZ4Pmk1qUs1xz+GYomLYSwZv+iVgKSrZV4lXX3hm/qOJRWpeEqnunqqLg9CGgGvtzif+7iwXslNZzPXgAnZmiyUIOVe4QyZTtWCtT/GaA/BdtctXOJLhlVKwNQsx77QVSimcXQ264hV7dH1XiOUUUFLEukMI2deU5njs7uxeLJfTh4TIsuG1doqb7aIZBaDTPqH3nyjvUZNhHsxdl4Th24ZcOlasDNMpWDA11gblKdkyONJndutfTAtzyGIg4t1spqIOfbjLOYbUVKS+FvqQhcaMGNDqAsp4fIi3Sq8o+hP5pS3etYYXNpp0QZSPPGqQJRh/wAOk7h/UAAM3AFnYs6wb79XUKWbOr2+F7BAbWgCLY/uV3LZoFl7qGCECf5dVtUxXaPoq1pNjfK3sxLwBoZgFruwlmq4wOCvEL2YLeFSMyeIEccyVP8AGXS1hq85xCsMwq8HsiX+/eXXAUv0i9/EY1Qb9yFbhiYDY0tvjjDCGJVxZyUiaV8AhugWDZI8lwIHhQMkfYJwp1omouEsKOBbpUOYc/SyZuDke8OW7z6YdowwHaCNVTbDUDlYwiFrSDmHHDBK/owQ0OoCx2XOBbAcA/yCJwFDsB09uZBz9UmdAOAf5vK70fQrAdOHUhY4m3cUtaaawYbdSDlVUDynG8qXaU2spr0M7V6XvXzvsfJMqwpNyXkC/DqNpofW9bmJXXBAaLxo9onc4oE3GheU4eSRET3UYSxmKxzZqm8NXCdGLobBn8ZeDnlWYuONSyg56qRRwbO8dj9dQeJweEATa6LD7FX9RKm7lo5jW60/qCKcVgxWEaQ78pcluqS2xbBF/SFWW1FeVmGuUohEjcPP0gRCg+6HDe7jzYkdjCjAdAs0W/ryweI06MtxfMaUS+qcfcl4fSgt5DhiFIFjTSotLR9qjZnYJOgDVjmXqBCxHIxfbTQBpsgq9ucpCvDuScBr15RrIQBAWaDXL4MxHcSC5WD/AHeOpR5Xda40ojRMlupc7F8pxtjO4vYuuHwo6JreEhpGIMpsckbpVY+kQ4WZk0A8HeJwKYpq7OGuUEAe9QiA+6V9Yc1ciG38Dd+XHYbUd4A1yp9I4sTARsR0YGCLtPdNk17EWF2AeIH2jF2mLwoaRiCiRckarNVj6QLPj+JUF7TKPHc6g56v1icn7ZAe2e0ZEEci0pKTbnEySX0HILVgrlXyNT2+R33zypSXqreLhKOspfiB3S+DQ68oDtVYMUGnHqc4Cgc9AGh9u8a9Np4BJla14RzRT7Ehb1B7xVHAxkS+6Yx8MpALVQrAzMQ6wCkR4LjHKKUYuWtgaCjvFKxSo6geC4xyYx7B/GQNBRC9xWoqgeC0Y5MOcFgcEmy4FNOyjMZbuLdWDTTMJ1i0sCrRvX6x8YOqtCh0dTksPcgqYoQeKr0g76poQInBGF7wawNQOLV4lxbITqErVy9GXg79WtsmCjjrcvcovhBUwNjpCO6G+pZ5049ow2EEoLXDpj8JW+s3VW7RrYCSvkq0DeNbASV8lWgbxa8shPWjQ5sXUqQigE8cd+URvkQdcBmgzfOJnLdQZo0ObEsp4QyI0PeIYeeIBRqa9JqcqA9C26M19GFH10mvrHL258a9Q+8+Y8mFCjQaAvOXKuZrPgMuJwZZHBXvRcmeMsCXW4W1jC6hIdzycYZc3BfilSgWJvH/AMGqLJOp7QKAFwrMhoc2KmOVJMqPZiL4BkWo3Vbe0vYcAoGA10/qEBpWifYFGP8AJROkkOorQyH1r4VdROK4GCDFwwbMvE1HJrg95k9hqMgHWmvpFFqCs9GaJ4Q3y067YRyRO8cUY0MoLvDBbtSMQ8zB9IKmvhiKs1HePTLmxsGtP9QR+r8bCGii4/2W01d8gq9U1vYlnJUKwpBnVhM4lLtikqu5eH4xD13Eq5S8OV8cJ8Fu1XcShoc2FECqAHtA9trVbVhzmGMq0VYg5rIy/PBcRaI0qVDyh43pwDa2bwaJDOd4DLDTrhSg2JGC43K6wNEwSu2MKUAPBaMe8Vke83rE0dD6Qty1kGG2WjHvGqpY1ATqe0aiEaXaqzU5kaicZk0A8Hf0M7V6XvXzvsfwLU9vkd9+27QAfBOIGbhdMC6Ckcbn6195/CJ2r0vevnfY/YBvZl6wHPIV+kTin9jAtuNOP2HU9vkd96i2tzZTXQXd3fL4D1dRItGFIYugGZrWeFq5StuOXwC21e+gxi/ijq2RJV4JTnn+hltoKhFUuDJv8TO76rBiwTEGAFoqgWjbMOT+atF5pGAlp6aBBWtXvz/YH3npbbC4C8Sy2wxGE6ug2/8Afg9ebzcxZeOj8mi5qteml3VVy+RdUyYSFVK245fKHfDmKlgrtxy9LO1el71877HrUaVuiAW1y/qEsd6DKhxlHflKXKEQC2uVdIU5ZY9hdGvacBLViZ3qmXPGEmGCY2VzOFzXKiS1QqAj15RBBGxDCIomenrtT2+R33pi1NUKDjRDNoHAilqoT/ERpDhvyj0NkQ0ymjjOnIgklQyarzNa9pndoLHJLeA03JGxRTiod6bxDagMpFvvte7OLh6xrtAarVF6ckdbx8ONxsfX2hABUDVbuAiTXSALOCcGKnaoNoUzo57c5b1zyjrV4LTn2idcxVdZdHD0ipFusHfAcQM7DXbhDRVg6szGgZVTutAt8Y9YXfIymuFtvrPwmyHaw+1FI/SDC1ijbBys/YH3nzXhYZ2NsPAwrnM3N4YGC8MAOEPjy0WqI9SU5w/jSxlZFb/YNMQFwSqTIa28iJW1QovgC283tEBXQzEdTy47Vrl/cWjxW1CrN3jDRTiV9LNDkQRw1ASB9VTQMACS8jSEWXYwIGkHCubAjsjhprdSifWPDAgABS6qwPAVCglQIZtA4EW5VCfvIjSHDflLY3KiCLa5PaX2eOPK3DXtF3V0OBL2A9ucMGuYIPvBTXv8FLXZm6zRwXyjhrszclo4L5Q0AuXe8ZOEKgPOkqC41XeHtA7cLuMVOEpxV2D4peXN+FTPp+taGriYGXWLUl5AKm6PuoPKYowLMl7xM6VYt6DiqPdhIDUq+CVyBuorus66qkUD21mQRhZxYI1n20hG++h0WjHGYZNk42+Iz25yobop2GFTZiEaJuDCtwvF9JO1el71877HrXPKwDMcA0awxgtwtBsaL22ytdT5RsHFVOsENOsqItdMDE7raRlONSxPZlAD+5YdZhmt5hop+Bs0AMa7EMe7XLzdKCouBzhSsS/6Gh63U9vkd96bHnbiJkYBXHlFkvHalGhzjAdR7IBGNunOajESq+o1Vxi6adIwF4XkvnLkfBAaChoi3PKMnM5LJlDRzpGTmclkyho50gqegAoZVpppB5VCFA11Ro05zX7gEgH6qicrQkFWl6uNIykpJAGS9XlFaWrodI8Hb3YdNpNxcTAPu68D9VaAwBoHHeBesiyREwIuJYdYKcsAXjl3moTWUyDxHFtHLs0NaHTS9uXCWRuKu46ZeFcdf2F95828QmSspN3CV7SlzoaaTOLRWNiILsGKQDrQcIl5jpmLSWDccjABJRkcPG4NoKGGVwWxw36pZTABWt1NbB0dOEFQpGoaKY1ldcXuBLWjyigysWLs1o8ook2hEDSwOHrMDjRL1Mhi7vE15rmoCcL1VsfA7btQGrGAc+W0VAcdtkcOcHuLgy4OKq4xWJdI2TiquM4LTK+4ONBr3uOeN3KkOPr8AzpJM0IxVHdlsNBKuK0+kFS6hBBs4awXLqEEGzhrxgjbB9S2LwmtwDbF0OheLp0JWypoCMPju3PKC2UBO1VhG3ryiqChSwMhi7uAxM/DgBakBOUl6AeFMS9r4HbWunnylWhOnSUdgfsguuMMDb6L6Qx4gBSWHUaOYNUbgrMHUaMC3cs4A26mO8vofHQuKINY47xop0ZYrkOV36Odq9L3r532PWsBMwAbdZVq6/sup7fI77+FvvPU32LBhWZB1mZTUN2Qq+780EKU0G8guNeH7DO1el71877H6DdY5UGRSkzddY8QqqNoAFLWyCHJoVo6PPFMTClFLo1K6A/WIBpEcTXBv4OTI8AtU1JERVkm+xqrnOh+v7CucBKGVdRp6aMN6Mv0+KAMbBLM7NKeI4afDXzBV7BYW8DcJoVxWmkUDGix7LcwfQUgG4msAEt1uMDm3+x2EljELeKnOt3ZpNbsi89rEQrNBC52YBilraqi1pjjwYU4gNQgRxw3l2aqK1a5MRWEtLttsruGmgaAAS+ZGm20hKaF6vKEFUAjLoW8fhc8hYlIsxeCM2FSYHZRmkGFj+riUm9pGHax+AWH9AqiyFs01+t7ZMRIUUELlbmZB2C+2TEaHVDC5W5mdfo3tkxHl4ZyFQ5sq0Sw9gDh5MagZ19PVQYZ7SmvuCB2q4ZYFiWJATSWdBFuacxz9omIZYFqtAS7s4E/2BuAiAGVdCZ2jlFtquae1y98uJyyL9QU4mAsi8Zp4kMaVWdZrJkfTFiIBihgedn4aLBEigONk4uv/QW88/o1Pb5Hffwt9588ZHhoDQGqNUqV5CuIascOmZfPNKgKF8Mzm43Ftld8pVNagZwXhDA3MEFC7xNI4OUiEmpZxiMOvGw65MYllDqO9a5MRYBIij7G4VpbABzXSAQ9Dw3obhyApNg01dot4F4RaKNW6VXuE/DMC8BXoXjKbyqu2hcRExYxy2jN+4t38FpE5DbbK7+DzHZMX1cQdA3fPBpwTUCBV7rNQXDWaTmuCK4Sn9UU4mnXwh9rExvxX1RZqZh2De+XEePVDA7NOIrkKAnYGn1gJdBE3RdQSyq1rESbWam4xemU7V6XvXzvsfoWs+u/36CvR2d36wdo3Oup1An45IrODbACrwukvnHLPjWBVjds/WPtRvslnW4wWgDwxW8jPWUjpu0zZNiV78otEsckHWd+/qPwu0/L7fDUYo+I2GDXtG3hE0RQLiRHbAdCeGqyf7DRiyIqlFwIdYbdf4gIDyVgoT8hHSy45ClnuEH+llNU4A4Ok/Pbyks6dilqCNKgpAZWjlzzl/FNiaUDaZY58oyBy+uEY53EVLvGdSnV0gGBHyZpfiT4BjdVt0KnH2mkZqjFnCKXt7wkG2KFIKgYK/8AY9Er5yCmOBpvv8PfPudGnF4JZoRhN4NOF249toLpN8Ja3FuV82XtnoTUKnC7WuZtNDI962vwrlfOW4XkGsVOA5xzNooi29kGjK5w8OkNNvBGt4he2k/I7xWUURIlVqKt0iSto7Wx+1BGMtkEC+CjSACNASWioY26FDit19YbOkmE06IHF3moZWLlhqL4DUIObz4rvW3XGDSQxBpAHGGtY2ZUtsicETjZttPxe+KvjvkClnuTiahK1OAOD4KNoWlacIAFBR+jU9vkd9/C33nzzufPahRIiFNLtqry4f8As1s7y0uOYKNBX1HfWr4aVOL+aloLmggszKiQtfO34CGWbZhR7CzFgUGtUfQocJo9Nit8LbPrDHjYVpb1fc3xGoViGrQX6wcSPlBIpraDB7RRsro+sOIaOWUrlUAcinbCgw8evwuIImRYx7w2gemKxqHRHoogcThBYDw4rtd6XO8TMyg8LQ2MsXx5RZ6xq6WVc7hNXP0SiMt98/0NA107zQNwJurGOPYlwwCtABqHBzYZTyMVLRiy9fbaDBFpGMWcchBZ4TXvFGLtOhFpQTF44BKGPfnHzPZqS3uGwafeGpc9WAf9oQw9Wq44Ccn7fCqsMNmPTTtXpe9fO+x+gGAUUjxInBq/JOltvKZxpKLJ5qIVreKwaOCK5UlaE2jcQYweCHAM27FXr8Lmb1bTyJyQYql1sirrd2IGuhHd3UsYqluq7xmzhxudVt664iUCj7bgvpsribTGKQ9QpY4LVquPwAzT84wS5Oesq7VEAbot1vlCoVPOKEuTnrLleJiVUBwN+cUJxlwbc3VaxFiR8WAXlm62IxZL2bEl5Yq9mMWS9mxJeWKvZlBR1D94Y5KmPrjky2Hm9YbpS2ot0LpVU8ph9Azlpc5xi4l3z6CBriWaSgnwtXYXxBzlNTiUsCHRLHs7/BTeSJ1K5ee3CXZxMV9a+LbnmxYgTSnH6mXrCrTvCLyG1rFfDGnylMSlfd0NYSv4k3GhtD7G0qOIG04S05v/AGVOPCAOhuR0JTQ5I2AloN//AGV0vEA6G5HQmLj0a6W3q9iKmCspSpu9A7xAHCfBNFt1WsQhVA4Jot0rWBi4YdK8LdIooRbKu7shx94816irEDdEfrGXZ1NuweyDBHAoBMJRwUQVRYlmicDTf3uAB80i1khlDiu8qpGWIbrUaOko95zoTaezhwiFkp5sFXlivZjCEo5sSXlir2YwhKObEl5Yq9mOz6ZX713XEdL/AFNT2+R338LfefPocGouMXlir2hJ6xri4hxEsTZlqDS8AKDNOLNpZdjffm0rH2rEcGUJk0u9+PvFFWywxYXix+nwu3IKwS9sqhsx7OHrWljeKXZxEFCF9Ab5oQZfWNY67TTBvD97ikkMjhTWcqlFXQF9pma70+qri7YJ7JMuKTXV9Yxpuy7oK98/Cm8zHUqH36srnAPVYC5DLw1jYBfWa1HPS5RmJrSGgzTdJzJQAMjhpY5oxCgFYMu8UJyDxTRZV3rGGN9Hukq98xjiVOAgq7ODnGUmB59Uam0IuBr3tWGv44RDiWvATiYqtmIcS14CcTFVszOpIObau5nV3lzJxCWMw2tCVzhq7E6DIGgLb7RhzA/Gz9ZLHUzyFNDa/wCbennavSmvf+d9j1yyQpEW5ZiF0agKA9Fz43xfe6v9GlH5E9xmoiAo+9HzNT2+R338Lfeft+dkxz3AW+phv3/SmuZT85YOX8Cd9D5Dwfr/AAJ2efyXo+v8Cdpz/UbHK30vuIr51I8NH+Agy4RWV4/Iob0cfwE0XCLbfyaW9HD/AAEVXCLbf6vYRXpb945fPqXZNOf8Au3YNefygsMO/wC/6TZh3+XnjDv/AAC5wHf9de8cvSoBHRiqcH52k4XVBbQ/vmlhF4Q/v5Yo2NMFxg7wS0Pt++AYPaYl/p8wUbGmHp1QC0Pt++ace0wmH9v1qJxYAAND02mPZ9AKaSv/AGnmp5qeanmp5qeanmp5qeanmp5qeanmp5qeanmp5qeanmp5qeanmp5qeanmp5qeanmp5qeanmp5qeanmp5qeanmp5qeanmp5qeanmp5qeanmp5qeanmp5qeanmp5qeanmp5qeaiuvW+eKaKTyU8lPJTyU8lPJTyU8lPJTyU8lPJTyU8lPJTyU8lPJTyU8lPJTyU8lPJTyU8lPJTyU8lPJTyU8lPJTyU8lPJTyU8lPJTyU8lPJTyU8lPJTyU8lPJTyU8lPJTyU8lPJTyU8lPJTyUX1b6+gFNGpV/tPJTyU8lPJTyU8lPJTyU8lPJTyU8lPJTyU8lPJTyU8lPJTyU8lPJTyU8lPJTyU8lPJTyU8lPJTyU8lPJTyU8lPJTyU8lPJTyU8lPJTyU8lPJTyU8lPJTyU8lPJTyU8lPJTyU8lFdet8nXXsenNloxHep/wBnYxxhkND1GLMO/wD2fxYeq1B9z/sugPses1C9z/segXt65/4KMrAj/wBfrArKH7IfsA9G5nFTZ1iKgjz/AOtoqCvKZxU2NYPRr9jIoH3mvHdNCqNS6EQ1XSU7SmUymUymUymUymUymUymUymUymUymUymUymUymUymUymUymUymUymUymUymUymUymUymUymUymUymUymUymUymUymUymUymUymUymUymUymUymUymUymUymUymUymUymUymUymUymUymUymUymUymUymUymUymUymUymUymUymUymUymUymUymUymUymUymUymUymUymUymUymUymUymUymUymUymUymUymUymUymUymUymUymUymUymUymUymUymUymUymUymUymUymUymUymUymUymUymUymUymUymUymUymUymUymUymUynaCaLpNC6E1Ko147IRQHt+1UbSjaUbSjaUbSjaUbSjaUbSjaUbSjaUbSjaUbSjaUbSjaUbSjaUbSjaUbSjaUbSjaUbSjaUbSjaUbSjaUbSjaUbSjaUbSjaUbSjaUbSjaUbSjaUbSjaUbSjaUbSjaUbSjaUbSjaUbSjaUbSjaUbSjaUbSjaUbSjaUbSjaUbSjaUbSjaUbSjaUbSjaUbSjaUbSjaUbSjaUbSjaUbSjaUbSjaUbSjaUbSjaUbSjaUbSjaUbSjaUbSjaUbSjaUbSjaUbSjaUbSjaUbSjaUbSjaUbSjaUbSjaUbSjaUbSjaUbSjaUbSjaUbSjaUbSjaUbSjaUbSjaUbSjaUbSjaUbSjaUbSjaUbSjaUbSjaUbSjaUbSjaUbSjaUbSjaUbSjaUbSjaUbSjaUbSjaUbSjaUbSjaUbSjaUbSjaUbSjaUbSjaUbSjaUbSjaUbSjaUbSjaUbSjaUbSjaUbSjaUbSjaUbSjaUbSjaUbSjaUbSjaUbSjaUbSjaUbSjaUbSjaUbSjaUbSjaUbSjaUbSjb/5DFSpUqVKlSpUqVKlSpUqVKlSpUqVKlSpUqVKlSpUqVKlSpUqVKlSpUqVKlSpUqVKlSpUqVKlSpUqVKlSpUqVKlSpUqVKlSpUqVKlSpUqVKlSpUqVKlSpUqVKlSpUqVKlSpUqVKlSpUqVKlSpUqVKlSpUqVKlSpUqVKlSpUqVKlSpUqVKlSpUqVKlSpUqVKlSpUqVKlSpUqVKlSpUqVKlSpUqVKlSpUqVKlSpUqVKlSpUqVKlSpUqVKlSpUqVKlSpUqVKlSpUqVKlSpUqVKlSpUqVKlSpUqVKlSpUqVKlSpUqf/9k=)"
      ],
      "metadata": {
        "id": "CJpcqt6TgHIA"
      }
    },
    {
      "cell_type": "markdown",
      "source": [
        "#### **How it works?**\n",
        "\n",
        "Let's walk through a simple example of performing sentiment analysis on a single sentence: \"The movie was surprisingly good.\" We will look into each technique in detail later.\n",
        "\n",
        "**1. Text Input**\n",
        "\n",
        "Our raw input is the sentence itself:\n",
        "- \"The movie was surprisingly good.\"\n",
        "\n",
        "**2. Tokenization**\n",
        "\n",
        "We break the sentence into individual words or tokens. Each word is considered a token.\n",
        "- Tokens: [\"The\", \"movie\", \"was\", \"surprisingly\", \"good\"]\n",
        "\n",
        "**3. Stemming/Lemmatization**\n",
        "\n",
        "Next, we apply stemming or lemmatization to reduce words to their base or root form. Let's use lemmatization for a more accurate approach.\n",
        "- Before: [\"The\", \"movie\", \"was\", \"surprisingly\", \"good\"]\n",
        "- After Lemmatization: [\"The\", \"movie\", \"be\", \"surprisingly\", \"good\"]\n",
        "  - Note: \"was\" becomes \"be\" in its lemma form.\n",
        "\n",
        "**4. Vectorization**\n",
        "\n",
        "Now, we need to convert these tokens into a format that can be processed by a machine learning model. One common approach is using a bag-of-words model, where each word is represented by a number.\n",
        "- For simplicity, let's say our entire vocabulary in our dataset is [\"The\", \"movie\", \"be\", \"surprisingly\", \"good\", \"bad\", \"not\"]. Each word is assigned an index.\n",
        "- The vector representation for our sentence (using binary representation for presence or absence of words) might look like: [1, 1, 1, 1, 1, 0, 0]\n",
        "  - Here, each index corresponds to a word in our vocabulary. A '1' indicates the presence of the word in our sentence, and a '0' indicates absence.\n",
        "\n",
        "**5. Model Implementation**\n",
        "\n",
        "Now that we have our sentence in a numerical format, we can feed it into a sentiment analysis model. Let's assume we have a pre-trained model (like a basic logistic regression classifier) for this task.\n",
        "\n",
        "- The model takes our vector: [1, 1, 1, 1, 1, 0, 0].\n",
        "- It processes this vector and predicts the sentiment. The prediction is based on patterns it learned during training. For instance, the presence of positive words like \"good\" may lead it to predict a positive sentiment.\n",
        "\n",
        "**6. Output**\n",
        "\n",
        "The model outputs a sentiment label, such as \"positive\", \"negative\", or \"neutral\". In our case, given the presence of \"good\" and the absence of negative words, it's likely to predict:\n",
        "- \"Positive\"\n",
        "\n",
        "**Summary**\n",
        "In this process, our original sentence went through several stages of processing to be understandable by a machine learning model. It was tokenized, lemmatized, vectorized, and then fed into a sentiment analysis model, which gave us the final output: the sentiment of the sentence. This example simplifies many aspects (like the complexity of vectorization and model training) but gives a basic idea of how sentiment analysis works in NLP."
      ],
      "metadata": {
        "id": "fVIjdK_FLuc2"
      }
    },
    {
      "cell_type": "markdown",
      "source": [
        "### **Problem Statement:**\n",
        "\n",
        "A movie review aggregator website wants to automate the process of analyzing user-submitted movie reviews to determine whether the reviews are positive or negative. They want to develop a simple sentiment analysis system that can classify reviews into two categories: positive (favorable) and negative (unfavorable). This will help the website provide a quick overview of the sentiment of user reviews for each movie."
      ],
      "metadata": {
        "id": "2LoDzSUnIMW3"
      }
    },
    {
      "cell_type": "markdown",
      "source": [
        "**Dataset:**\n",
        "\n",
        "The website has access to a small dataset of user-submitted movie reviews, each labeled as either positive (1) or negative (0). The dataset contains textual reviews along with corresponding sentiment labels. It will be used for training and evaluating the sentiment analysis model."
      ],
      "metadata": {
        "id": "4YmWnLPTIX9-"
      }
    },
    {
      "cell_type": "markdown",
      "source": [
        "### **Implementation:**"
      ],
      "metadata": {
        "id": "4Gx2m9tGJZeC"
      }
    },
    {
      "cell_type": "markdown",
      "source": [
        "**Step 1: Import the libraries and load a sample data**"
      ],
      "metadata": {
        "id": "xqVwhLYQJcQe"
      }
    },
    {
      "cell_type": "markdown",
      "source": [
        "We'll use common NLP libraries like NLTK for tokenization and lemmatization, and scikit-learn for vectorization and model prediction.\n",
        "\n",
        "NLTK, which stands for Natural Language Toolkit, is a Python library and platform designed for working with human language data, particularly in the field of natural language processing (NLP). NLTK provides a wide range of tools and resources for tasks related to text analysis and NLP. It is one of the most widely used libraries for NLP in the Python ecosystem.\n",
        "\n",
        "Key features and components of NLTK include:\n",
        "\n",
        "1. **Text Processing**: NLTK provides functions for tokenization (splitting text into words or sentences), stemming (reducing words to their base or root form), lemmatization (reducing words to their dictionary form), and other basic text processing tasks.\n",
        "\n",
        "2. **Corpora and Resources**: NLTK includes a collection of large text corpora and lexical resources for various languages. These resources are valuable for research and experimentation in NLP.\n",
        "\n",
        "3. **Part-of-Speech Tagging**: NLTK includes tools for part-of-speech tagging, which involves labeling words in a sentence with their corresponding parts of speech (e.g., noun, verb, adjective).\n",
        "\n",
        "4. **Parsing**: NLTK supports syntactic and structural analysis of sentences through parsing techniques. It can be used to analyze the grammatical structure of sentences.\n",
        "\n",
        "5. **Machine Learning for NLP**: NLTK integrates with machine learning libraries like scikit-learn and provides tools for tasks like classification, clustering, and text classification. It allows users to build and train custom NLP models.\n",
        "\n",
        "6. **Named Entity Recognition (NER)**: NLTK includes tools for identifying and classifying named entities in text, such as names of people, organizations, locations, and more.\n",
        "\n",
        "7. **Language Processing Pipelines**: NLTK allows users to build custom language processing pipelines, enabling the creation of complex NLP applications.\n",
        "\n",
        "8. **Text Corpora and Resources**: NLTK provides access to a wide range of text corpora and lexical resources, making it a valuable resource for linguistic research and experimentation.\n",
        "\n",
        "9. **Community and Documentation**: NLTK has a large and active user community, which contributes to its extensive documentation and a wealth of educational resources, including tutorials and books.\n",
        "\n",
        "NLTK is often used for educational purposes, research, and prototyping in NLP and text analysis projects. Its wide range of features and resources make it a powerful tool for those working on various aspects of language processing and computational linguistics."
      ],
      "metadata": {
        "id": "-_RfArcKle77"
      }
    },
    {
      "cell_type": "code",
      "source": [
        "import pandas as pd\n",
        "import numpy as np\n",
        "from sklearn.model_selection import train_test_split\n",
        "from sklearn.feature_extraction.text import CountVectorizer\n",
        "from sklearn.linear_model import LogisticRegression\n",
        "from sklearn.metrics import accuracy_score\n",
        "import nltk\n",
        "from nltk.stem import WordNetLemmatizer\n",
        "from nltk.corpus import stopwords\n",
        "\n",
        "# Sample dataset\n",
        "data = {\n",
        "    'review': [\n",
        "        'The movie was great',\n",
        "        'The movie was okay',\n",
        "        'The movie was terrible',\n",
        "        'I loved the movie',\n",
        "        'I hated the movie'\n",
        "    ],\n",
        "    'sentiment': [1, 1, 0, 1, 0]  # 1 for positive, 0 for negative\n",
        "}\n",
        "\n",
        "df = pd.DataFrame(data)\n",
        "df"
      ],
      "metadata": {
        "id": "SUNxQEacJXC3",
        "colab": {
          "base_uri": "https://localhost:8080/",
          "height": 206
        },
        "outputId": "801ac28b-747d-45bf-aab6-18572a1801d5"
      },
      "execution_count": null,
      "outputs": [
        {
          "output_type": "execute_result",
          "data": {
            "text/plain": [
              "                   review  sentiment\n",
              "0     The movie was great          1\n",
              "1      The movie was okay          1\n",
              "2  The movie was terrible          0\n",
              "3       I loved the movie          1\n",
              "4       I hated the movie          0"
            ],
            "text/html": [
              "\n",
              "  <div id=\"df-d7774a4e-635c-4e8b-a301-d36cc65ddf16\" class=\"colab-df-container\">\n",
              "    <div>\n",
              "<style scoped>\n",
              "    .dataframe tbody tr th:only-of-type {\n",
              "        vertical-align: middle;\n",
              "    }\n",
              "\n",
              "    .dataframe tbody tr th {\n",
              "        vertical-align: top;\n",
              "    }\n",
              "\n",
              "    .dataframe thead th {\n",
              "        text-align: right;\n",
              "    }\n",
              "</style>\n",
              "<table border=\"1\" class=\"dataframe\">\n",
              "  <thead>\n",
              "    <tr style=\"text-align: right;\">\n",
              "      <th></th>\n",
              "      <th>review</th>\n",
              "      <th>sentiment</th>\n",
              "    </tr>\n",
              "  </thead>\n",
              "  <tbody>\n",
              "    <tr>\n",
              "      <th>0</th>\n",
              "      <td>The movie was great</td>\n",
              "      <td>1</td>\n",
              "    </tr>\n",
              "    <tr>\n",
              "      <th>1</th>\n",
              "      <td>The movie was okay</td>\n",
              "      <td>1</td>\n",
              "    </tr>\n",
              "    <tr>\n",
              "      <th>2</th>\n",
              "      <td>The movie was terrible</td>\n",
              "      <td>0</td>\n",
              "    </tr>\n",
              "    <tr>\n",
              "      <th>3</th>\n",
              "      <td>I loved the movie</td>\n",
              "      <td>1</td>\n",
              "    </tr>\n",
              "    <tr>\n",
              "      <th>4</th>\n",
              "      <td>I hated the movie</td>\n",
              "      <td>0</td>\n",
              "    </tr>\n",
              "  </tbody>\n",
              "</table>\n",
              "</div>\n",
              "    <div class=\"colab-df-buttons\">\n",
              "\n",
              "  <div class=\"colab-df-container\">\n",
              "    <button class=\"colab-df-convert\" onclick=\"convertToInteractive('df-d7774a4e-635c-4e8b-a301-d36cc65ddf16')\"\n",
              "            title=\"Convert this dataframe to an interactive table.\"\n",
              "            style=\"display:none;\">\n",
              "\n",
              "  <svg xmlns=\"http://www.w3.org/2000/svg\" height=\"24px\" viewBox=\"0 -960 960 960\">\n",
              "    <path d=\"M120-120v-720h720v720H120Zm60-500h600v-160H180v160Zm220 220h160v-160H400v160Zm0 220h160v-160H400v160ZM180-400h160v-160H180v160Zm440 0h160v-160H620v160ZM180-180h160v-160H180v160Zm440 0h160v-160H620v160Z\"/>\n",
              "  </svg>\n",
              "    </button>\n",
              "\n",
              "  <style>\n",
              "    .colab-df-container {\n",
              "      display:flex;\n",
              "      gap: 12px;\n",
              "    }\n",
              "\n",
              "    .colab-df-convert {\n",
              "      background-color: #E8F0FE;\n",
              "      border: none;\n",
              "      border-radius: 50%;\n",
              "      cursor: pointer;\n",
              "      display: none;\n",
              "      fill: #1967D2;\n",
              "      height: 32px;\n",
              "      padding: 0 0 0 0;\n",
              "      width: 32px;\n",
              "    }\n",
              "\n",
              "    .colab-df-convert:hover {\n",
              "      background-color: #E2EBFA;\n",
              "      box-shadow: 0px 1px 2px rgba(60, 64, 67, 0.3), 0px 1px 3px 1px rgba(60, 64, 67, 0.15);\n",
              "      fill: #174EA6;\n",
              "    }\n",
              "\n",
              "    .colab-df-buttons div {\n",
              "      margin-bottom: 4px;\n",
              "    }\n",
              "\n",
              "    [theme=dark] .colab-df-convert {\n",
              "      background-color: #3B4455;\n",
              "      fill: #D2E3FC;\n",
              "    }\n",
              "\n",
              "    [theme=dark] .colab-df-convert:hover {\n",
              "      background-color: #434B5C;\n",
              "      box-shadow: 0px 1px 3px 1px rgba(0, 0, 0, 0.15);\n",
              "      filter: drop-shadow(0px 1px 2px rgba(0, 0, 0, 0.3));\n",
              "      fill: #FFFFFF;\n",
              "    }\n",
              "  </style>\n",
              "\n",
              "    <script>\n",
              "      const buttonEl =\n",
              "        document.querySelector('#df-d7774a4e-635c-4e8b-a301-d36cc65ddf16 button.colab-df-convert');\n",
              "      buttonEl.style.display =\n",
              "        google.colab.kernel.accessAllowed ? 'block' : 'none';\n",
              "\n",
              "      async function convertToInteractive(key) {\n",
              "        const element = document.querySelector('#df-d7774a4e-635c-4e8b-a301-d36cc65ddf16');\n",
              "        const dataTable =\n",
              "          await google.colab.kernel.invokeFunction('convertToInteractive',\n",
              "                                                    [key], {});\n",
              "        if (!dataTable) return;\n",
              "\n",
              "        const docLinkHtml = 'Like what you see? Visit the ' +\n",
              "          '<a target=\"_blank\" href=https://colab.research.google.com/notebooks/data_table.ipynb>data table notebook</a>'\n",
              "          + ' to learn more about interactive tables.';\n",
              "        element.innerHTML = '';\n",
              "        dataTable['output_type'] = 'display_data';\n",
              "        await google.colab.output.renderOutput(dataTable, element);\n",
              "        const docLink = document.createElement('div');\n",
              "        docLink.innerHTML = docLinkHtml;\n",
              "        element.appendChild(docLink);\n",
              "      }\n",
              "    </script>\n",
              "  </div>\n",
              "\n",
              "\n",
              "<div id=\"df-79fb86f3-139f-4955-a5ce-0b1f52bc0c83\">\n",
              "  <button class=\"colab-df-quickchart\" onclick=\"quickchart('df-79fb86f3-139f-4955-a5ce-0b1f52bc0c83')\"\n",
              "            title=\"Suggest charts\"\n",
              "            style=\"display:none;\">\n",
              "\n",
              "<svg xmlns=\"http://www.w3.org/2000/svg\" height=\"24px\"viewBox=\"0 0 24 24\"\n",
              "     width=\"24px\">\n",
              "    <g>\n",
              "        <path d=\"M19 3H5c-1.1 0-2 .9-2 2v14c0 1.1.9 2 2 2h14c1.1 0 2-.9 2-2V5c0-1.1-.9-2-2-2zM9 17H7v-7h2v7zm4 0h-2V7h2v10zm4 0h-2v-4h2v4z\"/>\n",
              "    </g>\n",
              "</svg>\n",
              "  </button>\n",
              "\n",
              "<style>\n",
              "  .colab-df-quickchart {\n",
              "      --bg-color: #E8F0FE;\n",
              "      --fill-color: #1967D2;\n",
              "      --hover-bg-color: #E2EBFA;\n",
              "      --hover-fill-color: #174EA6;\n",
              "      --disabled-fill-color: #AAA;\n",
              "      --disabled-bg-color: #DDD;\n",
              "  }\n",
              "\n",
              "  [theme=dark] .colab-df-quickchart {\n",
              "      --bg-color: #3B4455;\n",
              "      --fill-color: #D2E3FC;\n",
              "      --hover-bg-color: #434B5C;\n",
              "      --hover-fill-color: #FFFFFF;\n",
              "      --disabled-bg-color: #3B4455;\n",
              "      --disabled-fill-color: #666;\n",
              "  }\n",
              "\n",
              "  .colab-df-quickchart {\n",
              "    background-color: var(--bg-color);\n",
              "    border: none;\n",
              "    border-radius: 50%;\n",
              "    cursor: pointer;\n",
              "    display: none;\n",
              "    fill: var(--fill-color);\n",
              "    height: 32px;\n",
              "    padding: 0;\n",
              "    width: 32px;\n",
              "  }\n",
              "\n",
              "  .colab-df-quickchart:hover {\n",
              "    background-color: var(--hover-bg-color);\n",
              "    box-shadow: 0 1px 2px rgba(60, 64, 67, 0.3), 0 1px 3px 1px rgba(60, 64, 67, 0.15);\n",
              "    fill: var(--button-hover-fill-color);\n",
              "  }\n",
              "\n",
              "  .colab-df-quickchart-complete:disabled,\n",
              "  .colab-df-quickchart-complete:disabled:hover {\n",
              "    background-color: var(--disabled-bg-color);\n",
              "    fill: var(--disabled-fill-color);\n",
              "    box-shadow: none;\n",
              "  }\n",
              "\n",
              "  .colab-df-spinner {\n",
              "    border: 2px solid var(--fill-color);\n",
              "    border-color: transparent;\n",
              "    border-bottom-color: var(--fill-color);\n",
              "    animation:\n",
              "      spin 1s steps(1) infinite;\n",
              "  }\n",
              "\n",
              "  @keyframes spin {\n",
              "    0% {\n",
              "      border-color: transparent;\n",
              "      border-bottom-color: var(--fill-color);\n",
              "      border-left-color: var(--fill-color);\n",
              "    }\n",
              "    20% {\n",
              "      border-color: transparent;\n",
              "      border-left-color: var(--fill-color);\n",
              "      border-top-color: var(--fill-color);\n",
              "    }\n",
              "    30% {\n",
              "      border-color: transparent;\n",
              "      border-left-color: var(--fill-color);\n",
              "      border-top-color: var(--fill-color);\n",
              "      border-right-color: var(--fill-color);\n",
              "    }\n",
              "    40% {\n",
              "      border-color: transparent;\n",
              "      border-right-color: var(--fill-color);\n",
              "      border-top-color: var(--fill-color);\n",
              "    }\n",
              "    60% {\n",
              "      border-color: transparent;\n",
              "      border-right-color: var(--fill-color);\n",
              "    }\n",
              "    80% {\n",
              "      border-color: transparent;\n",
              "      border-right-color: var(--fill-color);\n",
              "      border-bottom-color: var(--fill-color);\n",
              "    }\n",
              "    90% {\n",
              "      border-color: transparent;\n",
              "      border-bottom-color: var(--fill-color);\n",
              "    }\n",
              "  }\n",
              "</style>\n",
              "\n",
              "  <script>\n",
              "    async function quickchart(key) {\n",
              "      const quickchartButtonEl =\n",
              "        document.querySelector('#' + key + ' button');\n",
              "      quickchartButtonEl.disabled = true;  // To prevent multiple clicks.\n",
              "      quickchartButtonEl.classList.add('colab-df-spinner');\n",
              "      try {\n",
              "        const charts = await google.colab.kernel.invokeFunction(\n",
              "            'suggestCharts', [key], {});\n",
              "      } catch (error) {\n",
              "        console.error('Error during call to suggestCharts:', error);\n",
              "      }\n",
              "      quickchartButtonEl.classList.remove('colab-df-spinner');\n",
              "      quickchartButtonEl.classList.add('colab-df-quickchart-complete');\n",
              "    }\n",
              "    (() => {\n",
              "      let quickchartButtonEl =\n",
              "        document.querySelector('#df-79fb86f3-139f-4955-a5ce-0b1f52bc0c83 button');\n",
              "      quickchartButtonEl.style.display =\n",
              "        google.colab.kernel.accessAllowed ? 'block' : 'none';\n",
              "    })();\n",
              "  </script>\n",
              "</div>\n",
              "    </div>\n",
              "  </div>\n"
            ]
          },
          "metadata": {},
          "execution_count": 1
        }
      ]
    },
    {
      "cell_type": "markdown",
      "source": [
        "**Step 2: Preprocess the Text**\n",
        "\n",
        "* Tokenize the text into words.\n",
        "* Lemmatize each word to its base form.\n",
        "* Optionally, remove common stopwords (frequent words like 'the', 'is', etc., that don't contribute much to sentiment)."
      ],
      "metadata": {
        "id": "D0NbqSBFJ60P"
      }
    },
    {
      "cell_type": "markdown",
      "source": [
        "#### **Tokenization:**\n",
        "\n",
        "In Natural Language Processing (NLP), tokenization is the process of breaking down a sequence of text into smaller units, typically words or subwords. These smaller units are called \"tokens.\" Tokenization is a fundamental preprocessing step in NLP, and it plays a crucial role in various text analysis tasks.\n",
        "\n",
        "Here are some key points about tokenization in NLP:\n",
        "\n",
        "1. **Word Tokenization**: In word tokenization, the text is divided into individual words. For example, the sentence \"I love NLP\" would be tokenized into three tokens: [\"I\", \"love\", \"NLP\"].\n",
        "\n",
        "2. **Subword Tokenization**: In subword tokenization, words are divided into smaller units, often using techniques like Byte Pair Encoding (BPE) or SentencePiece. Subword tokenization is useful for handling languages with complex word structures or for building language models.\n",
        "\n",
        "3. **Sentence Tokenization**: In addition to word tokenization, sentence tokenization involves splitting a text into individual sentences. This is important for tasks that require analyzing the content of sentences separately.\n",
        "\n",
        "4. **Punctuation and Special Characters**: Tokenization also considers punctuation marks and special characters as separate tokens. For example, in the sentence \"It's a sunny day!\", the tokens would include [\"It's\", \"a\", \"sunny\", \"day\", \"!\"].\n",
        "\n",
        "5. **Normalization**: Tokenization often includes text normalization, which involves converting text to a consistent format. For example, converting all text to lowercase to ensure uniformity.\n",
        "\n",
        "6. **Stopwords**: Common words like \"the,\" \"and,\" \"in,\" etc., are known as stopwords. Depending on the task, stopwords may or may not be included in the tokens.\n",
        "\n",
        "7. **Tokenization Libraries**: NLP libraries like NLTK (Natural Language Toolkit), spaCy, and the tokenizers module in Hugging Face Transformers provide tokenization functions and tools.\n",
        "\n",
        "8. **Importance**: Tokenization is a critical step because it breaks down text into units that can be processed by NLP algorithms. It enables various NLP tasks such as sentiment analysis, text classification, language modeling, and machine translation.\n",
        "\n",
        "Overall, tokenization is the process of converting raw text into a structured format that can be used for further analysis and understanding of natural language. It forms the basis for many NLP applications by making text data suitable for computational processing."
      ],
      "metadata": {
        "id": "sigJ_hz6mPSZ"
      }
    },
    {
      "cell_type": "markdown",
      "source": [
        "**Why tokenization is important?**\n",
        "\n",
        "Tokenization is like breaking a long sentence into smaller, understandable pieces to make it easier for a computer to understand and work with. It's necessary because computers can't read and understand sentences like humans do. Instead, they need text to be divided into smaller parts called \"tokens.\"\n",
        "\n",
        "Imagine you have a sentence: \"I love eating ice cream.\"\n",
        "\n",
        "Tokenization would split it into these tokens:\n",
        "- \"I\"\n",
        "- \"love\"\n",
        "- \"eating\"\n",
        "- \"ice\"\n",
        "- \"cream\"\n",
        "\n",
        "Each token represents a word or a part of a word. This way, a computer can process and analyze the text one piece at a time, which is essential for tasks like understanding what a sentence means, translating languages, or even answering questions based on text. So, tokenization helps computers make sense of human language."
      ],
      "metadata": {
        "id": "q2pCrRdtnbRk"
      }
    },
    {
      "cell_type": "markdown",
      "source": [
        "#### **Lemmatization:**\n",
        "\n",
        "In Natural Language Processing (NLP), lemmatization is the process of reducing words to their base or dictionary form, known as the \"lemma.\" The purpose of lemmatization is to standardize words so that different inflected forms or variations of a word can be treated as the same word.\n",
        "\n",
        "Lemmatization involves considering a word's context and morphological analysis to transform it into its base form. This base form is typically a valid word that can be found in a dictionary, making it useful for various NLP tasks.\n",
        "\n",
        "Here are some key points about lemmatization in NLP:\n",
        "\n",
        "1. **Base Form**: The base form of a word is the form that you would find in a dictionary. For example, the lemma of the word \"running\" is \"run,\" and the lemma of \"better\" is \"good.\"\n",
        "\n",
        "2. **Inflected Forms**: In many languages, words can have different inflected forms based on tense, number, gender, or case. Lemmatization helps convert all these forms to a common base form. For example, \"cars\" becomes \"car,\" and \"am\" becomes \"be.\"\n",
        "\n",
        "3. **Part-of-Speech Awareness**: Lemmatization takes into account the part of speech (POS) of a word. For example, the lemma of \"running\" as a verb is \"run,\" but as a noun, it can be \"running.\"\n",
        "\n",
        "4. **Contextual Analysis**: Unlike stemming, which simply removes prefixes or suffixes to reduce a word to its root form, lemmatization considers the context and meaning of a word to determine its lemma.\n",
        "\n",
        "5. **Examples**:\n",
        "   - Lemmatization of \"running\" as a verb: \"run\"\n",
        "   - Lemmatization of \"better\" as an adjective: \"good\"\n",
        "   - Lemmatization of \"wolves\" as a noun: \"wolf\"\n",
        "   - Lemmatization of \"gone\" as a verb: \"go\"\n",
        "\n",
        "6. **Applications**: Lemmatization is used in various NLP tasks, including text classification, sentiment analysis, information retrieval, and machine translation. It helps in reducing the vocabulary size and improving the accuracy of language analysis.\n",
        "\n",
        "7. **Lemmatization Libraries**: NLP libraries like NLTK (Natural Language Toolkit), spaCy, and the lemmatizers module in Hugging Face Transformers provide lemmatization functions and tools.\n",
        "\n",
        "In summary, lemmatization in NLP is the process of reducing words to their base or dictionary form while considering their part of speech and contextual meaning. It is an essential preprocessing step for many NLP applications that require standardizing words and simplifying text analysis."
      ],
      "metadata": {
        "id": "ZANPaR0zmjU1"
      }
    },
    {
      "cell_type": "markdown",
      "source": [
        "#### **Stemming vs Lemmatization:**\n",
        "\n",
        "Stemming and lemmatization are both text normalization techniques used in Natural Language Processing (NLP) to reduce words to their base or root forms. However, they differ in their approaches and the level of linguistic analysis they perform:\n",
        "\n",
        "**Stemming:**\n",
        "\n",
        "1. **Process**: Stemming reduces words to their root form by removing prefixes or suffixes without considering the context or meaning of the word. It uses heuristics and pattern-based rules to chop off affixes.\n",
        "\n",
        "2. **Speed**: Stemming is generally faster than lemmatization because it relies on simple rules and doesn't involve dictionary lookups.\n",
        "\n",
        "3. **Accuracy**: Stemming can sometimes result in the root form that is not a valid word. For example, \"happily\" might be stemmed to \"happi,\" which is not a real English word.\n",
        "\n",
        "4. **Use Cases**: Stemming is useful in situations where speed and simplicity are more important than linguistic accuracy. It's often used in information retrieval, search engines, and text classification.\n",
        "\n",
        "5. **Example**: The word \"running\" would be stemmed to \"run,\" and \"jumps\" would be stemmed to \"jump.\"\n",
        "\n",
        "**Lemmatization:**\n",
        "\n",
        "1. **Process**: Lemmatization reduces words to their base or dictionary form (the lemma) while considering the word's context, part of speech, and meaning. It uses dictionary or vocabulary lookup to ensure that the resulting form is a valid word.\n",
        "\n",
        "2. **Speed**: Lemmatization is typically slower than stemming because it involves dictionary lookups and requires more linguistic analysis.\n",
        "\n",
        "3. **Accuracy**: Lemmatization provides more accurate results compared to stemming. It ensures that the root form is a real word and retains the word's intended meaning.\n",
        "\n",
        "4. **Use Cases**: Lemmatization is preferred when linguistic accuracy and meaningfulness are crucial, such as in machine translation, sentiment analysis, and language generation tasks.\n",
        "\n",
        "5. **Example**: The word \"running\" would be lemmatized to \"run,\" and \"better\" would be lemmatized to \"good.\"\n",
        "\n",
        "In summary, the choice between stemming and lemmatization depends on the specific NLP task and requirements:\n",
        "\n",
        "- If you need a fast and simple text normalization technique and linguistic accuracy is not critical, stemming can be suitable.\n",
        "- If you require accurate and meaningful word transformations, especially in tasks involving understanding the text's semantics and context, lemmatization is preferred.\n",
        "\n",
        "Ultimately, the choice between stemming and lemmatization should align with the goals and constraints of your NLP application."
      ],
      "metadata": {
        "id": "7U79NRZGnDA4"
      }
    },
    {
      "cell_type": "markdown",
      "source": [
        "![stemming.png](data:image/png;base64,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)"
      ],
      "metadata": {
        "id": "OTLrskGEghEt"
      }
    },
    {
      "cell_type": "markdown",
      "source": [
        "#### **Why text normalization is important?**\n",
        "\n",
        "Stemming and lemmatization are like language shortcuts for computers to understand text better. They're needed because words can have different forms, like \"running\" or \"ran,\" but computers like consistency.\n",
        "\n",
        "**Stemming** is like cutting off extra parts from words to make them shorter. For example, it turns \"running\" into \"run\" and \"jumps\" into \"jump.\" This helps computers see that different forms of the same word are related.\n",
        "\n",
        "**Lemmatization**, on the other hand, is like finding the main version of a word. It turns \"running\" into \"run\" and \"better\" into \"good.\" This helps computers understand that these words mean the same thing even if they look different.\n",
        "\n",
        "So, stemming and lemmatization make text simpler for computers, which is important for tasks like searching for information, translating languages, or figuring out the meaning of a sentence."
      ],
      "metadata": {
        "id": "5yg6fH7UnwHT"
      }
    },
    {
      "cell_type": "code",
      "source": [
        "# Tokenization and Lemmatization\n",
        "nltk.download('punkt')\n",
        "nltk.download('wordnet')\n",
        "nltk.download('stopwords')\n",
        "\n",
        "lemmatizer = WordNetLemmatizer()\n",
        "stop_words = set(stopwords.words('english'))\n",
        "\n",
        "def preprocess(text):\n",
        "    # Tokenize\n",
        "    tokens = nltk.word_tokenize(text)\n",
        "    # Lemmatize and remove stopwords\n",
        "    return ' '.join([lemmatizer.lemmatize(word) for word in tokens if word not in stop_words])\n",
        "\n",
        "df['processed'] = df['review'].apply(preprocess)\n",
        "df['processed']"
      ],
      "metadata": {
        "id": "AVHtTTLBKDb2",
        "colab": {
          "base_uri": "https://localhost:8080/"
        },
        "outputId": "d3fb4b8f-d0c8-4bb8-91be-d3c3e77056cc"
      },
      "execution_count": null,
      "outputs": [
        {
          "output_type": "stream",
          "name": "stderr",
          "text": [
            "[nltk_data] Downloading package punkt to /root/nltk_data...\n",
            "[nltk_data]   Unzipping tokenizers/punkt.zip.\n",
            "[nltk_data] Downloading package wordnet to /root/nltk_data...\n",
            "[nltk_data] Downloading package stopwords to /root/nltk_data...\n",
            "[nltk_data]   Unzipping corpora/stopwords.zip.\n"
          ]
        },
        {
          "output_type": "execute_result",
          "data": {
            "text/plain": [
              "0       The movie great\n",
              "1        The movie okay\n",
              "2    The movie terrible\n",
              "3         I loved movie\n",
              "4         I hated movie\n",
              "Name: processed, dtype: object"
            ]
          },
          "metadata": {},
          "execution_count": 2
        }
      ]
    },
    {
      "cell_type": "markdown",
      "source": [
        "### **Activity 1: Fill in the Blanks**"
      ],
      "metadata": {
        "id": "7Iu5Jc7c3Aew"
      }
    },
    {
      "cell_type": "markdown",
      "source": [
        "\n",
        "\n",
        "1. The Python library used for **Tokenization** in the provided code example is ____________.\n",
        "\n",
        "\n",
        "2. ___________ is a crucial step in NLP that involves cleaning, transforming, and normalizing raw text data to prepare it for further analysis. Some of the most common techniques used in text preprocessing include   Tokenization, Stopword Removal, Stemming and Lemmatization, Part-of-speech Tagging.\n",
        "\n",
        "  \n",
        "\n",
        "3. The Python library used for **Named Entity Recognition (NER)**, which can identify entities like Person, Organization, and Location, is ____________.\n",
        "\n",
        "\n",
        "4. __________ is used in applications such as social media monitoring and customer feedback analysis.\n",
        "\n",
        "   \n",
        "\n",
        "5. _____________involves generating a shorter version of a text while retaining its most important information and is used in applications such as news article summarization and document summarization.\n",
        "\n",
        "\n",
        "    \n",
        "\n"
      ],
      "metadata": {
        "id": "I7ZgxAVU26Lr"
      }
    },
    {
      "cell_type": "markdown",
      "source": [
        "####**Activity 1 Answers:**"
      ],
      "metadata": {
        "id": "OvQ_foIn3vS6"
      }
    },
    {
      "cell_type": "markdown",
      "source": [
        "1. NLTK\n",
        "2. Text preprocessing\n",
        "3. spaCy\n",
        "4. Sentiment Analysis\n",
        "5. Text Summarization"
      ],
      "metadata": {
        "id": "mnxBxmNu33As"
      }
    },
    {
      "cell_type": "markdown",
      "source": [
        "### **Step 3: Vectorization**\n",
        "\n",
        "Convert the preprocessed text into numerical vectors using `CountVectorizer` from scikit-learn. This tool creates a bag-of-words model, where each unique word is represented by a number."
      ],
      "metadata": {
        "id": "Ef4l6b4JKGUs"
      }
    },
    {
      "cell_type": "markdown",
      "source": [
        "#### **Vectorization:**\n",
        "\n",
        "Vectorization in Natural Language Processing (NLP) is the process of converting text data into numerical vectors (arrays of numbers) that can be understood and processed by machine learning algorithms. It involves representing words, sentences, or entire documents as numerical values, which is essential for performing mathematical operations and training machine learning models on text data.\n",
        "\n",
        "Here's how vectorization works in NLP:\n",
        "\n",
        "Let's see the Bag of Words (BoW) model with a simple example.\n",
        "\n",
        "Imagine you have three short sentences:\n",
        "\n",
        "1. \"I love dogs.\"\n",
        "2. \"I love cats.\"\n",
        "3. \"Dogs and cats are cute.\"\n",
        "\n",
        "You want to represent these sentences in a way that a computer can understand and compare them. That's where the Bag of Words model comes in.\n",
        "\n",
        "**Step 1: Tokenization**\n",
        "First, we break down each sentence into individual words, like this:\n",
        "\n",
        "1. Sentence 1: [\"I\", \"love\", \"dogs.\"]\n",
        "2. Sentence 2: [\"I\", \"love\", \"cats.\"]\n",
        "3. Sentence 3: [\"Dogs\", \"and\", \"cats\", \"are\", \"cute.\"]\n",
        "\n",
        "**Step 2: Create a Vocabulary**\n",
        "Next, we create a list of all the unique words found in these sentences. This list becomes our vocabulary:\n",
        "\n",
        "Vocabulary: [\"I\", \"love\", \"dogs.\", \"cats\", \"are\", \"cute.\"]\n",
        "\n",
        "**Step 3: Count Word Frequencies**\n",
        "Now, for each sentence, we count how many times each word from the vocabulary appears. We create a vector (a list of numbers) for each sentence, where each number represents the count of a word:\n",
        "\n",
        "1. Sentence 1: [1, 1, 1, 0, 0, 0]\n",
        "   - \"I\" appears 1 time, \"love\" appears 1 time, \"dogs.\" appears 1 time, and the rest of the words appear 0 times.\n",
        "\n",
        "2. Sentence 2: [1, 1, 0, 1, 0, 0]\n",
        "   - Similar to Sentence 1, but \"cats\" appears 1 time instead of \"dogs.\"\n",
        "\n",
        "3. Sentence 3: [0, 0, 1, 1, 1, 1]\n",
        "   - \"dogs.\" and \"cats\" appear 1 time each, and the other words also appear 1 time.\n",
        "\n",
        "**Step 4: Vector Representation**\n",
        "Now, each sentence is represented as a vector of word counts:\n",
        "\n",
        "1. Sentence 1: [1, 1, 1, 0, 0, 0]\n",
        "2. Sentence 2: [1, 1, 0, 1, 0, 0]\n",
        "3. Sentence 3: [0, 0, 1, 1, 1, 1]\n",
        "\n",
        "These vectors capture the frequency of words in each sentence. They can be used for tasks like comparing the similarity between sentences or classifying text into categories.\n",
        "\n",
        "The Bag of Words model simplifies text into numbers, making it easier for computers to work with text data, even though it doesn't understand the meaning of words. It's a basic but useful technique in Natural Language Processing.\n",
        "\n",
        "Vectorization is crucial in NLP for several reasons:\n",
        "\n",
        "- **Machine Learning**: Most machine learning algorithms, including deep learning, require numerical input. Vectorization converts text data into a format that can be used for training and prediction.\n",
        "\n",
        "- **Similarity and Distance Metrics**: Vector representations allow us to measure the similarity between words, sentences, or documents using mathematical distance metrics like cosine similarity. This is useful in tasks like information retrieval and recommendation systems.\n",
        "\n",
        "- **Feature Extraction**: NLP models often use vectorized text as features. For example, in text classification, each word or n-gram can be a feature.\n",
        "\n",
        "- **Dimensionality Reduction**: Vectorization can help reduce the high dimensionality of text data, making it easier to work with and visualize.\n",
        "\n",
        "In summary, vectorization in NLP is the process of converting text into numerical vectors to enable mathematical analysis, machine learning, and various NLP tasks. It bridges the gap between human-readable text and machine-readable data, making it possible for computers to understand and work with text data effectively."
      ],
      "metadata": {
        "id": "VsA2ELmuoJmc"
      }
    },
    {
      "cell_type": "markdown",
      "source": [
        "#### **Count Vectorizer vs TF-IDF:**\n",
        "\n",
        "Count Vectorization and TF-IDF (Term Frequency-Inverse Document Frequency) are two common techniques used for converting text data into numerical vectors in Natural Language Processing (NLP). They serve different purposes and have distinct characteristics:\n",
        "\n",
        "**Count Vectorization (BoW - Bag of Words):**\n",
        "\n",
        "1. **Representation**: In count vectorization, each document is represented as a numerical vector, and each element in the vector corresponds to a word in the vocabulary.\n",
        "   \n",
        "2. **Values**: The values in the vector represent the frequency of each word's occurrence in the document. It counts how many times each word appears in the text.\n",
        "   \n",
        "3. **Normalization**: Count vectorization does not normalize the word counts based on document length or importance. It treats all words equally.\n",
        "\n",
        "4. **Use Cases**: Count vectorization is suitable for tasks where the frequency of word occurrence is relevant, such as text classification and clustering. It captures the basic information about the presence of words in documents.\n",
        "\n",
        "**TF-IDF (Term Frequency-Inverse Document Frequency):**\n",
        "\n",
        "1. **Representation**: In TF-IDF vectorization, each document is represented as a numerical vector, but the values in the vector are calculated using a formula that takes into account the term frequency (TF) and inverse document frequency (IDF).\n",
        "\n",
        "2. **Values**: TF-IDF values are a measure of how important a word is in a document relative to a collection of documents (corpus). It gives higher weight to words that are frequent in the document but rare in the corpus.\n",
        "\n",
        "3. **Normalization**: TF-IDF values are normalized to prevent bias toward longer documents. This means that documents of different lengths can be compared more accurately.\n",
        "\n",
        "4. **Use Cases**: TF-IDF is useful for tasks where word importance and relevance to the document are important, such as information retrieval, search engines, and text summarization. It helps identify key terms in a document.\n",
        "\n",
        "**Comparison:**\n",
        "\n",
        "- **Frequency vs. Importance**: Count vectorization focuses on word frequency, while TF-IDF emphasizes the importance of words in a document within the context of a larger corpus.\n",
        "\n",
        "- **Normalization**: TF-IDF normalizes values, making it suitable for documents of varying lengths, whereas count vectorization does not normalize and can lead to biases towards longer documents.\n",
        "\n",
        "- **Use Cases**: Count vectorization is often used for basic text analysis tasks, whereas TF-IDF is more suitable when you want to identify the significance of terms in documents or compare documents based on their content.\n",
        "\n",
        "- **Dimensionality**: Count vectorization typically results in higher-dimensional vectors, especially for large vocabularies, whereas TF-IDF vectors may have lower dimensions due to the weighting.\n",
        "\n",
        "In summary, the choice between count vectorization and TF-IDF depends on the specific NLP task and the goal of the analysis. Count vectorization is straightforward and useful for many tasks, while TF-IDF provides a way to capture term importance and is particularly valuable for tasks related to information retrieval and document ranking."
      ],
      "metadata": {
        "id": "5nVGR3doq7Ya"
      }
    },
    {
      "cell_type": "markdown",
      "source": [
        "**Formulae:**\n",
        "\n",
        "TF-IDF (Term Frequency-Inverse Document Frequency) is a numerical representation of the importance of a word within a document relative to a collection of documents (corpus). It consists of two main components: Term Frequency (TF) and Inverse Document Frequency (IDF). Here's how to calculate TF-IDF:\n",
        "\n",
        "**Term Frequency (TF)**:\n",
        "1. Calculate the frequency of each word in the document you're interested in. Count how many times each word appears in that document.\n",
        "2. Normalize the frequencies by dividing the count of each word by the total number of words in the document. This helps account for document length.\n",
        "3. The result is the TF for each word in the document. You now have a set of TF values for each word in the document.\n",
        "\n",
        "Mathematically, TF for a word \\(w\\) in a document \\(d\\) is calculated as:\n",
        "\n",
        "$$[\n",
        "TF(w, d) = \\frac{{\\text{Number of times word } w \\text{ appears in document } d}}{{\\text{Total number of words in document } d}}\n",
        "]$$\n",
        "\n",
        "\n",
        "**Inverse Document Frequency (IDF)**:\n",
        "1. Calculate the total number of documents in your corpus.\n",
        "2. Count how many documents contain each word. This represents the number of documents where the word appears at least once.\n",
        "3. Calculate IDF for each word by taking the logarithm of the ratio of the total number of documents to the number of documents containing that word. This reduces the weight of common words.\n",
        "4. The result is the IDF for each word in the corpus. You now have a set of IDF values for each word.\n",
        "\n",
        "Mathematically, IDF for a word \\(w\\) in a corpus is calculated as:\n",
        "\n",
        "$$[\n",
        "IDF(w, \\text{corpus}) = \\log\\left(\\frac{{\\text{Total number of documents in corpus}}}{{\\text{Number of documents containing word } w}}\\right)\n",
        "]$$\n",
        "\n",
        "\n",
        "**TF-IDF**:\n",
        "1. Multiply the TF value of each word in the document by its corresponding IDF value in the corpus.\n",
        "2. The result is the TF-IDF score for each word in the document. These scores represent the importance of each word within the document relative to the entire corpus.\n",
        "\n",
        "Mathematically, TF-IDF for a word \\(w\\) in a document \\(d\\) within a corpus is calculated as:\n",
        "\n",
        "$$[\n",
        "TF-IDF(w, d, \\text{corpus}) = TF(w, d) \\times IDF(w, \\text{corpus})\n",
        "]$$\n",
        "\n",
        "After calculating TF-IDF scores for all words in a document, you have a numerical representation of the document's content, where important words have higher scores and common words have lower scores. This representation is useful for various NLP tasks, such as text classification, information retrieval, and document ranking."
      ],
      "metadata": {
        "id": "onldtTixhJJn"
      }
    },
    {
      "cell_type": "markdown",
      "source": [
        "![1_-aZMvSiEXTbxIpHcvnIINg.jpg](data:image/jpeg;base64,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)"
      ],
      "metadata": {
        "id": "L7d7Siwuhi4U"
      }
    },
    {
      "cell_type": "markdown",
      "source": [
        "#### **Why vectorization is important?**\n",
        "\n",
        "Vectorization is like turning words and text into numbers so that computers can understand and work with them. It's required because computers are really good at dealing with numbers, but they don't understand words and sentences like we do.\n",
        "\n",
        "Here's why vectorization is necessary, explained in layman terms:\n",
        "\n",
        "1. **Computers Speak Numbers**: Computers are essentially giant calculators that speak the language of numbers. They can add, subtract, and do all sorts of math with numbers, but they can't understand words directly.\n",
        "\n",
        "2. **Text Needs Translation**: When we want computers to do things with text, like answering questions, translating languages, or finding information, we need to translate the text into numbers first.\n",
        "\n",
        "3. **Words Become Codes**: Vectorization is like giving each word a secret code. For example, \"cat\" might be code \"123,\" and \"dog\" could be code \"456.\" We create these codes for all the words we want to work with.\n",
        "\n",
        "4. **Sentences Become Math**: When we have codes for all the words in a sentence, we can add them up, subtract them, and do math with them just like numbers. This lets us analyze and understand text in a way that computers can handle.\n",
        "\n",
        "5. **NLP Tasks**: Vectorization is essential for tasks like finding similar documents, translating languages, understanding sentiment in reviews, and much more. It's the bridge that lets us connect the language of words with the language of computers (numbers).\n",
        "\n",
        "In simple terms, vectorization is the trick that allows computers to process and work with text, making it possible for them to understand and analyze the words and sentences we use every day."
      ],
      "metadata": {
        "id": "b-eARjvdrIPa"
      }
    },
    {
      "cell_type": "code",
      "source": [
        "# Vectorization\n",
        "vectorizer = CountVectorizer()\n",
        "X = vectorizer.fit_transform(df['processed'])\n",
        "y = df['sentiment']"
      ],
      "metadata": {
        "id": "KuilLJLIKRV1"
      },
      "execution_count": null,
      "outputs": []
    },
    {
      "cell_type": "markdown",
      "source": [
        "**Step 4: Train-Test Split**\n",
        "\n",
        "Split your data into training and testing sets using `train_test_split`."
      ],
      "metadata": {
        "id": "7sWARqYHKUjG"
      }
    },
    {
      "cell_type": "code",
      "source": [
        "# Splitting the dataset into training and testing sets\n",
        "X_train, X_test, y_train, y_test = train_test_split(X, y, test_size=0.3, random_state=42)"
      ],
      "metadata": {
        "id": "sVVbEWo0KbJt"
      },
      "execution_count": null,
      "outputs": []
    },
    {
      "cell_type": "markdown",
      "source": [
        "**Step 5: Model Training**\n",
        "\n",
        "Train a logistic regression model (LogisticRegression from scikit-learn) on the training data. Logistic regression is a good baseline model for binary classification tasks like sentiment analysis."
      ],
      "metadata": {
        "id": "095g4DP9KtPQ"
      }
    },
    {
      "cell_type": "code",
      "source": [
        "# Model Training\n",
        "model = LogisticRegression()\n",
        "model.fit(X_train, y_train)"
      ],
      "metadata": {
        "id": "5Iopk2FNK0VO",
        "colab": {
          "base_uri": "https://localhost:8080/",
          "height": 75
        },
        "outputId": "c82d0bae-f827-4e80-fd80-e567a6c01a3e"
      },
      "execution_count": null,
      "outputs": [
        {
          "output_type": "execute_result",
          "data": {
            "text/plain": [
              "LogisticRegression()"
            ],
            "text/html": [
              "<style>#sk-container-id-1 {color: black;background-color: white;}#sk-container-id-1 pre{padding: 0;}#sk-container-id-1 div.sk-toggleable {background-color: white;}#sk-container-id-1 label.sk-toggleable__label {cursor: pointer;display: block;width: 100%;margin-bottom: 0;padding: 0.3em;box-sizing: border-box;text-align: center;}#sk-container-id-1 label.sk-toggleable__label-arrow:before {content: \"▸\";float: left;margin-right: 0.25em;color: #696969;}#sk-container-id-1 label.sk-toggleable__label-arrow:hover:before {color: black;}#sk-container-id-1 div.sk-estimator:hover label.sk-toggleable__label-arrow:before {color: black;}#sk-container-id-1 div.sk-toggleable__content {max-height: 0;max-width: 0;overflow: hidden;text-align: left;background-color: #f0f8ff;}#sk-container-id-1 div.sk-toggleable__content pre {margin: 0.2em;color: black;border-radius: 0.25em;background-color: #f0f8ff;}#sk-container-id-1 input.sk-toggleable__control:checked~div.sk-toggleable__content {max-height: 200px;max-width: 100%;overflow: auto;}#sk-container-id-1 input.sk-toggleable__control:checked~label.sk-toggleable__label-arrow:before {content: \"▾\";}#sk-container-id-1 div.sk-estimator input.sk-toggleable__control:checked~label.sk-toggleable__label {background-color: #d4ebff;}#sk-container-id-1 div.sk-label input.sk-toggleable__control:checked~label.sk-toggleable__label {background-color: #d4ebff;}#sk-container-id-1 input.sk-hidden--visually {border: 0;clip: rect(1px 1px 1px 1px);clip: rect(1px, 1px, 1px, 1px);height: 1px;margin: -1px;overflow: hidden;padding: 0;position: absolute;width: 1px;}#sk-container-id-1 div.sk-estimator {font-family: monospace;background-color: #f0f8ff;border: 1px dotted black;border-radius: 0.25em;box-sizing: border-box;margin-bottom: 0.5em;}#sk-container-id-1 div.sk-estimator:hover {background-color: #d4ebff;}#sk-container-id-1 div.sk-parallel-item::after {content: \"\";width: 100%;border-bottom: 1px solid gray;flex-grow: 1;}#sk-container-id-1 div.sk-label:hover label.sk-toggleable__label {background-color: #d4ebff;}#sk-container-id-1 div.sk-serial::before {content: \"\";position: absolute;border-left: 1px solid gray;box-sizing: border-box;top: 0;bottom: 0;left: 50%;z-index: 0;}#sk-container-id-1 div.sk-serial {display: flex;flex-direction: column;align-items: center;background-color: white;padding-right: 0.2em;padding-left: 0.2em;position: relative;}#sk-container-id-1 div.sk-item {position: relative;z-index: 1;}#sk-container-id-1 div.sk-parallel {display: flex;align-items: stretch;justify-content: center;background-color: white;position: relative;}#sk-container-id-1 div.sk-item::before, #sk-container-id-1 div.sk-parallel-item::before {content: \"\";position: absolute;border-left: 1px solid gray;box-sizing: border-box;top: 0;bottom: 0;left: 50%;z-index: -1;}#sk-container-id-1 div.sk-parallel-item {display: flex;flex-direction: column;z-index: 1;position: relative;background-color: white;}#sk-container-id-1 div.sk-parallel-item:first-child::after {align-self: flex-end;width: 50%;}#sk-container-id-1 div.sk-parallel-item:last-child::after {align-self: flex-start;width: 50%;}#sk-container-id-1 div.sk-parallel-item:only-child::after {width: 0;}#sk-container-id-1 div.sk-dashed-wrapped {border: 1px dashed gray;margin: 0 0.4em 0.5em 0.4em;box-sizing: border-box;padding-bottom: 0.4em;background-color: white;}#sk-container-id-1 div.sk-label label {font-family: monospace;font-weight: bold;display: inline-block;line-height: 1.2em;}#sk-container-id-1 div.sk-label-container {text-align: center;}#sk-container-id-1 div.sk-container {/* jupyter's `normalize.less` sets `[hidden] { display: none; }` but bootstrap.min.css set `[hidden] { display: none !important; }` so we also need the `!important` here to be able to override the default hidden behavior on the sphinx rendered scikit-learn.org. See: https://github.com/scikit-learn/scikit-learn/issues/21755 */display: inline-block !important;position: relative;}#sk-container-id-1 div.sk-text-repr-fallback {display: none;}</style><div id=\"sk-container-id-1\" class=\"sk-top-container\"><div class=\"sk-text-repr-fallback\"><pre>LogisticRegression()</pre><b>In a Jupyter environment, please rerun this cell to show the HTML representation or trust the notebook. <br />On GitHub, the HTML representation is unable to render, please try loading this page with nbviewer.org.</b></div><div class=\"sk-container\" hidden><div class=\"sk-item\"><div class=\"sk-estimator sk-toggleable\"><input class=\"sk-toggleable__control sk-hidden--visually\" id=\"sk-estimator-id-1\" type=\"checkbox\" checked><label for=\"sk-estimator-id-1\" class=\"sk-toggleable__label sk-toggleable__label-arrow\">LogisticRegression</label><div class=\"sk-toggleable__content\"><pre>LogisticRegression()</pre></div></div></div></div></div>"
            ]
          },
          "metadata": {},
          "execution_count": 5
        }
      ]
    },
    {
      "cell_type": "markdown",
      "source": [
        "**Step 6: Model Prediction**\n",
        "\n",
        "Use the model to predict the sentiment of the reviews in the test set."
      ],
      "metadata": {
        "id": "s18jtXp_K2fm"
      }
    },
    {
      "cell_type": "code",
      "source": [
        "# Model Prediction\n",
        "y_pred = model.predict(X_test)"
      ],
      "metadata": {
        "id": "gn5bJk7DK62m"
      },
      "execution_count": null,
      "outputs": []
    },
    {
      "cell_type": "markdown",
      "source": [
        "**Step 7: Evaluation**\n",
        "\n",
        "Evaluate the model's performance using a metric like accuracy score."
      ],
      "metadata": {
        "id": "8r9ARlO5K92W"
      }
    },
    {
      "cell_type": "code",
      "source": [
        "# Evaluating the model\n",
        "accuracy = accuracy_score(y_test, y_pred)\n",
        "accuracy"
      ],
      "metadata": {
        "id": "SdJpm21LLCo_",
        "colab": {
          "base_uri": "https://localhost:8080/"
        },
        "outputId": "c594fda5-45be-4dda-d1c4-7224fc7350f3"
      },
      "execution_count": null,
      "outputs": [
        {
          "output_type": "execute_result",
          "data": {
            "text/plain": [
              "0.5"
            ]
          },
          "metadata": {},
          "execution_count": 7
        }
      ]
    },
    {
      "cell_type": "markdown",
      "source": [
        "**Step 8: Predict New Sentiment**\n",
        "\n",
        "Finally, to predict the sentiment of a new sentence (e.g., \"The movie was surprisingly good.\"), preprocess this sentence in the same way as your training data, vectorize it, and then use the trained model to predict its sentiment."
      ],
      "metadata": {
        "id": "vyv6dYs8LE6V"
      }
    },
    {
      "cell_type": "code",
      "source": [
        "# Predict sentiment of a new sentence\n",
        "new_sentence = \"The movie was surprisingly good.\"\n",
        "processed_new_sentence = preprocess(new_sentence)\n",
        "vectorized_new_sentence = vectorizer.transform([processed_new_sentence])\n",
        "predicted_sentiment = model.predict(vectorized_new_sentence)\n",
        "predicted_sentiment_label = 'positive' if predicted_sentiment[0] == 1 else 'negative'\n",
        "\n",
        "predicted_sentiment_label"
      ],
      "metadata": {
        "id": "bFQAQNVuBWY2",
        "colab": {
          "base_uri": "https://localhost:8080/",
          "height": 35
        },
        "outputId": "97b8bd54-ffca-42f8-94d1-a52d054d6064"
      },
      "execution_count": null,
      "outputs": [
        {
          "output_type": "execute_result",
          "data": {
            "text/plain": [
              "'positive'"
            ],
            "application/vnd.google.colaboratory.intrinsic+json": {
              "type": "string"
            }
          },
          "metadata": {},
          "execution_count": 8
        }
      ]
    },
    {
      "cell_type": "markdown",
      "source": [
        "### **Activity 2: True or False**"
      ],
      "metadata": {
        "id": "2jHJ7dQO3iSA"
      }
    },
    {
      "cell_type": "markdown",
      "source": [
        "1. Text representation techniques in NLP include Bag of Words (BoW), Term Frequency-Inverse Document Frequency (TF-IDF), and Word Embeddings.\n",
        "\n",
        "2. Bag of Words (BoW) technique considers the word order and grammar of the text when representing documents.\n",
        "\n",
        "3. TF-IDF takes into account the frequency of a word in a document and its frequency in the entire corpus of documents.\n",
        "\n",
        "4. Word Embeddings represent words as vectors in a high-dimensional space to capture their semantic meaning and relationships.\n"
      ],
      "metadata": {
        "id": "-UQgSY-j3g-Z"
      }
    },
    {
      "cell_type": "markdown",
      "source": [
        "#### **Activity 2 Answers:**\n",
        "1. True\n",
        "2. False\n",
        "3. True\n",
        "4. True"
      ],
      "metadata": {
        "id": "Ve2aWBk8ND_J"
      }
    },
    {
      "cell_type": "markdown",
      "source": [
        "### **Applications of NLP:**"
      ],
      "metadata": {
        "id": "19CJwvbQe2iV"
      }
    },
    {
      "cell_type": "markdown",
      "source": [
        "Natural Language Processing (NLP) has a wide range of applications across various fields. Here are a few notable applications of NLP:\n",
        "\n",
        "1. **Text Classification and Sentiment Analysis**:\n",
        "   - **Application**: Analyzing social media posts, product reviews, or customer feedback to determine sentiment (positive, negative, neutral) and classify text into categories (e.g., spam detection, topic classification).\n",
        "   - **Use Case**: Sentiment analysis of product reviews to understand customer opinions.\n",
        "\n",
        "2. **Machine Translation**:\n",
        "   - **Application**: Translating text from one language to another.\n",
        "   - **Use Case**: Google Translate translates text and websites into multiple languages.\n",
        "\n",
        "3. **Chatbots and Virtual Assistants**:\n",
        "   - **Application**: Building conversational agents that can answer questions, provide information, or assist users in natural language.\n",
        "   - **Use Case**: Customer support chatbots, voice-activated virtual assistants like Siri and Alexa.\n",
        "\n",
        "4. **Information Retrieval and Search Engines**:\n",
        "   - **Application**: Indexing and searching vast amounts of text data to retrieve relevant information.\n",
        "   - **Use Case**: Google Search retrieves web pages based on user queries.\n",
        "\n",
        "5. **Named Entity Recognition (NER)**:\n",
        "   - **Application**: Identifying and classifying entities such as names of people, organizations, locations, and dates in text.\n",
        "   - **Use Case**: Extracting information from news articles for stock market analysis.\n",
        "\n",
        "6. **Text Summarization**:\n",
        "   - **Application**: Automatically generating concise summaries from longer texts.\n",
        "   - **Use Case**: Summarizing news articles or research papers for quick understanding.\n",
        "\n",
        "7. **Speech Recognition**:\n",
        "   - **Application**: Converting spoken language into text.\n",
        "   - **Use Case**: Voice assistants like Siri and transcription services.\n",
        "\n",
        "8. **Language Generation**:\n",
        "   - **Application**: Generating human-like text, such as chat responses, content generation, and storytelling.\n",
        "   - **Use Case**: AI-generated news articles and chat responses.\n",
        "\n",
        "9. **Topic Modeling**:\n",
        "   - **Application**: Discovering topics within a collection of documents.\n",
        "   - **Use Case**: Identifying trending topics on social media or analyzing customer reviews to find common themes.\n",
        "\n",
        "10. **Text Mining and Information Extraction**:\n",
        "    - **Application**: Extracting structured information from unstructured text, such as parsing resumes to extract job candidate information.\n",
        "    - **Use Case**: Resume screening for job recruitment.\n",
        "\n",
        "11. **Medical NLP**:\n",
        "    - **Application**: Analyzing medical records, extracting patient information, and assisting in diagnosis and treatment recommendations.\n",
        "    - **Use Case**: Identifying disease trends from clinical notes.\n",
        "\n",
        "12. **Legal NLP**:\n",
        "    - **Application**: Assisting in legal research, contract analysis, and e-discovery by analyzing and categorizing legal documents.\n",
        "    - **Use Case**: Identifying relevant case law for legal professionals.\n",
        "\n",
        "13. **Content Recommendation**:\n",
        "    - **Application**: Recommending articles, videos, or products to users based on their preferences and behavior.\n",
        "    - **Use Case**: Netflix suggests movies based on viewing history.\n",
        "\n",
        "These are just a few examples, and NLP continues to find new applications across industries as technology advances. NLP plays a vital role in automating language-related tasks, improving user experiences, and extracting valuable insights from textual data."
      ],
      "metadata": {
        "id": "n4u9n1Sve707"
      }
    },
    {
      "cell_type": "markdown",
      "source": [
        "# **✅ Summary ✅**"
      ],
      "metadata": {
        "id": "hIkHzfQj4wD_"
      }
    },
    {
      "cell_type": "markdown",
      "source": [
        "### **What did we learn?**\n",
        "\n",
        "In the lesson \"Introduction to NLP,\" we embark on an enlightening journey into the world of Natural Language Processing (NLP). NLP is a dynamic field at the intersection of linguistics, artificial intelligence, and data science, and it empowers computers to understand, interpret, and generate human language.\n",
        "\n",
        "This lesson serves as a comprehensive introduction to NLP, covering essential concepts and practical applications. We explore the fundamental techniques of tokenization, stemming, lemmatization, and vectorization, demystifying the processes that allow machines to make sense of words and sentences.\n",
        "\n",
        "Beyond theory, we delve into the real-world impact of NLP across industries. From sentiment analysis and chatbots to language translation and information retrieval, NLP plays a pivotal role in transforming the way we interact with technology. We witness its influence in fields like healthcare, finance, customer service, and more.\n",
        "\n",
        "Throughout the lesson, hands-on exercises and practical examples provide opportunities to reinforce learning and gain valuable experience in implementing NLP solutions. We emphasize problem-solving skills, critical thinking, and linguistic insights, equipping learners with the tools to address language-related challenges effectively."
      ],
      "metadata": {
        "id": "PpxR6J-XlDUH"
      }
    },
    {
      "cell_type": "markdown",
      "source": [
        "### **Best Practices & Tips:**\n",
        "\n",
        "When exploring and working in the field of Natural Language Processing (NLP), it's important to follow best practices to ensure the success of your projects and the ethical use of NLP technology. Here are some key best practices to consider:\n",
        "\n",
        "1. **Understand the Problem Domain**: Begin by thoroughly understanding the problem you intend to solve with NLP. NLP is a versatile field, and the specific requirements and challenges can vary widely depending on the application.\n",
        "\n",
        "2. **Data Quality and Preprocessing**:\n",
        "   - Ensure the quality of your text data. Clean and preprocess the data by removing irrelevant characters, symbols, and noise.\n",
        "   - Address issues like missing values, spelling errors, and inconsistent formatting.\n",
        "\n",
        "3. **Tokenization**:\n",
        "   - Use appropriate tokenization techniques to break text into meaningful units (tokens).\n",
        "   - Consider language-specific tokenization rules for languages with unique characteristics.\n",
        "\n",
        "4. **Stopword Removal**: Remove common stopwords (e.g., \"the,\" \"and,\" \"in\") that do not provide meaningful information for your specific task. However, be cautious, as stopwords can be important in some contexts.\n",
        "\n",
        "5. **Stemming and Lemmatization**:\n",
        "   - Choose between stemming and lemmatization based on the task.\n",
        "   - Stemming reduces words to their base or root form, while lemmatization finds the dictionary or lemma form of words.\n",
        "   - Be aware of the trade-offs between these techniques in terms of precision and recall.\n",
        "\n",
        "6. **Feature Engineering**:\n",
        "   - Select relevant features for your NLP model. This may include word embeddings, TF-IDF vectors, or more advanced representations like BERT embeddings.\n",
        "   - Experiment with different features and representations to find the most suitable ones for your task.\n",
        "\n",
        "7. **Model Selection**:\n",
        "   - Choose an appropriate NLP model based on your problem, data, and available resources.\n",
        "   - Consider traditional machine learning models (e.g., Naïve Bayes, SVM) for simple tasks and deep learning models (e.g., RNNs, Transformers) for complex tasks.\n",
        "\n",
        "8. **Evaluation Metrics**:\n",
        "   - Select relevant evaluation metrics based on the nature of your NLP task. Common metrics include accuracy, F1-score, precision, recall, and BLEU score (for translation tasks).\n",
        "   - Use appropriate metrics to measure the performance of your models accurately.\n",
        "\n",
        "9. **Cross-Validation**: Implement cross-validation techniques to assess the generalization performance of your models and avoid overfitting.\n",
        "\n",
        "10. **Ethical Considerations**:\n",
        "    - Be mindful of ethical concerns related to NLP, such as bias in training data and the potential for negative societal impacts.\n",
        "    - Strive for fairness, transparency, and inclusivity in your NLP applications.\n",
        "\n",
        "11. **Data Privacy and Security**:\n",
        "    - Adhere to data privacy regulations and ensure the security of sensitive data.\n",
        "    - Anonymize or pseudonymize data when necessary to protect privacy.\n",
        "\n",
        "12. **Continuous Learning**:\n",
        "    - Stay updated with the latest advancements in NLP by reading research papers, attending conferences, and participating in online courses.\n",
        "    - Experiment with state-of-the-art models and techniques.\n",
        "\n",
        "13. **Documentation and Collaboration**:\n",
        "    - Maintain clear and well-documented code and project documentation.\n",
        "    - Collaborate with colleagues and domain experts to ensure that NLP solutions align with business goals and domain knowledge.\n",
        "\n",
        "14. **Iterative Development**:\n",
        "    - Approach NLP projects iteratively, starting with simple models and gradually increasing complexity as needed.\n",
        "    - Continuously evaluate and refine your models based on feedback and new data.\n",
        "\n",
        "15. **Deployment and Scaling**:\n",
        "    - Plan for deployment and scaling of NLP models in production environments.\n",
        "    - Consider factors like latency, resource utilization, and model updates.\n",
        "\n",
        "By following these best practices, you can navigate the challenges and complexities of NLP effectively and develop robust and ethical NLP solutions that deliver meaningful results."
      ],
      "metadata": {
        "id": "ecMBW_rXlacg"
      }
    },
    {
      "cell_type": "markdown",
      "source": [
        "### **Shortcomings:**\n",
        "\n",
        "Natural Language Processing (NLP) is a powerful field, but it also comes with several shortcomings and challenges that researchers and practitioners need to address. Some of the key shortcomings and challenges in NLP include:\n",
        "\n",
        "1. **Ambiguity and Polysemy**: Words and phrases often have multiple meanings depending on the context. Resolving this ambiguity, known as word sense disambiguation, remains a challenge.\n",
        "\n",
        "2. **Lack of Common Sense Knowledge**: NLP models often lack common-sense reasoning abilities, making it challenging to understand context or answer questions requiring everyday knowledge.\n",
        "\n",
        "3. **Data Quality and Bias**: NLP models heavily rely on training data, which can contain biases and errors. These biases can lead to unfair and discriminatory outcomes, especially in applications like sentiment analysis and language translation.\n",
        "\n",
        "4. **Data Scarcity**: For low-resource languages and specific domains, there may be limited or no training data available, making it difficult to build effective NLP models.\n",
        "\n",
        "5. **Domain Adaptation**: Adapting NLP models to specific domains or industries can be challenging, as they may require substantial retraining and fine-tuning.\n",
        "\n",
        "6. **Sarcasm and Irony**: Detecting sarcasm, irony, or humor in text remains a complex task, as it often relies on subtle linguistic cues.\n",
        "\n",
        "7. **Handling Rare and Out-of-Vocabulary Words**: NLP models struggle with handling rare or previously unseen words, as they may not have learned representations for such words during training.\n",
        "\n",
        "8. **Multilingual Challenges**: Developing NLP models that work well for multiple languages is challenging, as languages vary significantly in structure and complexity.\n",
        "\n",
        "9. **Privacy Concerns**: Privacy issues arise when NLP models are used to analyze personal or sensitive text data. Ensuring data privacy is crucial.\n",
        "\n",
        "10. **Model Size and Resource Intensity**: Large pre-trained models, like Transformers, require substantial computational resources for training and deployment, limiting accessibility.\n",
        "\n",
        "11. **Interpretable Models**: Black-box models, like deep learning, can be challenging to interpret, which is a concern for applications requiring transparency and accountability.\n",
        "\n",
        "12. **Adversarial Attacks**: NLP models are vulnerable to adversarial attacks, where small modifications to input data can lead to incorrect predictions.\n",
        "\n",
        "13. **Scalability**: Scaling NLP models for large datasets and real-time applications can be computationally intensive and costly.\n",
        "\n",
        "14. **Ethical and Societal Impact**: Deployed NLP systems can inadvertently amplify biases present in training data, leading to ethical and societal concerns.\n",
        "\n",
        "15. **Continual Learning**: Models may struggle with adapting to new data and concepts over time, requiring ongoing retraining and updates.\n",
        "\n",
        "16. **Language Evolution**: Languages evolve over time, introducing new words, phrases, and idioms that NLP models may not understand without updates.\n",
        "\n",
        "17. **Cross-Lingual Understanding**: Achieving effective cross-lingual understanding and translation remains a challenge, especially for low-resource languages.\n",
        "\n",
        "18. **Multimodal NLP**: Integrating text with other modalities, such as images and audio, is an emerging challenge in NLP.\n",
        "\n",
        "Addressing these shortcomings and challenges requires ongoing research, collaboration, and the development of innovative solutions. Ethical considerations, fairness, transparency, and accountability are also essential in the development and deployment of NLP systems to ensure that they benefit society while minimizing potential harm."
      ],
      "metadata": {
        "id": "VZ7vb5r8llKa"
      }
    },
    {
      "cell_type": "markdown",
      "source": [
        "#**🧠Enhance Your Knowledge🧠**"
      ],
      "metadata": {
        "id": "MHySBTNnuFJd"
      }
    },
    {
      "cell_type": "markdown",
      "source": [
        "## **➕ Additional Reading ➕**"
      ],
      "metadata": {
        "id": "1-u2nZs55Mlg"
      }
    },
    {
      "cell_type": "markdown",
      "source": [
        "### **Cosine Similarity:**"
      ],
      "metadata": {
        "id": "7Vn0TDbj5dyk"
      }
    },
    {
      "cell_type": "markdown",
      "source": [
        "Cosine similarity is a way to measure how similar two things are, like two documents, songs, or even people's interests. It's called \"cosine\" similarity because it uses the concept of angles between vectors (imagine arrows pointing in different directions).\n",
        "\n",
        "Here's how it works in simple terms:\n",
        "\n",
        "1. **Vectors of Words**: Imagine you have two lists of words, one for each thing you want to compare. Each word is like a direction in space.\n",
        "\n",
        "2. **Counting Words**: For each list, you count how many times each word appears. This gives you two sets of numbers, like [3, 2, 1] for the first thing and [2, 4, 0] for the second thing. These numbers represent how much each word \"points\" in different directions.\n",
        "\n",
        "3. **Measuring Angle**: Now, you calculate the angle between these two sets of numbers. If the angle is small (close to 0 degrees), it means the two things are very similar. If the angle is large (close to 90 degrees), they are less similar.\n",
        "\n",
        "4. **Cosine of the Angle**: Cosine similarity gives you a number between -1 and 1, where 1 means the things are exactly the same, 0 means they are completely different, and -1 means they are opposite.\n",
        "\n",
        "So, cosine similarity helps us understand how similar or different two sets of things (like words in documents) are by looking at the angles between them. It's often used in text analysis, recommendation systems, and more to find similarities between items."
      ],
      "metadata": {
        "id": "SkU48Olr5je_"
      }
    },
    {
      "cell_type": "markdown",
      "source": [
        "**Example:**\n",
        "\n",
        "Suppose we have two short documents:\n",
        "\n",
        "**Document A**: \"I love cats and dogs.\"\n",
        "**Document B**: \"I adore cats, and I also love dogs.\"\n",
        "\n",
        "We want to measure how similar these two documents are using cosine similarity.\n",
        "\n",
        "**Step 1: Vectorize the Documents**\n",
        "\n",
        "We first convert these documents into vectors of word frequencies. We count how many times each word appears in each document:\n",
        "\n",
        "- For Document A: {\"I\": 1, \"love\": 1, \"cats\": 1, \"and\": 1, \"dogs\": 1}\n",
        "- For Document B: {\"I\": 1, \"adore\": 1, \"cats\": 1, \"and\": 1, \"love\": 1, \"dogs\": 1, \"also\": 1}\n",
        "\n",
        "Now, we have two vectors representing the word frequencies in each document.\n",
        "\n",
        "**Step 2: Calculate Cosine Similarity**\n",
        "\n",
        "Next, we calculate the cosine similarity between these two vectors. The formula for cosine similarity is:\n",
        "\n",
        "$$[ \\text{Cosine Similarity} = \\frac{{\\text{Dot Product of Vectors A and B}}}{{\\text{Magnitude of Vector A}} \\times \\text{Magnitude of Vector B}} ]$$\n",
        "\n",
        "- Dot Product of Vectors A and B = (1x1) + (1x1) + (1x1) + (1x1) + (1x1) = 5\n",
        "- Magnitude of Vector A = √(1^2 + 1^2 + 1^2 + 1^2 + 1^2) = √5\n",
        "- Magnitude of Vector B = √(1^2 + 1^2 + 1^2 + 1^2 + 1^2 + 1^2 + 1^2) = √7\n",
        "\n",
        "Now, plug these values into the cosine similarity formula:\n",
        "\n",
        "$$[ \\text{Cosine Similarity} = \\frac{5}{\\sqrt{5} \\times \\sqrt{7}} \\approx 0.7559 ]$$\n",
        "\n",
        "So, the cosine similarity between Document A and Document B is approximately 0.7559.\n",
        "\n",
        "**Interpretation**:\n",
        "\n",
        "- Cosine similarity ranges from -1 to 1.\n",
        "- A similarity of 1 means the two documents are exactly the same.\n",
        "- A similarity of 0 means the documents have no similarity.\n",
        "- A similarity of -1 means the documents are completely opposite.\n",
        "\n",
        "In our example, a cosine similarity of approximately 0.7559 suggests that Document A and Document B are somewhat similar in terms of their word frequencies."
      ],
      "metadata": {
        "id": "DGeZqaai5unl"
      }
    },
    {
      "cell_type": "code",
      "source": [
        "from sklearn.feature_extraction.text import CountVectorizer\n",
        "from sklearn.metrics.pairwise import cosine_similarity\n",
        "\n",
        "# Sample documents\n",
        "document_a = \"I love cats and dogs.\"\n",
        "document_b = \"I adore cats, and I also love dogs.\"\n",
        "\n",
        "# Create a CountVectorizer to convert text to vectors of word frequencies\n",
        "vectorizer = CountVectorizer()\n",
        "vectorizer.fit([document_a, document_b])\n",
        "\n",
        "# Transform the documents into vectors\n",
        "vector_a = vectorizer.transform([document_a])\n",
        "vector_b = vectorizer.transform([document_b])\n",
        "\n",
        "# Calculate cosine similarity\n",
        "cosine_sim = cosine_similarity(vector_a, vector_b)\n",
        "\n",
        "# Print the cosine similarity score\n",
        "print(\"Cosine Similarity:\", cosine_sim[0][0])"
      ],
      "metadata": {
        "colab": {
          "base_uri": "https://localhost:8080/"
        },
        "id": "lD937Mux5_wR",
        "outputId": "d7b3a9d1-43c9-4013-e6f9-540b00196d0e"
      },
      "execution_count": null,
      "outputs": [
        {
          "output_type": "stream",
          "name": "stdout",
          "text": [
            "Cosine Similarity: 0.8164965809277261\n"
          ]
        }
      ]
    },
    {
      "cell_type": "markdown",
      "source": [
        "**Use-Cases:**\n",
        "\n",
        "Cosine similarity is used in Natural Language Processing (NLP) for various tasks where you want to measure the similarity between two pieces of text or documents. Here are some common use cases for cosine similarity in NLP:\n",
        "\n",
        "1. **Information Retrieval**: Cosine similarity is used in search engines to find documents or web pages that are most relevant to a user's query. It helps rank documents based on their similarity to the query.\n",
        "\n",
        "2. **Document Clustering**: In document clustering, you can group similar documents together by calculating cosine similarity between them. Documents with higher similarity scores are placed in the same cluster.\n",
        "\n",
        "3. **Text Classification**: Cosine similarity can be used in text classification tasks to determine the similarity between a test document and pre-labeled categories. It helps classify a document into the most relevant category.\n",
        "\n",
        "4. **Recommendation Systems**: In content-based recommendation systems, cosine similarity is used to find items (e.g., movies, products) that are similar to the ones a user has shown interest in. It helps make personalized recommendations.\n",
        "\n",
        "5. **Duplicate Detection**: Cosine similarity can identify duplicate or near-duplicate content in large datasets. This is valuable for data deduplication and content management.\n",
        "\n",
        "6. **Text Summarization**: In extractive text summarization, cosine similarity is used to identify sentences in a document that are most similar to a summary representation. These sentences are then selected for the summary.\n",
        "\n",
        "7. **Plagiarism Detection**: Cosine similarity can be used to compare a document against a database of existing documents to detect instances of plagiarism or text reuse.\n",
        "\n",
        "8. **Semantic Search**: Cosine similarity is employed in semantic search engines to find documents that are conceptually similar, even if they don't share the same keywords.\n",
        "\n",
        "9. **Cross-lingual Information Retrieval**: In multilingual settings, cosine similarity can measure the similarity between documents in different languages to aid in cross-lingual information retrieval.\n",
        "\n",
        "10. **Recommendation of Similar Questions**: In question-answering platforms, cosine similarity can identify similar questions asked by different users, helping users find answers to their queries.\n",
        "\n",
        "11. **Content Matching**: In content matching systems, cosine similarity can be used to find similar pieces of content, which is valuable for content curation and deduplication.\n",
        "\n",
        "12. **Sentiment Analysis**: Cosine similarity can be applied to measure the similarity of text documents' sentiment expressions, aiding in sentiment analysis tasks.\n",
        "\n",
        "Cosine similarity is versatile and widely used in NLP because it provides a way to quantify the similarity between text documents, making it valuable for a range of applications where text comparisons are essential."
      ],
      "metadata": {
        "id": "LVo-fL4d6Fgg"
      }
    },
    {
      "cell_type": "markdown",
      "source": [
        "### **Named Entity Recognition (NER)**\n",
        "\n",
        "🔍 Named Entity Recognition (NER) is a technique used in Natural Language Processing (NLP) to identify and extract entities from a text such as people, places, organizations, and dates.\n",
        "\n",
        "📝 NER is used in various applications such as information retrieval, question answering systems, and sentiment analysis.\n",
        "\n",
        "🕵️‍♂️ NER can be performed using various Python libraries such as spaCy, NLTK, and Stanford NER.\n",
        "\n",
        "🔍 The most common types of entities that can be recognized include:\n",
        "\n",
        "**Person:** refers to individuals, including their names.\n",
        "\n",
        "**Location:** refers to places such as countries, cities, and landmarks.\n",
        "\n",
        "**Organization:** refers to companies, government agencies, and other institutions.\n",
        "\n",
        "**Date:** refers to various formats of dates including year, month, day.\n",
        "\n",
        "📝 For example, let's say we have the following text: \"John Smith is the CEO of ABC Corporation, located in New York City.\"\n",
        "\n",
        "🕵️‍♂️ Using spaCy library, we can perform NER to extract the entities as follows:\n",
        "\n",
        "Code:\n",
        "\n",
        "```python\n",
        "import spacy\n",
        "\n",
        "nlp = spacy.load(\"en_core_web_sm\")\n",
        "\n",
        "text = \"John Smith is the CEO of ABC Corporation, located in New York City.\"\n",
        "\n",
        "doc = nlp(text)\n",
        "\n",
        "for ent in doc.ents:\n",
        "    print(ent.text, ent.label_)\n",
        "```\n",
        "\n",
        "Output:\n",
        "\n",
        "```\n",
        "John Smith PERSON\n",
        "ABC Corporation ORG\n",
        "New York City GPE\n",
        "```\n",
        "\n",
        "🔍 Here, spaCy has identified \"John Smith\" as a Person, \"ABC Corporation\" as an Organization, and \"New York City\" as a Location."
      ],
      "metadata": {
        "id": "5G6HUk1UkEln"
      }
    },
    {
      "cell_type": "code",
      "source": [
        "import pandas as pd\n",
        "import pandas as pd\n",
        "import nltk\n",
        "from nltk.corpus import stopwords\n",
        "from nltk.tokenize import word_tokenize\n",
        "from nltk.stem import WordNetLemmatizer\n",
        "import string\n",
        "\n",
        "df = pd.read_csv(\"train.csv\")\n",
        "\n",
        "# Basic exploratory data analysis\n",
        "print(df.head())\n"
      ],
      "metadata": {
        "colab": {
          "base_uri": "https://localhost:8080/"
        },
        "id": "Om-N9HRCZ0PB",
        "outputId": "b1e1e851-1607-4533-ed89-2a517394dcc8"
      },
      "execution_count": null,
      "outputs": [
        {
          "output_type": "stream",
          "name": "stdout",
          "text": [
            "       textID                                               text  \\\n",
            "0  cb774db0d1                I`d have responded, if I were going   \n",
            "1  549e992a42      Sooo SAD I will miss you here in San Diego!!!   \n",
            "2  088c60f138                          my boss is bullying me...   \n",
            "3  9642c003ef                     what interview! leave me alone   \n",
            "4  358bd9e861   Sons of ****, why couldn`t they put them on t...   \n",
            "\n",
            "                         selected_text sentiment  \n",
            "0  I`d have responded, if I were going   neutral  \n",
            "1                             Sooo SAD  negative  \n",
            "2                          bullying me  negative  \n",
            "3                       leave me alone  negative  \n",
            "4                        Sons of ****,  negative  \n"
          ]
        }
      ]
    },
    {
      "cell_type": "markdown",
      "source": [
        "### **Language Models in NLP**\n",
        "\n",
        "🔤 Language Models in NLP are used to predict the probability distribution of words in a sentence or a sequence of words. It is a statistical model that tries to learn the patterns and relationships among words in a language.\n",
        "\n",
        "🤖 One of the popular language models is the Transformer model, which is a deep learning architecture designed to handle sequential data, such as natural language. It uses self-attention mechanisms to process the input sequence and capture the contextual relationships between words.\n",
        "\n",
        "🔢 Language models can be evaluated using perplexity, a measure of how well the model predicts the probability of the next word in a sentence. Lower perplexity scores indicate better performance.\n",
        "\n",
        "📈 The performance of language models can be improved by fine-tuning them on specific tasks such as text classification, sentiment analysis, and machine translation.\n",
        "\n",
        "***📈 Here is an example of how to use the Hugging Face Transformers library to generate text using a pre-trained language model:***\n",
        "\n",
        "```python\n",
        "!pip install transformers\n",
        "\n",
        "from transformers import pipeline\n",
        "\n",
        "text_generator = pipeline('text-generation', model='gpt2')\n",
        "\n",
        "generated_text = text_generator(\"The quick brown fox\", max_length=50, num_return_sequences=3)\n",
        "\n",
        "for text in generated_text:\n",
        "    print(text['generated_text'])\n",
        "```\n",
        "\n",
        "Output:\n",
        "\n",
        "```\n",
        "The quick brown fox at the top right of the diagram and a pair of long legs that follow him lead him to an oval shaped hole in the ground and then outwards further up with all the creatures in the area. He jumps up and then down\n",
        "The quick brown fox has a more natural way of using a handle than regular pegasus, which comes in different colours depending on what you are doing.\n",
        "\n",
        "The easy version of this little bugger comes in three sizes: the Stupid Fox,\n",
        "The quick brown fox had given up, letting their master pass away when they sensed the red fox's presence.\n",
        "\n",
        "The green fox was more relaxed, just like normal, letting himself in a calm. He wanted to rest, so naturally when the\n",
        "```\n",
        "\n",
        "This code uses the Hugging Face Transformers library to generate text from a pre-trained GPT-2 language model. The `pipeline` function is used to load the model, and the `text-generation` task is specified. The `max_length` parameter controls the maximum length of the generated text, and `num_return_sequences` controls how many different texts to generate. The generated texts are printed out using a loop."
      ],
      "metadata": {
        "id": "0dV04xxrlTsw"
      }
    },
    {
      "cell_type": "markdown",
      "source": [
        "### **Text Generation and Machine Translation**\n",
        "\n",
        "🤖 Text Generation and Machine Translation are both subfields of Natural Language Processing (NLP) that utilize deep learning models to generate human-like text or translate text from one language to another.\n",
        "\n",
        "🔤 Text Generation involves training a model to generate new text based on a given input text or prompt. This can be done using various techniques such as Recurrent Neural Networks (RNNs), Generative Adversarial Networks (GANs), and Transformers.\n",
        "\n",
        "🗣️ Machine Translation, on the other hand, involves training a model to translate text from one language to another. This can be done using techniques such as Sequence-to-Sequence (Seq2Seq) models, which consist of an encoder that reads the input text and a decoder that generates the output text in the target language.\n",
        "\n",
        "🤖 Both Text Generation and Machine Translation can be implemented using various Python libraries such as TensorFlow, PyTorch, and Keras.\n",
        "\n",
        "🔤 An example of text generation using a simple RNN model in TensorFlow is as follows:\n",
        "\n",
        "First, we import the necessary libraries:\n",
        "\n",
        "```python\n",
        "import tensorflow as tf\n",
        "import numpy as np\n",
        "```\n",
        "\n",
        "Next, we define a sample dataset consisting of a list of words:\n",
        "\n",
        "```python\n",
        "data = ['hello', 'world', 'how', 'are', 'you']\n",
        "```\n",
        "\n",
        "Then, we create a dictionary to map each word to a unique integer:\n",
        "\n",
        "```python\n",
        "word2idx = {w: i for i, w in enumerate(data)}\n",
        "idx2word = {i: w for w, i in word2idx.items()}\n",
        "```\n",
        "\n",
        "We can now convert the data to a sequence of integers:\n",
        "\n",
        "```python\n",
        "data_int = [word2idx[w] for w in data]\n",
        "```\n",
        "\n",
        "Next, we define the RNN model:\n",
        "\n",
        "```python\n",
        "model = tf.keras.Sequential([\n",
        "    tf.keras.layers.Embedding(len(data), 64, input_length=1),\n",
        "    tf.keras.layers.SimpleRNN(128),\n",
        "    tf.keras.layers.Dense(len(data), activation='softmax')\n",
        "])\n",
        "```\n",
        "\n",
        "We can now compile and train the model on the dataset:\n",
        "\n",
        "```python\n",
        "model.compile(loss='categorical_crossentropy', optimizer='adam')\n",
        "model.fit(np.array(data_int[:-1]), tf.keras.utils.to_categorical(data_int[1:], num_classes=len(data)), epochs=100)\n",
        "```\n",
        "\n",
        "Finally, we can generate new text using the trained model:\n",
        "\n",
        "```python\n",
        "input_text = 'hello'\n",
        "input_int = word2idx[input_text]\n",
        "output_int = np.argmax(model.predict(np.array([[input_int]])))\n",
        "output_text = idx2word[output_int]\n",
        "print(output_text)\n",
        "```\n",
        "\n",
        "This will generate a new word based on the input word 'hello'. We can repeat this process to generate a longer sequence of words."
      ],
      "metadata": {
        "id": "N8kDLp-0mEFY"
      }
    },
    {
      "cell_type": "markdown",
      "source": [
        "### **Topic Modeling**\n",
        "\n",
        "📝 Topic modeling is a technique used to extract topics from a large corpus of text data. It involves identifying patterns and relationships between words and groups of words in a document collection.\n",
        "\n",
        "🔍 The goal of topic modeling is to discover the underlying topics that are present in the text data, and to represent each document as a mixture of these topics.\n",
        "\n",
        "💻 Topic modeling can be performed using various Python libraries such as Gensim, NLTK, and Scikit-learn.\n",
        "\n",
        "📊 The most common techniques used in topic modeling include:\n",
        "\n",
        "**Latent Dirichlet Allocation (LDA):** a probabilistic model that assumes each document is a mixture of topics, and each topic is a mixture of words.\n",
        "\n",
        "**Non-negative Matrix Factorization (NMF):** a linear algebraic method that factorizes a document-term matrix into two matrices, one representing the topics and the other representing the words.\n",
        "\n",
        "📈 Here's an example of how to perform topic modeling using the Gensim library on a small sample dataset:\n",
        "\n",
        "```python\n",
        "import gensim\n",
        "from gensim import corpora\n",
        "\n",
        "# Create a sample document collection\n",
        "documents = [\"Machine learning is the future of technology\",\n",
        "             \"Natural language processing is an important field in AI\",\n",
        "             \"Data science is a multidisciplinary field\",\n",
        "             \"Deep learning is a subset of machine learning\"]\n",
        "\n",
        "# Tokenize the documents\n",
        "tokenized_docs = [doc.lower().split() for doc in documents]\n",
        "\n",
        "# Create a dictionary from the tokenized documents\n",
        "dictionary = corpora.Dictionary(tokenized_docs)\n",
        "\n",
        "# Create a document-term matrix\n",
        "doc_term_matrix = [dictionary.doc2bow(doc) for doc in tokenized_docs]\n",
        "\n",
        "# Build an LDA model\n",
        "lda_model = gensim.models.ldamodel.LdaModel(doc_term_matrix, num_topics=2, id2word=dictionary, passes=10)\n",
        "\n",
        "# Print the topics\n",
        "for topic in lda_model.print_topics():\n",
        "    print(topic)\n",
        "```\n",
        "\n",
        "This code creates a sample collection of documents, tokenizes them, creates a dictionary of words, creates a document-term matrix, and builds an LDA model with two topics. The code then prints out the topics discovered by the LDA model."
      ],
      "metadata": {
        "id": "hhjEQe4Vmu1H"
      }
    },
    {
      "cell_type": "markdown",
      "source": [
        "\n",
        "### **If you are interested in learning more about Natural Language Processing (NLP), here are some additional activities and readings you can explore:**\n",
        "\n",
        "👨‍💻 Online Tutorials: There are many online tutorials and courses that can teach you more about NLP, including Introduction to NLP, Text Preprocessing, Text Representation, Language Models, Text Classification, Sentiment Analysis, Topic Modeling, and Ethical Considerations in NLP. You can search for these tutorials on websites like Coursera, edX, or DataCamp.\n",
        "\n",
        "📖 Books: There are many books that cover NLP in depth, including \"Speech and Language Processing\" by Daniel Jurafsky and James H. Martin, \"Foundations of Statistical Natural Language Processing\" by Christopher D. Manning and Hinrich Schütze, and \"Natural Language Processing with Python\" by Steven Bird, Ewan Klein, and Edward Loper.\n",
        "\n",
        "🎓 Practice Problems: You can also find practice problems and datasets online to help you practice your NLP skills. You can try websites like Kaggle or DataCamp to find these problems.\n",
        "\n",
        "💡 Additional Tips: Lastly, you can learn more about NLP techniques by experimenting with different types of text data, and practicing on your own data. The more you practice, the more confident you will become in your NLP skills.\n",
        "\n",
        "🎓 By exploring these additional activities and readings, you can deepen your understanding of NLP and become a more effective data analyst in the field of language processing.\n",
        "\n",
        "\n",
        "###**📖Additional Reference Paper📖**\n",
        "\n",
        "1. https://www.ibm.com/topics/natural-language-processing\n",
        "2. https://www.techtarget.com/searchenterpriseai/definition/natural-language-processing-NLP\n",
        "3.  https://nexocode.com/blog/categories/nlp/\n",
        "4. https://www.bloomreach.com/en/blog/2019/natural-language-processing\n",
        "\n",
        "###🤖🌲**Mnemonic**🕵️‍♂️🦉\n",
        "\n",
        "📖 Once upon a time, there was a data analyst named Maya who worked in Natural Language Processing (NLP). Maya was responsible for processing and analyzing large amounts of text data.\n",
        "\n",
        "💬 Maya began by learning about text preprocessing techniques, which are used to clean and prepare raw text data for analysis. She learned about techniques such as tokenization, stemming, and lemmatization.\n",
        "\n",
        "📊 Maya then learned about text representation, which involves converting text data into numerical form that can be analyzed by machine learning algorithms. She learned about techniques such as bag-of-words, TF-IDF, and word embeddings.\n",
        "\n",
        "🔍 Next, Maya learned about text classification, which is the task of categorizing text data into predefined categories.\n",
        "\n",
        "😊 Maya then studied sentiment analysis, which is the task of determining the sentiment or emotion expressed in a piece of text. She learned about techniques such as lexicon-based approaches, machine learning models, and deep learning models.\n",
        "\n",
        "👩‍💻 Finally, Maya learned about ethical considerations in NLP, such as bias in data and models, privacy concerns, and the responsible use of language models. She learned about techniques for mitigating bias and ensuring the ethical use of NLP in practice.\n",
        "\n",
        "👍 Thanks to her understanding of NLP, Maya was able to provide valuable insights and solutions to various text-related problems and improve the efficiency of the processes involved.\n"
      ],
      "metadata": {
        "id": "tuu9ZarLnKr0"
      }
    },
    {
      "cell_type": "markdown",
      "source": [
        "# **Try it Yourself**"
      ],
      "metadata": {
        "id": "pfbajZXI5h__"
      }
    },
    {
      "cell_type": "markdown",
      "source": [
        "### **Task 1: Working on assignment**"
      ],
      "metadata": {
        "id": "HswLUaJNkucU"
      }
    },
    {
      "cell_type": "markdown",
      "source": [
        "In this assignment, you will explore Natural Language Processing (NLP) concepts by performing sentiment analysis on a Twitter dataset. The dataset contains 1.6 million tweets labeled with positive or negative sentiment.\n",
        "\n",
        "Dataset Link: https://raw.githubusercontent.com/kolaveridi/kaggle-Twitter-US-Airline-Sentiment-/master/Tweets.csv\n",
        "\n",
        "\n",
        "## Twitter US Airline Sentiment Analysis\n",
        "\n",
        "In this activity, you will perform sentiment analysis on the Twitter US Airline Sentiment dataset.\n",
        "\n",
        "### Task 1: Data Loading and Exploration\n",
        "\n",
        "You will start by loading the dataset into a Pandas DataFrame and exploring the data. This will involve checking for missing values, visualizing the distribution of the target variable, and exploring the text data.\n",
        "\n",
        "### Task 2: Text Preprocessing\n",
        "\n",
        "You will clean and preprocess the text data using Text Preprocessing techniques.\n",
        "\n",
        "### Task 3: Text Representation\n",
        "\n",
        "You will represent the text data using  Text Representation techniques learned in the lesson.\n",
        "\n",
        "### Task 4: Text Classification\n",
        "\n",
        "You will perform sentiment analysis on the text data using  machine learning algorithms learned. You will evaluate the performance of these algorithms using metrics such as accuracy, precision, recall, and F1 score.\n",
        "\n",
        "### Task 5: Visualization\n",
        "\n",
        "You will visualize the results using various charts and graphs. This will involve visualizing the distribution of the target variable, the performance of the machine learning algorithms, and the most important features.\n",
        "\n"
      ],
      "metadata": {
        "id": "_gEQyu-HuR5X"
      }
    },
    {
      "cell_type": "markdown",
      "source": [
        "### Task 1: Data Loading and Exploration\n",
        "\n",
        "\n"
      ],
      "metadata": {
        "id": "YMVA3ssWKzyE"
      }
    },
    {
      "cell_type": "code",
      "source": [
        "# Write your code here\n"
      ],
      "metadata": {
        "id": "3l0BO_p042Vi"
      },
      "execution_count": null,
      "outputs": []
    },
    {
      "cell_type": "markdown",
      "source": [
        "### Task 2: Text Preprocessing\n",
        "\n"
      ],
      "metadata": {
        "id": "u8dNqC6jK93P"
      }
    },
    {
      "cell_type": "code",
      "source": [
        "# Write your code here\n"
      ],
      "metadata": {
        "id": "dAeShDz243cS"
      },
      "execution_count": null,
      "outputs": []
    },
    {
      "cell_type": "markdown",
      "source": [
        "### Task 3: Text Representation\n",
        "\n",
        "\n"
      ],
      "metadata": {
        "id": "Yvj5W_yFLKsN"
      }
    },
    {
      "cell_type": "code",
      "source": [
        "# Write your code here\n"
      ],
      "metadata": {
        "id": "8sOJBSJS44T5"
      },
      "execution_count": null,
      "outputs": []
    },
    {
      "cell_type": "markdown",
      "source": [
        "### Task 4: Text Classification\n",
        "\n"
      ],
      "metadata": {
        "id": "ynE4pdDULVOl"
      }
    },
    {
      "cell_type": "code",
      "source": [
        "# Write your code here\n"
      ],
      "metadata": {
        "id": "7CsLCeAG45fE"
      },
      "execution_count": null,
      "outputs": []
    },
    {
      "cell_type": "markdown",
      "source": [
        "### Task 5: Visualization\n",
        "\n"
      ],
      "metadata": {
        "id": "EWKmfEoxLZ0G"
      }
    },
    {
      "cell_type": "code",
      "source": [
        "# Write your code here\n"
      ],
      "metadata": {
        "id": "eeTpjEpe462T"
      },
      "execution_count": null,
      "outputs": []
    }
  ]
}