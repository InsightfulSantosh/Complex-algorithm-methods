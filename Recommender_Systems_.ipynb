{
  "nbformat": 4,
  "nbformat_minor": 0,
  "metadata": {
    "colab": {
      "provenance": [],
      "collapsed_sections": [
        "FXAp4WLO87PP",
        "rbg9o9IG9AIu",
        "GcZm38QW7AFv",
        "beCEf5ipOlv9",
        "TuW1NHuNOlv-",
        "mfHNt8LsOlv_",
        "q1WMvb9NOlv_",
        "po6kqdcxCNEH",
        "y8Ce9sjrOrPh",
        "mniv2Csu9bSW",
        "MCYp5EBf-sC5",
        "fpMJ6pAmE8jW",
        "kBmXpyqmt3EA",
        "Qb7ccyPOxc0R",
        "IcIKkrCZ9oOl",
        "0IO7pwfQ4Lly",
        "R7wNtaOXuLVa",
        "7k6bFKjm9-iu",
        "wgU6B0fjHZux",
        "QvdBABKoQuw5",
        "Op5NtTI_P0g5",
        "pfbajZXI5h__",
        "LljXsn2RCHMS",
        "jwh0UytNCNhk",
        "6jP07kfKCZab"
      ],
      "include_colab_link": true
    },
    "kernelspec": {
      "name": "python3",
      "display_name": "Python 3"
    },
    "language_info": {
      "name": "python"
    }
  },
  "cells": [
    {
      "cell_type": "markdown",
      "metadata": {
        "id": "view-in-github",
        "colab_type": "text"
      },
      "source": [
        "<a href=\"https://colab.research.google.com/github/InsightfulSantosh/Complex-algorithm-methods/blob/main/Recommender_Systems_.ipynb\" target=\"_parent\"><img src=\"https://colab.research.google.com/assets/colab-badge.svg\" alt=\"Open In Colab\"/></a>"
      ]
    },
    {
      "cell_type": "markdown",
      "source": [
        "# **📝Session Flow📝**:"
      ],
      "metadata": {
        "id": "FXAp4WLO87PP"
      }
    },
    {
      "cell_type": "markdown",
      "source": [
        "* **Learning Objective**\n",
        " - Introduction\n",
        " - Theme\n",
        " - Primary Goals\n",
        "\n",
        "* **Learning Material**\n",
        "  * Introduction\n",
        "  * Understanding recommendation systems: Collaborative filtering, content-based filtering, and hybrid models\n",
        "  * Understanding Recommendation Systems: Implementation of Collaborative Filtering\n",
        "  * Content Based Filtering\n",
        "  * Activity 1: Fill In The Blanks\n",
        "  * Implementation of Content Based Filtering\n",
        "  * Evaluation metrics for recommendation systems: Precision, recall, F1-score, and others\n",
        "  * Real-world applications of recommendation systems: E-commerce, social media, and others\n",
        "  * Activity 2: True or False\n",
        "\n",
        "* **Summary**\n",
        " - What did you learn?\n",
        " - Best Practices and Tips for Recommender Systems\n",
        " - Shortcomings to Keep in Mind for Recommender Systems\n",
        "\n",
        "* **Enhance your Knowledge**\n",
        " - Additional Reference Paper\n",
        " - Mnemonic\n",
        "\n",
        "* **Try it Yourself**\n",
        "  - Take Home Assignment\n",
        "  - Social Engagement"
      ],
      "metadata": {
        "id": "8fAXou5FKiEw"
      }
    },
    {
      "cell_type": "markdown",
      "source": [
        "# 👨🏻‍🎓 **Learning Objective** 👨🏻‍🎓"
      ],
      "metadata": {
        "id": "rbg9o9IG9AIu"
      }
    },
    {
      "cell_type": "markdown",
      "source": [
        "### **Introduction:**\n",
        "\n",
        "📢 Attention Students! 📢\n",
        "\n",
        "Welcome to this class on **Recommender Systems**. Recommender systems play a crucial role in various domains, including e-commerce, social media, and more. In this course, we will explore the fascinating field of recommendation systems and learn about the techniques used to provide personalized recommendations to users.\n",
        "\n",
        "Throughout this course, you will delve into the following topics:\n",
        "\n",
        "🔍 **Understanding recommendation systems:** You will learn about the different types of recommendation systems, including collaborative filtering, content-based filtering, and hybrid models. Understanding these approaches is essential for building effective recommendation systems.\n",
        "\n",
        "📏 **Evaluation metrics for recommendation systems:** You will learn about evaluation metrics used to assess the performance of recommendation systems. Metrics such as precision, recall, F1-score, and others will help you measure the accuracy and effectiveness of your recommendations.\n",
        "\n",
        "🌍 **Real-world applications of recommendation systems:** You will discover how recommendation systems are applied in various domains, such as e-commerce and social media. Understanding these applications will give you insights into the practical impact of recommendation systems.\n",
        "\n",
        "### **Theme:**\n",
        "\n",
        "Recommender systems play a crucial role in various industries by providing personalized recommendations to users, enhancing user experience, and driving business growth. Data professionals can leverage advanced algorithms and machine learning techniques to build effective recommender systems that cater to the unique preferences and needs of individual users. These systems utilize data type casting and mathematical functions to process user data, product information, and historical interactions, generating accurate and relevant recommendations. E-commerce platforms can employ recommender systems to suggest products based on user behavior, increasing sales and customer satisfaction.\n",
        "\n",
        "Streaming services can use these systems to recommend movies, shows, or music based on users' viewing or listening history, improving user retention and engagement. Social media platforms can utilize recommender systems to suggest relevant content and connections, fostering user engagement and community building. Additionally, news websites can implement these systems to personalize article recommendations, enhancing user engagement and promoting content discovery.\n",
        "\n",
        "By mastering type casting and leveraging mathematics functions in building recommender systems, data professionals can unlock the full potential of their datasets, delivering personalized experiences and driving success in their respective industries. 🎯💡🛍️🎬📰\n",
        "\n",
        "### **Primary Goals:**\n",
        "\n",
        "🎯 In this lesson, our primary goals are to:\n",
        "\n",
        "🔍 Understand the different types of recommendation systems, including collaborative filtering, content-based filtering, and hybrid models\n",
        "\n",
        "📏 Familiarize yourself with evaluation metrics, such as precision, recall, F1-score, and others, to assess the performance of recommendation systems\n",
        "\n",
        "🌍 Explore real-world applications of recommendation systems in domains like e-commerce and social media\n",
        "\n",
        "💡 By the end of this lesson, you will have a solid understanding of the fundamentals of recommendation systems and the techniques used to create effective personalized recommendations. You will be equipped with the knowledge to build recommendation systems for real-world applications and improve their performance. So, get ready to embark on an exciting journey into the world of recommender systems! 🚀"
      ],
      "metadata": {
        "id": "OU9pPCOntNbT"
      }
    },
    {
      "cell_type": "markdown",
      "source": [
        "# **📖 Learning Material 📖**\n"
      ],
      "metadata": {
        "id": "GcZm38QW7AFv"
      }
    },
    {
      "cell_type": "markdown",
      "metadata": {
        "id": "beCEf5ipOlv9"
      },
      "source": [
        "## <u><b> Introduction to Recommender Systems </b></u>\n",
        "\n",
        "\n",
        "The objective of a Recommender System is to recommend relevant items for users, based on their preference. Preference and relevance are subjective, and they are generally inferred by items users have consumed previously"
      ]
    },
    {
      "cell_type": "markdown",
      "metadata": {
        "id": "Rc4iM14UOlv9"
      },
      "source": [
        "<b> Popular Recommender Systems widely used in Industries are : </b>"
      ]
    },
    {
      "cell_type": "markdown",
      "metadata": {
        "_cell_guid": "e4fd4b09-74b8-4e31-a934-920bedb8dac6",
        "_uuid": "3f8d6760d36ba5a1ff7999831c6d893b2be6c94f",
        "id": "TuW1NHuNOlv-"
      },
      "source": [
        "### <u><b> Collaborative Filtering </b></u>\n",
        "\n",
        "This method makes automatic predictions (filtering) about the interests of a user by collecting preferences or taste information from many users (collaborating). The underlying assumption of the collaborative filtering approach is that if a person A has the same opinion as a person B on a set of items, A is more likely to have B's opinion for a given item than that of a randomly chosen person.   \n",
        "\n",
        "\n",
        "### <u><b> Content-Based Filtering </b></u>\n",
        "\n",
        "This method uses only information about the description and attributes of the items users has previously consumed to model user's preferences. In other words, these algorithms try to recommend items that are similar to those that a user liked in the past (or is examining in the present). In particular, various candidate items are compared with items previously rated by the user and the best-matching items are recommended.\n",
        "\n",
        "\n",
        "### <u><b> Hybrid Approach </b></u>\n",
        "Recent research has demonstrated that a hybrid approach, combining collaborative filtering and content-based filtering could be more effective than pure approaches in some cases. These methods can also be used to overcome some of the common problems in recommender systems such as cold start and the sparsity problem."
      ]
    },
    {
      "cell_type": "markdown",
      "metadata": {
        "_cell_guid": "ffacb568-e972-4fc8-9b14-eb647c24a003",
        "_uuid": "a43201479e662d0b8d9bac847f990543cb77b11f",
        "id": "mfHNt8LsOlv_"
      },
      "source": [
        "## <b>Collaborative Filtering Model: </b>"
      ]
    },
    {
      "cell_type": "markdown",
      "metadata": {
        "_cell_guid": "3a553e0a-c90a-4db7-b710-3458ec5f5a7c",
        "_uuid": "f26d31f4e99f358a5a393ee438a34cf812d4de39",
        "id": "q1WMvb9NOlv_"
      },
      "source": [
        "### Collaborative Filtering (CF) has two main implementation strategies:  \n",
        "### <u>Memory-based</u>\n",
        "\n",
        "* This approach uses the memory of previous users interactions to compute users similarities based on items they've interacted (user-based approach) or compute items similarities based on the users that have interacted with them (item-based approach).\n",
        "\n",
        "* A typical example of this approach is User Neighbourhood-based CF, in which the top-N similar users (usually computed using Pearson correlation) for a user are selected and used to recommend items those similar users liked, but the current user have not interacted yet. This approach is very simple to implement, but usually do not scale well for many users.\n",
        "\n",
        "### <u> Model-based </u>\n",
        "* In this approach, models are developed using different machine learning algorithms to recommend items to users. There are many model-based CF algorithms, like Neural Networks, Bayesian Networks, Clustering Techniques, and Latent Factor Models such as Singular Value Decomposition (SVD) and Probabilistic Latent Semantic Analysis."
      ]
    },
    {
      "cell_type": "markdown",
      "source": [
        "### **Problem Statement:**"
      ],
      "metadata": {
        "id": "po6kqdcxCNEH"
      }
    },
    {
      "cell_type": "markdown",
      "source": [
        "**Background:**\n",
        "\n",
        "Recommendation systems are crucial for enhancing user experience and engagement on online platforms, particularly in the context of movie streaming services. User-based collaborative filtering is a widely used technique for providing personalized movie recommendations by leveraging the similarity between users.\n",
        "\n",
        "**Objective:**\n",
        "\n",
        "The objective of this problem is to develop a user-based collaborative filtering recommender system that provides movie recommendations to users based on their similarity to other users. The system aims to enhance user engagement and satisfaction by suggesting movies that are likely to be of interest to a target user, drawing on the preferences of similar users.\n",
        "\n",
        "**Data Description:**\n",
        "\n",
        "The problem utilizes a synthetic user-movie interaction dataset. This dataset contains user IDs, movie IDs, and user ratings for a set of movies. It is used to build a user-item rating matrix, where rows represent users, columns represent movies, and the matrix cells contain user ratings."
      ],
      "metadata": {
        "id": "ELTg-2hvCAT3"
      }
    },
    {
      "cell_type": "markdown",
      "source": [
        "**Implementing a User Based Collaborative Filtering Model**"
      ],
      "metadata": {
        "id": "2eIKh7qlCTXH"
      }
    },
    {
      "cell_type": "code",
      "source": [
        "import pandas as pd\n",
        "from sklearn.metrics.pairwise import cosine_similarity\n",
        "\n",
        "# Load the synthetic ratings DataFrame\n",
        "ratings_df = pd.DataFrame({\n",
        "    'user_id': [1, 1, 1, 2, 2, 2, 3, 3],\n",
        "    'movie_id': [1, 2, 3, 1, 4, 5, 2, 5],\n",
        "    'rating': [5, 3, 4, 5, 4, 2, 5, 5]\n",
        "})\n",
        "\n",
        "ratings_df"
      ],
      "metadata": {
        "colab": {
          "base_uri": "https://localhost:8080/",
          "height": 300
        },
        "id": "szuojICMuWxp",
        "outputId": "c2e55e15-1b83-4f7b-ea72-abcfb8bdabd8"
      },
      "execution_count": null,
      "outputs": [
        {
          "output_type": "execute_result",
          "data": {
            "text/plain": [
              "   user_id  movie_id  rating\n",
              "0        1         1       5\n",
              "1        1         2       3\n",
              "2        1         3       4\n",
              "3        2         1       5\n",
              "4        2         4       4\n",
              "5        2         5       2\n",
              "6        3         2       5\n",
              "7        3         5       5"
            ],
            "text/html": [
              "\n",
              "  <div id=\"df-72b78eff-751a-4482-87e7-e20ba428348e\" class=\"colab-df-container\">\n",
              "    <div>\n",
              "<style scoped>\n",
              "    .dataframe tbody tr th:only-of-type {\n",
              "        vertical-align: middle;\n",
              "    }\n",
              "\n",
              "    .dataframe tbody tr th {\n",
              "        vertical-align: top;\n",
              "    }\n",
              "\n",
              "    .dataframe thead th {\n",
              "        text-align: right;\n",
              "    }\n",
              "</style>\n",
              "<table border=\"1\" class=\"dataframe\">\n",
              "  <thead>\n",
              "    <tr style=\"text-align: right;\">\n",
              "      <th></th>\n",
              "      <th>user_id</th>\n",
              "      <th>movie_id</th>\n",
              "      <th>rating</th>\n",
              "    </tr>\n",
              "  </thead>\n",
              "  <tbody>\n",
              "    <tr>\n",
              "      <th>0</th>\n",
              "      <td>1</td>\n",
              "      <td>1</td>\n",
              "      <td>5</td>\n",
              "    </tr>\n",
              "    <tr>\n",
              "      <th>1</th>\n",
              "      <td>1</td>\n",
              "      <td>2</td>\n",
              "      <td>3</td>\n",
              "    </tr>\n",
              "    <tr>\n",
              "      <th>2</th>\n",
              "      <td>1</td>\n",
              "      <td>3</td>\n",
              "      <td>4</td>\n",
              "    </tr>\n",
              "    <tr>\n",
              "      <th>3</th>\n",
              "      <td>2</td>\n",
              "      <td>1</td>\n",
              "      <td>5</td>\n",
              "    </tr>\n",
              "    <tr>\n",
              "      <th>4</th>\n",
              "      <td>2</td>\n",
              "      <td>4</td>\n",
              "      <td>4</td>\n",
              "    </tr>\n",
              "    <tr>\n",
              "      <th>5</th>\n",
              "      <td>2</td>\n",
              "      <td>5</td>\n",
              "      <td>2</td>\n",
              "    </tr>\n",
              "    <tr>\n",
              "      <th>6</th>\n",
              "      <td>3</td>\n",
              "      <td>2</td>\n",
              "      <td>5</td>\n",
              "    </tr>\n",
              "    <tr>\n",
              "      <th>7</th>\n",
              "      <td>3</td>\n",
              "      <td>5</td>\n",
              "      <td>5</td>\n",
              "    </tr>\n",
              "  </tbody>\n",
              "</table>\n",
              "</div>\n",
              "    <div class=\"colab-df-buttons\">\n",
              "\n",
              "  <div class=\"colab-df-container\">\n",
              "    <button class=\"colab-df-convert\" onclick=\"convertToInteractive('df-72b78eff-751a-4482-87e7-e20ba428348e')\"\n",
              "            title=\"Convert this dataframe to an interactive table.\"\n",
              "            style=\"display:none;\">\n",
              "\n",
              "  <svg xmlns=\"http://www.w3.org/2000/svg\" height=\"24px\" viewBox=\"0 -960 960 960\">\n",
              "    <path d=\"M120-120v-720h720v720H120Zm60-500h600v-160H180v160Zm220 220h160v-160H400v160Zm0 220h160v-160H400v160ZM180-400h160v-160H180v160Zm440 0h160v-160H620v160ZM180-180h160v-160H180v160Zm440 0h160v-160H620v160Z\"/>\n",
              "  </svg>\n",
              "    </button>\n",
              "\n",
              "  <style>\n",
              "    .colab-df-container {\n",
              "      display:flex;\n",
              "      gap: 12px;\n",
              "    }\n",
              "\n",
              "    .colab-df-convert {\n",
              "      background-color: #E8F0FE;\n",
              "      border: none;\n",
              "      border-radius: 50%;\n",
              "      cursor: pointer;\n",
              "      display: none;\n",
              "      fill: #1967D2;\n",
              "      height: 32px;\n",
              "      padding: 0 0 0 0;\n",
              "      width: 32px;\n",
              "    }\n",
              "\n",
              "    .colab-df-convert:hover {\n",
              "      background-color: #E2EBFA;\n",
              "      box-shadow: 0px 1px 2px rgba(60, 64, 67, 0.3), 0px 1px 3px 1px rgba(60, 64, 67, 0.15);\n",
              "      fill: #174EA6;\n",
              "    }\n",
              "\n",
              "    .colab-df-buttons div {\n",
              "      margin-bottom: 4px;\n",
              "    }\n",
              "\n",
              "    [theme=dark] .colab-df-convert {\n",
              "      background-color: #3B4455;\n",
              "      fill: #D2E3FC;\n",
              "    }\n",
              "\n",
              "    [theme=dark] .colab-df-convert:hover {\n",
              "      background-color: #434B5C;\n",
              "      box-shadow: 0px 1px 3px 1px rgba(0, 0, 0, 0.15);\n",
              "      filter: drop-shadow(0px 1px 2px rgba(0, 0, 0, 0.3));\n",
              "      fill: #FFFFFF;\n",
              "    }\n",
              "  </style>\n",
              "\n",
              "    <script>\n",
              "      const buttonEl =\n",
              "        document.querySelector('#df-72b78eff-751a-4482-87e7-e20ba428348e button.colab-df-convert');\n",
              "      buttonEl.style.display =\n",
              "        google.colab.kernel.accessAllowed ? 'block' : 'none';\n",
              "\n",
              "      async function convertToInteractive(key) {\n",
              "        const element = document.querySelector('#df-72b78eff-751a-4482-87e7-e20ba428348e');\n",
              "        const dataTable =\n",
              "          await google.colab.kernel.invokeFunction('convertToInteractive',\n",
              "                                                    [key], {});\n",
              "        if (!dataTable) return;\n",
              "\n",
              "        const docLinkHtml = 'Like what you see? Visit the ' +\n",
              "          '<a target=\"_blank\" href=https://colab.research.google.com/notebooks/data_table.ipynb>data table notebook</a>'\n",
              "          + ' to learn more about interactive tables.';\n",
              "        element.innerHTML = '';\n",
              "        dataTable['output_type'] = 'display_data';\n",
              "        await google.colab.output.renderOutput(dataTable, element);\n",
              "        const docLink = document.createElement('div');\n",
              "        docLink.innerHTML = docLinkHtml;\n",
              "        element.appendChild(docLink);\n",
              "      }\n",
              "    </script>\n",
              "  </div>\n",
              "\n",
              "\n",
              "<div id=\"df-c7961297-d50d-45e7-9d15-52e0c4cc9c8d\">\n",
              "  <button class=\"colab-df-quickchart\" onclick=\"quickchart('df-c7961297-d50d-45e7-9d15-52e0c4cc9c8d')\"\n",
              "            title=\"Suggest charts\"\n",
              "            style=\"display:none;\">\n",
              "\n",
              "<svg xmlns=\"http://www.w3.org/2000/svg\" height=\"24px\"viewBox=\"0 0 24 24\"\n",
              "     width=\"24px\">\n",
              "    <g>\n",
              "        <path d=\"M19 3H5c-1.1 0-2 .9-2 2v14c0 1.1.9 2 2 2h14c1.1 0 2-.9 2-2V5c0-1.1-.9-2-2-2zM9 17H7v-7h2v7zm4 0h-2V7h2v10zm4 0h-2v-4h2v4z\"/>\n",
              "    </g>\n",
              "</svg>\n",
              "  </button>\n",
              "\n",
              "<style>\n",
              "  .colab-df-quickchart {\n",
              "      --bg-color: #E8F0FE;\n",
              "      --fill-color: #1967D2;\n",
              "      --hover-bg-color: #E2EBFA;\n",
              "      --hover-fill-color: #174EA6;\n",
              "      --disabled-fill-color: #AAA;\n",
              "      --disabled-bg-color: #DDD;\n",
              "  }\n",
              "\n",
              "  [theme=dark] .colab-df-quickchart {\n",
              "      --bg-color: #3B4455;\n",
              "      --fill-color: #D2E3FC;\n",
              "      --hover-bg-color: #434B5C;\n",
              "      --hover-fill-color: #FFFFFF;\n",
              "      --disabled-bg-color: #3B4455;\n",
              "      --disabled-fill-color: #666;\n",
              "  }\n",
              "\n",
              "  .colab-df-quickchart {\n",
              "    background-color: var(--bg-color);\n",
              "    border: none;\n",
              "    border-radius: 50%;\n",
              "    cursor: pointer;\n",
              "    display: none;\n",
              "    fill: var(--fill-color);\n",
              "    height: 32px;\n",
              "    padding: 0;\n",
              "    width: 32px;\n",
              "  }\n",
              "\n",
              "  .colab-df-quickchart:hover {\n",
              "    background-color: var(--hover-bg-color);\n",
              "    box-shadow: 0 1px 2px rgba(60, 64, 67, 0.3), 0 1px 3px 1px rgba(60, 64, 67, 0.15);\n",
              "    fill: var(--button-hover-fill-color);\n",
              "  }\n",
              "\n",
              "  .colab-df-quickchart-complete:disabled,\n",
              "  .colab-df-quickchart-complete:disabled:hover {\n",
              "    background-color: var(--disabled-bg-color);\n",
              "    fill: var(--disabled-fill-color);\n",
              "    box-shadow: none;\n",
              "  }\n",
              "\n",
              "  .colab-df-spinner {\n",
              "    border: 2px solid var(--fill-color);\n",
              "    border-color: transparent;\n",
              "    border-bottom-color: var(--fill-color);\n",
              "    animation:\n",
              "      spin 1s steps(1) infinite;\n",
              "  }\n",
              "\n",
              "  @keyframes spin {\n",
              "    0% {\n",
              "      border-color: transparent;\n",
              "      border-bottom-color: var(--fill-color);\n",
              "      border-left-color: var(--fill-color);\n",
              "    }\n",
              "    20% {\n",
              "      border-color: transparent;\n",
              "      border-left-color: var(--fill-color);\n",
              "      border-top-color: var(--fill-color);\n",
              "    }\n",
              "    30% {\n",
              "      border-color: transparent;\n",
              "      border-left-color: var(--fill-color);\n",
              "      border-top-color: var(--fill-color);\n",
              "      border-right-color: var(--fill-color);\n",
              "    }\n",
              "    40% {\n",
              "      border-color: transparent;\n",
              "      border-right-color: var(--fill-color);\n",
              "      border-top-color: var(--fill-color);\n",
              "    }\n",
              "    60% {\n",
              "      border-color: transparent;\n",
              "      border-right-color: var(--fill-color);\n",
              "    }\n",
              "    80% {\n",
              "      border-color: transparent;\n",
              "      border-right-color: var(--fill-color);\n",
              "      border-bottom-color: var(--fill-color);\n",
              "    }\n",
              "    90% {\n",
              "      border-color: transparent;\n",
              "      border-bottom-color: var(--fill-color);\n",
              "    }\n",
              "  }\n",
              "</style>\n",
              "\n",
              "  <script>\n",
              "    async function quickchart(key) {\n",
              "      const quickchartButtonEl =\n",
              "        document.querySelector('#' + key + ' button');\n",
              "      quickchartButtonEl.disabled = true;  // To prevent multiple clicks.\n",
              "      quickchartButtonEl.classList.add('colab-df-spinner');\n",
              "      try {\n",
              "        const charts = await google.colab.kernel.invokeFunction(\n",
              "            'suggestCharts', [key], {});\n",
              "      } catch (error) {\n",
              "        console.error('Error during call to suggestCharts:', error);\n",
              "      }\n",
              "      quickchartButtonEl.classList.remove('colab-df-spinner');\n",
              "      quickchartButtonEl.classList.add('colab-df-quickchart-complete');\n",
              "    }\n",
              "    (() => {\n",
              "      let quickchartButtonEl =\n",
              "        document.querySelector('#df-c7961297-d50d-45e7-9d15-52e0c4cc9c8d button');\n",
              "      quickchartButtonEl.style.display =\n",
              "        google.colab.kernel.accessAllowed ? 'block' : 'none';\n",
              "    })();\n",
              "  </script>\n",
              "</div>\n",
              "    </div>\n",
              "  </div>\n"
            ],
            "application/vnd.google.colaboratory.intrinsic+json": {
              "type": "dataframe",
              "variable_name": "ratings_df",
              "summary": "{\n  \"name\": \"ratings_df\",\n  \"rows\": 8,\n  \"fields\": [\n    {\n      \"column\": \"user_id\",\n      \"properties\": {\n        \"dtype\": \"number\",\n        \"std\": 0,\n        \"min\": 1,\n        \"max\": 3,\n        \"num_unique_values\": 3,\n        \"samples\": [\n          1,\n          2,\n          3\n        ],\n        \"semantic_type\": \"\",\n        \"description\": \"\"\n      }\n    },\n    {\n      \"column\": \"movie_id\",\n      \"properties\": {\n        \"dtype\": \"number\",\n        \"std\": 1,\n        \"min\": 1,\n        \"max\": 5,\n        \"num_unique_values\": 5,\n        \"samples\": [\n          2,\n          5,\n          3\n        ],\n        \"semantic_type\": \"\",\n        \"description\": \"\"\n      }\n    },\n    {\n      \"column\": \"rating\",\n      \"properties\": {\n        \"dtype\": \"number\",\n        \"std\": 1,\n        \"min\": 2,\n        \"max\": 5,\n        \"num_unique_values\": 4,\n        \"samples\": [\n          3,\n          2,\n          5\n        ],\n        \"semantic_type\": \"\",\n        \"description\": \"\"\n      }\n    }\n  ]\n}"
            }
          },
          "metadata": {},
          "execution_count": 1
        }
      ]
    },
    {
      "cell_type": "code",
      "source": [
        "# Create a user-item rating matrix\n",
        "user_item_matrix = pd.pivot_table(ratings_df, values='rating', index='user_id', columns='movie_id', fill_value=0)"
      ],
      "metadata": {
        "id": "bbyNERsMubj1"
      },
      "execution_count": null,
      "outputs": []
    },
    {
      "cell_type": "code",
      "source": [
        "user_item_matrix"
      ],
      "metadata": {
        "colab": {
          "base_uri": "https://localhost:8080/",
          "height": 175
        },
        "id": "4XcLx586uk_l",
        "outputId": "a995d155-dda4-4dcc-8d73-570a80f0dfa5"
      },
      "execution_count": null,
      "outputs": [
        {
          "output_type": "execute_result",
          "data": {
            "text/plain": [
              "movie_id  1  2  3  4  5\n",
              "user_id                \n",
              "1         5  3  4  0  0\n",
              "2         5  0  0  4  2\n",
              "3         0  5  0  0  5"
            ],
            "text/html": [
              "\n",
              "  <div id=\"df-a1596a7b-0a54-4835-bd78-0d68a05abff7\" class=\"colab-df-container\">\n",
              "    <div>\n",
              "<style scoped>\n",
              "    .dataframe tbody tr th:only-of-type {\n",
              "        vertical-align: middle;\n",
              "    }\n",
              "\n",
              "    .dataframe tbody tr th {\n",
              "        vertical-align: top;\n",
              "    }\n",
              "\n",
              "    .dataframe thead th {\n",
              "        text-align: right;\n",
              "    }\n",
              "</style>\n",
              "<table border=\"1\" class=\"dataframe\">\n",
              "  <thead>\n",
              "    <tr style=\"text-align: right;\">\n",
              "      <th>movie_id</th>\n",
              "      <th>1</th>\n",
              "      <th>2</th>\n",
              "      <th>3</th>\n",
              "      <th>4</th>\n",
              "      <th>5</th>\n",
              "    </tr>\n",
              "    <tr>\n",
              "      <th>user_id</th>\n",
              "      <th></th>\n",
              "      <th></th>\n",
              "      <th></th>\n",
              "      <th></th>\n",
              "      <th></th>\n",
              "    </tr>\n",
              "  </thead>\n",
              "  <tbody>\n",
              "    <tr>\n",
              "      <th>1</th>\n",
              "      <td>5</td>\n",
              "      <td>3</td>\n",
              "      <td>4</td>\n",
              "      <td>0</td>\n",
              "      <td>0</td>\n",
              "    </tr>\n",
              "    <tr>\n",
              "      <th>2</th>\n",
              "      <td>5</td>\n",
              "      <td>0</td>\n",
              "      <td>0</td>\n",
              "      <td>4</td>\n",
              "      <td>2</td>\n",
              "    </tr>\n",
              "    <tr>\n",
              "      <th>3</th>\n",
              "      <td>0</td>\n",
              "      <td>5</td>\n",
              "      <td>0</td>\n",
              "      <td>0</td>\n",
              "      <td>5</td>\n",
              "    </tr>\n",
              "  </tbody>\n",
              "</table>\n",
              "</div>\n",
              "    <div class=\"colab-df-buttons\">\n",
              "\n",
              "  <div class=\"colab-df-container\">\n",
              "    <button class=\"colab-df-convert\" onclick=\"convertToInteractive('df-a1596a7b-0a54-4835-bd78-0d68a05abff7')\"\n",
              "            title=\"Convert this dataframe to an interactive table.\"\n",
              "            style=\"display:none;\">\n",
              "\n",
              "  <svg xmlns=\"http://www.w3.org/2000/svg\" height=\"24px\" viewBox=\"0 -960 960 960\">\n",
              "    <path d=\"M120-120v-720h720v720H120Zm60-500h600v-160H180v160Zm220 220h160v-160H400v160Zm0 220h160v-160H400v160ZM180-400h160v-160H180v160Zm440 0h160v-160H620v160ZM180-180h160v-160H180v160Zm440 0h160v-160H620v160Z\"/>\n",
              "  </svg>\n",
              "    </button>\n",
              "\n",
              "  <style>\n",
              "    .colab-df-container {\n",
              "      display:flex;\n",
              "      gap: 12px;\n",
              "    }\n",
              "\n",
              "    .colab-df-convert {\n",
              "      background-color: #E8F0FE;\n",
              "      border: none;\n",
              "      border-radius: 50%;\n",
              "      cursor: pointer;\n",
              "      display: none;\n",
              "      fill: #1967D2;\n",
              "      height: 32px;\n",
              "      padding: 0 0 0 0;\n",
              "      width: 32px;\n",
              "    }\n",
              "\n",
              "    .colab-df-convert:hover {\n",
              "      background-color: #E2EBFA;\n",
              "      box-shadow: 0px 1px 2px rgba(60, 64, 67, 0.3), 0px 1px 3px 1px rgba(60, 64, 67, 0.15);\n",
              "      fill: #174EA6;\n",
              "    }\n",
              "\n",
              "    .colab-df-buttons div {\n",
              "      margin-bottom: 4px;\n",
              "    }\n",
              "\n",
              "    [theme=dark] .colab-df-convert {\n",
              "      background-color: #3B4455;\n",
              "      fill: #D2E3FC;\n",
              "    }\n",
              "\n",
              "    [theme=dark] .colab-df-convert:hover {\n",
              "      background-color: #434B5C;\n",
              "      box-shadow: 0px 1px 3px 1px rgba(0, 0, 0, 0.15);\n",
              "      filter: drop-shadow(0px 1px 2px rgba(0, 0, 0, 0.3));\n",
              "      fill: #FFFFFF;\n",
              "    }\n",
              "  </style>\n",
              "\n",
              "    <script>\n",
              "      const buttonEl =\n",
              "        document.querySelector('#df-a1596a7b-0a54-4835-bd78-0d68a05abff7 button.colab-df-convert');\n",
              "      buttonEl.style.display =\n",
              "        google.colab.kernel.accessAllowed ? 'block' : 'none';\n",
              "\n",
              "      async function convertToInteractive(key) {\n",
              "        const element = document.querySelector('#df-a1596a7b-0a54-4835-bd78-0d68a05abff7');\n",
              "        const dataTable =\n",
              "          await google.colab.kernel.invokeFunction('convertToInteractive',\n",
              "                                                    [key], {});\n",
              "        if (!dataTable) return;\n",
              "\n",
              "        const docLinkHtml = 'Like what you see? Visit the ' +\n",
              "          '<a target=\"_blank\" href=https://colab.research.google.com/notebooks/data_table.ipynb>data table notebook</a>'\n",
              "          + ' to learn more about interactive tables.';\n",
              "        element.innerHTML = '';\n",
              "        dataTable['output_type'] = 'display_data';\n",
              "        await google.colab.output.renderOutput(dataTable, element);\n",
              "        const docLink = document.createElement('div');\n",
              "        docLink.innerHTML = docLinkHtml;\n",
              "        element.appendChild(docLink);\n",
              "      }\n",
              "    </script>\n",
              "  </div>\n",
              "\n",
              "\n",
              "<div id=\"df-06f4534f-3457-411a-91dd-f99f8eb4bcd7\">\n",
              "  <button class=\"colab-df-quickchart\" onclick=\"quickchart('df-06f4534f-3457-411a-91dd-f99f8eb4bcd7')\"\n",
              "            title=\"Suggest charts\"\n",
              "            style=\"display:none;\">\n",
              "\n",
              "<svg xmlns=\"http://www.w3.org/2000/svg\" height=\"24px\"viewBox=\"0 0 24 24\"\n",
              "     width=\"24px\">\n",
              "    <g>\n",
              "        <path d=\"M19 3H5c-1.1 0-2 .9-2 2v14c0 1.1.9 2 2 2h14c1.1 0 2-.9 2-2V5c0-1.1-.9-2-2-2zM9 17H7v-7h2v7zm4 0h-2V7h2v10zm4 0h-2v-4h2v4z\"/>\n",
              "    </g>\n",
              "</svg>\n",
              "  </button>\n",
              "\n",
              "<style>\n",
              "  .colab-df-quickchart {\n",
              "      --bg-color: #E8F0FE;\n",
              "      --fill-color: #1967D2;\n",
              "      --hover-bg-color: #E2EBFA;\n",
              "      --hover-fill-color: #174EA6;\n",
              "      --disabled-fill-color: #AAA;\n",
              "      --disabled-bg-color: #DDD;\n",
              "  }\n",
              "\n",
              "  [theme=dark] .colab-df-quickchart {\n",
              "      --bg-color: #3B4455;\n",
              "      --fill-color: #D2E3FC;\n",
              "      --hover-bg-color: #434B5C;\n",
              "      --hover-fill-color: #FFFFFF;\n",
              "      --disabled-bg-color: #3B4455;\n",
              "      --disabled-fill-color: #666;\n",
              "  }\n",
              "\n",
              "  .colab-df-quickchart {\n",
              "    background-color: var(--bg-color);\n",
              "    border: none;\n",
              "    border-radius: 50%;\n",
              "    cursor: pointer;\n",
              "    display: none;\n",
              "    fill: var(--fill-color);\n",
              "    height: 32px;\n",
              "    padding: 0;\n",
              "    width: 32px;\n",
              "  }\n",
              "\n",
              "  .colab-df-quickchart:hover {\n",
              "    background-color: var(--hover-bg-color);\n",
              "    box-shadow: 0 1px 2px rgba(60, 64, 67, 0.3), 0 1px 3px 1px rgba(60, 64, 67, 0.15);\n",
              "    fill: var(--button-hover-fill-color);\n",
              "  }\n",
              "\n",
              "  .colab-df-quickchart-complete:disabled,\n",
              "  .colab-df-quickchart-complete:disabled:hover {\n",
              "    background-color: var(--disabled-bg-color);\n",
              "    fill: var(--disabled-fill-color);\n",
              "    box-shadow: none;\n",
              "  }\n",
              "\n",
              "  .colab-df-spinner {\n",
              "    border: 2px solid var(--fill-color);\n",
              "    border-color: transparent;\n",
              "    border-bottom-color: var(--fill-color);\n",
              "    animation:\n",
              "      spin 1s steps(1) infinite;\n",
              "  }\n",
              "\n",
              "  @keyframes spin {\n",
              "    0% {\n",
              "      border-color: transparent;\n",
              "      border-bottom-color: var(--fill-color);\n",
              "      border-left-color: var(--fill-color);\n",
              "    }\n",
              "    20% {\n",
              "      border-color: transparent;\n",
              "      border-left-color: var(--fill-color);\n",
              "      border-top-color: var(--fill-color);\n",
              "    }\n",
              "    30% {\n",
              "      border-color: transparent;\n",
              "      border-left-color: var(--fill-color);\n",
              "      border-top-color: var(--fill-color);\n",
              "      border-right-color: var(--fill-color);\n",
              "    }\n",
              "    40% {\n",
              "      border-color: transparent;\n",
              "      border-right-color: var(--fill-color);\n",
              "      border-top-color: var(--fill-color);\n",
              "    }\n",
              "    60% {\n",
              "      border-color: transparent;\n",
              "      border-right-color: var(--fill-color);\n",
              "    }\n",
              "    80% {\n",
              "      border-color: transparent;\n",
              "      border-right-color: var(--fill-color);\n",
              "      border-bottom-color: var(--fill-color);\n",
              "    }\n",
              "    90% {\n",
              "      border-color: transparent;\n",
              "      border-bottom-color: var(--fill-color);\n",
              "    }\n",
              "  }\n",
              "</style>\n",
              "\n",
              "  <script>\n",
              "    async function quickchart(key) {\n",
              "      const quickchartButtonEl =\n",
              "        document.querySelector('#' + key + ' button');\n",
              "      quickchartButtonEl.disabled = true;  // To prevent multiple clicks.\n",
              "      quickchartButtonEl.classList.add('colab-df-spinner');\n",
              "      try {\n",
              "        const charts = await google.colab.kernel.invokeFunction(\n",
              "            'suggestCharts', [key], {});\n",
              "      } catch (error) {\n",
              "        console.error('Error during call to suggestCharts:', error);\n",
              "      }\n",
              "      quickchartButtonEl.classList.remove('colab-df-spinner');\n",
              "      quickchartButtonEl.classList.add('colab-df-quickchart-complete');\n",
              "    }\n",
              "    (() => {\n",
              "      let quickchartButtonEl =\n",
              "        document.querySelector('#df-06f4534f-3457-411a-91dd-f99f8eb4bcd7 button');\n",
              "      quickchartButtonEl.style.display =\n",
              "        google.colab.kernel.accessAllowed ? 'block' : 'none';\n",
              "    })();\n",
              "  </script>\n",
              "</div>\n",
              "    </div>\n",
              "  </div>\n"
            ],
            "application/vnd.google.colaboratory.intrinsic+json": {
              "type": "dataframe",
              "variable_name": "user_item_matrix",
              "summary": "{\n  \"name\": \"user_item_matrix\",\n  \"rows\": 3,\n  \"fields\": [\n    {\n      \"column\": \"user_id\",\n      \"properties\": {\n        \"dtype\": \"number\",\n        \"std\": 1,\n        \"min\": 1,\n        \"max\": 3,\n        \"num_unique_values\": 3,\n        \"samples\": [\n          1,\n          2,\n          3\n        ],\n        \"semantic_type\": \"\",\n        \"description\": \"\"\n      }\n    },\n    {\n      \"column\": 1,\n      \"properties\": {\n        \"dtype\": \"number\",\n        \"std\": 2,\n        \"min\": 0,\n        \"max\": 5,\n        \"num_unique_values\": 2,\n        \"samples\": [\n          0,\n          5\n        ],\n        \"semantic_type\": \"\",\n        \"description\": \"\"\n      }\n    },\n    {\n      \"column\": 2,\n      \"properties\": {\n        \"dtype\": \"number\",\n        \"std\": 2,\n        \"min\": 0,\n        \"max\": 5,\n        \"num_unique_values\": 3,\n        \"samples\": [\n          3,\n          0\n        ],\n        \"semantic_type\": \"\",\n        \"description\": \"\"\n      }\n    },\n    {\n      \"column\": 3,\n      \"properties\": {\n        \"dtype\": \"number\",\n        \"std\": 2,\n        \"min\": 0,\n        \"max\": 4,\n        \"num_unique_values\": 2,\n        \"samples\": [\n          0,\n          4\n        ],\n        \"semantic_type\": \"\",\n        \"description\": \"\"\n      }\n    },\n    {\n      \"column\": 4,\n      \"properties\": {\n        \"dtype\": \"number\",\n        \"std\": 2,\n        \"min\": 0,\n        \"max\": 4,\n        \"num_unique_values\": 2,\n        \"samples\": [\n          4,\n          0\n        ],\n        \"semantic_type\": \"\",\n        \"description\": \"\"\n      }\n    },\n    {\n      \"column\": 5,\n      \"properties\": {\n        \"dtype\": \"number\",\n        \"std\": 2,\n        \"min\": 0,\n        \"max\": 5,\n        \"num_unique_values\": 3,\n        \"samples\": [\n          0,\n          2\n        ],\n        \"semantic_type\": \"\",\n        \"description\": \"\"\n      }\n    }\n  ]\n}"
            }
          },
          "metadata": {},
          "execution_count": 3
        }
      ]
    },
    {
      "cell_type": "code",
      "source": [
        "# Calculate the cosine similarity between users\n",
        "user_similarity = cosine_similarity(user_item_matrix)"
      ],
      "metadata": {
        "id": "nltBe7SKuq2K"
      },
      "execution_count": null,
      "outputs": []
    },
    {
      "cell_type": "code",
      "source": [
        "user_similarity"
      ],
      "metadata": {
        "colab": {
          "base_uri": "https://localhost:8080/"
        },
        "id": "9eJPfqgzutpW",
        "outputId": "b08918fc-c436-4e07-f61e-ba9a8ca05816"
      },
      "execution_count": null,
      "outputs": [
        {
          "output_type": "execute_result",
          "data": {
            "text/plain": [
              "array([[1.        , 0.52704628, 0.3       ],\n",
              "       [0.52704628, 1.        , 0.21081851],\n",
              "       [0.3       , 0.21081851, 1.        ]])"
            ]
          },
          "metadata": {},
          "execution_count": 5
        }
      ]
    },
    {
      "cell_type": "markdown",
      "source": [
        "**Let's try building a model that kind of mimics the Collaborative Filtering**"
      ],
      "metadata": {
        "id": "9pWTbom_LnvC"
      }
    },
    {
      "cell_type": "code",
      "source": [
        "# Define the user ID and number of top recommendations\n",
        "user_id = 2\n",
        "top_n = 5\n",
        "\n",
        "# Adjust for 0-based indexing to get similarity scores for the target user\n",
        "target_user_similarity = user_similarity[user_id - 1]\n",
        "print(\"Target User Similarity Scores:\", target_user_similarity)\n",
        "\n",
        "# Get the user's ratings\n",
        "user_ratings = user_item_matrix.loc[user_id]\n",
        "print(\"User Ratings:\", user_ratings)\n",
        "\n",
        "# Initialize an empty list to store recommendations\n",
        "recommendations = []\n",
        "\n",
        "# Iterate over each movie\n",
        "for movie_id in user_item_matrix.columns:\n",
        "    # Skip movies the user has already rated\n",
        "    if user_ratings[movie_id] > 0:\n",
        "        continue\n",
        "\n",
        "    # Calculate the weighted sum of ratings for this movie based on user similarity\n",
        "    # This is done by iterating over each user and multiplying their similarity score with the target user by their rating for the movie.\n",
        "    weighted_sum = sum(target_user_similarity[other_user_id - 1] * user_item_matrix.loc[other_user_id, movie_id]\n",
        "                       for other_user_id in user_item_matrix.index)/len(target_user_similarity)\n",
        "\n",
        "    # Calculate the average similarity score for the current movie.\n",
        "    #This is done by summing the similarity scores of all users who have rated the movie and dividing by the count of such users.\n",
        "    rated_users_similarity_sum = sum(target_user_similarity[other_user_id - 1]\n",
        "                                     for other_user_id in user_item_matrix.index\n",
        "                                     if user_item_matrix.loc[other_user_id, movie_id] > 0)\n",
        "    average_similarity = rated_users_similarity_sum / len([other_user_id for other_user_id in user_item_matrix.index\n",
        "                                                            if user_item_matrix.loc[other_user_id, movie_id] > 0])\n",
        "\n",
        "    # Calculate the predicted rating for this movie\n",
        "    predicted_rating = weighted_sum / average_similarity if average_similarity > 0 else 0\n",
        "    print(\"Movie ID:\", movie_id)\n",
        "    print(\"Weighted Sum:\", weighted_sum)\n",
        "    print(\"Rated Similairty Sum:\", rated_users_similarity_sum)\n",
        "    print(\"Average Similarity:\", average_similarity)\n",
        "    print(\"Predicted Rating:\", predicted_rating)\n",
        "\n",
        "    # Add the movie ID and predicted rating to the recommendations list\n",
        "    recommendations.append((movie_id, predicted_rating))\n"
      ],
      "metadata": {
        "colab": {
          "base_uri": "https://localhost:8080/"
        },
        "id": "PeWUkrH5LnXd",
        "outputId": "a78ba845-5a04-499c-be9c-a94f717da798"
      },
      "execution_count": null,
      "outputs": [
        {
          "output_type": "stream",
          "name": "stdout",
          "text": [
            "Target User Similarity Scores: [0.52704628 1.         0.21081851]\n",
            "User Ratings: movie_id\n",
            "1    5\n",
            "2    0\n",
            "3    0\n",
            "4    4\n",
            "5    2\n",
            "Name: 2, dtype: int64\n",
            "Movie ID: 2\n",
            "Weighted Sum: 0.8784104611578831\n",
            "Rated Similairty Sum: 0.7378647873726217\n",
            "Average Similarity: 0.36893239368631087\n",
            "Predicted Rating: 2.3809523809523814\n",
            "Movie ID: 3\n",
            "Weighted Sum: 0.7027283689263064\n",
            "Rated Similairty Sum: 0.5270462766947298\n",
            "Average Similarity: 0.5270462766947298\n",
            "Predicted Rating: 1.3333333333333333\n"
          ]
        }
      ]
    },
    {
      "cell_type": "markdown",
      "source": [
        "**Let's make our code modularized**"
      ],
      "metadata": {
        "id": "wOxsts0kL_hH"
      }
    },
    {
      "cell_type": "code",
      "source": [
        "# Define a function to get movie recommendations for a user\n",
        "def get_recommendations(user_id, top_n=5):\n",
        "    # Get the similarity scores for the target user\n",
        "    target_user_similarity = user_similarity[user_id - 1]  # Adjust for 0-based indexing\n",
        "\n",
        "    # Get the user's ratings\n",
        "    user_ratings = user_item_matrix.loc[user_id]\n",
        "\n",
        "    # Initialize an empty list to store recommendations\n",
        "    recommendations = []\n",
        "\n",
        "    # Iterate over each movie\n",
        "    for movie_id in user_item_matrix.columns:\n",
        "        # Skip movies the user has already rated\n",
        "        if user_ratings[movie_id] > 0:\n",
        "            continue\n",
        "\n",
        "        # Calculate the weighted sum of ratings for this movie based on user similarity\n",
        "        weighted_sum = sum(target_user_similarity[other_user_id - 1] * user_item_matrix.loc[other_user_id, movie_id]\n",
        "                           for other_user_id in user_item_matrix.index)/len(target_user_similarity)\n",
        "\n",
        "        # Calculate the average similarity score for this movie\n",
        "        rated_users_similarity_sum = sum(target_user_similarity[other_user_id - 1]\n",
        "                                         for other_user_id in user_item_matrix.index\n",
        "                                         if user_item_matrix.loc[other_user_id, movie_id] > 0)\n",
        "        average_similarity = rated_users_similarity_sum / len([other_user_id for other_user_id in user_item_matrix.index\n",
        "                                                                if user_item_matrix.loc[other_user_id, movie_id] > 0])\n",
        "\n",
        "        # Calculate the predicted rating for this movie\n",
        "        predicted_rating = weighted_sum / average_similarity if average_similarity > 0 else 0\n",
        "\n",
        "        # Add the movie ID and predicted rating to the recommendations list\n",
        "        recommendations.append((movie_id, predicted_rating))\n",
        "\n",
        "    # Sort recommendations by predicted rating in descending order\n",
        "    recommendations.sort(key=lambda x: x[1], reverse=True)\n",
        "\n",
        "    # Get the top N recommended movie IDs\n",
        "    top_recommendations = [movie_id for movie_id, _ in recommendations[:top_n]]\n",
        "    return top_recommendations\n"
      ],
      "metadata": {
        "id": "8hQBYjwIL6j2"
      },
      "execution_count": null,
      "outputs": []
    },
    {
      "cell_type": "code",
      "source": [
        "# Example: Get movie recommendations\n",
        "get_recommendations(user_id=3, top_n=1)"
      ],
      "metadata": {
        "colab": {
          "base_uri": "https://localhost:8080/"
        },
        "id": "HK9VlIk_L8va",
        "outputId": "bad6514d-3c6f-4dba-a1bc-c4b031402453"
      },
      "execution_count": null,
      "outputs": [
        {
          "output_type": "execute_result",
          "data": {
            "text/plain": [
              "[1]"
            ]
          },
          "metadata": {},
          "execution_count": 8
        }
      ]
    },
    {
      "cell_type": "markdown",
      "metadata": {
        "id": "y8Ce9sjrOrPh"
      },
      "source": [
        "## <u><b> Content-Based Filtering </b></u>\n",
        "\n",
        "This method uses only information about the description and attributes of the items users has previously consumed to model user's preferences. In other words, these algorithms try to recommend items that are similar to those that a user liked in the past (or is examining in the present). In particular, various candidate items are compared with items previously rated by the user and the best-matching items are recommended."
      ]
    },
    {
      "cell_type": "markdown",
      "metadata": {
        "_cell_guid": "20749719-df2b-41ed-970d-a682777d26bd",
        "_uuid": "cd82970851a3b35155770dc48c85f8721f970df9",
        "id": "UrwcXaDLOrPi"
      },
      "source": [
        "Content-based filtering approaches leverage description or attributes from items the user has interacted to recommend similar items. It depends only on the user previous choices, making this method robust to avoid the *cold-start* problem. For textual items, like articles, news and books, it is simple to use the raw text to build item profiles and user profiles.  "
      ]
    },
    {
      "cell_type": "markdown",
      "source": [
        "### **Activity 1: Fill in the Blanks**"
      ],
      "metadata": {
        "id": "mniv2Csu9bSW"
      }
    },
    {
      "cell_type": "markdown",
      "source": [
        "\n",
        "\n",
        "1. In collaborative filtering, recommendations are made based on the preferences and behaviors of ____________ users.\n",
        "\n",
        "\n",
        "2. Content-based filtering recommends items based on the ____________ of the items themselves.\n",
        "\n",
        "\n",
        "3. Hybrid models combine ____________ and content-based filtering approaches to provide more accurate and diverse recommendations.\n",
        "\n",
        "\n"
      ],
      "metadata": {
        "id": "n7R0zCJM92-0"
      }
    },
    {
      "cell_type": "markdown",
      "source": [
        "#### **Acitivity 1 Answers:**"
      ],
      "metadata": {
        "id": "MCYp5EBf-sC5"
      }
    },
    {
      "cell_type": "markdown",
      "source": [
        "\n",
        "\n",
        "1. similar\n",
        "\n",
        "2. characteristics\n",
        "\n",
        "3. collaborative filtering\n",
        "\n"
      ],
      "metadata": {
        "id": "zK50vBM29aTO"
      }
    },
    {
      "cell_type": "markdown",
      "source": [
        "### **Problem Statement:**"
      ],
      "metadata": {
        "id": "fpMJ6pAmE8jW"
      }
    },
    {
      "cell_type": "markdown",
      "source": [
        "**Background:**\n",
        "\n",
        "The entertainment industry, particularly the film industry, witnesses a vast array of movies being released every year. With such a plethora of choices available to audiences, it can often be overwhelming for individuals to decide which movies to watch. In this era of digital streaming platforms and online movie databases, personalized movie recommendation systems have become increasingly popular. These systems help users discover new movies tailored to their preferences, enhancing their overall viewing experience.\n",
        "\n",
        "**Objective:**\n",
        "\n",
        "The objective of this project is to develop a movie recommendation system based on content similarity. Instead of relying on user-item interactions, this system suggests movies similar to a given movie based on their textual features such as title, genre, and description. By leveraging natural language processing (NLP) techniques and machine learning algorithms, the recommendation system aims to provide personalized movie recommendations to users, thereby improving user engagement and satisfaction.\n",
        "\n",
        "**Data Description:**\n",
        "\n",
        "The dataset used for this project consists of information about several movies, including their unique identifiers (movie_id), titles (title), genres (genre), and descriptions (description). Each movie is represented by a combination of these features, which are concatenated into a single column named features. The descriptions provide textual summaries of the movies, capturing key themes, plot points, and characterizations.\n",
        "\n",
        "\n",
        "**How doe we think of solving it**\n",
        "\n",
        "The dataset serves as the foundation for building the recommendation system. It is preprocessed to create a TF-IDF (Term Frequency-Inverse Document Frequency) matrix, which represents the textual features of each movie. This matrix is then used to compute a similarity matrix using the cosine similarity metric. Finally, a function is defined to generate recommendations based on a given movie title, utilizing the computed similarity scores.\n",
        "\n",
        "Overall, the dataset and the subsequent processing pipeline enable the creation of a content-based movie recommendation system that suggests similar movies to users based on textual similarities in their descriptions and other features."
      ],
      "metadata": {
        "id": "oVIVfCWeE-XV"
      }
    },
    {
      "cell_type": "markdown",
      "source": [
        "**Implementing a Content Based Filtering Model:**"
      ],
      "metadata": {
        "id": "tlADdTNXFLZr"
      }
    },
    {
      "cell_type": "code",
      "source": [
        "import pandas as pd\n",
        "from sklearn.feature_extraction.text import TfidfVectorizer\n",
        "from sklearn.metrics.pairwise import linear_kernel\n",
        "\n",
        "# Sample dataset\n",
        "data = {\n",
        "    'movie_id': [1, 2, 3, 4, 5],\n",
        "    'title': ['The Shawshank Redemption', 'The Godfather', 'The Dark Knight', 'Pulp Fiction', 'Forrest Gump'],\n",
        "    'genre': ['Drama', 'Crime', 'Action', 'Crime', 'Drama'],\n",
        "    'description': ['Two imprisoned men bond over a number of years, finding solace and eventual redemption through acts of common decency.',\n",
        "                    \"An organized crime dynasty's aging patriarch transfers control of his clandestine empire to his reluctant son.\",\n",
        "                    'When the menace known as The Joker, emerges from his mysterious past, he wreaks havoc and chaos on the people of Gotham.',\n",
        "                    'The lives of two mob hitmen, a boxer, a gangster and his wife, and a pair of diner bandits intertwine in four tales of violence and redemption.',\n",
        "                    'The presidencies of Kennedy and Johnson, the Vietnam War, the Watergate scandal and other historical events unfold from the perspective of an Alabama man with an IQ of 75, whose only desire is to be reunited with his childhood sweetheart.']\n",
        "}\n",
        "\n",
        "movies_df = pd.DataFrame(data)\n",
        "\n",
        "# Concatenate text features\n",
        "movies_df['features'] = movies_df['title'] + ' ' + movies_df['genre'] + ' ' + movies_df['description']\n",
        "\n",
        "# TF-IDF Vectorization\n",
        "tfidf_vectorizer = TfidfVectorizer(stop_words='english')\n",
        "tfidf_matrix = tfidf_vectorizer.fit_transform(movies_df['features'])\n",
        "\n",
        "# Compute similarity matrix\n",
        "cosine_sim = linear_kernel(tfidf_matrix, tfidf_matrix)\n",
        "\n",
        "# Function to get recommendations\n",
        "def get_recommendations(title, cosine_sim=cosine_sim):\n",
        "    idx = movies_df.loc[movies_df['title'] == title].index[0]\n",
        "    sim_scores = list(enumerate(cosine_sim[idx]))\n",
        "    sim_scores = sorted(sim_scores, key=lambda x: x[1], reverse=True)\n",
        "    sim_scores = sim_scores[1:6]  # Top 5 similar movies\n",
        "    movie_indices = [i[0] for i in sim_scores]\n",
        "    return movies_df['title'].iloc[movie_indices]\n",
        "\n",
        "# Example: Get recommendations for a movie\n",
        "movie_title = 'The Dark Knight'\n",
        "recommended_movies = get_recommendations(movie_title)\n",
        "print(f\"Recommended movies for '{movie_title}':\")\n",
        "print(recommended_movies)\n"
      ],
      "metadata": {
        "id": "B7TGzWGUNcCP",
        "colab": {
          "base_uri": "https://localhost:8080/"
        },
        "outputId": "5cfb8ba7-e177-4480-9f62-f1c6ea598e7d"
      },
      "execution_count": null,
      "outputs": [
        {
          "output_type": "stream",
          "name": "stdout",
          "text": [
            "Recommended movies for 'The Dark Knight':\n",
            "0    The Shawshank Redemption\n",
            "1               The Godfather\n",
            "3                Pulp Fiction\n",
            "4                Forrest Gump\n",
            "Name: title, dtype: object\n"
          ]
        }
      ]
    },
    {
      "cell_type": "code",
      "source": [
        "import pandas as pd\n",
        "import numpy as np\n",
        "\n",
        "# Create the ratings DataFrame\n",
        "ratings_df = pd.DataFrame({\n",
        "    'user_id': [1, 1, 2, 2, 3],\n",
        "    'movie_id': [1, 2, 3, 4, 5],\n",
        "    'rating': [5, 3, 4, 2, 5]\n",
        "})\n",
        "\n",
        "# Create a movies DataFrame with movie_id and genre\n",
        "movies_df = pd.DataFrame({\n",
        "    'movie_id': [1, 2, 3, 4, 5],\n",
        "    'genre': ['Action', 'Comedy', 'Drama', 'Fantasy', 'Horror']\n",
        "})\n",
        "\n",
        "# Merge ratings and movies data to get genre information for each movie\n",
        "merged_df = ratings_df.merge(movies_df, on='movie_id')\n",
        "\n",
        "# Calculate the average rating for each genre\n",
        "genre_avg_ratings = merged_df.groupby('genre')['rating'].mean().reset_index()\n",
        "\n",
        "# Define a function to recommend top-rated movies of a given genre\n",
        "def recommend_movies_by_genre(user_id, genre, top_n=5):\n",
        "    # Filter movies of the specified genre\n",
        "    genre_movies = merged_df[merged_df['genre'] == genre]\n",
        "\n",
        "    # Exclude movies the user has already rated\n",
        "    user_rated_movies = ratings_df[ratings_df['user_id'] == user_id]['movie_id']\n",
        "    genre_movies = genre_movies[~genre_movies['movie_id'].isin(user_rated_movies)]\n",
        "\n",
        "    # Sort movies by average rating in descending order\n",
        "    genre_movies = genre_movies.sort_values(by='rating', ascending=False)\n",
        "\n",
        "    # Get the top N recommended movie IDs\n",
        "    top_recommendations = genre_movies['movie_id'].head(top_n).tolist()\n",
        "    return top_recommendations\n",
        "\n",
        "# Example: Get top 5 movie recommendations in the 'Action' genre for User 1\n",
        "user_id = 2\n",
        "genre = 'Action'\n",
        "recommendations = recommend_movies_by_genre(user_id, genre)\n",
        "print(f\"Top 5 '{genre}' Movie Recommendations for User {user_id}: {recommendations}\")"
      ],
      "metadata": {
        "colab": {
          "base_uri": "https://localhost:8080/"
        },
        "id": "n9iWig7JDYdu",
        "outputId": "796f3e8b-69df-470f-ba6c-fd907becb2e2"
      },
      "execution_count": null,
      "outputs": [
        {
          "output_type": "stream",
          "name": "stdout",
          "text": [
            "Top 5 'Action' Movie Recommendations for User 2: [1]\n"
          ]
        }
      ]
    },
    {
      "cell_type": "markdown",
      "source": [
        "### **Evaluation metrics for recommendation systems: Precision, recall, F1-score, and others**\n",
        "\n",
        "🔍 Evaluation metrics play a crucial role in assessing the performance of recommendation systems. These metrics help measure the effectiveness of the system in providing relevant and personalized recommendations to users. Some commonly used evaluation metrics for recommendation systems include precision, recall, F1-score, and others.\n",
        "\n",
        "🎯 **Precision** is a metric that measures the proportion of correctly recommended items out of the total recommended items. It focuses on the relevancy of the recommendations and is calculated as the ratio of true positives (correctly recommended items) to the sum of true positives and false positives (incorrectly recommended items).\n",
        "\n",
        "🔎 **Recall** is a metric that measures the proportion of correctly recommended items out of the total relevant items. It focuses on the coverage of the recommendations and is calculated as the ratio of true positives to the sum of true positives and false negatives (relevant items not recommended).\n",
        "\n",
        "⚖️ **F1-score** is a metric that combines precision and recall into a single measure. It provides a balanced assessment of the recommendation system's performance by considering both relevancy and coverage. The F1-score is the harmonic mean of precision and recall, giving equal weight to both metrics.\n",
        "\n",
        "\n",
        "📈 When evaluating recommendation systems, it is essential to consider the specific goals and requirements of the system. Different metrics may be more suitable depending on whether the focus is on precision, recall, or a balance between the two. It is also crucial to consider the nature of the recommendation task, such as top-N recommendations or personalized rankings, as different metrics may be appropriate for different scenarios.\n",
        "\n",
        "📊 Various programming libraries and frameworks provide implementations of these evaluation metrics for recommendation systems. Python libraries like scikit-learn, TensorFlow, and PyTorch offer functions to calculate precision, recall, F1-score, and other relevant metrics. These libraries enable practitioners to assess the performance of their recommendation systems and make data-driven improvements based on the evaluation results.\n",
        "\n",
        "📈 Here's an example of calculating precision, recall, and F1-score for a recommendation system using scikit-learn in Python:\n",
        "\n",
        "```python\n",
        "from sklearn.metrics import precision_score, recall_score, f1_score\n",
        "\n",
        "# Assuming true labels and predicted labels are available\n",
        "true_labels = [1, 0, 1, 1, 0, 0, 1]\n",
        "predicted_labels = [1, 0, 0, 1, 1, 0, 1]\n",
        "\n",
        "precision = precision_score(true_labels, predicted_labels)\n",
        "recall = recall_score(true_labels, predicted_labels)\n",
        "f1 = f1_score(true_labels, predicted_labels)\n",
        "\n",
        "print(\"Precision:\", precision)\n",
        "print(\"Recall:\", recall)\n",
        "print(\"F1-score:\", f1)\n",
        "```\n",
        "\n",
        "In this example, we have a list of true labels and predicted labels for a set of recommendations. We use the precision_score, recall_score, and f1_score functions from scikit-learn to calculate the respective evaluation metrics. The results are then printed to assess the recommendation system's performance."
      ],
      "metadata": {
        "id": "kBmXpyqmt3EA"
      }
    },
    {
      "cell_type": "markdown",
      "source": [
        "### **Real-world applications of recommendation systems: E-commerce, social media, and others**\n",
        "\n",
        "🛒 Recommendation systems play a crucial role in various real-world applications, including e-commerce platforms, social media platforms, and other domains. These systems aim to provide personalized recommendations to users, enhancing their experience and helping them discover relevant products or content.\n",
        "\n",
        "📦 In the context of e-commerce, recommendation systems can be used to suggest products to customers based on their browsing history, purchase behavior, and preferences. By analyzing user data, these systems can generate personalized recommendations, showcasing items that are likely to be of interest to the user. This can increase customer engagement, improve conversion rates, and enhance customer satisfaction.\n",
        "\n",
        "👥 Social media platforms also leverage recommendation systems to curate personalized content for their users. These systems analyze user interactions, such as likes, shares, and comments, to understand their interests and preferences. They then recommend relevant posts, articles, videos, or accounts to follow, creating a more tailored user experience. By keeping users engaged with relevant content, social media platforms can increase user retention and ad revenue.\n",
        "\n",
        "🔍 Recommendation systems are not limited to e-commerce and social media alone. They find applications in various other domains as well. For example, in the entertainment industry, streaming platforms utilize recommendation systems to suggest movies, TV shows, or songs based on users' viewing or listening history. This helps users discover new content and improves user engagement on the platform.\n",
        "\n",
        "📰 News recommendation systems are employed by news websites and applications to deliver personalized news articles to their readers. These systems consider factors such as the user's reading history, preferred topics, and trending news to recommend articles that align with the user's interests. By providing tailored news recommendations, these systems keep users informed and engaged with relevant content.\n",
        "\n",
        "📱 Mobile applications also utilize recommendation systems to enhance user experiences. For instance, music streaming apps recommend playlists or songs based on a user's music preferences, creating a personalized soundtrack. Similarly, travel apps suggest destinations, hotels, or activities based on a user's past travel history and preferences, assisting users in planning their trips more effectively.\n",
        "\n",
        "💻 Implementing recommendation systems involves various techniques such as collaborative filtering, content-based filtering, and hybrid approaches that combine multiple methods. These systems rely on machine learning algorithms to analyze user data, build user profiles, and generate accurate recommendations.\n",
        "\n",
        "📊 Evaluation of recommendation systems is crucial to assess their performance. Techniques like offline evaluation, online A/B testing, and user feedback analysis are used to measure the effectiveness of recommendations, ensure their quality, and make improvements.\n",
        "\n",
        "📈 In conclusion, recommendation systems have become integral in e-commerce, social media, and other domains, providing personalized recommendations to users. They enhance user experiences, increase engagement, and contribute to the success of various real-world applications."
      ],
      "metadata": {
        "id": "Qb7ccyPOxc0R"
      }
    },
    {
      "cell_type": "markdown",
      "source": [
        "### **Activity 2: True or False**"
      ],
      "metadata": {
        "id": "IcIKkrCZ9oOl"
      }
    },
    {
      "cell_type": "markdown",
      "source": [
        "\n",
        "\n",
        "1. Precision measures the proportion of correctly recommended items out of the total recommended items.\n",
        "\n",
        "2. Recall measures the proportion of correctly recommended items out of the total relevant items.\n",
        "\n",
        "3. F1-score is the arithmetic mean of precision and recall.\n",
        "\n",
        "4. Precision, recall, and F1-score are the only evaluation metrics used for recommendation systems.\n",
        "\n",
        "5. Evaluation of recommendation systems is not essential since the success of the system can be easily observed.\n",
        "\n"
      ],
      "metadata": {
        "id": "7o_0cjgq-9s4"
      }
    },
    {
      "cell_type": "markdown",
      "source": [
        "#### **Activity 2 Answers**"
      ],
      "metadata": {
        "id": "0IO7pwfQ4Lly"
      }
    },
    {
      "cell_type": "markdown",
      "source": [
        "\n",
        "\n",
        "1. **True**.\n",
        "\n",
        "2. **True**.\n",
        "\n",
        "3. **False**.\n",
        "\n",
        "4.  **False**.\n",
        "\n",
        "5. **False**.\n"
      ],
      "metadata": {
        "id": "O24sM03w9nTk"
      }
    },
    {
      "cell_type": "markdown",
      "source": [
        "# **✅ Summary ✅**\n",
        "\n"
      ],
      "metadata": {
        "id": "R7wNtaOXuLVa"
      }
    },
    {
      "cell_type": "markdown",
      "source": [
        "### 📚 **What Did You Learn?** 🤔\n",
        "\n",
        "In this lesson, we covered the basics of recommender systems, which play a crucial role in helping users discover relevant items in various domains, such as e-commerce and social media.\n",
        "\n",
        "We discussed different types of recommendation systems, including collaborative filtering, content-based filtering, and hybrid models. Collaborative filtering relies on user-item interactions to make recommendations, while content-based filtering considers the characteristics of items and users' preferences. Hybrid models combine both approaches to leverage their strengths.\n",
        "\n",
        "We delved into evaluation metrics for recommendation systems, including precision, recall, F1-score, and others. These metrics help assess the effectiveness of recommendation algorithms in terms of accurately predicting user preferences and capturing relevant items.\n",
        "\n",
        "Real-world applications of recommendation systems were discussed, highlighting their importance in e-commerce and social media platforms. In e-commerce, recommendation systems assist users in finding products they are likely to purchase, enhancing the shopping experience. In social media, recommendation systems suggest relevant content, connections, or groups to users, increasing engagement.\n",
        "\n",
        "💡 By the end of this lesson, you should be able to understand the different types of recommendation systems, evaluate their performance using appropriate metrics, and be aware of techniques to enhance and personalize recommendations for users in real-world applications.\n"
      ],
      "metadata": {
        "id": "ECFpLqnM9v92"
      }
    },
    {
      "cell_type": "markdown",
      "source": [
        "## 👍 **Best Practices and Tips for Recommender Systems** 👍\n",
        "\n",
        "✅ Understand recommendation systems: Recommender systems are designed to suggest relevant items to users based on their preferences and behavior. There are three main types of recommendation systems: collaborative filtering, content-based filtering, and hybrid models. Understanding these approaches will help you design effective recommendation systems. 🎯📚\n",
        "\n",
        "✅ Collaborative filtering: Collaborative filtering analyzes user behavior and preferences to make recommendations. It identifies similarities between users or items and predicts user preferences based on the behavior of similar users or items. Consider using collaborative filtering when you have sufficient user-item interaction data. 🤝👥\n",
        "\n",
        "✅ Content-based filtering: Content-based filtering recommends items to users based on the characteristics or features of the items and the user's preferences. It analyzes item attributes such as genre, keywords, or descriptions and matches them with the user's profile. Content-based filtering is useful when you have detailed information about items and user preferences. 📄🔎\n",
        "\n",
        "✅ Hybrid models: Hybrid models combine collaborative filtering and content-based filtering to provide more accurate and diverse recommendations. These models leverage the strengths of both approaches and can be particularly effective when individual methods have limitations. Consider exploring hybrid models to improve the performance of your recommendation system. 🔄🔀\n",
        "\n",
        "✅ Matrix factorization: Matrix factorization techniques decompose a user-item matrix into latent factors. These factors capture hidden patterns and relationships between users and items, allowing for more accurate predictions. Popular matrix factorization methods include Singular Value Decomposition (SVD) and Alternating Least Squares (ALS). Consider applying matrix factorization to enhance the performance of your recommendation system. 📉🔍\n",
        "\n",
        "✅ Evaluation metrics for recommendation systems: To assess the performance of your recommendation system, you need appropriate evaluation metrics. Commonly used metrics include precision, recall, F1-score, and Mean Average Precision (MAP). These metrics measure the accuracy, coverage, and effectiveness of your recommendations. Choose the evaluation metrics that align with your system's goals and objectives. 📊🎯\n",
        "\n",
        "✅ Real-world applications of recommendation systems: Recommendation systems have widespread applications in various domains. E-commerce platforms use them to suggest products to customers, social media platforms recommend posts or connections to users, and streaming services recommend movies or music based on user preferences. Explore these real-world applications to gain insights into how recommendation systems are utilized. 🌍💡\n",
        "\n",
        "✅ Techniques for improving recommendation systems: Several techniques can enhance the performance of recommendation systems. Context-aware recommendations consider contextual factors such as time, location, or user demographics to provide more personalized suggestions. Active learning techniques actively engage users to provide feedback and improve the recommendations over time. Stay updated with these techniques to continually enhance your recommendation system. 🌟🔧\n",
        "\n",
        "✅ Stay curious and keep learning: Recommender systems are a dynamic field with ongoing research and advancements. Stay curious, explore new algorithms and techniques, and keep learning to stay at the forefront of recommendation system design. This will enable you to adapt to evolving user preferences and deliver more accurate recommendations. 🌈📚\n",
        "\n",
        "Remember, practice, experimentation, and continuous learning are the keys to mastering recommendation systems. Best of luck in your journey to create effective recommendation systems! 💪🚀"
      ],
      "metadata": {
        "id": "D7fTGZfTulvT"
      }
    },
    {
      "cell_type": "markdown",
      "source": [
        "\n",
        "\n",
        "### 🤔 **Shortcomings to Keep in Mind for Recommender Systems** 🤔\n",
        "\n",
        "Recommender systems are powerful tools for suggesting items or content to users based on their preferences and behavior. However, there are some shortcomings to keep in mind when working with recommender systems:\n",
        "\n",
        "📊 Understanding recommendation systems can be complex due to the various techniques involved. There are three main types of recommendation systems: collaborative filtering, content-based filtering, and hybrid models. Each approach has its own strengths and limitations, and it's important to carefully consider which method is most suitable for a particular application.\n",
        "\n",
        "🔍 Building recommender systems often relies on data availability and quality. Obtaining sufficient and reliable user-item data can be a challenge, especially for new or niche domains. Additionally, dealing with sparse data or the cold-start problem (when there is insufficient data for new users or items) requires careful handling and can affect the performance of the system.\n",
        "\n",
        "📈 Evaluating the effectiveness of recommendation systems can be challenging. Evaluation metrics such as precision, recall, F1-score, and others are commonly used to measure the performance of recommender systems. However, selecting the appropriate metrics and interpreting the results can be subjective and context-dependent. It's crucial to consider the specific goals and requirements of the application when evaluating the system.\n",
        "\n",
        "📉 Translating the results of a recommender system into real-world impact can be difficult. While a recommendation algorithm may perform well in terms of accuracy, the actual user experience and satisfaction may depend on various factors beyond the algorithm itself, such as the presentation of recommendations or the overall user interface. It's important to consider user feedback and conduct user studies to assess the practical effectiveness of the system.\n",
        "\n",
        "💡 Recommender systems can be further improved by incorporating additional techniques. Context-aware recommendations take into account contextual information such as time, location, or user preferences to provide more personalized recommendations. Active learning techniques can be used to actively acquire user feedback and adapt the system over time. Regular monitoring and maintenance are essential to keep the system up to date and ensure its continued performance.\n",
        "\n",
        "🎓 By keeping these shortcomings in mind, you can approach the development and evaluation of recommender systems more effectively. Understanding the strengths and limitations of different techniques, considering data quality and availability, selecting appropriate evaluation metrics, and incorporating additional techniques can lead to more accurate and useful recommendations for users in various real-world applications.\n"
      ],
      "metadata": {
        "id": "x2xp5PDIu-9Z"
      }
    },
    {
      "cell_type": "markdown",
      "source": [
        "# **🧠 Enhance Your Knowledge 🧠**"
      ],
      "metadata": {
        "id": "7k6bFKjm9-iu"
      }
    },
    {
      "cell_type": "markdown",
      "source": [
        "## **➕ Additional Reading ➕**"
      ],
      "metadata": {
        "id": "wgU6B0fjHZux"
      }
    },
    {
      "cell_type": "markdown",
      "source": [
        "#### **If you are interested in learning more about Recommender Systems, here are some additional activities and readings you can explore:**\n",
        "\n",
        "👨‍💻 Online Tutorials: There are many online tutorials and courses that can teach you more about Recommender Systems, including Understanding recommendation systems, Collaborative filtering, content-based filtering, hybrid models, Matrix factorization techniques, Evaluation metrics for recommendation systems, Real-world applications of recommendation systems, and Techniques for improving recommendation systems. You can search for these tutorials on websites like Coursera, edX, or DataCamp.\n",
        "\n",
        "📖 Books: There are several books that cover Recommender Systems in depth, including \"Recommender Systems: An Introduction\" by Dietmar Jannach, Markus Zanker, Alexander Felfernig, and Gerhard Friedrich, \"Building Recommender Systems with Machine Learning and AI\" by Frank Kane, and \"Recommender Systems Handbook\" edited by Francesco Ricci, Lior Rokach, and Bracha Shapira.\n",
        "\n",
        "🎓 Practice Problems: To enhance your skills in Recommender Systems, you can find practice problems and datasets online. Websites like Kaggle or DataCamp often provide such resources for hands-on experience.\n",
        "\n",
        "💡 Additional Tips: To gain a better understanding of Recommender Systems, try experimenting with different types of recommendation algorithms, and practice implementing them on your own datasets. Additionally, stay updated with the latest research papers and industry trends in Recommender Systems, as this field is constantly evolving.\n",
        "\n",
        "🎓 By exploring these additional activities and readings, you can delve deeper into the world of Recommender Systems and become more proficient in designing and building effective recommendation systems."
      ],
      "metadata": {
        "id": "F9I-ZJa2uLoV"
      }
    },
    {
      "cell_type": "markdown",
      "source": [
        "### **Matrix factorization: Techniques for decomposing a user-item matrix into latent factors**\n",
        "\n",
        "🔍 Matrix factorization is a popular technique used in recommender systems and collaborative filtering to decompose a user-item matrix into latent factors. It aims to uncover hidden patterns and relationships between users and items in the matrix, which can be used to make personalized recommendations.\n",
        "\n",
        "📊 Decomposing a user-item matrix involves breaking it down into two lower-rank matrices: one representing users and their latent preferences, and the other representing items and their latent attributes. By multiplying these two matrices together, the original matrix can be approximated, filling in missing values and providing recommendations based on the learned latent factors.\n",
        "\n",
        "🔍 There are several techniques available for matrix factorization, including:\n",
        "\n",
        "**1. Singular Value Decomposition (SVD):** SVD is a widely used technique for matrix factorization. It decomposes the user-item matrix into three matrices: U, Σ, and V^T. U represents the user matrix, Σ is a diagonal matrix containing the singular values, and V^T represents the item matrix. By selecting a lower rank for the Σ matrix, the original matrix can be approximated.\n",
        "\n",
        "**2. Non-negative Matrix Factorization (NMF):** NMF is a variation of matrix factorization that enforces non-negativity constraints on the resulting matrices. It is particularly useful when dealing with non-negative data, such as ratings or counts. NMF can provide interpretable latent factors and has been successful in various recommendation applications.\n",
        "\n",
        "**3. Alternating Least Squares (ALS):** ALS is an iterative optimization algorithm commonly used for matrix factorization in collaborative filtering. It alternates between optimizing the user matrix and the item matrix, gradually improving the approximation of the original matrix. ALS is known for its scalability and ability to handle large datasets.\n",
        "\n",
        "📊 The choice of matrix factorization technique depends on the specific requirements of the application, the characteristics of the user-item matrix, and computational considerations.\n",
        "\n",
        "🔍 Python libraries such as NumPy, SciPy, and scikit-learn provide functions and implementations for matrix factorization techniques. Additionally, specialized libraries like Surprise and TensorRec offer more advanced recommender system capabilities, including matrix factorization-based algorithms.\n",
        "\n",
        "📊 Here's an example of using SVD for matrix factorization in Python:\n",
        "\n",
        "```python\n",
        "import numpy as np\n",
        "from scipy.linalg import svd\n",
        "\n",
        "# Create a sample user-item matrix\n",
        "user_item_matrix = np.array([[1, 2, 3],\n",
        "                             [4, 5, 6],\n",
        "                             [7, 8, 9]])\n",
        "\n",
        "# Perform singular value decomposition (SVD)\n",
        "U, Sigma, VT = svd(user_item_matrix)\n",
        "\n",
        "# Select the desired rank for approximation\n",
        "rank = 2\n",
        "U = U[:, :rank]\n",
        "Sigma = np.diag(Sigma[:rank])\n",
        "VT = VT[:rank, :]\n",
        "\n",
        "# Approximate the original matrix\n",
        "approx_matrix = U @ Sigma @ VT\n",
        "```\n",
        "\n",
        "In this example, we use the `svd` function from SciPy to perform SVD on a sample user-item matrix. We then select a rank of 2 to approximate the original matrix using the calculated matrices U, Sigma, and VT. The resulting `approx_matrix` can be used for making recommendations or filling in missing values in the user-item matrix."
      ],
      "metadata": {
        "id": "zP6ozbK2t3Jj"
      }
    },
    {
      "cell_type": "markdown",
      "source": [
        "### **Implementation: Matrix Factorization for Recommender Systems**\n",
        "\n",
        "1. Import the necessary libraries: Import the `numpy` library as `np` and import the `svd` function from the `scipy.linalg` module.\n",
        "\n",
        "2. Create a user-item matrix: Define a sample user-item matrix `user_item_matrix` with three users and three items. Feel free to modify the values if desired.\n",
        "\n",
        "3. Perform singular value decomposition (SVD): Use the `svd` function to decompose the `user_item_matrix` into three matrices: `U`, `Sigma`, and `VT`.\n",
        "\n",
        "4. Select the desired rank for approximation: Choose a rank value, which determines the number of latent factors to retain in the approximation. Assign the chosen rank value to the `rank` variable.\n",
        "\n",
        "5. Modify the decomposition matrices: Keep only the first `rank` columns of `U`, the first `rank` singular values in `Sigma`, and the first `rank` rows of `VT`.\n",
        "\n",
        "6. Approximate the original matrix: Compute the approximation of the original matrix by multiplying the modified `U`, `Sigma`, and `VT` matrices together. Assign the result to the `approx_matrix` variable.\n",
        "\n",
        "7. Display the approximation matrix: Print the `approx_matrix` to observe the reconstructed matrix based on the selected rank.\n",
        "\n",
        "(Optional) 8. Experiment with different rank values: Modify the rank value in step 4 and observe how the approximation improves or deteriorates as the rank changes.\n",
        "\n",
        "(Optional) 9. Apply matrix factorization to real-world data: Use a larger user-item matrix, such as a movie rating dataset, and apply matrix factorization techniques to discover latent factors that can be used for recommendations.\n",
        "\n",
        "Note: This activity provides an introduction to matrix factorization for recommender systems. Further exploration and experimentation can be done to delve deeper into the topic and explore more advanced techniques and algorithms."
      ],
      "metadata": {
        "id": "fQPgIwr9qA3X"
      }
    },
    {
      "cell_type": "code",
      "source": [
        "import numpy as np\n",
        "from scipy.linalg import svd\n",
        "\n",
        "# Create a sample user-item matrix\n",
        "user_item_matrix = np.array([[1, 2, 3],\n",
        "                             [4, 5, 6],\n",
        "                             [7, 8, 9]])\n",
        "\n",
        "# Perform singular value decomposition (SVD)\n",
        "U, Sigma, VT = svd(user_item_matrix)\n",
        "\n",
        "# Select the desired rank for approximation\n",
        "rank = 2\n",
        "U = U[:, :rank]\n",
        "Sigma = np.diag(Sigma[:rank])\n",
        "VT = VT[:rank, :]\n",
        "\n",
        "# Approximate the original matrix\n",
        "approx_matrix = U @ Sigma @ VT\n",
        "approx_matrix"
      ],
      "metadata": {
        "colab": {
          "base_uri": "https://localhost:8080/"
        },
        "id": "2DIVMedft3Gp",
        "outputId": "fe65f8b5-7235-4479-b1a9-862e381b50d8"
      },
      "execution_count": null,
      "outputs": [
        {
          "output_type": "execute_result",
          "data": {
            "text/plain": [
              "array([[1., 2., 3.],\n",
              "       [4., 5., 6.],\n",
              "       [7., 8., 9.]])"
            ]
          },
          "metadata": {},
          "execution_count": 7
        }
      ]
    },
    {
      "cell_type": "markdown",
      "source": [
        "##🤖🌲**Mnemonic**🕵️‍♂️🦉"
      ],
      "metadata": {
        "id": "QvdBABKoQuw5"
      }
    },
    {
      "cell_type": "markdown",
      "source": [
        "📖 Once upon a time, there was a data scientist named Alex who specialized in recommender systems. Alex worked for a technology company that provided personalized recommendations to its users. Their goal was to help users discover relevant items and enhance their overall experience.\n",
        "\n",
        "🔍 Alex began by understanding different types of recommendation systems. They learned about collaborative filtering, which analyzes user behavior and similarities to recommend items based on the preferences of similar users. Alex also explored content-based filtering, which recommends items based on the characteristics and attributes of the items themselves. Additionally, they discovered hybrid models that combine collaborative and content-based approaches to provide more accurate recommendations.\n",
        "\n",
        "📈 As Alex progressed, they realized the importance of evaluating recommendation systems. They learned about evaluation metrics such as precision, recall, and F1-score, which measure the accuracy and effectiveness of recommendations. Alex discovered that precision focuses on the relevance of recommended items, recall emphasizes the coverage of recommended items, and the F1-score balances both metrics.\n",
        "\n",
        "📉 Alex explored real-world applications of recommendation systems across various domains. They learned about e-commerce platforms using recommender systems to suggest products based on user preferences and browsing history. Social media platforms utilized recommendation systems to display relevant content to users, such as news articles, friends' posts, or suggested connections.\n",
        "\n",
        "🌟 Alex's expertise in recommender systems proved invaluable for the technology company. Their accurate recommendations led to increased user engagement and satisfaction. By using evaluation metrics, Alex ensured the recommendations met the company's standards. They also discovered new techniques and applications that improved the overall recommendation system, providing a personalized experience for each user.\n",
        "\n",
        "👍 Thanks to Alex's understanding of recommendation systems, the technology company flourished and gained a competitive edge in the market. Alex's expertise enabled the company to deliver relevant content and products, enhancing the user experience and driving business growth."
      ],
      "metadata": {
        "id": "imuCeSPLmC6j"
      }
    },
    {
      "cell_type": "markdown",
      "source": [
        "##**📖Additional Reference Paper📖**"
      ],
      "metadata": {
        "id": "Op5NtTI_P0g5"
      }
    },
    {
      "cell_type": "markdown",
      "source": [
        "1. https://neptune.ai/blog/recommender-systems-metrics\n",
        "2. https://www.themarketingtechnologist.co/building-a-recommendation-engine-for-geek-setting-up-the-prerequisites-13/\n",
        "3. https://www.algolia.com/blog/ai/the-anatomy-of-high-performance-recommender-systems-part-1/\n",
        "4. https://towardsdatascience.com/introduction-to-recommender-systems-6c66cf15ada"
      ],
      "metadata": {
        "id": "_NCiqgFZK3tu"
      }
    },
    {
      "cell_type": "markdown",
      "source": [
        "# **Try it Yourself**"
      ],
      "metadata": {
        "id": "pfbajZXI5h__"
      }
    },
    {
      "cell_type": "markdown",
      "source": [
        "## **Task 1: Working on assignment**"
      ],
      "metadata": {
        "id": "LljXsn2RCHMS"
      }
    },
    {
      "cell_type": "markdown",
      "source": [
        "### **Exploring Movie Ratings Dataset**\n",
        "\n",
        "Dataset Description:\n",
        "- **Ratings Dataset**: This dataset contains information about movie ratings. It includes the following columns:\n",
        "  - `userId`: Unique identifier of the user who rated the movie.\n",
        "  - `movieId`: Unique identifier of the movie.\n",
        "  - `rating`: Rating given by the user to the movie.\n",
        "\n",
        "- **Movies Dataset**: This dataset contains information about movies. It includes the following columns:\n",
        "  - `movieId`: Unique identifier of the movie.\n",
        "  - `title`: Title of the movie.\n",
        "\n",
        "In this activity, you will perform various tasks using these datasets, including loading the data, calculating statistics, finding similar movies, and exploring movie ratings.\n",
        "\n",
        "1. Import the required libraries: numpy, pandas, sklearn, matplotlib.pyplot, and seaborn.\n",
        "2. Load the ratings and movies datasets from the given URLs.\n",
        "3. Print the following information about the dataset:\n",
        "   - Number of ratings\n",
        "   - Number of unique movieIds\n",
        "   - Number of unique users\n",
        "   - Average ratings per user\n",
        "   - Average ratings per movie\n",
        "4. Create a DataFrame called `user_freq` that contains the count of ratings for each user.\n",
        "5. Find the lowest and highest rated movies:\n",
        "   - Find the movie with the lowest average rating and display its details.\n",
        "   - Find the movie with the highest average rating and display its details.\n",
        "   - Display the number of people who rated the movie with the highest rating.\n",
        "   - Display the number of people who rated the movie with the lowest rating.\n",
        "6. Calculate movie statistics by grouping the ratings DataFrame:\n",
        "   - Group by 'movieId' and calculate the count and mean of ratings for each movie.\n",
        "   - Store the results in a DataFrame called `movie_stats`.\n",
        "7. Create a user-item matrix using sparse CSR matrix representation:\n",
        "   - Implement the `create_matrix` function to convert the ratings DataFrame into a sparse CSR matrix.\n",
        "   - The function should return the matrix `X`, user and movie mappers, and their inverse mappers.\n",
        "8. Find similar movies using k-nearest neighbors (KNN):\n",
        "   - Implement the `find_similar_movies` function to find similar movies to a given movie using KNN.\n",
        "   - The function should take inputs: movie_id, matrix X, number of neighbors (k), metric, and show_distance.\n",
        "   - It should return a list of similar movie_ids.\n",
        "9. Define a dictionary called `movie_titles` that maps movieIds to movie titles.\n",
        "10. Choose a movie_id (e.g., 3) and find similar movies using the `find_similar_movies` function.\n",
        "11. Print the following statement: \"Since you watched [movie_title]\", replacing [movie_title] with the chosen movie's title.\n",
        "12. Display the titles of the similar movies found.\n",
        "\n",
        "(Note: This activity assumes that the necessary libraries are already installed in the Google Colab environment.)"
      ],
      "metadata": {
        "id": "00-UuLsVrDOu"
      }
    },
    {
      "cell_type": "code",
      "source": [
        "# Importing the necessary libraries and dataset\n",
        "import numpy as np\n",
        "import pandas as pd\n",
        "import sklearn\n",
        "import matplotlib.pyplot as plt\n",
        "import seaborn as sns\n",
        "\n",
        "import warnings\n",
        "warnings.simplefilter(action='ignore', category=FutureWarning)\n",
        "\n",
        "ratings = pd.read_csv(\"https://s3-us-west-2.amazonaws.com/recommender-tutorial/ratings.csv\")\n",
        "ratings.head()\n",
        "\n",
        "movies = pd.read_csv(\"https://s3-us-west-2.amazonaws.com/recommender-tutorial/movies.csv\")\n",
        "movies.head()\n",
        "\n",
        "# Write your code here\n"
      ],
      "metadata": {
        "id": "3gVpe3459dPs"
      },
      "execution_count": null,
      "outputs": []
    },
    {
      "cell_type": "markdown",
      "source": [
        "### **Solution**"
      ],
      "metadata": {
        "id": "jwh0UytNCNhk"
      }
    },
    {
      "cell_type": "code",
      "source": [
        "# code\n",
        "import numpy as np\n",
        "import pandas as pd\n",
        "import sklearn\n",
        "import matplotlib.pyplot as plt\n",
        "import seaborn as sns\n",
        "\n",
        "import warnings\n",
        "warnings.simplefilter(action='ignore', category=FutureWarning)\n",
        "\n",
        "ratings = pd.read_csv(\"https://s3-us-west-2.amazonaws.com/recommender-tutorial/ratings.csv\")\n",
        "ratings.head()\n",
        "\n",
        "movies = pd.read_csv(\"https://s3-us-west-2.amazonaws.com/recommender-tutorial/movies.csv\")\n",
        "movies.head()\n",
        "\n",
        "n_ratings = len(ratings)\n",
        "n_movies = len(ratings['movieId'].unique())\n",
        "n_users = len(ratings['userId'].unique())\n",
        "\n",
        "print(f\"Number of ratings: {n_ratings}\")\n",
        "print(f\"Number of unique movieId's: {n_movies}\")\n",
        "print(f\"Number of unique users: {n_users}\")\n",
        "print(f\"Average ratings per user: {round(n_ratings/n_users, 2)}\")\n",
        "print(f\"Average ratings per movie: {round(n_ratings/n_movies, 2)}\")\n",
        "\n",
        "user_freq = ratings[['userId', 'movieId']].groupby('userId').count().reset_index()\n",
        "user_freq.columns = ['userId', 'n_ratings']\n",
        "user_freq.head()\n",
        "\n",
        "\n",
        "# Find Lowest and Highest rated movies:\n",
        "mean_rating = ratings.groupby('movieId')[['rating']].mean()\n",
        "# Lowest rated movies\n",
        "lowest_rated = mean_rating['rating'].idxmin()\n",
        "movies.loc[movies['movieId'] == lowest_rated]\n",
        "# Highest rated movies\n",
        "highest_rated = mean_rating['rating'].idxmax()\n",
        "movies.loc[movies['movieId'] == highest_rated]\n",
        "# show number of people who rated movies rated movie highest\n",
        "ratings[ratings['movieId']==highest_rated]\n",
        "# show number of people who rated movies rated movie lowest\n",
        "ratings[ratings['movieId']==lowest_rated]\n",
        "\n",
        "## the above movies has very low dataset. We will use bayesian average\n",
        "movie_stats = ratings.groupby('movieId')[['rating']].agg(['count', 'mean'])\n",
        "movie_stats.columns = movie_stats.columns.droplevel()\n",
        "\n",
        "# Now, we create user-item matrix using scipy csr matrix\n",
        "from scipy.sparse import csr_matrix\n",
        "\n",
        "def create_matrix(df):\n",
        "\n",
        "    N = len(df['userId'].unique())\n",
        "    M = len(df['movieId'].unique())\n",
        "\n",
        "    # Map Ids to indices\n",
        "    user_mapper = dict(zip(np.unique(df[\"userId\"]), list(range(N))))\n",
        "    movie_mapper = dict(zip(np.unique(df[\"movieId\"]), list(range(M))))\n",
        "\n",
        "    # Map indices to IDs\n",
        "    user_inv_mapper = dict(zip(list(range(N)), np.unique(df[\"userId\"])))\n",
        "    movie_inv_mapper = dict(zip(list(range(M)), np.unique(df[\"movieId\"])))\n",
        "\n",
        "    user_index = [user_mapper[i] for i in df['userId']]\n",
        "    movie_index = [movie_mapper[i] for i in df['movieId']]\n",
        "\n",
        "    X = csr_matrix((df[\"rating\"], (movie_index, user_index)), shape=(M, N))\n",
        "\n",
        "    return X, user_mapper, movie_mapper, user_inv_mapper, movie_inv_mapper\n",
        "\n",
        "X, user_mapper, movie_mapper, user_inv_mapper, movie_inv_mapper = create_matrix(ratings)\n",
        "\n",
        "from sklearn.neighbors import NearestNeighbors\n",
        "\"\"\"\n",
        "Find similar movies using KNN\n",
        "\"\"\"\n",
        "def find_similar_movies(movie_id, X, k, metric='cosine', show_distance=False):\n",
        "\n",
        "    neighbour_ids = []\n",
        "\n",
        "    movie_ind = movie_mapper[movie_id]\n",
        "    movie_vec = X[movie_ind]\n",
        "    k+=1\n",
        "    kNN = NearestNeighbors(n_neighbors=k, algorithm=\"brute\", metric=metric)\n",
        "    kNN.fit(X)\n",
        "    movie_vec = movie_vec.reshape(1,-1)\n",
        "    neighbour = kNN.kneighbors(movie_vec, return_distance=show_distance)\n",
        "    for i in range(0,k):\n",
        "        n = neighbour.item(i)\n",
        "        neighbour_ids.append(movie_inv_mapper[n])\n",
        "    neighbour_ids.pop(0)\n",
        "    return neighbour_ids\n",
        "\n",
        "\n",
        "movie_titles = dict(zip(movies['movieId'], movies['title']))\n",
        "\n",
        "movie_id = 3\n",
        "\n",
        "similar_ids = find_similar_movies(movie_id, X, k=10)\n",
        "movie_title = movie_titles[movie_id]\n",
        "\n",
        "print(f\"Since you watched {movie_title}\")\n",
        "for i in similar_ids:\n",
        "    print(movie_titles[i])"
      ],
      "metadata": {
        "id": "17sTodjawlxD",
        "colab": {
          "base_uri": "https://localhost:8080/"
        },
        "outputId": "225c6c66-8e58-4117-e9bb-e36f33d09568"
      },
      "execution_count": null,
      "outputs": [
        {
          "output_type": "stream",
          "name": "stdout",
          "text": [
            "Number of ratings: 100836\n",
            "Number of unique movieId's: 9724\n",
            "Number of unique users: 610\n",
            "Average ratings per user: 165.3\n",
            "Average ratings per movie: 10.37\n",
            "Since you watched Grumpier Old Men (1995)\n",
            "Grumpy Old Men (1993)\n",
            "Striptease (1996)\n",
            "Nutty Professor, The (1996)\n",
            "Twister (1996)\n",
            "Father of the Bride Part II (1995)\n",
            "Broken Arrow (1996)\n",
            "Bio-Dome (1996)\n",
            "Truth About Cats & Dogs, The (1996)\n",
            "Sabrina (1995)\n",
            "Birdcage, The (1996)\n"
          ]
        }
      ]
    },
    {
      "cell_type": "markdown",
      "source": [
        "##**Task 2: Community Engagement**"
      ],
      "metadata": {
        "id": "6jP07kfKCZab"
      }
    },
    {
      "cell_type": "markdown",
      "source": [
        " **🔴Propose a Mnemonic to easily distinguish between Collaborative filtering and Content-based filtering. Share your insights in your Cohort group at AlmaBetter Community Platform.🔴**"
      ],
      "metadata": {
        "id": "fHfQuBCveVpa"
      }
    }
  ]
}